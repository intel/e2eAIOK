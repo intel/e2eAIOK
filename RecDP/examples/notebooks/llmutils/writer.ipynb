{
  "cells": [
    {
      "cell_type": "markdown",
      "source": [
        "# Install pyrecdp from github"
      ],
      "metadata": {
        "id": "IJ8RaakCnsyW"
      },
      "id": "IJ8RaakCnsyW"
    },
    {
      "cell_type": "code",
      "execution_count": null,
      "id": "736fb211-dbe6-4ca9-a1b1-db2cff2d287a",
      "metadata": {
        "id": "736fb211-dbe6-4ca9-a1b1-db2cff2d287a"
      },
      "outputs": [],
      "source": [
        "!pip install 'git+https://github.com/intel/e2eAIOK.git#egg=pyrecdp&subdirectory=RecDP'"
      ]
    },
    {
      "cell_type": "markdown",
      "source": [
        "# Install jdk for pyspark running"
      ],
      "metadata": {
        "id": "TWv2WvL6nzTA"
      },
      "id": "TWv2WvL6nzTA"
    },
    {
      "cell_type": "code",
      "source": [
        "!DEBIAN_FRONTEND=noninteractive apt-get install -y openjdk-8-jre"
      ],
      "metadata": {
        "id": "vk2j9kKbSrLT"
      },
      "id": "vk2j9kKbSrLT",
      "execution_count": null,
      "outputs": []
    },
    {
      "cell_type": "markdown",
      "source": [
        "# Prepare test data"
      ],
      "metadata": {
        "id": "ljHxOJL8n-5E"
      },
      "id": "ljHxOJL8n-5E"
    },
    {
      "cell_type": "code",
      "source": [
        "%mkdir -p /content/test_data\n",
        "%cd /content/test_data\n",
        "!wget https://raw.githubusercontent.com/intel/e2eAIOK/main/RecDP/tests/data/llm_data/arxiv_sample_100.jsonl"
      ],
      "metadata": {
        "id": "bWDi0vtLoHwm"
      },
      "id": "bWDi0vtLoHwm",
      "execution_count": null,
      "outputs": []
    },
    {
      "cell_type": "markdown",
      "source": [
        "# Import classifier function"
      ],
      "metadata": {
        "id": "XusjrHT4tOdj"
      },
      "id": "XusjrHT4tOdj"
    },
    {
      "cell_type": "code",
      "source": [
        "from pyrecdp.primitives.llmutils import classify_spark, language_identify_spark\n",
        "from pyrecdp.primitives.llmutils.utils import get_target_file_list\n",
        "from huggingface_hub import hf_hub_download\n",
        "from pyrecdp.core import SparkDataProcessor"
      ],
      "metadata": {
        "id": "SkccgiE9oNyL"
      },
      "id": "SkccgiE9oNyL",
      "execution_count": 6,
      "outputs": []
    },
    {
      "cell_type": "markdown",
      "source": [
        "# Specify variables"
      ],
      "metadata": {
        "id": "w0kSy1Fotwcl"
      },
      "id": "w0kSy1Fotwcl"
    },
    {
      "cell_type": "code",
      "source": [
        "fasttext_model_dir = hf_hub_download(repo_id=\"facebook/fasttext-language-identification\", filename=\"model.bin\")\n",
        "data_dir = \"/content/test_data/\"\n",
        "data_file = '/content/test_data/arxiv_sample_100.jsonl'\n",
        "classify_save_path = \"/content/test_data/output/classify_spark\""
      ],
      "metadata": {
        "id": "xM8XygxBXKfh"
      },
      "id": "xM8XygxBXKfh",
      "execution_count": 5,
      "outputs": []
    },
    {
      "cell_type": "markdown",
      "source": [
        "# Load data"
      ],
      "metadata": {
        "id": "TVbiJxG3uNX5"
      },
      "id": "TVbiJxG3uNX5"
    },
    {
      "cell_type": "code",
      "source": [
        "rdp = SparkDataProcessor()\n",
        "spark=rdp.spark\n",
        "spark_df = spark.read.json(data_file)\n",
        "lid_df = language_identify_spark(spark_df, fasttext_model_dir)\n",
        "print(\"input is\")\n",
        "lid_df.show()"
      ],
      "metadata": {
        "id": "ex3QUs1tuVb0",
        "outputId": "d4d104a8-4b47-4996-c8fc-996e73e554bd",
        "colab": {
          "base_uri": "https://localhost:8080/"
        }
      },
      "id": "ex3QUs1tuVb0",
      "execution_count": 7,
      "outputs": [
        {
          "output_type": "stream",
          "name": "stdout",
          "text": [
            "Will assign 1 cores and 10386 M memory for spark\n",
            "per core memory size is 10.143 GB and shuffle_disk maximum capacity is 8589934592.000 GB\n",
            "/root/.cache/huggingface/hub/models--facebook--fasttext-language-identification/snapshots/3af127d4124fc58b75666f3594bb5143b9757e78/model.bin\n",
            "input is\n",
            "+--------------------+--------------------+--------+\n",
            "|                meta|                text|language|\n",
            "+--------------------+--------------------+--------+\n",
            "|{2203.15369, en, ...|\\section{Introduc...|eng_Latn|\n",
            "|{math/9807097, en...|\\section{Introduc...|eng_Latn|\n",
            "|{2008.06948, en, ...|\\section{Introduc...|eng_Latn|\n",
            "|{cond-mat/9807071...|\\section{Introduc...|eng_Latn|\n",
            "|{2210.10650, en, ...|\\section{\\label{s...|eng_Latn|\n",
            "|{astro-ph/9807119...|\\section{Introduc...|eng_Latn|\n",
            "|{2111.03152, en, ...|\\section{Introduc...|eng_Latn|\n",
            "|{1606.04992, en, ...|\\n\\n\\section{Intr...|eng_Latn|\n",
            "|{1608.03404, en, ...|\\section{introduc...|eng_Latn|\n",
            "|{1904.10101, en, ...|\\section{Introduc...|eng_Latn|\n",
            "|{cond-mat/9807275...|\\section{Introduc...|eng_Latn|\n",
            "|{2109.05334, en, ...|\\section{Introduc...|eng_Latn|\n",
            "|{1512.06966, en, ...|\\section{Introduc...|eng_Latn|\n",
            "|{2112.04926, en, ...|\\section{Introduc...|eng_Latn|\n",
            "|{2202.01000, en, ...|\\section{Introduc...|eng_Latn|\n",
            "|{2209.13421, en, ...|\\section{Introduc...|eng_Latn|\n",
            "|{1103.5603, en, 2...|\\section{Introduc...|eng_Latn|\n",
            "|{1001.3679, en, 2...|\\section{Introduc...|eng_Latn|\n",
            "|{1702.08222, en, ...|\\section{Introduc...|eng_Latn|\n",
            "|{2201.05495, en, ...|\\section{Introduc...|eng_Latn|\n",
            "+--------------------+--------------------+--------+\n",
            "only showing top 20 rows\n",
            "\n"
          ]
        }
      ]
    },
    {
      "cell_type": "markdown",
      "source": [
        "# Split the data into sub buckets according to lang column"
      ],
      "metadata": {
        "id": "QEMpJ79yuf8W"
      },
      "id": "QEMpJ79yuf8W"
    },
    {
      "cell_type": "code",
      "source": [
        "classify_spark(lid_df, \"language\", classify_save_path, \"file://\")"
      ],
      "metadata": {
        "id": "iQlDQ8SrkuN9",
        "outputId": "9dbebae7-89b6-4f1b-cf52-8d91588bb72e",
        "colab": {
          "base_uri": "https://localhost:8080/"
        }
      },
      "id": "iQlDQ8SrkuN9",
      "execution_count": 9,
      "outputs": [
        {
          "output_type": "stream",
          "name": "stdout",
          "text": [
            "Spilt data started ...\n",
            "Spilt data took 28.158131373999822 sec\n",
            "Completed!!\n",
            "    total classify the spark dataframe by language for 100 documents\n",
            "    All the classified data are saving under the folder: file:///content/test_data/output/classify_spark\n"
          ]
        },
        {
          "output_type": "execute_result",
          "data": {
            "text/plain": [
              "DataFrame[meta: struct<arxiv_id:string,language:string,timestamp:string,url:string,yymm:string>, text: string, language: string]"
            ]
          },
          "metadata": {},
          "execution_count": 9
        }
      ]
    },
    {
      "cell_type": "code",
      "source": [
        "!ls -al $classify_save_path"
      ],
      "metadata": {
        "id": "Yl9V2MAVvk29",
        "outputId": "7d99fd6e-6506-49f5-b2a4-52105d960964",
        "colab": {
          "base_uri": "https://localhost:8080/"
        }
      },
      "id": "Yl9V2MAVvk29",
      "execution_count": 12,
      "outputs": [
        {
          "output_type": "stream",
          "name": "stdout",
          "text": [
            "total 16\n",
            "drwxr-xr-x 3 root root 4096 Oct  7 10:30  .\n",
            "drwxr-xr-x 3 root root 4096 Oct  7 10:29  ..\n",
            "drwxr-xr-x 2 root root 4096 Oct  7 10:29 'language=eng_Latn'\n",
            "-rw-r--r-- 1 root root    0 Oct  7 10:30  _SUCCESS\n",
            "-rw-r--r-- 1 root root    8 Oct  7 10:30  ._SUCCESS.crc\n"
          ]
        }
      ]
    },
    {
      "cell_type": "code",
      "source": [],
      "metadata": {
        "id": "wKsYSPSnpU8x"
      },
      "id": "wKsYSPSnpU8x",
      "execution_count": null,
      "outputs": []
    }
  ],
  "metadata": {
    "kernelspec": {
      "display_name": "Python 3 (ipykernel)",
      "language": "python",
      "name": "python3"
    },
    "language_info": {
      "codemirror_mode": {
        "name": "ipython",
        "version": 3
      },
      "file_extension": ".py",
      "mimetype": "text/x-python",
      "name": "python",
      "nbconvert_exporter": "python",
      "pygments_lexer": "ipython3",
      "version": "3.10.12"
    },
    "colab": {
      "provenance": [],
      "toc_visible": true
    }
  },
  "nbformat": 4,
  "nbformat_minor": 5
}