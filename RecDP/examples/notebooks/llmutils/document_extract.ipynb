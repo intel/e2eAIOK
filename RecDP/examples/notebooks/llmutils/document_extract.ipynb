{
  "cells": [
    {
      "cell_type": "markdown",
      "source": [
        "# RecDP LLM - Document Extract\n",
        "\n",
        "standard input for LLM pretrain/finetune is a folder of files containing multiple samples. Each sample is a json format or tabular format row.\n",
        "\n",
        "This function is used to convert text, images, pdfs, docs to jsonl files and then used for LLM data process.\n",
        "\n",
        "Output format:\n",
        "\n",
        "| text                | meta                              |\n",
        "| ------------------- | --------------------------------- |\n",
        "| This is a cool tool | {'source': 'dummy', 'lang': 'en'} |\n",
        "| llm is fun          | {'source': 'dummy', 'lang': 'en'} |\n",
        "| ...                 | {'source': 'dummy', 'lang': 'en'} |\n",
        "\n",
        "input types supported:\n",
        "* image (png, jpg)\n",
        "* pdf\n",
        "* docs"
      ],
      "metadata": {
        "id": "eUmHSaVVFVMg"
      },
      "id": "eUmHSaVVFVMg"
    },
    {
      "cell_type": "markdown",
      "source": [
        "# Get started"
      ],
      "metadata": {
        "id": "zbISMsN5GTb5"
      },
      "id": "zbISMsN5GTb5"
    },
    {
      "cell_type": "markdown",
      "source": [
        "## 1. Install pyrecdp and dependencies"
      ],
      "metadata": {
        "id": "tlDs3s2IGav-"
      },
      "id": "tlDs3s2IGav-"
    },
    {
      "cell_type": "code",
      "execution_count": 22,
      "id": "736fb211-dbe6-4ca9-a1b1-db2cff2d287a",
      "metadata": {
        "id": "736fb211-dbe6-4ca9-a1b1-db2cff2d287a"
      },
      "outputs": [],
      "source": [
        "! DEBIAN_FRONTEND=noninteractive apt-get install -qq -y openjdk-8-jre\n",
        "! pip install -q pyrecdp --pre\n",
        "# ! pip install 'git+https://github.com/intel/e2eAIOK.git#egg=pyrecdp&subdirectory=RecDP'"
      ]
    },
    {
      "cell_type": "markdown",
      "source": [
        "## 2. prepare your own data"
      ],
      "metadata": {
        "id": "LOquUg-OG0MS"
      },
      "id": "LOquUg-OG0MS"
    },
    {
      "cell_type": "code",
      "source": [
        "%mkdir -p /content/test_data\n",
        "%cd /content/test_data\n",
        "%mkdir -p /content/doc_jsonl\n",
        "file_names = ['english-and-korean.png', 'handbook-872p.docx', 'layout-parser-paper-10p.jpg', 'layout-parser-paper.pdf']\n",
        "file_list = [f\"https://raw.githubusercontent.com/intel/e2eAIOK/main/RecDP/tests/data/llm_data/document/{i}\" for i in file_names]\n",
        "!wget -P /content/test_data/document/ {\" \".join(file_list)}"
      ],
      "metadata": {
        "id": "RHHGVvuZGzSS"
      },
      "id": "RHHGVvuZGzSS",
      "execution_count": null,
      "outputs": []
    },
    {
      "cell_type": "markdown",
      "source": [
        "## 3. convert data"
      ],
      "metadata": {
        "id": "dhrC92TbIriM"
      },
      "id": "dhrC92TbIriM"
    },
    {
      "cell_type": "markdown",
      "source": [
        "#### 3.1 convert pdf"
      ],
      "metadata": {
        "id": "MLj8YsmXgKFa"
      },
      "id": "MLj8YsmXgKFa"
    },
    {
      "cell_type": "code",
      "source": [
        "from pyrecdp.primitives.llmutils.document_extractor import pdf_to_text\n",
        "\n",
        "file_name = \"layout-parser-paper.pdf\"\n",
        "in_file = \"/content/test_data/document/\" + file_name\n",
        "out_file = \"/content/doc_jsonl/\" + file_name + \".jsonl\"\n",
        "pdf_to_text(in_file, out_file)\n",
        "\n",
        "! head {out_file}"
      ],
      "metadata": {
        "id": "bKDlmC0CdlGY",
        "outputId": "8d7b2a4f-2ce3-48a0-e92f-fd6548428349",
        "colab": {
          "base_uri": "https://localhost:8080/"
        }
      },
      "id": "bKDlmC0CdlGY",
      "execution_count": 15,
      "outputs": [
        {
          "output_type": "stream",
          "name": "stdout",
          "text": [
            "{'text': 'LayoutParser : A Uniﬁed Toolkit for Deep\\nLearning Based Document Image Analysis\\nZejiang Shen1( \\x00), Ruochen Zhang2, Melissa Dell3, Benjamin Charles Germain\\nLee4, Jacob Carlson3, and Weining Li5\\n1Allen Institute for AI\\nshannons@allenai.org\\n2Brown University\\nruochen zhang@brown.edu\\n3Harvard University\\n{melissadell,jacob carlson }@fas.harvard.edu\\n4University of Washington\\nbcgl@cs.washington.edu\\n5University of Waterloo\\nw422li@uwaterloo.ca\\nAbstract. Recent advances in document image analysis (DIA) have been\\nprimarily driven by the application of neural networks. Ideally, research\\noutcomes could be easily deployed in production and extended for further\\ninvestigation. However, various factors like loosely organized codebases\\nand sophisticated model conﬁgurations complicate the easy reuse of im-\\nportant innovations by a wide audience. Though there have been on-going\\neﬀorts to improve reusability and simplify deep learning (DL) model\\ndevelopment in disciplines like natural language processing and computer\\nvision, none of them are optimized for challenges in the domain of DIA.\\nThis represents a major gap in the existing toolkit, as DIA is central to\\nacademic research across a wide range of disciplines in the social sciences\\nand humanities. This paper introduces LayoutParser , an open-source\\nlibrary for streamlining the usage of DL in DIA research and applica-\\ntions. The core LayoutParser library comes with a set of simple and\\nintuitive interfaces for applying and customizing DL models for layout de-\\ntection, character recognition, and many other document processing tasks.\\nTo promote extensibility, LayoutParser also incorporates a community\\nplatform for sharing both pre-trained models and full document digiti-\\nzation pipelines. We demonstrate that LayoutParser is helpful for both\\nlightweight and large-scale digitization pipelines in real-word use cases.\\nThe library is publicly available at https://layout-parser.github.io .\\nKeywords: Document Image Analysis ·Deep Learning ·Layout Analysis\\n·Character Recognition ·Open Source library ·Toolkit.\\n1 Introduction\\nDeep Learning(DL)-based approaches are the state-of-the-art for a wide range of\\ndocument image analysis (DIA) tasks including document image classiﬁcation [ 11,arXiv:2103.15348v2  [cs.CV]  21 Jun 2021', 'metadata': {'page_label': '1', 'source': 'layout-parser-paper.pdf'}}\n",
            "{'text': '2 Z. Shen et al.\\n37], layout detection [ 38,22], table detection [ 26], and scene text detection [ 4].\\nA generalized learning-based framework dramatically reduces the need for the\\nmanual speciﬁcation of complicated rules, which is the status quo with traditional\\nmethods. DL has the potential to transform DIA pipelines and beneﬁt a broad\\nspectrum of large-scale document digitization projects.\\nHowever, there are several practical diﬃculties for taking advantages of re-\\ncent advances in DL-based methods: 1) DL models are notoriously convoluted\\nfor reuse and extension. Existing models are developed using distinct frame-\\nworks like TensorFlow [ 1] or PyTorch [ 24], and the high-level parameters can\\nbe obfuscated by implementation details [ 8]. It can be a time-consuming and\\nfrustrating experience to debug, reproduce, and adapt existing models for DIA,\\nand many researchers who would beneﬁt the most from using these methods lack\\nthe technical background to implement them from scratch. 2) Document images\\ncontain diverse and disparate patterns across domains, and customized training\\nis often required to achieve a desirable detection accuracy. Currently there is no\\nfull-ﬂedged infrastructure for easily curating the target document image datasets\\nand ﬁne-tuning or re-training the models. 3) DIA usually requires a sequence of\\nmodels and other processing to obtain the ﬁnal outputs. Often research teams use\\nDL models and then perform further document analyses in separate processes,\\nand these pipelines are not documented in any central location (and often not\\ndocumented at all). This makes it diﬃcult for research teams to learn about how\\nfull pipelines are implemented and leads them to invest signiﬁcant resources in\\nreinventing the DIA wheel .\\nLayoutParser provides a uniﬁed toolkit to support DL-based document image\\nanalysis and processing. To address the aforementioned challenges, LayoutParser\\nis built with the following components:\\n1.An oﬀ-the-shelf toolkit for applying DL models for layout detection, character\\nrecognition, and other DIA tasks (Section 3)\\n2.A rich repository of pre-trained neural network models (Model Zoo) that\\nunderlies the oﬀ-the-shelf usage\\n3.Comprehensive tools for eﬃcient document image data annotation and model\\ntuning to support diﬀerent levels of customization\\n4.A DL model hub and community platform for the easy sharing, distribu-\\ntion, and discussion of DIA models and pipelines, to promote reusability,\\nreproducibility, and extensibility (Section 4)\\nThe library implements simple and intuitive Python APIs without sacriﬁcing\\ngeneralizability and versatility, and can be easily installed via pip. Its convenient\\nfunctions for handling document image data can be seamlessly integrated with\\nexisting DIA pipelines. With detailed documentations and carefully curated\\ntutorials, we hope this tool will beneﬁt a variety of end-users, and will lead to\\nadvances in applications in both industry and academic research.\\nLayoutParser is well aligned with recent eﬀorts for improving DL model\\nreusability in other disciplines like natural language processing [ 8,34] and com-\\nputer vision [ 35], but with a focus on unique challenges in DIA. We show\\nLayoutParser can be applied in sophisticated and large-scale digitization projects', 'metadata': {'page_label': '2', 'source': 'layout-parser-paper.pdf'}}\n",
            "{'text': 'LayoutParser : A Uniﬁed Toolkit for DL-Based DIA 3\\nthat require precision, eﬃciency, and robustness, as well as simple and light-\\nweight document processing tasks focusing on eﬃcacy and ﬂexibility (Section 5).\\nLayoutParser is being actively maintained, and support for more deep learning\\nmodels and novel methods in text-based layout analysis methods [ 37,34] is\\nplanned.\\nThe rest of the paper is organized as follows. Section 2 provides an overview\\nof related work. The core LayoutParser library, DL Model Zoo, and customized\\nmodel training are described in Section 3, and the DL model hub and commu-\\nnity platform are detailed in Section 4. Section 5 shows two examples of how\\nLayoutParser can be used in practical DIA projects, and Section 6 concludes.\\n2 Related Work\\nRecently, various DL models and datasets have been developed for layout analysis\\ntasks. The dhSegment [ 22] utilizes fully convolutional networks [ 20] for segmen-\\ntation tasks on historical documents. Object detection-based methods like Faster\\nR-CNN [ 28] and Mask R-CNN [ 12] are used for identifying document elements [ 38]\\nand detecting tables [ 30,26]. Most recently, Graph Neural Networks [ 29] have also\\nbeen used in table detection [ 27]. However, these models are usually implemented\\nindividually and there is no uniﬁed framework to load and use such models.\\nThere has been a surge of interest in creating open-source tools for document\\nimage processing: a search of document image analysis in Github leads to 5M\\nrelevant code pieces6; yet most of them rely on traditional rule-based methods\\nor provide limited functionalities. The closest prior research to our work is the\\nOCR-D project7, which also tries to build a complete toolkit for DIA. However,\\nsimilar to the platform developed by Neudecker et al. [ 21], it is designed for\\nanalyzing historical documents, and provides no supports for recent DL models.\\nThe DocumentLayoutAnalysis project8focuses on processing born-digital PDF\\ndocuments via analyzing the stored PDF data. Repositories like DeepLayout9\\nand Detectron2-PubLayNet10are individual deep learning models trained on\\nlayout analysis datasets without support for the full DIA pipeline. The Document\\nAnalysis and Exploitation (DAE) platform [ 15] and the DeepDIVA project [ 2]\\naim to improve the reproducibility of DIA methods (or DL models), yet they\\nare not actively maintained. OCR engines like Tesseract [14],easyOCR11and\\npaddleOCR12usually do not come with comprehensive functionalities for other\\nDIA tasks like layout analysis.\\nRecent years have also seen numerous eﬀorts to create libraries for promoting\\nreproducibility and reusability in the ﬁeld of DL. Libraries like Dectectron2 [ 35],\\n6The number shown is obtained by specifying the search type as ‘code’.\\n7https://ocr-d.de/en/about\\n8https://github.com/BobLd/DocumentLayoutAnalysis\\n9https://github.com/leonlulu/DeepLayout\\n10https://github.com/hpanwar08/detectron2\\n11https://github.com/JaidedAI/EasyOCR\\n12https://github.com/PaddlePaddle/PaddleOCR', 'metadata': {'page_label': '3', 'source': 'layout-parser-paper.pdf'}}\n",
            "{'text': '4 Z. Shen et al.\\nEfficient Data AnnotationC u s t o m i z e d  M o d e l  T r a i n i n gModel Cust omizationDI A Model HubDI A Pipeline SharingCommunity PlatformLa y out Detection ModelsDocument Images \\nT h e  C o r e  L a y o u t P a r s e r  L i b r a r yOCR ModuleSt or age & VisualizationLa y out Data Structur e\\nFig. 1: The overall architecture of LayoutParser . For an input document image,\\nthe core LayoutParser library provides a set of oﬀ-the-shelf tools for layout\\ndetection, OCR, visualization, and storage, backed by a carefully designed layout\\ndata structure. LayoutParser also supports high level customization via eﬃcient\\nlayout annotation and model training functions. These improve model accuracy\\non the target samples. The community platform enables the easy sharing of DIA\\nmodels and whole digitization pipelines to promote reusability and reproducibility.\\nA collection of detailed documentation, tutorials and exemplar projects make\\nLayoutParser easy to learn and use.\\nAllenNLP [ 8] and transformers [ 34] have provided the community with complete\\nDL-based support for developing and deploying models for general computer\\nvision and natural language processing problems. LayoutParser , on the other\\nhand, specializes speciﬁcally in DIA tasks. LayoutParser is also equipped with a\\ncommunity platform inspired by established model hubs such as Torch Hub [23]\\nandTensorFlow Hub [1]. It enables the sharing of pretrained models as well as\\nfull document processing pipelines that are unique to DIA tasks.\\nThere have been a variety of document data collections to facilitate the\\ndevelopment of DL models. Some examples include PRImA [ 3](magazine layouts),\\nPubLayNet [ 38](academic paper layouts), Table Bank [ 18](tables in academic\\npapers), Newspaper Navigator Dataset [ 16,17](newspaper ﬁgure layouts) and\\nHJDataset [31](historical Japanese document layouts). A spectrum of models\\ntrained on these datasets are currently available in the LayoutParser model zoo\\nto support diﬀerent use cases.\\n3 The Core LayoutParser Library\\nAt the core of LayoutParser is an oﬀ-the-shelf toolkit that streamlines DL-\\nbased document image analysis. Five components support a simple interface\\nwith comprehensive functionalities: 1) The layout detection models enable using\\npre-trained or self-trained DL models for layout detection with just four lines\\nof code. 2) The detected layout information is stored in carefully engineered', 'metadata': {'page_label': '4', 'source': 'layout-parser-paper.pdf'}}\n",
            "{'text': 'LayoutParser : A Uniﬁed Toolkit for DL-Based DIA 5\\nTable 1: Current layout detection models in the LayoutParser model zoo\\nDataset Base Model1Large Model Notes\\nPubLayNet [38] F / M M Layouts of modern scientiﬁc documents\\nPRImA [3] M - Layouts of scanned modern magazines and scientiﬁc reports\\nNewspaper [17] F - Layouts of scanned US newspapers from the 20th century\\nTableBank [18] F F Table region on modern scientiﬁc and business document\\nHJDataset [31] F / M - Layouts of history Japanese documents\\n1For each dataset, we train several models of diﬀerent sizes for diﬀerent needs (the trade-oﬀ between accuracy\\nvs. computational cost). For “base model” and “large model”, we refer to using the ResNet 50 or ResNet 101\\nbackbones [ 13], respectively. One can train models of diﬀerent architectures, like Faster R-CNN [ 28] (F) and Mask\\nR-CNN [ 12] (M). For example, an F in the Large Model column indicates it has a Faster R-CNN model trained\\nusing the ResNet 101 backbone. The platform is maintained and a number of additions will be made to the model\\nzoo in coming months.\\nlayout data structures , which are optimized for eﬃciency and versatility. 3) When\\nnecessary, users can employ existing or customized OCR models via the uniﬁed\\nAPI provided in the OCR module . 4)LayoutParser comes with a set of utility\\nfunctions for the visualization and storage of the layout data. 5) LayoutParser\\nis also highly customizable, via its integration with functions for layout data\\nannotation and model training . We now provide detailed descriptions for each\\ncomponent.\\n3.1 Layout Detection Models\\nInLayoutParser , a layout model takes a document image as an input and\\ngenerates a list of rectangular boxes for the target content regions. Diﬀerent\\nfrom traditional methods, it relies on deep convolutional neural networks rather\\nthan manually curated rules to identify content regions. It is formulated as an\\nobject detection problem and state-of-the-art models like Faster R-CNN [ 28] and\\nMask R-CNN [ 12] are used. This yields prediction results of high accuracy and\\nmakes it possible to build a concise, generalized interface for layout detection.\\nLayoutParser , built upon Detectron2 [ 35], provides a minimal API that can\\nperform layout detection with only four lines of code in Python:\\n1import layoutparser as lp\\n2image = cv2. imread (\" image_file \") # load images\\n3model = lp. Detectron2LayoutModel (\\n4 \"lp :// PubLayNet / faster_rcnn_R_50_FPN_3x / config \")\\n5layout = model . detect ( image )\\nLayoutParser provides a wealth of pre-trained model weights using various\\ndatasets covering diﬀerent languages, time periods, and document types. Due to\\ndomain shift [ 7], the prediction performance can notably drop when models are ap-\\nplied to target samples that are signiﬁcantly diﬀerent from the training dataset. As\\ndocument structures and layouts vary greatly in diﬀerent domains, it is important\\nto select models trained on a dataset similar to the test samples. A semantic syntax\\nis used for initializing the model weights in LayoutParser , using both the dataset\\nname and model name lp://<dataset-name>/<model-architecture-name> .', 'metadata': {'page_label': '5', 'source': 'layout-parser-paper.pdf'}}\n",
            "{'text': '6 Z. Shen et al.\\nFig. 2: The relationship between the three types of layout data structures.\\nCoordinate supports three kinds of variation; TextBlock consists of the co-\\nordinate information and extra features like block text, types, and reading orders;\\naLayout object is a list of all possible layout elements, including other Layout\\nobjects. They all support the same set of transformation and operation APIs for\\nmaximum ﬂexibility.\\nShown in Table 1, LayoutParser currently hosts 9 pre-trained models trained\\non 5 diﬀerent datasets. Description of the training dataset is provided alongside\\nwith the trained models such that users can quickly identify the most suitable\\nmodels for their tasks. Additionally, when such a model is not readily available,\\nLayoutParser also supports training customized layout models and community\\nsharing of the models (detailed in Section 3.5).\\n3.2 Layout Data Structures\\nA critical feature of LayoutParser is the implementation of a series of data\\nstructures and operations that can be used to eﬃciently process and manipulate\\nthe layout elements. In document image analysis pipelines, various post-processing\\non the layout analysis model outputs is usually required to obtain the ﬁnal\\noutputs. Traditionally, this requires exporting DL model outputs and then loading\\nthe results into other pipelines. All model outputs from LayoutParser will be\\nstored in carefully engineered data types optimized for further processing, which\\nmakes it possible to build an end-to-end document digitization pipeline within\\nLayoutParser . There are three key components in the data structure, namely\\ntheCoordinate system, the TextBlock , and the Layout . They provide diﬀerent\\nlevels of abstraction for the layout data, and a set of APIs are supported for\\ntransformations or operations on these classes.', 'metadata': {'page_label': '6', 'source': 'layout-parser-paper.pdf'}}\n",
            "{'text': 'LayoutParser : A Uniﬁed Toolkit for DL-Based DIA 7\\nCoordinates are the cornerstones for storing layout information. Currently,\\nthree types of Coordinate data structures are provided in LayoutParser , shown\\nin Figure 2. Interval and Rectangle are the most common data types and\\nsupport specifying 1D or 2D regions within a document. They are parameterized\\nwith 2 and 4 parameters. A Quadrilateral class is also implemented to support\\na more generalized representation of rectangular regions when the document\\nis skewed or distorted, where the 4 corner points can be speciﬁed and a total\\nof 8 degrees of freedom are supported. A wide collection of transformations\\nlikeshift ,pad, and scale , and operations like intersect ,union , and is_in ,\\nare supported for these classes. Notably, it is common to separate a segment\\nof the image and analyze it individually. LayoutParser provides full support\\nfor this scenario via image cropping operations crop_image and coordinate\\ntransformations like relative_to andcondition_on that transform coordinates\\nto and from their relative representations. We refer readers to Table 2 for a more\\ndetailed description of these operations13.\\nBased on Coordinate s, we implement the TextBlock class that stores both\\nthe positional and extra features of individual layout elements. It also supports\\nspecifying the reading orders via setting the parent ﬁeld to the index of the parent\\nobject. A Layout class is built that takes in a list of TextBlock s and supports\\nprocessing the elements in batch. Layout can also be nested to support hierarchical\\nlayout structures. They support the same operations and transformations as the\\nCoordinate classes, minimizing both learning and deployment eﬀort.\\n3.3 OCR\\nLayoutParser provides a uniﬁed interface for existing OCR tools. Though there\\nare many OCR tools available, they are usually conﬁgured diﬀerently with distinct\\nAPIs or protocols for using them. It can be ineﬃcient to add new OCR tools into\\nan existing pipeline, and diﬃcult to make direct comparisons among the available\\ntools to ﬁnd the best option for a particular project. To this end, LayoutParser\\nbuilds a series of wrappers among existing OCR engines, and provides nearly\\nthe same syntax for using them. It supports a plug-and-play style of using OCR\\nengines, making it eﬀortless to switch, evaluate, and compare diﬀerent OCR\\nmodules:\\n1ocr_agent = lp. TesseractAgent ()\\n2# Can be easily switched to other OCR software\\n3tokens = ocr_agent . detect ( image )\\nThe OCR outputs will also be stored in the aforementioned layout data\\nstructures and can be seamlessly incorporated into the digitization pipeline.\\nCurrently LayoutParser supports the Tesseract and Google Cloud Vision OCR\\nengines.\\nLayoutParser also comes with a DL-based CNN-RNN OCR model [ 6] trained\\nwith the Connectionist Temporal Classiﬁcation (CTC) loss [ 10]. It can be used\\nlike the other OCR modules, and can be easily trained on customized datasets.\\n13This is also available in the LayoutParser documentation pages.', 'metadata': {'page_label': '7', 'source': 'layout-parser-paper.pdf'}}\n",
            "{'text': '8 Z. Shen et al.\\nTable 2: All operations supported by the layout elements. The same APIs are\\nsupported across diﬀerent layout element classes including Coordinate types,\\nTextBlock andLayout .\\nOperation Name Description\\nblock.pad(top, bottom, right, left) Enlarge the current block according to the input\\nblock.scale(fx, fy)Scale the current block given the ratio\\nin x and y direction\\nblock.shift(dx, dy)Move the current block with the shift\\ndistances in x and y direction\\nblock1.is in(block2) Whether block1 is inside of block2\\nblock1.intersect(block2)Return the intersection region of block1 and block2.\\nCoordinate type to be determined based on the inputs.\\nblock1.union(block2)Return the union region of block1 and block2.\\nCoordinate type to be determined based on the inputs.\\nblock1.relative to(block2)Convert the absolute coordinates of block1 to\\nrelative coordinates to block2\\nblock1.condition on(block2)Calculate the absolute coordinates of block1 given\\nthe canvas block2’s absolute coordinates\\nblock.crop image(image) Obtain the image segments in the block region\\n3.4 Storage and visualization\\nThe end goal of DIA is to transform the image-based document data into a\\nstructured database. LayoutParser supports exporting layout data into diﬀerent\\nformats like JSON,csv, and will add the support for the METS/ALTO XML\\nformat14. It can also load datasets from layout analysis-speciﬁc formats like\\nCOCO [38] and the Page Format [25] for training layout models (Section 3.5).\\nVisualization of the layout detection results is critical for both presentation\\nand debugging. LayoutParser is built with an integrated API for displaying the\\nlayout information along with the original document image. Shown in Figure 3, it\\nenables presenting layout data with rich meta information and features in diﬀerent\\nmodes. More detailed information can be found in the online LayoutParser\\ndocumentation page.\\n3.5 Customized Model Training\\nBesides the oﬀ-the-shelf library, LayoutParser is also highly customizable with\\nsupports for highly unique and challenging document analysis tasks. Target\\ndocument images can be vastly diﬀerent from the existing datasets for train-\\ning layout models, which leads to low layout detection accuracy. Training data\\n14https://altoxml.github.io', 'metadata': {'page_label': '8', 'source': 'layout-parser-paper.pdf'}}\n",
            "{'text': 'LayoutParser : A Uniﬁed Toolkit for DL-Based DIA 9\\nFig. 3: Layout detection and OCR results visualization generated by the\\nLayoutParser APIs. Mode I directly overlays the layout region bounding boxes\\nand categories over the original image. Mode II recreates the original document\\nvia drawing the OCR’d texts at their corresponding positions on the image\\ncanvas. In this ﬁgure, tokens in textual regions are ﬁltered using the API and\\nthen displayed.\\ncan also be highly sensitive and not sharable publicly. To overcome these chal-\\nlenges, LayoutParser is built with rich features for eﬃcient data annotation and\\ncustomized model training.\\nLayoutParser incorporates a toolkit optimized for annotating document lay-\\nouts using object-level active learning [ 32]. With the help from a layout detection\\nmodel trained along with labeling, only the most important layout objects within\\neach image, rather than the whole image, are required for labeling. The rest of\\nthe regions are automatically annotated with high conﬁdence predictions from\\nthe layout detection model. This allows a layout dataset to be created more\\neﬃciently with only around 60% of the labeling budget.\\nAfter the training dataset is curated, LayoutParser supports diﬀerent modes\\nfor training the layout models. Fine-tuning can be used for training models on a\\nsmall newly-labeled dataset by initializing the model with existing pre-trained\\nweights. Training from scratch can be helpful when the source dataset and\\ntarget are signiﬁcantly diﬀerent and a large training set is available. However, as\\nsuggested in Studer et al.’s work[ 33], loading pre-trained weights on large-scale\\ndatasets like ImageNet [ 5], even from totally diﬀerent domains, can still boost\\nmodel performance. Through the integrated API provided by LayoutParser ,\\nusers can easily compare model performances on the benchmark datasets.', 'metadata': {'page_label': '9', 'source': 'layout-parser-paper.pdf'}}\n",
            "{'text': '10 Z. Shen et al.\\nFig. 4: Illustration of (a) the original historical Japanese document with layout\\ndetection results and (b) a recreated version of the document image that achieves\\nmuch better character recognition recall. The reorganization algorithm rearranges\\nthe tokens based on the their detected bounding boxes given a maximum allowed\\nheight.\\n4LayoutParser Community Platform\\nAnother focus of LayoutParser is promoting the reusability of layout detection\\nmodels and full digitization pipelines. Similar to many existing deep learning\\nlibraries, LayoutParser comes with a community model hub for distributing\\nlayout models. End-users can upload their self-trained models to the model hub,\\nand these models can be loaded into a similar interface as the currently available\\nLayoutParser pre-trained models. For example, the model trained on the News\\nNavigator dataset [17] has been incorporated in the model hub.\\nBeyond DL models, LayoutParser also promotes the sharing of entire doc-\\nument digitization pipelines. For example, sometimes the pipeline requires the\\ncombination of multiple DL models to achieve better accuracy. Currently, pipelines\\nare mainly described in academic papers and implementations are often not pub-\\nlicly available. To this end, the LayoutParser community platform also enables\\nthe sharing of layout pipelines to promote the discussion and reuse of techniques.\\nFor each shared pipeline, it has a dedicated project page, with links to the source\\ncode, documentation, and an outline of the approaches. A discussion panel is\\nprovided for exchanging ideas. Combined with the core LayoutParser library,\\nusers can easily build reusable components based on the shared pipelines and\\napply them to solve their unique problems.\\n5 Use Cases\\nThe core objective of LayoutParser is to make it easier to create both large-scale\\nand light-weight document digitization pipelines. Large-scale document processing', 'metadata': {'page_label': '10', 'source': 'layout-parser-paper.pdf'}}\n"
          ]
        }
      ]
    },
    {
      "cell_type": "markdown",
      "source": [
        "#### 3.2 convert docx"
      ],
      "metadata": {
        "id": "UAWi-jXFgXuy"
      },
      "id": "UAWi-jXFgXuy"
    },
    {
      "cell_type": "code",
      "source": [
        "from pyrecdp.primitives.llmutils.document_extractor import docx_to_text\n",
        "\n",
        "file_name = \"handbook-872p.docx\"\n",
        "in_file = \"/content/test_data/document/\" + file_name\n",
        "out_file = \"/content/doc_jsonl/\" + file_name + \".jsonl\"\n",
        "docx_to_text(in_file, out_file)\n",
        "\n",
        "! head {out_file}"
      ],
      "metadata": {
        "id": "pWl-ym01ga9D",
        "outputId": "840eb142-aadf-4d2e-e52b-4f66b1c172bb",
        "colab": {
          "base_uri": "https://localhost:8080/"
        }
      },
      "id": "pWl-ym01ga9D",
      "execution_count": 16,
      "outputs": [
        {
          "output_type": "stream",
          "name": "stdout",
          "text": [
            "{'text': 'U.S. Department of Justice', 'metadata': {'source': 'handbook-872p.docx'}}\n",
            "{'text': 'Executive Office for United States Trustees\\t\\t         \\t\\t\\t\\t   ', 'metadata': {'source': 'handbook-872p.docx'}}\n",
            "{'text': 'Handbook for', 'metadata': {'source': 'handbook-872p.docx'}}\n",
            "{'text': 'Chapter 13 ', 'metadata': {'source': 'handbook-872p.docx'}}\n",
            "{'text': 'Standing Trustees', 'metadata': {'source': 'handbook-872p.docx'}}\n",
            "{'text': 'October 1, 2012 ', 'metadata': {'source': 'handbook-872p.docx'}}\n",
            "{'text': 'Table of Contents', 'metadata': {'source': 'handbook-872p.docx'}}\n",
            "{'text': 'CHAPTER 1 - INTRODUCTION', 'metadata': {'source': 'handbook-872p.docx'}}\n",
            "{'text': 'A. PURPOSE1-1', 'metadata': {'source': 'handbook-872p.docx'}}\n",
            "{'text': 'B. ROLE OF UNITED STATES TRUSTEE1-1', 'metadata': {'source': 'handbook-872p.docx'}}\n"
          ]
        }
      ]
    },
    {
      "cell_type": "markdown",
      "source": [
        "#### 3.3 convert images"
      ],
      "metadata": {
        "id": "fUrG8v1Og7Tb"
      },
      "id": "fUrG8v1Og7Tb"
    },
    {
      "cell_type": "code",
      "source": [
        "! pip install -q pytesseract\n",
        "! apt-get -qq install tesseract-ocr"
      ],
      "metadata": {
        "id": "BRBcbBIYh4GC",
        "outputId": "35ba63ac-ef71-4146-87e9-6d909feec804",
        "colab": {
          "base_uri": "https://localhost:8080/"
        }
      },
      "id": "BRBcbBIYh4GC",
      "execution_count": 23,
      "outputs": [
        {
          "output_type": "stream",
          "name": "stdout",
          "text": [
            "Selecting previously unselected package tesseract-ocr-eng.\n",
            "(Reading database ... 121352 files and directories currently installed.)\n",
            "Preparing to unpack .../tesseract-ocr-eng_1%3a4.00~git30-7274cfa-1.1_all.deb ...\n",
            "Unpacking tesseract-ocr-eng (1:4.00~git30-7274cfa-1.1) ...\n",
            "Selecting previously unselected package tesseract-ocr-osd.\n",
            "Preparing to unpack .../tesseract-ocr-osd_1%3a4.00~git30-7274cfa-1.1_all.deb ...\n",
            "Unpacking tesseract-ocr-osd (1:4.00~git30-7274cfa-1.1) ...\n",
            "Selecting previously unselected package tesseract-ocr.\n",
            "Preparing to unpack .../tesseract-ocr_4.1.1-2.1build1_amd64.deb ...\n",
            "Unpacking tesseract-ocr (4.1.1-2.1build1) ...\n",
            "Setting up tesseract-ocr-eng (1:4.00~git30-7274cfa-1.1) ...\n",
            "Setting up tesseract-ocr-osd (1:4.00~git30-7274cfa-1.1) ...\n",
            "Setting up tesseract-ocr (4.1.1-2.1build1) ...\n",
            "Processing triggers for man-db (2.10.2-1) ...\n"
          ]
        }
      ]
    },
    {
      "cell_type": "code",
      "source": [
        "from pyrecdp.primitives.llmutils.document_extractor import image_to_text\n",
        "\n",
        "file_name = \"layout-parser-paper-10p.jpg\"\n",
        "in_file = \"/content/test_data/document/\" + file_name\n",
        "out_file = \"/content/doc_jsonl/\" + file_name + \".jsonl\"\n",
        "image_to_text(in_file, out_file)\n",
        "\n",
        "! head {out_file}"
      ],
      "metadata": {
        "id": "0bowqv7Ag7hI",
        "outputId": "9a20c81f-a198-4f7c-f777-c0f8829e81c1",
        "colab": {
          "base_uri": "https://localhost:8080/"
        }
      },
      "id": "0bowqv7Ag7hI",
      "execution_count": 24,
      "outputs": [
        {
          "output_type": "stream",
          "name": "stdout",
          "text": [
            "{'text': '2103.15348v2 [cs.CV] 21 Jun 2021\\n\\narXiv\\n\\nLayoutParser: A Unified Toolkit for Deep\\nLearning Based Document Image Analysis\\n\\nZejiang Shen! (4), Ruochen Zhang”, Melissa Dell?, Benjamin Charles Germain\\nLee*, Jacob Carlson’, and Weining Li®\\n\\n1 Allen Institute for AI\\nshannons@allenai.org\\n? Brown University\\nruochen_zhang@brown.edu\\n° Harvard University\\n{melissadell, jacob_carlson}@fas.harvard.edu\\n* University of Washington\\nbeg1@cs.washington. edu\\n© University of Waterloo\\nw4221i@uwaterloo.ca\\n\\nAbstract. Recent advances in document image analysis (DIA) have been\\nprimarily driven by the application of neural networks. Ideally, research\\noutcomes could be easily deployed in production and extended for further\\ninvestigation. However, various factors like loosely organized codebases\\nand sophisticated model configurations complicate the easy reuse of im-\\nportant innovations by a wide audience. Though there have been on-going\\nefforts to improve reusability and simplify deep learning (DL) model\\ndevelopment in disciplines like natural language processing and computer\\nvision, none of them are optimized for challenges in the domain of DIA.\\nThis represents a major gap in the existing toolkit, as DIA is central to\\nacademic research across a wide range of disciplines in the social sciences\\nand humanities. This paper introduces LayoutParser, an open-source\\nlibrary for streamlining the usage of DL in DIA research and applica-\\ntions. The core LayoutParser library comes with a set of simple and\\nintuitive interfaces for applying and customizing DL models for layout de-\\ntection, character recognition, and many other document processing tasks.\\nTo promote extensibility, LayoutParser also incorporates a community\\nplatform for sharing both pre-trained models and full document digiti-\\nzation pipelines. We demonstrate that LayoutParser is helpful for both\\nlightweight and large-scale digitization pipelines in real-word use cases.\\n\\nThe library is publicly available at https: //layout-parser.github.io\\n\\nKeywords: Document Image Analysis - Deep Learning - Layout Analysis\\n- Character Recognition - Open Source library - Toolkit.\\n\\n1 Introduction\\n\\nDeep Learning(DL)-based approaches are the state-of-the-art for a wide range of\\ndocument image analysis (DIA) tasks including document image classification\\n\\n2 Z. Shen et al.\\n\\n[37], layout detection [38] [22], table detection [26], and scene text detection [4].\\nA generalized learning-based framework dramatically reduces the need for the\\nmanual specification of complicated rules, which is the status quo with traditional\\nmethods. DL has the potential to transform DIA pipelines and benefit a broad\\nspectrum of large-scale document digitization projects.\\n\\nHowever, there are several practical difficulties for taking advantages of re-\\ncent advances in DL-based methods: 1) DL models are notoriously convoluted\\nfor reuse and extension. Existing models are developed using distinct frame-\\nworks like TensorFlow [I] or PyTorch [24], and the high-level parameters can\\nbe obfuscated by implementation details [8]. It can be a time-consuming and\\nfrustrating experience to debug, reproduce, and adapt existing models for DIA,\\nand many researchers who would benefit the most from using these methods lack\\nthe technical background to implement them from scratch. 2) Document images\\n\\n \\n\\ncontain diverse and disparate patterns across domains, and customized training\\nis often required to achieve a desirable detection accuracy. Currently there is no\\nfull-fledged infrastructure for easily curating the target document image datasets\\nand fine-tuning or re-training the models. 3) DIA usually requires a sequence of\\nmodels and other processing to obtain the final outputs. Often research teams use\\nDL models and then perform further document analyses in separate processes,\\nand these pipelines are not documented in any central location (and often not\\ndocumented at all). This makes it difficult for research teams to learn about how\\nfull pipelines are implemented and leads them to invest significant resources in\\nreinventing the DIA wheel.\\n\\nLayoutParser provides a unified toolkit to support DL-based document image\\nanalysis and processing. To address the aforementioned challenges, LayoutParser\\nis built with the following components:\\n\\n1. An off-the-shelf toolkit for applying DL models for layout detection, character\\nrecognition, and other DIA tasks (Section Bp\\n\\n2. A rich repository of pre-trained neural network models (Model Zoo) that\\nunderlies the off-the-shelf usage\\n\\n3. Comprehensive tools for efficient document image data annotation and model\\ntuning to support different levels of customization\\n\\n4. A DL model hub and community platform for the easy sharing, distribu-\\ntion, and discussion of DIA models and pipelines, to promote reusability,\\nreproducibility, and extensibility (Section [4)\\n\\nThe library implements simple and intuitive Python APIs without sacrificing\\ngeneralizability and versatility, and can be easily installed via pip. Its convenient\\nfunctions for handling document image data can be seamlessly integrated with\\nexisting DIA pipelines. With detailed documentations and carefully curated\\nwe hope this tool will benefit a variety of end-users, and will lead to\\nadvances in applications in both industry and academic research.\\nLayoutParser is well aligned with recent efforts for improving DL model\\nreusability in other disciplines like natural language processing [8] [34] and com-\\nputer vision [35], but with a focus on unique challenges in DIA. We show\\nLayoutParser can be applied in sophisticated and large-scale digitization projects\\n\\n \\n\\n2 Z. Shen et al.\\n\\n[37], layout detection [38] [22], table detection and scene text detection [4].\\nA generalized learning-based framework dramatically reduces the need for the\\nmanual specification of complicated rules, which is the status quo with traditional\\nmethods. DL has the potential to transform DIA pipelines and benefit a broad\\nspectrum of large-scale document digitization projects.\\n\\nHowever, there are several practical difficulties for taking advantages of re-\\ncent advances in DL-based methods: 1) DL models are notoriously convoluted\\nfor reuse and extension. Existing models are developed using distinct frame-\\nworks like TensorFlow [I] or PyTorch [24], and the high-level parameters can\\nbe obfuscated by implementation details [8]. It can be a time-consuming and\\nfrustrating experience to debug, reproduce, and adapt existing models for DIA,\\nand many researchers who would benefit the most from using these methods lack\\nthe technical background to implement them from scratch. 2) Document images\\n\\n \\n\\n \\n\\ncontain diverse and disparate patterns across domains, and customized training\\nis often required to achieve a desirable detection accuracy. Currently there is no\\nfull-fledged infrastructure for easily curating the target document image datasets\\nand fine-tuning or re-training the models. 3) DIA usually requires a sequence of\\nmodels and other processing to obtain the final outputs. Often research teams use\\nDL models and then perform further document analyses in separate processes,\\nand these pipelines are not documented in any central location (and often not\\ndocumented at all). This makes it difficult for research teams to learn about how\\nfull pipelines are implemented and leads them to invest significant resources in\\nreinventing the DIA wheel.\\n\\nLayoutParser provides a unified toolkit to support DL-based document image\\nanalysis and processing. To address the aforementioned challenges, LayoutParser\\nis built with the following components:\\n\\n1. An off-the-shelf toolkit for applying DL models for layout detection, character\\nrecognition, and other DIA tasks (Section Bp\\n\\n2. A rich repository of pre-trained neural network models (Model Zoo) that\\nunderlies the off-the-shelf usage\\n\\n3. Comprehensive tools for efficient document image data annotation and model\\ntuning to support different levels of customization\\n\\n4. A DL model hub and community platform for the easy sharing, distribu-\\ntion, and discussion of DIA models and pipelines, to promote reusability,\\nreproducibility, and extensibility (Section [4)\\n\\nThe library implements simple and intuitive Python APIs without sacrificing\\ngeneralizability and versatility, and can be easily installed via pip. Its convenient\\nfunctions for handling document image data can be seamlessly integrated with\\nexisting DIA pipelines. With detailed documentations and carefully curated\\ntutorials, we hope this tool will benefit a variety of end-users, and will lead to\\nadvances in applications in both industry and academic research.\\nLayoutParser is well aligned with recent efforts for improving DL model\\nreusability in other disciplines like natural language processing [8] [34] and com-\\nputer vision [35], but with a focus on unique challenges in DIA. We show\\nLayoutParser can be applied in sophisticated and large-scale digitization projects\\n\\n2 Z. Shen et al.\\n\\n[37], layout detection [22], table detection [26], and scene text detection [4].\\nA generalized learning-based framework dramatically reduces the need for the\\nmanual specification of complicated rules, which is the status quo with traditional\\nmethods. DL has the potential to transform DIA pipelines and benefit a broad\\nspectrum of large-scale document digitization projects.\\n\\nHowever, there are several practical difficulties for taking advantages of re-\\ncent advances in DL-based methods: 1) DL models are notoriously convoluted\\nfor reuse and extension. Existing models are developed using distinct frame-\\nworks like TensorFlow [I] or PyTorch [24], and the high-level parameters can\\nbe obfuscated by implementation details [8]. It can be a time-consuming and\\nfrustrating experience to debug, reproduce, and adapt existing models for DIA,\\nand many researchers who would benefit the most from using these methods lack\\nthe technical background to implement them from scratch. 2) Document images\\ncontain diverse and disparate patterns across domains, and customized training\\nis often required to achieve a desirable detection accuracy. Currently there is no\\nfull-fledged infrastructure for easily curating the target document image datasets\\nand fine-tuning or re-training the models. 3) DIA usually requires a sequence of\\nmodels and other processing to obtain the final outputs. Often research teams use\\nDL models and then perform further document analyses in separate processes,\\nand these pipelines are not documented in any central location (and often not\\ndocumented at all). This makes it difficult for research teams to learn about how\\nfull pipelines are implemented and leads them to invest significant resources in\\nreinventing the DIA wheel.\\n\\nLayoutParser provides a unified toolkit to support DL-based document image\\nanalysis and processing. To address the aforementioned challenges, LayoutParser\\nis built with the following components:\\n\\n1. An off-the-shelf toolkit for applying DL models for layout detection, character\\nrecognition, and other DIA tasks (Section Bp\\n\\n2. A rich repository of pre-trained neural network models (Model Zoo) that\\nunderlies the off-the-shelf usage\\n\\n3. Comprehensive tools for efficient document image data annotation and model\\ntuning to support different levels of customization\\n\\n4. A DL model hub and community platform for the easy sharing, distribu-\\ntion, and discussion of DIA models and pipelines, to promote reusability,\\nreproducibility, and extensibility (Section [4)\\n\\nThe library implements simple and intuitive Python APIs without sacrificing\\ngeneralizability and versatility, and can be easily installed via pip. Its convenient\\nfunctions for handling document image data can be seamlessly integrated with\\nexisting DIA pipelines. With detailed documentations and carefully curated\\ntutorials, we hope this tool will benefit a variety of end-users, and will lead to\\nadvances in applications in both industry and academic research.\\nLayoutParser is well aligned with recent efforts for improving DL model\\nreusability in other disciplines like natural language processing [8] [34] and com-\\nputer vision [35], but with a focus on unique challenges in DIA. We show\\nLayoutParser can be applied in sophisticated and large-scale digitization projects\\n\\n2 Z. Shen et al.\\n\\n[37], layout detection [38] [22], table detection , and scene text detection [4].\\nA generalized learning-based framework dramatically reduces the need for the\\nmanual specification of complicated rules, which is the status quo with traditional\\nmethods. DL has the potential to transform DIA pipelines and benefit a broad\\nspectrum of large-scale document digitization projects.\\n\\nHowever, there are several practical difficulties for taking advantages of re-\\ncent advances in DL-based methods: 1) DL models are notoriously convoluted\\nfor reuse and extension. Existing models are developed using distinct frame-\\nworks like TensorFlow [I] or PyTorch [24], and the high-level parameters can\\nbe obfuscated by implementation details [8]. It can be a time-consuming and\\nfrustrating experience to debug, reproduce, and adapt existing models for DIA,\\nand many researchers who would benefit the most from using these methods lack\\nthe technical background to implement them from scratch. 2) Document images\\n\\n \\n\\ncontain diverse and disparate patterns across domains, and customized training\\nis often required to achieve a desirable detection accuracy. Currently there is no\\nfull-fledged infrastructure for easily curating the target document image datasets\\nand fine-tuning or re-training the models. 3) DIA usually requires a sequence of\\nmodels and other processing to obtain the final outputs. Often research teams use\\nDL models and then perform further document analyses in separate processes,\\nand these pipelines are not documented in any central location (and often not\\ndocumented at all). This makes it difficult for research teams to learn about how\\nfull pipelines are implemented and leads them to invest significant resources in\\nreinventing the DIA wheel.\\n\\nLayoutParser provides a unified toolkit to support DL-based document image\\nanalysis and processing. To address the aforementioned challenges, LayoutParser\\nis built with the following components:\\n\\n1. An off-the-shelf toolkit for applying DL models for layout detection, character\\nrecognition, and other DIA tasks (Section Bp\\n\\n2. A rich repository of pre-trained neural network models (Model Zoo) that\\nunderlies the off-the-shelf usage\\n\\n3. Comprehensive tools for efficient document image data annotation and model\\ntuning to support different levels of customization\\n\\n4. A DL model hub and community platform for the easy sharing, distribu-\\ntion, and discussion of DIA models and pipelines, to promote reusability,\\nreproducibility, and extensibility (Section [4)\\n\\nThe library implements simple and intuitive Python APIs without sacrificing\\ngeneralizability and versatility, and can be easily installed via pip. Its convenient\\nfunctions for handling document image data can be seamlessly integrated with\\nexisting DIA pipelines. With detailed documentations and carefully curated\\ntutorials, we hope this tool will benefit a variety of end-users, and will lead to\\nadvances in applications in both industry and academic research.\\nLayoutParser is well aligned with recent efforts for improving DL model\\nreusability in other disciplines like natural language processing [8] [34] and com-\\nputer vision [35], but with a focus on unique challenges in DIA. We show\\nLayoutParser can be applied in sophisticated and large-scale digitization projects\\n\\n2 Z. Shen et al.\\n\\n \\n\\n[37], layout detection [22], table detection [26], and scene text detection [4].\\nA generalized learning-based framework dramatically reduces the need for the\\nmanual specification of complicated rules, which is the status quo with traditional\\nmethods. DL has the potential to transform DIA pipelines and benefit a broad\\nspectrum of large-scale document digitization projects.\\n\\nHowever, there are several practical difficulties for taking advantages of re-\\ncent advances in DL-based methods: 1) DL models are notoriously convoluted\\nfor reuse and extension. Existing models are developed using distinct frame-\\nworks like TensorFlow [I] or PyTorch [24], and the high-level parameters can\\nbe obfuscated by implementation details [8]. It can be a time-consuming and\\nfrustrating experience to debug, reproduce, and adapt existing models for DIA,\\nand many researchers who would benefit the most from using these methods lack\\nthe technical background to implement them from scratch. 2) Document images\\ncontain diverse and disparate patterns across domains, and customized training\\nis often required to achieve a desirable detection accuracy. Currently there is no\\nfull-fledged infrastructure for easily curating the target document image datasets\\nand fine-tuning or re-training the models. 3) DIA usually requires a sequence of\\nmodels and other processing to obtain the final outputs. Often research teams use\\nDL models and then perform further document analyses in separate processes,\\nand these pipelines are not documented in any central location (and often not\\ndocumented at all). This makes it difficult for research teams to learn about how\\nfull pipelines are implemented and leads them to invest significant resources in\\nreinventing the DIA wheel.\\n\\nLayoutParser provides a unified toolkit to support DL-based document image\\nanalysis and processing. To address the aforementioned challenges, LayoutParser\\nis built with the following components:\\n\\n1. An off-the-shelf toolkit for applying DL models for layout detection, character\\nrecognition, and other DIA tasks (Section Bp\\n\\n2. A rich repository of pre-trained neural network models (Model Zoo) that\\nunderlies the off-the-shelf usage\\n\\n3. Comprehensive tools for efficient document image data annotation and model\\ntuning to support different levels of customization\\n\\n4. A DL model hub and community platform for the easy sharing, distribu-\\ntion, and discussion of DIA models and pipelines, to promote reusability,\\nreproducibility, and extensibility (Section [4)\\n\\nThe library implements simple and intuitive Python APIs without sacrificing\\ngeneralizability and versatility, and can be easily installed via pip. Its convenient\\nfunctions for handling document image data can be seamlessly integrated with\\nexisting DIA pipelines. With detailed documentations and carefully curated\\ntutorials, we hope this tool will benefit a variety of end-users, and will lead to\\nadvances in applications in both industry and academic research.\\nLayoutParser is well aligned with recent efforts for improving DL model\\nreusability in other disciplines like natural language processing [8] [34] and com-\\nputer vision [35], but with a focus on unique challenges in DIA. We show\\nLayoutParser can be applied in sophisticated and large-scale digitization projects\\n\\n2 Z. Shen et al.\\n\\n[37], layout detection [38] [22], table detection [26], and scene text detection [4].\\nA generalized learning-based framework dramatically reduces the need for the\\nmanual specification of complicated rules, which is the status quo with traditional\\nmethods. DL has the potential to transform DIA pipelines and benefit a broad\\nspectrum of large-scale document digitization projects.\\n\\nHowever, there are several practical difficulties for taking advantages of re-\\ncent advances in DL-based methods: 1) DL models are notoriously convoluted\\nfor reuse and extension. Existing models are developed using distinct frame-\\nworks like TensorFlow [I] or PyTorch [24], and the high-level parameters can\\nbe obfuscated by implementation details [8]. It can be a time-consuming and\\nfrustrating experience to debug, reproduce, and adapt existing models for DIA,\\nand many researchers who would benefit the most from using these methods lack\\nthe technical background to implement them from scratch. 2) Document images\\ncontain diverse and disparate patterns across domains, and customized training\\nis often required to achieve a desirable detection accuracy. Currently there is no\\nfull-fledged infrastructure for easily curating the target document image datasets\\nand fine-tuning or re-training the models. 3) DIA usually requires a sequence of\\nmodels and other processing to obtain the final outputs. Often research teams use\\nDL models and then perform further document analyses in separate processes,\\nand these pipelines are not documented in any central location (and often not\\ndocumented at all). This makes it difficult for research teams to learn about how\\nfull pipelines are implemented and leads them to invest significant resources in\\nreinventing the DIA wheel.\\n\\nLayoutParser provides a unified toolkit to support DL-based document image\\nanalysis and processing. To address the aforementioned challenges, LayoutParser\\nis built with the following components:\\n\\n1. An off-the-shelf toolkit for applying DL models for layout detection, character\\nrecognition, and other DIA tasks (Section Bp\\n\\n2. A rich repository of pre-trained neural network models (Model Zoo) that\\nunderlies the off-the-shelf usage\\n\\n3. Comprehensive tools for efficient document image data annotation and model\\ntuning to support different levels of customization\\n\\n4. A DL model hub and community platform for the easy sharing, distribu-\\ntion, and discussion of DIA models and pipelines, to promote reusability,\\nreproducibility, and extensibility (Section [4)\\n\\nThe library implements simple and intuitive Python APIs without sacrificing\\ngeneralizability and versatility, and can be easily installed via pip. Its convenient\\nfunctions for handling document image data can be seamlessly integrated with\\nexisting DIA pipelines. With detailed documentations and carefully curated\\ntutorials, we hope this tool will benefit a variety of end-users, and will lead to\\nadvances in applications in both industry and academic research.\\nLayoutParser is well aligned with recent efforts for improving DL model\\nreusability in other disciplines like natural language processing [8] [34] and com-\\nputer vision [35], but with a focus on unique challenges in DIA. We show\\nLayoutParser can be applied in sophisticated and large-scale digitization projects\\n\\n2 Z. Shen et al.\\n\\n \\n\\n[37], layout detection [22], table detection [26], and scene text detection [4].\\nA generalized learning-based framework dramatically reduces the need for the\\nmanual specification of complicated rules, which is the status quo with traditional\\nmethods. DL has the potential to transform DIA pipelines and benefit a broad\\nspectrum of large-scale document digitization projects.\\n\\nHowever, there are several practical difficulties for taking advantages of re-\\ncent advances in DL-based methods: 1) DL models are notoriously convoluted\\nfor reuse and extension. Existing models are developed using distinct frame-\\nworks like TensorFlow [I] or PyTorch [24], and the high-level parameters can\\nbe obfuscated by implementation details [8]. It can be a time-consuming and\\nfrustrating experience to debug, reproduce, and adapt existing models for DIA,\\nand many researchers who would benefit the most from using these methods lack\\nthe technical background to implement them from scratch. 2) Document images\\ncontain diverse and disparate patterns across domains, and customized training\\nis often required to achieve a desirable detection accuracy. Currently there is no\\nfull-fledged infrastructure for easily curating the target document image datasets\\nand fine-tuning or re-training the models. 3) DIA usually requires a sequence of\\nmodels and other processing to obtain the final outputs. Often research teams use\\nDL models and then perform further document analyses in separate processes,\\nand these pipelines are not documented in any central location (and often not\\ndocumented at all). This makes it difficult for research teams to learn about how\\nfull pipelines are implemented and leads them to invest significant resources in\\nreinventing the DIA wheel.\\n\\nLayoutParser provides a unified toolkit to support DL-based document image\\nanalysis and processing. To address the aforementioned challenges, LayoutParser\\nis built with the following components:\\n\\n1. An off-the-shelf toolkit for applying DL models for layout detection, character\\nrecognition, and other DIA tasks (Section Bp\\n\\n2. A rich repository of pre-trained neural network models (Model Zoo) that\\nunderlies the off-the-shelf usage\\n\\n3. Comprehensive tools for efficient document image data annotation and model\\ntuning to support different levels of customization\\n\\n4. A DL model hub and community platform for the easy sharing, distribu-\\ntion, and discussion of DIA models and pipelines, to promote reusability,\\nreproducibility, and extensibility (Section [4)\\n\\nThe library implements simple and intuitive Python APIs without sacrificing\\ngeneralizability and versatility, and can be easily installed via pip. Its convenient\\nfunctions for handling document image data can be seamlessly integrated with\\nexisting DIA pipelines. With detailed documentations and carefully curated\\ntutorials, we hope this tool will benefit a variety of end-users, and will lead to\\nadvances in applications in both industry and academic research.\\nLayoutParser is well aligned with recent efforts for improving DL model\\nreusability in other disciplines like natural language processing [8] [34] and com-\\nputer vision [35], but with a focus on unique challenges in DIA. We show\\nLayoutParser can be applied in sophisticated and large-scale digitization projects\\n\\n2 Z. Shen et al.\\n\\n[37], layout detection [38] [22], table detection and scene text detection [4].\\nA generalized learning-based framework dramatically reduces the need for the\\nmanual specification of complicated rules, which is the status quo with traditional\\nmethods. DL has the potential to transform DIA pipelines and benefit a broad\\nspectrum of large-scale document digitization projects.\\n\\nHowever, there are several practical difficulties for taking advantages of re-\\ncent advances in DL-based methods: 1) DL models are notoriously convoluted\\nfor reuse and extension. Existing models are developed using distinct frame-\\nworks like TensorFlow [I] or PyTorch [24], and the high-level parameters can\\nbe obfuscated by implementation details [8]. It can be a time-consuming and\\nfrustrating experience to debug, reproduce, and adapt existing models for DIA,\\nand many researchers who would benefit the most from using these methods lack\\nthe technical background to implement them from scratch. 2) Document images\\n\\n \\n\\ncontain diverse and disparate patterns across domains, and customized training\\nis often required to achieve a desirable detection accuracy. Currently there is no\\nfull-fledged infrastructure for easily curating the target document image datasets\\nand fine-tuning or re-training the models. 3) DIA usually requires a sequence of\\nmodels and other processing to obtain the final outputs. Often research teams use\\nDL models and then perform further document analyses in separate processes,\\nand these pipelines are not documented in any central location (and often not\\ndocumented at all). This makes it difficult for research teams to learn about how\\nfull pipelines are implemented and leads them to invest significant resources in\\nreinventing the DIA wheel.\\n\\nLayoutParser provides a unified toolkit to support DL-based document image\\nanalysis and processing. To address the aforementioned challenges, LayoutParser\\nis built with the following components:\\n\\n1. An off-the-shelf toolkit for applying DL models for layout detection, character\\nrecognition, and other DIA tasks (Section Bp\\n\\n2. A rich repository of pre-trained neural network models (Model Zoo) that\\nunderlies the off-the-shelf usage\\n\\n3. Comprehensive tools for efficient document image data annotation and model\\ntuning to support different levels of customization\\n\\n4. A DL model hub and community platform for the easy sharing, distribu-\\ntion, and discussion of DIA models and pipelines, to promote reusability,\\nreproducibility, and extensibility (Section [4)\\n\\nThe library implements simple and intuitive Python APIs without sacrificing\\ngeneralizability and versatility, and can be easily installed via pip. Its convenient\\nfunctions for handling document image data can be seamlessly integrated with\\nexisting DIA pipelines. With detailed documentations and carefully curated\\ntutorials, we hope this tool will benefit a variety of end-users, and will lead to\\nadvances in applications in both industry and academic research.\\nLayoutParser is well aligned with recent efforts for improving DL model\\nreusability in other disciplines like natural language processing [8] [34] and com-\\nputer vision [35], but with a focus on unique challenges in DIA. We show\\nLayoutParser can be applied in sophisticated and large-scale digitization projects\\n\\n2 Z. Shen et al.\\n\\n \\n\\n[37], layout detection [22], table detection and scene text detection [4].\\nA generalized learning-based framework dramatically reduces the need for the\\nmanual specification of complicated rules, which is the status quo with traditional\\nmethods. DL has the potential to transform DIA pipelines and benefit a broad\\nspectrum of large-scale document digitization projects.\\n\\nHowever, there are several practical difficulties for taking advantages of re-\\ncent advances in DL-based methods: 1) DL models are notoriously convoluted\\nfor reuse and extension. Existing models are developed using distinct frame-\\nworks like TensorFlow [I] or PyTorch [24], and the high-level parameters can\\nbe obfuscated by implementation details [8]. It can be a time-consuming and\\nfrustrating experience to debug, reproduce, and adapt existing models for DIA,\\nand many researchers who would benefit the most from using these methods lack\\nthe technical background to implement them from scratch. 2) Document images\\n\\n \\n\\ncontain diverse and disparate patterns across domains, and customized training\\nis often required to achieve a desirable detection accuracy. Currently there is no\\nfull-fledged infrastructure for easily curating the target document image datasets\\nand fine-tuning or re-training the models. 3) DIA usually requires a sequence of\\nmodels and other processing to obtain the final outputs. Often research teams use\\nDL models and then perform further document analyses in separate processes,\\nand these pipelines are not documented in any central location (and often not\\ndocumented at all). This makes it difficult for research teams to learn about how\\nfull pipelines are implemented and leads them to invest significant resources in\\nreinventing the DIA wheel.\\n\\nLayoutParser provides a unified toolkit to support DL-based document image\\nanalysis and processing. To address the aforementioned challenges, LayoutParser\\nis built with the following components:\\n\\n1. An off-the-shelf toolkit for applying DL models for layout detection, character\\nrecognition, and other DIA tasks (Section Bp\\n\\n2. A rich repository of pre-trained neural network models (Model Zoo) that\\nunderlies the off-the-shelf usage\\n\\n3. Comprehensive tools for efficient document image data annotation and model\\ntuning to support different levels of customization\\n\\n4. A DL model hub and community platform for the easy sharing, distribu-\\ntion, and discussion of DIA models and pipelines, to promote reusability,\\nreproducibility, and extensibility (Section [4)\\n\\nThe library implements simple and intuitive Python APIs without sacrificing\\ngeneralizability and versatility, and can be easily installed via pip. Its convenient\\nfunctions for handling document image data can be seamlessly integrated with\\nexisting DIA pipelines. With detailed documentations and carefully curated\\ntutorials, we hope this tool will benefit a variety of end-users, and will lead to\\nadvances in applications in both industry and academic research.\\nLayoutParser is well aligned with recent efforts for improving DL model\\nreusability in other disciplines like natural language processing [8] [34] and com-\\nputer vision [35], but with a focus on unique challenges in DIA. We show\\nLayoutParser can be applied in sophisticated and large-scale digitization projects\\n\\n \\n\\n \\n\\x0c', 'metadata': {'source': '/content/test_data/document/layout-parser-paper-10p.jpg'}}\n"
          ]
        }
      ]
    },
    {
      "cell_type": "markdown",
      "source": [
        "#### 3.4 convert entire directory"
      ],
      "metadata": {
        "id": "yzrS5hVsl8QZ"
      },
      "id": "yzrS5hVsl8QZ"
    },
    {
      "cell_type": "code",
      "source": [
        "from pyrecdp.primitives.llmutils.document_extractor import document_to_text\n",
        "\n",
        "in_file = \"/content/test_data/document/\"\n",
        "out_file = \"/content/doc_jsonl/\" + \"document.json\"\n",
        "document_to_text(input_dir = in_file, output_file = out_file)\n",
        "\n",
        "! head {out_file}"
      ],
      "metadata": {
        "id": "wXR8_zDUdy2w",
        "outputId": "77c2a54d-509b-4c54-e3de-8b51fefff080",
        "colab": {
          "base_uri": "https://localhost:8080/"
        }
      },
      "id": "wXR8_zDUdy2w",
      "execution_count": 27,
      "outputs": [
        {
          "output_type": "stream",
          "name": "stdout",
          "text": [
            "Document converter with args [input_dir= /content/test_data/document/, glob=**/*.*, input_files=None] started ...\n"
          ]
        },
        {
          "output_type": "stream",
          "name": "stderr",
          "text": [
            "100%|██████████| 4/4 [02:37<00:00, 39.39s/it]"
          ]
        },
        {
          "output_type": "stream",
          "name": "stdout",
          "text": [
            "Document converter with args [input_dir= /content/test_data/document/, glob=**/*.*, input_files=None] took 157.5721603879997 sec\n",
            "{'text': 'RULES AND INSTRUCTIONS\\n\\n1. Template for day 1 (korean) , for day 2\\n(English) for day 3 both English and korean.\\n2. Use all your accounts. use different emails\\nto send. Its better to have many email\\naccounts.\\n\\nNote: Remember to write your own \"OPENING\\nMESSAGE\" before you copy and paste the\\ntemplate. please always include [TREASURE\\nHARUTO] for example:\\n\\nStS ofAl2, AS|E YGEAS TB TREASUREWH\\nHARUTOM| 2] PHEYLICH. BHO AY, HARUTO M BE\\n= WSO Hot Wat SSBstS LRU, O| Gil\\nBS SH AS2 ASS AZOpO} HAS] TAI St a\\nBat FSAel SHS HS + U7/S LICH.\\n\\n3. CC Harutonations@gmail.com so we can\\nkeep track of how many emails were\\nsuccessfully sent\\n\\n4. Use the hashtag of Haruto on your tweet to\\nshow that vou have sent your email]\\n\\x0c', 'metadata': {'source': '/content/test_data/document/english-and-korean.png'}}\n",
            "{'text': 'U.S. Department of Justice', 'metadata': {'source': 'handbook-872p.docx'}}\n",
            "{'text': 'Executive Office for United States Trustees\\t\\t         \\t\\t\\t\\t   ', 'metadata': {'source': 'handbook-872p.docx'}}\n",
            "{'text': 'Handbook for', 'metadata': {'source': 'handbook-872p.docx'}}\n",
            "{'text': 'Chapter 13 ', 'metadata': {'source': 'handbook-872p.docx'}}\n",
            "{'text': 'Standing Trustees', 'metadata': {'source': 'handbook-872p.docx'}}\n",
            "{'text': 'October 1, 2012 ', 'metadata': {'source': 'handbook-872p.docx'}}\n",
            "{'text': 'Table of Contents', 'metadata': {'source': 'handbook-872p.docx'}}\n",
            "{'text': 'CHAPTER 1 - INTRODUCTION', 'metadata': {'source': 'handbook-872p.docx'}}\n",
            "{'text': 'A. PURPOSE1-1', 'metadata': {'source': 'handbook-872p.docx'}}\n"
          ]
        },
        {
          "output_type": "stream",
          "name": "stderr",
          "text": [
            "\n"
          ]
        }
      ]
    }
  ],
  "metadata": {
    "kernelspec": {
      "display_name": "Python 3 (ipykernel)",
      "language": "python",
      "name": "python3"
    },
    "language_info": {
      "codemirror_mode": {
        "name": "ipython",
        "version": 3
      },
      "file_extension": ".py",
      "mimetype": "text/x-python",
      "name": "python",
      "nbconvert_exporter": "python",
      "pygments_lexer": "ipython3",
      "version": "3.10.12"
    },
    "colab": {
      "provenance": []
    }
  },
  "nbformat": 4,
  "nbformat_minor": 5
}