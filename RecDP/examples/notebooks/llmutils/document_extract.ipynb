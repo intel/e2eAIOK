{
 "cells": [
  {
   "cell_type": "markdown",
   "id": "eUmHSaVVFVMg",
   "metadata": {
    "id": "eUmHSaVVFVMg"
   },
   "source": [
    "# RecDP LLM - Document Extract\n",
    "\n",
    "standard input for LLM pretrain/finetune is a folder of files containing multiple samples. Each sample is a json format or tabular format row.\n",
    "\n",
    "This function is used to convert text, images, pdfs, docs to jsonl files and then used for LLM data process.\n",
    "\n",
    "Output format:\n",
    "\n",
    "| text                | meta                              |\n",
    "| ------------------- | --------------------------------- |\n",
    "| This is a cool tool | {'source': 'dummy', 'lang': 'en'} |\n",
    "| llm is fun          | {'source': 'dummy', 'lang': 'en'} |\n",
    "| ...                 | {'source': 'dummy', 'lang': 'en'} |\n",
    "\n",
    "input types supported:\n",
    "* image (png, jpg)\n",
    "* pdf\n",
    "* docs"
   ]
  },
  {
   "cell_type": "markdown",
   "id": "zbISMsN5GTb5",
   "metadata": {
    "id": "zbISMsN5GTb5"
   },
   "source": [
    "# Get started"
   ]
  },
  {
   "cell_type": "markdown",
   "id": "tlDs3s2IGav-",
   "metadata": {
    "id": "tlDs3s2IGav-"
   },
   "source": [
    "## 1. Install pyrecdp and dependencies"
   ]
  },
  {
   "cell_type": "code",
   "execution_count": null,
   "id": "736fb211-dbe6-4ca9-a1b1-db2cff2d287a",
   "metadata": {
    "id": "736fb211-dbe6-4ca9-a1b1-db2cff2d287a"
   },
   "outputs": [],
   "source": [
    "! DEBIAN_FRONTEND=noninteractive apt-get install -qq -y openjdk-8-jre\n",
    "! pip install -q pyrecdp --pre\n",
    "# ! pip install 'git+https://github.com/intel/e2eAIOK.git#egg=pyrecdp&subdirectory=RecDP'"
   ]
  },
  {
   "cell_type": "markdown",
   "id": "LOquUg-OG0MS",
   "metadata": {
    "id": "LOquUg-OG0MS"
   },
   "source": [
    "## 2. prepare your own data"
   ]
  },
  {
   "cell_type": "code",
   "execution_count": null,
   "id": "RHHGVvuZGzSS",
   "metadata": {
    "id": "RHHGVvuZGzSS"
   },
   "outputs": [],
   "source": [
    "%mkdir -p /content/test_data\n",
    "%cd /content/test_data\n",
    "%mkdir -p /content/doc_jsonl\n",
    "file_names = ['english-and-korean.png', 'handbook-872p.docx', 'layout-parser-paper-10p.jpg', 'layout-parser-paper.pdf']\n",
    "file_list = [f\"https://raw.githubusercontent.com/intel/e2eAIOK/main/RecDP/tests/data/llm_data/document/{i}\" for i in file_names]\n",
    "!wget -P /content/test_data/document/ {\" \".join(file_list)}"
   ]
  },
  {
   "cell_type": "markdown",
   "id": "dhrC92TbIriM",
   "metadata": {
    "id": "dhrC92TbIriM"
   },
   "source": [
    "## 3. convert data"
   ]
  },
  {
   "cell_type": "markdown",
   "id": "MLj8YsmXgKFa",
   "metadata": {
    "id": "MLj8YsmXgKFa"
   },
   "source": [
    "#### 3.1 convert pdf"
   ]
  },
  {
   "cell_type": "code",
   "execution_count": 15,
   "id": "bKDlmC0CdlGY",
   "metadata": {
    "colab": {
     "base_uri": "https://localhost:8080/"
    },
    "id": "bKDlmC0CdlGY",
    "outputId": "8d7b2a4f-2ce3-48a0-e92f-fd6548428349"
   },
   "outputs": [
    {
     "name": "stdout",
     "output_type": "stream",
     "text": [
      "Document extract for '/content/test_data/document/layout-parser-paper.pdf' with [glob=**/*.pdf, required_exts=None, recursive=False, multithread=False] started ...\n"
     ]
    },
    {
     "name": "stderr",
     "output_type": "stream",
     "text": [
      "100%|██████████| 1/1 [00:00<00:00,  3.16it/s]"
     ]
    },
    {
     "name": "stdout",
     "output_type": "stream",
     "text": [
      "Document extract for '/content/test_data/document/layout-parser-paper.pdf' with [glob=**/*.pdf, required_exts=None, recursive=False, multithread=False] took 0.32126119174063206 sec\n"
     ]
    },
    {
     "name": "stderr",
     "output_type": "stream",
     "text": [
      "\n"
     ]
    },
    {
     "data": {
      "text/html": [
       "<div>\n",
       "<style scoped>\n",
       "    .dataframe tbody tr th:only-of-type {\n",
       "        vertical-align: middle;\n",
       "    }\n",
       "\n",
       "    .dataframe tbody tr th {\n",
       "        vertical-align: top;\n",
       "    }\n",
       "\n",
       "    .dataframe thead th {\n",
       "        text-align: right;\n",
       "    }\n",
       "</style>\n",
       "<table border=\"1\" class=\"dataframe\">\n",
       "  <thead>\n",
       "    <tr style=\"text-align: right;\">\n",
       "      <th></th>\n",
       "      <th>text</th>\n",
       "      <th>metadata</th>\n",
       "    </tr>\n",
       "  </thead>\n",
       "  <tbody>\n",
       "    <tr>\n",
       "      <th>0</th>\n",
       "      <td>LayoutParser : A Uniﬁed Toolkit for Deep\\nLear...</td>\n",
       "      <td>{'source': '/content/test_data/document/layout...</td>\n",
       "    </tr>\n",
       "  </tbody>\n",
       "</table>\n",
       "</div>"
      ],
      "text/plain": [
       "                                                text  \\\n",
       "0  LayoutParser : A Uniﬁed Toolkit for Deep\\nLear...   \n",
       "\n",
       "                                            metadata  \n",
       "0  {'source': '/content/test_data/document/layout...  "
      ]
     },
     "metadata": {},
     "output_type": "display_data"
    }
   ],
   "source": [
    "from pyrecdp.primitives.llmutils.document_extractor import pdf_to_text\n",
    "import pandas as pd\n",
    "\n",
    "file_name = \"layout-parser-paper.pdf\"\n",
    "in_file = \"/content/test_data/document/\" + file_name\n",
    "out_file = \"/content/doc_jsonl/\" + file_name + \".jsonl\"\n",
    "pdf_to_text(in_file, out_file)\n",
    "display(pd.read_json(out_file, lines=True))\n",
    "\n",
    " "
   ]
  },
  {
   "cell_type": "markdown",
   "id": "UAWi-jXFgXuy",
   "metadata": {
    "id": "UAWi-jXFgXuy"
   },
   "source": [
    "#### 3.2 convert docx"
   ]
  },
  {
   "cell_type": "code",
   "execution_count": 16,
   "id": "pWl-ym01ga9D",
   "metadata": {
    "colab": {
     "base_uri": "https://localhost:8080/"
    },
    "id": "pWl-ym01ga9D",
    "outputId": "840eb142-aadf-4d2e-e52b-4f66b1c172bb"
   },
   "outputs": [
    {
     "name": "stdout",
     "output_type": "stream",
     "text": [
      "Document extract for '/content/test_data/document/handbook-872p.docx' with [glob=**/*.docx, required_exts=None, recursive=False, multithread=False] started ...\n"
     ]
    },
    {
     "name": "stderr",
     "output_type": "stream",
     "text": [
      "100%|██████████| 1/1 [00:00<00:00,  1.94it/s]"
     ]
    },
    {
     "name": "stdout",
     "output_type": "stream",
     "text": [
      "Document extract for '/content/test_data/document/handbook-872p.docx' with [glob=**/*.docx, required_exts=None, recursive=False, multithread=False] took 0.520426164381206 sec\n"
     ]
    },
    {
     "name": "stderr",
     "output_type": "stream",
     "text": [
      "\n"
     ]
    },
    {
     "data": {
      "text/html": [
       "<div>\n",
       "<style scoped>\n",
       "    .dataframe tbody tr th:only-of-type {\n",
       "        vertical-align: middle;\n",
       "    }\n",
       "\n",
       "    .dataframe tbody tr th {\n",
       "        vertical-align: top;\n",
       "    }\n",
       "\n",
       "    .dataframe thead th {\n",
       "        text-align: right;\n",
       "    }\n",
       "</style>\n",
       "<table border=\"1\" class=\"dataframe\">\n",
       "  <thead>\n",
       "    <tr style=\"text-align: right;\">\n",
       "      <th></th>\n",
       "      <th>text</th>\n",
       "      <th>metadata</th>\n",
       "    </tr>\n",
       "  </thead>\n",
       "  <tbody>\n",
       "    <tr>\n",
       "      <th>0</th>\n",
       "      <td>U.S. Department of Justice\\nExecutive Office f...</td>\n",
       "      <td>{'source': '/content/test_data/document/handbo...</td>\n",
       "    </tr>\n",
       "  </tbody>\n",
       "</table>\n",
       "</div>"
      ],
      "text/plain": [
       "                                                text  \\\n",
       "0  U.S. Department of Justice\\nExecutive Office f...   \n",
       "\n",
       "                                            metadata  \n",
       "0  {'source': '/content/test_data/document/handbo...  "
      ]
     },
     "metadata": {},
     "output_type": "display_data"
    }
   ],
   "source": [
    "from pyrecdp.primitives.llmutils.document_extractor import docx_to_text\n",
    "import pandas as pd\n",
    "\n",
    "file_name = \"handbook-872p.docx\"\n",
    "in_file = \"/content/test_data/document/\" + file_name\n",
    "out_file = \"/content/doc_jsonl/\" + file_name + \".jsonl\"\n",
    "docx_to_text(in_file, out_file)\n",
    "\n",
    "display(pd.read_json(out_file, lines=True))"
   ]
  },
  {
   "cell_type": "markdown",
   "id": "fUrG8v1Og7Tb",
   "metadata": {
    "id": "fUrG8v1Og7Tb"
   },
   "source": [
    "#### 3.3 convert images"
   ]
  },
  {
   "cell_type": "code",
   "execution_count": 17,
   "id": "0bowqv7Ag7hI",
   "metadata": {
    "colab": {
     "base_uri": "https://localhost:8080/"
    },
    "id": "0bowqv7Ag7hI",
    "outputId": "9a20c81f-a198-4f7c-f777-c0f8829e81c1"
   },
   "outputs": [
    {
     "name": "stdout",
     "output_type": "stream",
     "text": [
      "Document extract for '/content/test_data/document/layout-parser-paper-10p.jpg' with [glob=**/*.*, required_exts=['.jpeg', '.jpg', '.png'], recursive=False, multithread=False] started ...\n"
     ]
    },
    {
     "name": "stderr",
     "output_type": "stream",
     "text": [
      "100%|██████████| 1/1 [00:31<00:00, 31.67s/it]"
     ]
    },
    {
     "name": "stdout",
     "output_type": "stream",
     "text": [
      "Document extract for '/content/test_data/document/layout-parser-paper-10p.jpg' with [glob=**/*.*, required_exts=['.jpeg', '.jpg', '.png'], recursive=False, multithread=False] took 31.676521027460694 sec\n"
     ]
    },
    {
     "name": "stderr",
     "output_type": "stream",
     "text": [
      "\n"
     ]
    },
    {
     "data": {
      "text/html": [
       "<div>\n",
       "<style scoped>\n",
       "    .dataframe tbody tr th:only-of-type {\n",
       "        vertical-align: middle;\n",
       "    }\n",
       "\n",
       "    .dataframe tbody tr th {\n",
       "        vertical-align: top;\n",
       "    }\n",
       "\n",
       "    .dataframe thead th {\n",
       "        text-align: right;\n",
       "    }\n",
       "</style>\n",
       "<table border=\"1\" class=\"dataframe\">\n",
       "  <thead>\n",
       "    <tr style=\"text-align: right;\">\n",
       "      <th></th>\n",
       "      <th>text</th>\n",
       "      <th>metadata</th>\n",
       "    </tr>\n",
       "  </thead>\n",
       "  <tbody>\n",
       "    <tr>\n",
       "      <th>0</th>\n",
       "      <td>2103.15348v2 [cs.CV] 21 Jun 2021\\n\\narXiv\\n\\nL...</td>\n",
       "      <td>{'source': '/content/test_data/document/layout...</td>\n",
       "    </tr>\n",
       "  </tbody>\n",
       "</table>\n",
       "</div>"
      ],
      "text/plain": [
       "                                                text  \\\n",
       "0  2103.15348v2 [cs.CV] 21 Jun 2021\\n\\narXiv\\n\\nL...   \n",
       "\n",
       "                                            metadata  \n",
       "0  {'source': '/content/test_data/document/layout...  "
      ]
     },
     "metadata": {},
     "output_type": "display_data"
    }
   ],
   "source": [
    "from pyrecdp.primitives.llmutils.document_extractor import image_to_text\n",
    "import pandas as pd\n",
    "\n",
    "file_name = \"layout-parser-paper-10p.jpg\"\n",
    "in_file = \"/content/test_data/document/\" + file_name\n",
    "out_file = \"/content/doc_jsonl/\" + file_name + \".jsonl\"\n",
    "image_to_text(in_file, out_file)\n",
    "\n",
    "display(pd.read_json(out_file, lines=True))"
   ]
  },
  {
   "cell_type": "markdown",
   "id": "yzrS5hVsl8QZ",
   "metadata": {
    "id": "yzrS5hVsl8QZ"
   },
   "source": [
    "#### 3.4 convert entire directory"
   ]
  },
  {
   "cell_type": "code",
   "execution_count": 14,
   "id": "wXR8_zDUdy2w",
   "metadata": {
    "colab": {
     "base_uri": "https://localhost:8080/"
    },
    "id": "wXR8_zDUdy2w",
    "outputId": "77c2a54d-509b-4c54-e3de-8b51fefff080"
   },
   "outputs": [
    {
     "name": "stdout",
     "output_type": "stream",
     "text": [
      "Document extract for '/content/test_data/document/' with [glob=**/*.*, required_exts=None, recursive=False, multithread=True] started ...\n"
     ]
    },
    {
     "name": "stderr",
     "output_type": "stream",
     "text": [
      "100%|██████████| 40/40 [00:32<00:00,  1.22it/s]"
     ]
    },
    {
     "name": "stdout",
     "output_type": "stream",
     "text": [
      "Document extract for '/content/test_data/document/' with [glob=**/*.*, required_exts=None, recursive=False, multithread=True] took 32.91086395457387 sec\n"
     ]
    },
    {
     "name": "stderr",
     "output_type": "stream",
     "text": [
      "\n"
     ]
    },
    {
     "data": {
      "text/html": [
       "<div>\n",
       "<style scoped>\n",
       "    .dataframe tbody tr th:only-of-type {\n",
       "        vertical-align: middle;\n",
       "    }\n",
       "\n",
       "    .dataframe tbody tr th {\n",
       "        vertical-align: top;\n",
       "    }\n",
       "\n",
       "    .dataframe thead th {\n",
       "        text-align: right;\n",
       "    }\n",
       "</style>\n",
       "<table border=\"1\" class=\"dataframe\">\n",
       "  <thead>\n",
       "    <tr style=\"text-align: right;\">\n",
       "      <th></th>\n",
       "      <th>text</th>\n",
       "      <th>metadata</th>\n",
       "    </tr>\n",
       "  </thead>\n",
       "  <tbody>\n",
       "    <tr>\n",
       "      <th>0</th>\n",
       "      <td>RULES AND INSTRUCTIONS\\n\\n1. Template for day ...</td>\n",
       "      <td>{'source': '/content/test_data/document/englis...</td>\n",
       "    </tr>\n",
       "    <tr>\n",
       "      <th>1</th>\n",
       "      <td>U.S. Department of Justice\\nExecutive Office f...</td>\n",
       "      <td>{'source': '/content/test_data/document/handbo...</td>\n",
       "    </tr>\n",
       "    <tr>\n",
       "      <th>2</th>\n",
       "      <td>2103.15348v2 [cs.CV] 21 Jun 2021\\n\\narXiv\\n\\nL...</td>\n",
       "      <td>{'source': '/content/test_data/document/layout...</td>\n",
       "    </tr>\n",
       "    <tr>\n",
       "      <th>3</th>\n",
       "      <td>LayoutParser : A Uniﬁed Toolkit for Deep\\nLear...</td>\n",
       "      <td>{'source': '/content/test_data/document/layout...</td>\n",
       "    </tr>\n",
       "  </tbody>\n",
       "</table>\n",
       "</div>"
      ],
      "text/plain": [
       "                                                text  \\\n",
       "0  RULES AND INSTRUCTIONS\\n\\n1. Template for day ...   \n",
       "1  U.S. Department of Justice\\nExecutive Office f...   \n",
       "2  2103.15348v2 [cs.CV] 21 Jun 2021\\n\\narXiv\\n\\nL...   \n",
       "3  LayoutParser : A Uniﬁed Toolkit for Deep\\nLear...   \n",
       "\n",
       "                                            metadata  \n",
       "0  {'source': '/content/test_data/document/englis...  \n",
       "1  {'source': '/content/test_data/document/handbo...  \n",
       "2  {'source': '/content/test_data/document/layout...  \n",
       "3  {'source': '/content/test_data/document/layout...  "
      ]
     },
     "metadata": {},
     "output_type": "display_data"
    }
   ],
   "source": [
    "from pyrecdp.primitives.llmutils.document_extractor import document_to_text\n",
    "import pandas as pd\n",
    "in_file = \"/content/test_data/document/\"\n",
    "out_file = \"/content/doc_jsonl/\" + \"document.json\"\n",
    "document_to_text(in_file, out_file, use_multithreading=True)\n",
    "display(pd.read_json(out_file, lines=True))"
   ]
  }
 ],
 "metadata": {
  "colab": {
   "provenance": []
  },
  "kernelspec": {
   "display_name": "Python 3 (ipykernel)",
   "language": "python",
   "name": "python3"
  },
  "language_info": {
   "codemirror_mode": {
    "name": "ipython",
    "version": 3
   },
   "file_extension": ".py",
   "mimetype": "text/x-python",
   "name": "python",
   "nbconvert_exporter": "python",
   "pygments_lexer": "ipython3",
   "version": "3.10.12"
  }
 },
 "nbformat": 4,
 "nbformat_minor": 5
}
