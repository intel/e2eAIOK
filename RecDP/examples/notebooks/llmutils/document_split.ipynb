{
 "cells": [
  {
   "cell_type": "markdown",
   "id": "736fb211-dbe6-4ca9-a1b1-db2cff2d287a",
   "metadata": {},
   "source": [
    "# RecDP LLM - sentence split"
   ]
  },
  {
   "cell_type": "markdown",
   "id": "5046b222",
   "metadata": {},
   "source": [
    "# Get started"
   ]
  },
  {
   "cell_type": "markdown",
   "id": "54ebdd0e",
   "metadata": {},
   "source": [
    "## 1. Install pyrecdp and dependencies"
   ]
  },
  {
   "cell_type": "code",
   "execution_count": null,
   "id": "2411d13e",
   "metadata": {
    "ExecuteTime": {
     "end_time": "2023-10-09T16:00:24.332535Z",
     "start_time": "2023-10-09T16:00:19.320447Z"
    },
    "pycharm": {
     "is_executing": true
    }
   },
   "outputs": [],
   "source": [
    "! DEBIAN_FRONTEND=noninteractive apt-get install -y openjdk-8-jre\n",
    "! pip install pyrecdp --pre\n",
    "# ! pip install 'git+https://github.com/intel/e2eAIOK.git#egg=pyrecdp&subdirectory=RecDP'"
   ]
  },
  {
   "cell_type": "markdown",
   "id": "641b4705",
   "metadata": {},
   "source": [
    "## 2. Sentence split"
   ]
  },
  {
   "cell_type": "code",
   "execution_count": 8,
   "id": "79e46e85",
   "metadata": {
    "pycharm": {
     "is_executing": true
    }
   },
   "outputs": [
    {
     "name": "stdout",
     "output_type": "stream",
     "text": [
      "+--------------------------------------------------------------------------------------------------------------------------------------------+--------------------------------------------------------------------------------------------------------------------------------------------+\n",
      "|text                                                                                                                                        |target                                                                                                                                      |\n",
      "+--------------------------------------------------------------------------------------------------------------------------------------------+--------------------------------------------------------------------------------------------------------------------------------------------+\n",
      "|Smithfield employs 3,700 people at its plant in Sioux Falls, South Dakota.\\nThe plant slaughters 19,500 pigs a day — 5 percent of U.S. pork.|Smithfield employs 3,700 people at its plant in Sioux Falls, South Dakota.\\nThe plant slaughters 19,500 pigs a day — 5 percent of U.S. pork.|\n",
      "+--------------------------------------------------------------------------------------------------------------------------------------------+--------------------------------------------------------------------------------------------------------------------------------------------+\n",
      "\n"
     ]
    },
    {
     "name": "stderr",
     "output_type": "stream",
     "text": [
      "                                                                                \r"
     ]
    }
   ],
   "source": [
    "import pandas as pd\n",
    "from pyrecdp.primitives.llmutils import sentence_split\n",
    "from pyspark.sql import SparkSession\n",
    "\n",
    "spark = SparkSession.builder.getOrCreate()\n",
    "\n",
    "samples = [(\n",
    "        'Smithfield employs 3,700 people at its plant in Sioux Falls, '\n",
    "        'South Dakota. The plant slaughters 19,500 pigs a day — 5 '\n",
    "        'percent of U.S. pork.',\n",
    "        'Smithfield employs 3,700 people at its plant in Sioux Falls, '\n",
    "        'South Dakota.\\nThe plant slaughters 19,500 pigs a day — 5 '\n",
    "        'percent of U.S. pork.')]\n",
    "input_dataset = spark.createDataFrame(pd.DataFrame(samples, columns=[\"text\", \"target\"]))\n",
    "ret_df = sentence_split(input_dataset)\n",
    "ret_df.show(truncate=False)\n",
    "for _, row in ret_df.toPandas().iterrows():\n",
    "        assert(row[\"text\"] == row[\"target\"])\n"
   ]
  },
  {
   "cell_type": "code",
   "execution_count": null,
   "metadata": {
    "collapsed": false
   },
   "outputs": [],
   "source": []
  }
 ],
 "metadata": {
  "kernelspec": {
   "display_name": "Python 3 (ipykernel)",
   "language": "python",
   "name": "python3"
  },
  "language_info": {
   "codemirror_mode": {
    "name": "ipython",
    "version": 3
   },
   "file_extension": ".py",
   "mimetype": "text/x-python",
   "name": "python",
   "nbconvert_exporter": "python",
   "pygments_lexer": "ipython3",
   "version": "3.10.12"
  }
 },
 "nbformat": 4,
 "nbformat_minor": 5
}
