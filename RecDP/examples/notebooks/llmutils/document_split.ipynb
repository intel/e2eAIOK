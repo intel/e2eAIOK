{
 "cells": [
  {
   "cell_type": "markdown",
   "id": "736fb211-dbe6-4ca9-a1b1-db2cff2d287a",
   "metadata": {},
   "source": [
    "# RecDP LLM - sentence split"
   ]
  },
  {
   "cell_type": "markdown",
   "id": "5046b222",
   "metadata": {},
   "source": [
    "# Get started"
   ]
  },
  {
   "cell_type": "markdown",
   "id": "54ebdd0e",
   "metadata": {},
   "source": [
    "## 1. Install pyrecdp and dependencies"
   ]
  },
  {
   "cell_type": "code",
   "execution_count": null,
   "id": "2411d13e",
   "metadata": {},
   "outputs": [],
   "source": [
    "! DEBIAN_FRONTEND=noninteractive apt-get install -y openjdk-8-jre\n",
    "! pip install pyrecdp --pre\n",
    "# ! pip install 'git+https://github.com/intel/e2eAIOK.git#egg=pyrecdp&subdirectory=RecDP'"
   ]
  },
  {
   "cell_type": "markdown",
   "id": "641b4705",
   "metadata": {},
   "source": [
    "## 2. Sentence split"
   ]
  },
  {
   "cell_type": "code",
   "execution_count": null,
   "id": "79e46e85",
   "metadata": {},
   "outputs": [],
   "source": [
    "import pandas as pd\n",
    "from pyrecdp.primitives.llmutils import sentence_split\n",
    "from pyrecdp.core import SparkDataProcessor \n",
    "\n",
    "rdp = SparkDataProcessor()\n",
    "spark = rdp.spark\n",
    "\n",
    "samples = [(\n",
    "        'Smithfield employs 3,700 people at its plant in Sioux Falls, '\n",
    "        'South Dakota. The plant slaughters 19,500 pigs a day — 5 '\n",
    "        'percent of U.S. pork.',\n",
    "        'Smithfield employs 3,700 people at its plant in Sioux Falls, '\n",
    "        'South Dakota.\\nThe plant slaughters 19,500 pigs a day — 5 '\n",
    "        'percent of U.S. pork.')]\n",
    "input_dataset = spark.createDataFrame(pd.DataFrame(samples, columns=[\"text\", \"target\"]))\n",
    "ret_df = sentence_split(input_dataset)\n",
    "ret_df.show()"
   ]
  }
 ],
 "metadata": {
  "kernelspec": {
   "display_name": "Python 3 (ipykernel)",
   "language": "python",
   "name": "python3"
  },
  "language_info": {
   "codemirror_mode": {
    "name": "ipython",
    "version": 3
   },
   "file_extension": ".py",
   "mimetype": "text/x-python",
   "name": "python",
   "nbconvert_exporter": "python",
   "pygments_lexer": "ipython3",
   "version": "3.10.12"
  }
 },
 "nbformat": 4,
 "nbformat_minor": 5
}
