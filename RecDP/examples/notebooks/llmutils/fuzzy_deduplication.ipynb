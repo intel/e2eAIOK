{
  "cells": [
    {
      "cell_type": "markdown",
      "source": [
        "# RecDP LLM - fuzzy deduplication\n",
        "\n",
        "Near Dedup is to Detect duplicated documents and output as a duplicates list.\n",
        "\n",
        "* Step 1. We use DataSketch minHash as the base algorithm to calculate (hash, band_id) pair for each documents.\n",
        "\n",
        "* Step 2. We use Spark and SlimPajama connected component detect documents who sharing the same (hash, band_id) pair.\n",
        "\n",
        "* Step 3(Optional). We apply the duplication list to original file to elimate duplicated documents.\n",
        "\n",
        "\n",
        "### use case:\n",
        "* Expect Input format: a folder of *.jsonl.\n",
        "* Expect Output format: a folder of *.jsonl after reduction.\n"
      ],
      "metadata": {
        "id": "NUdnJWOJLGvF"
      },
      "id": "NUdnJWOJLGvF"
    },
    {
      "cell_type": "markdown",
      "source": [
        "# Get started"
      ],
      "metadata": {
        "id": "C1FFwhr3MwA1"
      },
      "id": "C1FFwhr3MwA1"
    },
    {
      "cell_type": "markdown",
      "source": [
        "## Install pyrecdp and dependencies"
      ],
      "metadata": {
        "id": "tMaSNIKIMz3T"
      },
      "id": "tMaSNIKIMz3T"
    },
    {
      "cell_type": "code",
      "source": [
        "! DEBIAN_FRONTEND=noninteractive apt-get install -y openjdk-8-jre\n",
        "! pip install pyrecdp --pre\n",
        "# ! pip install 'git+https://github.com/intel/e2eAIOK.git#egg=pyrecdp&subdirectory=RecDP'"
      ],
      "metadata": {
        "id": "ro4yOk5IMvRY"
      },
      "id": "ro4yOk5IMvRY",
      "execution_count": null,
      "outputs": []
    },
    {
      "cell_type": "markdown",
      "source": [
        "## 2. prepare your own data"
      ],
      "metadata": {
        "id": "pnHK2VTvM5rg"
      },
      "id": "pnHK2VTvM5rg"
    },
    {
      "cell_type": "code",
      "execution_count": null,
      "id": "736fb211-dbe6-4ca9-a1b1-db2cff2d287a",
      "metadata": {
        "id": "736fb211-dbe6-4ca9-a1b1-db2cff2d287a"
      },
      "outputs": [],
      "source": [
        "%mkdir -p /content/test_data\n",
        "%cd /content/test_data\n",
        "file_names = ['NIH_sample.jsonl']\n",
        "file_list = [f\"https://raw.githubusercontent.com/intel/e2eAIOK/main/RecDP/tests/data/PILE/{i}\" for i in file_names]\n",
        "file_names = ['tiny_c4_sample.jsonl', 'tiny_c4_sample_for_pii.jsonl']\n",
        "file_list += [f\"https://raw.githubusercontent.com/intel/e2eAIOK/main/RecDP/tests/data/llm_data/{i}\" for i in file_names]\n",
        "!wget -P /content/test_data {\" \".join(file_list)}"
      ]
    },
    {
      "cell_type": "markdown",
      "source": [
        "## 3. fuzzy deduplicate (seperate detection and reduction)"
      ],
      "metadata": {
        "id": "J-125gFtNyOg"
      },
      "id": "J-125gFtNyOg"
    },
    {
      "cell_type": "code",
      "source": [
        "! ls /content/test_data"
      ],
      "metadata": {
        "id": "vkGRn9uJN4B0",
        "outputId": "0a723991-da3c-4676-c1b9-975157fbd4d6",
        "colab": {
          "base_uri": "https://localhost:8080/"
        }
      },
      "id": "vkGRn9uJN4B0",
      "execution_count": 3,
      "outputs": [
        {
          "output_type": "stream",
          "name": "stdout",
          "text": [
            "NIH_sample.jsonl  tiny_c4_sample_for_pii.jsonl\ttiny_c4_sample.jsonl\n"
          ]
        }
      ]
    },
    {
      "cell_type": "markdown",
      "source": [
        "### 3.1 PIPELINE based API"
      ],
      "metadata": {
        "id": "OidKtF2hCNHd"
      },
      "id": "OidKtF2hCNHd"
    },
    {
      "cell_type": "code",
      "source": [
        "from pyrecdp.LLM import TextPipeline, ResumableTextPipeline\n",
        "from pyrecdp.primitives.operations import *\n",
        "\n",
        "pipeline = ResumableTextPipeline()\n",
        "# optional to enable or not enable statistics.\n",
        "# enable_statistics helps to show summary info\n",
        "# not enable_statistics provides better performance\n",
        "pipeline.enable_statistics()\n",
        "\n",
        "# start to add ops to pipeline\n",
        "ops = [\n",
        "    JsonlReader(\"/content/test_data/\"),\n",
        "    FuzzyDeduplicate(text_key='text', num_perm = 256, ngram_size = 13, bands = 9, ranges = 13),\n",
        "]\n",
        "pipeline.add_operations(ops)\n",
        "pipeline.plot()"
      ],
      "metadata": {
        "id": "SMK9KcV4N7al",
        "outputId": "d79c56ee-6c60-4878-ab81-b946e4214c96",
        "colab": {
          "base_uri": "https://localhost:8080/",
          "height": 432,
          "referenced_widgets": [
            "c4e98c4f3e8541899806859920a6bdd6",
            "3d416bcec2f44a719d6f5fb6742292cc",
            "0785fa595356477fb2cfa6a90c7f01e0",
            "d0b92dcabaf34a918d1abe4748c1d906",
            "a2741048c0e74c92b0e85bba2c7f4a3e",
            "646ce9557dce49508453134ab10eab67",
            "da9d53a0c10544a29f3d97bfdd24186b",
            "1777447dba914306bf08760c6cba1671",
            "23f76880ba79404b80720d5ddf7a3d67",
            "2e90a2eb0a6343abb349a1751d1c942b",
            "50e7c60c9d474c64a62cda0344fef6aa"
          ]
        }
      },
      "id": "SMK9KcV4N7al",
      "execution_count": 4,
      "outputs": [
        {
          "output_type": "stream",
          "name": "stdout",
          "text": [
            "JAVA_HOME is not set, use default value of /usr/lib/jvm/java-8-openjdk-amd64/\n"
          ]
        },
        {
          "output_type": "stream",
          "name": "stderr",
          "text": [
            "/usr/local/lib/python3.10/dist-packages/pyspark/pandas/__init__.py:50: UserWarning: 'PYARROW_IGNORE_TIMEZONE' environment variable was not set. It is required to set this environment variable to '1' in both driver and executor sides if you use pyarrow>=2.0.0. pandas-on-Spark will set it for you but it does not work if there is a Spark context already launched.\n",
            "  warnings.warn(\n"
          ]
        },
        {
          "output_type": "display_data",
          "data": {
            "text/html": [
              "\n",
              "\t\t\t<script type=\"text/javascript\">\n",
              "\t\t\t<!--\n",
              "\t\t\t\t\n",
              "\t\t\t{\n",
              "\t\t\t\tvar element = document.getElementById('NetworKit_script');\n",
              "\t\t\t\tif (element) {\n",
              "\t\t\t\t\telement.parentNode.removeChild(element);\n",
              "\t\t\t\t}\n",
              "\t\t\t\telement = document.createElement('script');\n",
              "\t\t\t\telement.type = 'text/javascript';\n",
              "\t\t\t\telement.innerHTML = 'function NetworKit_pageEmbed(id) { var i, j; var elements; elements = document.getElementById(id).getElementsByClassName(\"Plot\"); for (i=0; i<elements.length; i++) { elements[i].id = id + \"_Plot_\" + i; var data = elements[i].getAttribute(\"data-image\").split(\"|\"); elements[i].removeAttribute(\"data-image\"); var content = \"<div class=\\\\\"Image\\\\\" id=\\\\\"\" + elements[i].id + \"_Image\\\\\" />\"; elements[i].innerHTML = content; elements[i].setAttribute(\"data-image-index\", 0); elements[i].setAttribute(\"data-image-length\", data.length); for (j=0; j<data.length; j++) { elements[i].setAttribute(\"data-image-\" + j, data[j]); } NetworKit_plotUpdate(elements[i]); elements[i].onclick = function (e) { NetworKit_overlayShow((e.target) ? e.target : e.srcElement); } } elements = document.getElementById(id).getElementsByClassName(\"HeatCell\"); for (i=0; i<elements.length; i++) { var data = parseFloat(elements[i].getAttribute(\"data-heat\")); var color = \"#00FF00\"; if (data <= 1 && data > 0) { color = \"hsla(0, 100%, 75%, \" + (data) + \")\"; } else if (data <= 0 && data >= -1) { color = \"hsla(240, 100%, 75%, \" + (-data) + \")\"; } elements[i].style.backgroundColor = color; } elements = document.getElementById(id).getElementsByClassName(\"Details\"); for (i=0; i<elements.length; i++) { elements[i].setAttribute(\"data-title\", \"-\"); NetworKit_toggleDetails(elements[i]); elements[i].onclick = function (e) { NetworKit_toggleDetails((e.target) ? e.target : e.srcElement); } } elements = document.getElementById(id).getElementsByClassName(\"MathValue\"); for (i=elements.length-1; i>=0; i--) { value = elements[i].innerHTML.trim(); if (value === \"nan\") { elements[i].parentNode.innerHTML = \"\" } } elements = document.getElementById(id).getElementsByClassName(\"SubCategory\"); for (i=elements.length-1; i>=0; i--) { value = elements[i].innerHTML.trim(); if (value === \"\") { elements[i].parentNode.removeChild(elements[i]) } } elements = document.getElementById(id).getElementsByClassName(\"Category\"); for (i=elements.length-1; i>=0; i--) { value = elements[i].innerHTML.trim(); if (value === \"\") { elements[i].parentNode.removeChild(elements[i]) } } var isFirefox = false; try { isFirefox = typeof InstallTrigger !== \"undefined\"; } catch (e) {} if (!isFirefox) { alert(\"Currently the function\\'s output is only fully supported by Firefox.\"); } } function NetworKit_plotUpdate(source) { var index = source.getAttribute(\"data-image-index\"); var data = source.getAttribute(\"data-image-\" + index); var image = document.getElementById(source.id + \"_Image\"); image.style.backgroundImage = \"url(\" + data + \")\"; } function NetworKit_showElement(id, show) { var element = document.getElementById(id); element.style.display = (show) ? \"block\" : \"none\"; } function NetworKit_overlayShow(source) { NetworKit_overlayUpdate(source); NetworKit_showElement(\"NetworKit_Overlay\", true); } function NetworKit_overlayUpdate(source) { document.getElementById(\"NetworKit_Overlay_Title\").innerHTML = source.title; var index = source.getAttribute(\"data-image-index\"); var data = source.getAttribute(\"data-image-\" + index); var image = document.getElementById(\"NetworKit_Overlay_Image\"); image.setAttribute(\"data-id\", source.id); image.style.backgroundImage = \"url(\" + data + \")\"; var link = document.getElementById(\"NetworKit_Overlay_Toolbar_Bottom_Save\"); link.href = data; link.download = source.title + \".svg\"; } function NetworKit_overlayImageShift(delta) { var image = document.getElementById(\"NetworKit_Overlay_Image\"); var source = document.getElementById(image.getAttribute(\"data-id\")); var index = parseInt(source.getAttribute(\"data-image-index\")); var length = parseInt(source.getAttribute(\"data-image-length\")); var index = (index+delta) % length; if (index < 0) { index = length + index; } source.setAttribute(\"data-image-index\", index); NetworKit_overlayUpdate(source); } function NetworKit_toggleDetails(source) { var childs = source.children; var show = false; if (source.getAttribute(\"data-title\") == \"-\") { source.setAttribute(\"data-title\", \"+\"); show = false; } else { source.setAttribute(\"data-title\", \"-\"); show = true; } for (i=0; i<childs.length; i++) { if (show) { childs[i].style.display = \"block\"; } else { childs[i].style.display = \"none\"; } } }';\n",
              "\t\t\t\telement.setAttribute('id', 'NetworKit_script');\n",
              "\t\t\t\tdocument.head.appendChild(element);\n",
              "\t\t\t}\n",
              "\t\t\n",
              "\t\t\t\t\n",
              "\t\t\t{\n",
              "\t\t\t\tvar element = document.getElementById('NetworKit_style');\n",
              "\t\t\t\tif (element) {\n",
              "\t\t\t\t\telement.parentNode.removeChild(element);\n",
              "\t\t\t\t}\n",
              "\t\t\t\telement = document.createElement('style');\n",
              "\t\t\t\telement.type = 'text/css';\n",
              "\t\t\t\telement.innerHTML = '.NetworKit_Page { font-family: Arial, Helvetica, sans-serif; font-size: 14px; } .NetworKit_Page .Value:before { font-family: Arial, Helvetica, sans-serif; font-size: 1.05em; content: attr(data-title) \":\"; margin-left: -2.5em; padding-right: 0.5em; } .NetworKit_Page .Details .Value:before { display: block; } .NetworKit_Page .Value { font-family: monospace; white-space: pre; padding-left: 2.5em; white-space: -moz-pre-wrap !important; white-space: -pre-wrap; white-space: -o-pre-wrap; white-space: pre-wrap; word-wrap: break-word; tab-size: 4; -moz-tab-size: 4; } .NetworKit_Page .Category { clear: both; padding-left: 1em; margin-bottom: 1.5em; } .NetworKit_Page .Category:before { content: attr(data-title); font-size: 1.75em; display: block; margin-left: -0.8em; margin-bottom: 0.5em; } .NetworKit_Page .SubCategory { margin-bottom: 1.5em; padding-left: 1em; } .NetworKit_Page .SubCategory:before { font-size: 1.6em; display: block; margin-left: -0.8em; margin-bottom: 0.5em; } .NetworKit_Page .SubCategory[data-title]:before { content: attr(data-title); } .NetworKit_Page .Block { display: block; } .NetworKit_Page .Block:after { content: \".\"; visibility: hidden; display: block; height: 0; clear: both; } .NetworKit_Page .Block .Thumbnail_Overview, .NetworKit_Page .Block .Thumbnail_ScatterPlot { width: 260px; float: left; } .NetworKit_Page .Block .Thumbnail_Overview img, .NetworKit_Page .Block .Thumbnail_ScatterPlot img { width: 260px; } .NetworKit_Page .Block .Thumbnail_Overview:before, .NetworKit_Page .Block .Thumbnail_ScatterPlot:before { display: block; text-align: center; font-weight: bold; } .NetworKit_Page .Block .Thumbnail_Overview:before { content: attr(data-title); } .NetworKit_Page .HeatCell { font-family: \"Courier New\", Courier, monospace; cursor: pointer; } .NetworKit_Page .HeatCell, .NetworKit_Page .HeatCellName { display: inline; padding: 0.1em; margin-right: 2px; background-color: #FFFFFF } .NetworKit_Page .HeatCellName { margin-left: 0.25em; } .NetworKit_Page .HeatCell:before { content: attr(data-heat); display: inline-block; color: #000000; width: 4em; text-align: center; } .NetworKit_Page .Measure { clear: both; } .NetworKit_Page .Measure .Details { cursor: pointer; } .NetworKit_Page .Measure .Details:before { content: \"[\" attr(data-title) \"]\"; display: block; } .NetworKit_Page .Measure .Details .Value { border-left: 1px dotted black; margin-left: 0.4em; padding-left: 3.5em; pointer-events: none; } .NetworKit_Page .Measure .Details .Spacer:before { content: \".\"; opacity: 0.0; pointer-events: none; } .NetworKit_Page .Measure .Plot { width: 440px; height: 440px; cursor: pointer; float: left; margin-left: -0.9em; margin-right: 20px; } .NetworKit_Page .Measure .Plot .Image { background-repeat: no-repeat; background-position: center center; background-size: contain; height: 100%; pointer-events: none; } .NetworKit_Page .Measure .Stat { width: 500px; float: left; } .NetworKit_Page .Measure .Stat .Group { padding-left: 1.25em; margin-bottom: 0.75em; } .NetworKit_Page .Measure .Stat .Group .Title { font-size: 1.1em; display: block; margin-bottom: 0.3em; margin-left: -0.75em; border-right-style: dotted; border-right-width: 1px; border-bottom-style: dotted; border-bottom-width: 1px; background-color: #D0D0D0; padding-left: 0.2em; } .NetworKit_Page .Measure .Stat .Group .List { -webkit-column-count: 3; -moz-column-count: 3; column-count: 3; } .NetworKit_Page .Measure .Stat .Group .List .Entry { position: relative; line-height: 1.75em; } .NetworKit_Page .Measure .Stat .Group .List .Entry[data-tooltip]:before { position: absolute; left: 0; top: -40px; background-color: #808080; color: #ffffff; height: 30px; line-height: 30px; border-radius: 5px; padding: 0 15px; content: attr(data-tooltip); white-space: nowrap; display: none; } .NetworKit_Page .Measure .Stat .Group .List .Entry[data-tooltip]:after { position: absolute; left: 15px; top: -10px; border-top: 7px solid #808080; border-left: 7px solid transparent; border-right: 7px solid transparent; content: \"\"; display: none; } .NetworKit_Page .Measure .Stat .Group .List .Entry[data-tooltip]:hover:after, .NetworKit_Page .Measure .Stat .Group .List .Entry[data-tooltip]:hover:before { display: block; } .NetworKit_Page .Measure .Stat .Group .List .Entry .MathValue { font-family: \"Courier New\", Courier, monospace; } .NetworKit_Page .Measure:after { content: \".\"; visibility: hidden; display: block; height: 0; clear: both; } .NetworKit_Page .PartitionPie { clear: both; } .NetworKit_Page .PartitionPie img { width: 600px; } #NetworKit_Overlay { left: 0px; top: 0px; display: none; position: absolute; width: 100%; height: 100%; background-color: rgba(0,0,0,0.6); z-index: 1000; } #NetworKit_Overlay_Title { position: absolute; color: white; transform: rotate(-90deg); width: 32em; height: 32em; padding-right: 0.5em; padding-top: 0.5em; text-align: right; font-size: 40px; } #NetworKit_Overlay .button { background: white; cursor: pointer; } #NetworKit_Overlay .button:before { size: 13px; display: inline-block; text-align: center; margin-top: 0.5em; margin-bottom: 0.5em; width: 1.5em; height: 1.5em; } #NetworKit_Overlay .icon-close:before { content: \"X\"; } #NetworKit_Overlay .icon-previous:before { content: \"P\"; } #NetworKit_Overlay .icon-next:before { content: \"N\"; } #NetworKit_Overlay .icon-save:before { content: \"S\"; } #NetworKit_Overlay_Toolbar_Top, #NetworKit_Overlay_Toolbar_Bottom { position: absolute; width: 40px; right: 13px; text-align: right; z-index: 1100; } #NetworKit_Overlay_Toolbar_Top { top: 0.5em; } #NetworKit_Overlay_Toolbar_Bottom { Bottom: 0.5em; } #NetworKit_Overlay_ImageContainer { position: absolute; top: 5%; left: 5%; height: 90%; width: 90%; background-repeat: no-repeat; background-position: center center; background-size: contain; } #NetworKit_Overlay_Image { height: 100%; width: 100%; background-repeat: no-repeat; background-position: center center; background-size: contain; }';\n",
              "\t\t\t\telement.setAttribute('id', 'NetworKit_style');\n",
              "\t\t\t\tdocument.head.appendChild(element);\n",
              "\t\t\t}\n",
              "\t\t\n",
              "\t\t\t\t\n",
              "\t\t\t{\n",
              "\t\t\t\tvar element = document.getElementById('NetworKit_Overlay');\n",
              "\t\t\t\tif (element) {\n",
              "\t\t\t\t\telement.parentNode.removeChild(element);\n",
              "\t\t\t\t}\n",
              "\t\t\t\telement = document.createElement('div');\n",
              "\t\t\t\telement.innerHTML = '<div id=\"NetworKit_Overlay_Toolbar_Top\"><div class=\"button icon-close\" id=\"NetworKit_Overlay_Close\" /></div><div id=\"NetworKit_Overlay_Title\" /> <div id=\"NetworKit_Overlay_ImageContainer\"> <div id=\"NetworKit_Overlay_Image\" /> </div> <div id=\"NetworKit_Overlay_Toolbar_Bottom\"> <div class=\"button icon-previous\" onclick=\"NetworKit_overlayImageShift(-1)\" /> <div class=\"button icon-next\" onclick=\"NetworKit_overlayImageShift(1)\" /> <a id=\"NetworKit_Overlay_Toolbar_Bottom_Save\"><div class=\"button icon-save\" /></a> </div>';\n",
              "\t\t\t\telement.setAttribute('id', 'NetworKit_Overlay');\n",
              "\t\t\t\tdocument.body.appendChild(element);\n",
              "\t\t\t\tdocument.getElementById('NetworKit_Overlay_Close').onclick = function (e) {\n",
              "\t\t\t\t\tdocument.getElementById('NetworKit_Overlay').style.display = 'none';\n",
              "\t\t\t\t}\n",
              "\t\t\t}\n",
              "\t\t\n",
              "\t\t\t-->\n",
              "\t\t\t</script>\n",
              "\t\t"
            ]
          },
          "metadata": {}
        },
        {
          "output_type": "stream",
          "name": "stderr",
          "text": [
            "The cache for model files in Transformers v4.22.0 has been updated. Migrating your old cache. This is a one-time only operation. You can interrupt this and resume the migration later on by calling `transformers.utils.move_cache()`.\n"
          ]
        },
        {
          "output_type": "stream",
          "name": "stdout",
          "text": [
            "Moving 0 files to the new cache system\n"
          ]
        },
        {
          "output_type": "display_data",
          "data": {
            "text/plain": [
              "0it [00:00, ?it/s]"
            ],
            "application/vnd.jupyter.widget-view+json": {
              "version_major": 2,
              "version_minor": 0,
              "model_id": "c4e98c4f3e8541899806859920a6bdd6"
            }
          },
          "metadata": {}
        },
        {
          "output_type": "stream",
          "name": "stdout",
          "text": [
            "\u001b[32m2023-10-31 21:08:59.079\u001b[0m | \u001b[33m\u001b[1mWARNING \u001b[0m | \u001b[36mpyrecdp.LLM.TextPipeline\u001b[0m:\u001b[36menable_statistics\u001b[0m:\u001b[36m210\u001b[0m - \u001b[33m\u001b[1mEnabling this option will result in a decrease in execution speed\u001b[0m\n"
          ]
        },
        {
          "output_type": "execute_result",
          "data": {
            "image/svg+xml": "<?xml version=\"1.0\" encoding=\"UTF-8\" standalone=\"no\"?>\n<!DOCTYPE svg PUBLIC \"-//W3C//DTD SVG 1.1//EN\"\n \"http://www.w3.org/Graphics/SVG/1.1/DTD/svg11.dtd\">\n<!-- Generated by graphviz version 2.43.0 (0)\n -->\n<!-- Title: %3 Pages: 1 -->\n<svg width=\"599pt\" height=\"191pt\"\n viewBox=\"0.00 0.00 599.00 191.00\" xmlns=\"http://www.w3.org/2000/svg\" xmlns:xlink=\"http://www.w3.org/1999/xlink\">\n<g id=\"graph0\" class=\"graph\" transform=\"scale(1 1) rotate(0) translate(4 187)\">\n<title>%3</title>\n<polygon fill=\"white\" stroke=\"transparent\" points=\"-4,4 -4,-187 595,-187 595,4 -4,4\"/>\n<!-- 0 -->\n<g id=\"node1\" class=\"node\">\n<title>0</title>\n<polygon fill=\"none\" stroke=\"black\" points=\"223.5,-146.5 223.5,-182.5 367.5,-182.5 367.5,-146.5 223.5,-146.5\"/>\n<text text-anchor=\"middle\" x=\"282.5\" y=\"-161.4\" font-family=\"Times,serif\" font-size=\"12.00\">0:DatasetReader</text>\n<polyline fill=\"none\" stroke=\"black\" points=\"341.5,-146.5 341.5,-182.5 \"/>\n<text text-anchor=\"middle\" x=\"354.5\" y=\"-161.4\" font-family=\"Times,serif\" font-size=\"12.00\">[]</text>\n</g>\n<!-- 1 -->\n<g id=\"node2\" class=\"node\">\n<title>1</title>\n<polygon fill=\"none\" stroke=\"black\" points=\"143,-73.5 143,-109.5 448,-109.5 448,-73.5 143,-73.5\"/>\n<text text-anchor=\"middle\" x=\"193.5\" y=\"-88.4\" font-family=\"Times,serif\" font-size=\"12.00\">1:JsonlReader</text>\n<polyline fill=\"none\" stroke=\"black\" points=\"244,-73.5 244,-109.5 \"/>\n<text text-anchor=\"middle\" x=\"346\" y=\"-88.4\" font-family=\"Times,serif\" font-size=\"12.00\">[&#39;input_dir: /content/test_data/&#39;]</text>\n</g>\n<!-- 0&#45;&gt;1 -->\n<g id=\"edge1\" class=\"edge\">\n<title>0&#45;&gt;1</title>\n<path fill=\"none\" stroke=\"black\" d=\"M295.5,-146.31C295.5,-138.29 295.5,-128.55 295.5,-119.57\"/>\n<polygon fill=\"black\" stroke=\"black\" points=\"299,-119.53 295.5,-109.53 292,-119.53 299,-119.53\"/>\n</g>\n<!-- 2 -->\n<g id=\"node3\" class=\"node\">\n<title>2</title>\n<polygon fill=\"none\" stroke=\"black\" points=\"0,-0.5 0,-36.5 591,-36.5 591,-0.5 0,-0.5\"/>\n<text text-anchor=\"middle\" x=\"67\" y=\"-15.4\" font-family=\"Times,serif\" font-size=\"12.00\">2:FuzzyDeduplicate</text>\n<polyline fill=\"none\" stroke=\"black\" points=\"134,-0.5 134,-36.5 \"/>\n<text text-anchor=\"middle\" x=\"362.5\" y=\"-15.4\" font-family=\"Times,serif\" font-size=\"12.00\">[&#39;text_key: text&#39;, &#39;num_perm: 256&#39;, &#39;ngram_size: 3&#39;, &#39;bands: 9&#39;, &#39;ranges: 13&#39;]</text>\n</g>\n<!-- 1&#45;&gt;2 -->\n<g id=\"edge2\" class=\"edge\">\n<title>1&#45;&gt;2</title>\n<path fill=\"none\" stroke=\"black\" d=\"M295.5,-73.31C295.5,-65.29 295.5,-55.55 295.5,-46.57\"/>\n<polygon fill=\"black\" stroke=\"black\" points=\"299,-46.53 295.5,-36.53 292,-46.53 299,-46.53\"/>\n</g>\n</g>\n</svg>\n",
            "text/plain": [
              "<graphviz.graphs.Digraph at 0x7b7accfa2290>"
            ]
          },
          "metadata": {},
          "execution_count": 4
        }
      ]
    },
    {
      "cell_type": "code",
      "source": [
        "ret = pipeline.execute()"
      ],
      "metadata": {
        "id": "EXfTz8zfEwJX",
        "outputId": "4ffa2443-9793-4571-8c3b-e5235ea37355",
        "colab": {
          "base_uri": "https://localhost:8080/"
        }
      },
      "id": "EXfTz8zfEwJX",
      "execution_count": 5,
      "outputs": [
        {
          "output_type": "stream",
          "name": "stdout",
          "text": [
            "[DatasetReader, GlobalJsonlReader, FuzzyDeduplicateGenDict, PerfileSourcedJsonlReader, FuzzyDeduplicateApplyDict, PerfileParquetWriter]\n",
            "Will assign 1 cores and 10386 M memory for spark\n",
            "per core memory size is 10.143 GB and shuffle_disk maximum capacity is 8589934592.000 GB\n",
            "execute with spark for global tasks started ...\n",
            "DatasetReader\n",
            "GlobalJsonlReader\n",
            "FuzzyDeduplicateGenDict\n",
            "statistics_decorator spark\n",
            "num_bands is 9, ranges is 13\n",
            "generate minHashLsh started ...\n",
            "  generate minHashLsh took 90.57044342200004 sec\n",
            "generate_connected_components => duplicates started ...\n"
          ]
        },
        {
          "output_type": "stream",
          "name": "stderr",
          "text": [
            "100%|██████████| 59/59 [00:00<00:00, 103758.46it/s]\n"
          ]
        },
        {
          "output_type": "stream",
          "name": "stdout",
          "text": [
            "  generate_connected_components => duplicates took 1.0796118470000238 sec\n",
            "\u001b[32m2023-10-31 21:10:58.437\u001b[0m | \u001b[1mINFO    \u001b[0m | \u001b[36mpyrecdp.LLM.TextPipeline\u001b[0m:\u001b[36mexecute\u001b[0m:\u001b[36m361\u001b[0m - \u001b[1mDatasetReader: A total of 0 rows of data were processed, using 0 seconds, with 0 rows modified or removed, 0 rows of data remaining.\u001b[0m\n",
            "\u001b[32m2023-10-31 21:10:58.448\u001b[0m | \u001b[1mINFO    \u001b[0m | \u001b[36mpyrecdp.LLM.TextPipeline\u001b[0m:\u001b[36mexecute\u001b[0m:\u001b[36m361\u001b[0m - \u001b[1mGlobalJsonlReader: A total of 0 rows of data were processed, using 0 seconds, with 0 rows modified or removed, 0 rows of data remaining.\u001b[0m\n",
            "\u001b[32m2023-10-31 21:10:58.473\u001b[0m | \u001b[1mINFO    \u001b[0m | \u001b[36mpyrecdp.LLM.TextPipeline\u001b[0m:\u001b[36mexecute\u001b[0m:\u001b[36m361\u001b[0m - \u001b[1mFuzzyDeduplicateGenDict: A total of 10467 rows of data were processed, using 100.11400151252747 seconds, A duplication list containing 52 found, Sampled, duplication preview:                           global_id  \\\n",
            "0    7@tiny_c4_sample_for_pii.jsonl   \n",
            "1          434@tiny_c4_sample.jsonl   \n",
            "2             9371@NIH_sample.jsonl   \n",
            "3             9825@NIH_sample.jsonl   \n",
            "4             1767@NIH_sample.jsonl   \n",
            "5             1761@NIH_sample.jsonl   \n",
            "6             1766@NIH_sample.jsonl   \n",
            "7             1765@NIH_sample.jsonl   \n",
            "8             1769@NIH_sample.jsonl   \n",
            "9             1763@NIH_sample.jsonl   \n",
            "10            1768@NIH_sample.jsonl   \n",
            "11            2059@NIH_sample.jsonl   \n",
            "12            1764@NIH_sample.jsonl   \n",
            "13         320@tiny_c4_sample.jsonl   \n",
            "14         201@tiny_c4_sample.jsonl   \n",
            "15          19@tiny_c4_sample.jsonl   \n",
            "16            1202@NIH_sample.jsonl   \n",
            "17            1203@NIH_sample.jsonl   \n",
            "18            1201@NIH_sample.jsonl   \n",
            "19            2472@NIH_sample.jsonl   \n",
            "20            2464@NIH_sample.jsonl   \n",
            "21   5@tiny_c4_sample_for_pii.jsonl   \n",
            "22         432@tiny_c4_sample.jsonl   \n",
            "23            2216@NIH_sample.jsonl   \n",
            "24            5330@NIH_sample.jsonl   \n",
            "25            2215@NIH_sample.jsonl   \n",
            "26            5328@NIH_sample.jsonl   \n",
            "27            5329@NIH_sample.jsonl   \n",
            "28  11@tiny_c4_sample_for_pii.jsonl   \n",
            "29         440@tiny_c4_sample.jsonl   \n",
            "30  13@tiny_c4_sample_for_pii.jsonl   \n",
            "31         442@tiny_c4_sample.jsonl   \n",
            "32   4@tiny_c4_sample_for_pii.jsonl   \n",
            "33         431@tiny_c4_sample.jsonl   \n",
            "34  10@tiny_c4_sample_for_pii.jsonl   \n",
            "35         439@tiny_c4_sample.jsonl   \n",
            "36            9928@NIH_sample.jsonl   \n",
            "37            9929@NIH_sample.jsonl   \n",
            "38            8560@NIH_sample.jsonl   \n",
            "39            9025@NIH_sample.jsonl   \n",
            "40            1365@NIH_sample.jsonl   \n",
            "41            1364@NIH_sample.jsonl   \n",
            "42            1366@NIH_sample.jsonl   \n",
            "43            1367@NIH_sample.jsonl   \n",
            "44            9571@NIH_sample.jsonl   \n",
            "45            9570@NIH_sample.jsonl   \n",
            "46   6@tiny_c4_sample_for_pii.jsonl   \n",
            "47         433@tiny_c4_sample.jsonl   \n",
            "48          85@tiny_c4_sample.jsonl   \n",
            "49         404@tiny_c4_sample.jsonl   \n",
            "\n",
            "                                                 text  dup_grpid  \n",
            "0   Ion Coatings can handle jobs of every size.\\nI...          0  \n",
            "1   Ion Coatings can handle jobs of every size.\\nI...          0  \n",
            "2   Rates of drug abuse in the United States vary ...          1  \n",
            "3   Rates of drug abuse in the United States vary ...          1  \n",
            "4   The overall aim of this study is to test the \"...          2  \n",
            "5   APPLICANT'S ABSTRACT: The overall aim of this ...          2  \n",
            "6   The overall aim of the study is to test the \"m...          2  \n",
            "7   The overall aim of this study is to test the '...          2  \n",
            "8   The overall aim of study is to test the \"match...          2  \n",
            "9   The overall aim of this study is to test the \"...          2  \n",
            "10  The overall aim of study is to test the \"match...          2  \n",
            "11  APPLICANT'S ABSTRACT: The overall aim of this ...          2  \n",
            "12  The overall aim of study is to test the \"match...          2  \n",
            "13  After tipping 25 tokens in a day, you'll be ab...          3  \n",
            "14  After tipping 25 tokens in a day, you'll be ab...          3  \n",
            "15  After tipping 25 tokens in a day, you'll be ab...          3  \n",
            "16  The Child and Adolescent Trial for Cardiovascu...          4  \n",
            "17  The Child and Adolescent Trial for Cardiovascu...          4  \n",
            "18  The Child and Adolescent Trial for Cardiovascu...          4  \n",
            "19  A substantial proportion (probably 30-40%) of ...          5  \n",
            "20  A substantial proportion (probably 30-40%) of ...          5  \n",
            "21  POLL: Is The SEC A Better Football Conference ...          6  \n",
            "22  POLL: Is The SEC A Better Football Conference ...          6  \n",
            "23  The Study of Osteoporotic Fractures (SOF) is a...          7  \n",
            "24  The Study of Osteoporotic Fractures (SOF) is a...          7  \n",
            "25  The Study of Osteoporotic Fractures (SOF) is a...          7  \n",
            "26  The Study of Osteoporotic Fractures (SOF) is a...          7  \n",
            "27  The Study of Osteoporotic Fractures (SOF) is a...          7  \n",
            "28  Let Others Rate Your Stiffy!!\\nYou must be 18 ...          8  \n",
            "29  Let Others Rate Your Stiffy!!\\nYou must be 18 ...          8  \n",
            "30  I really love kaladab palal and i really miss ...          9  \n",
            "31  I really love kaladab palal and i really miss ...          9  \n",
            "32  SCRAPPY is a super squishy silicone cockring t...         10  \n",
            "33  SCRAPPY is a super squishy silicone cockring t...         10  \n",
            "34  Who were the first two guys in the scene. The ...         11  \n",
            "35  Who were the first two guys in the scene. The ...         11  \n",
            "36  Measurement devices that provide immunological...         12  \n",
            "37  Measurement devices that provide immunological...         12  \n",
            "38  The Annual San Antonio Breast Cancer Symposium...         13  \n",
            "39  The Annual San Antonio Breast Cancer Symposium...         13  \n",
            "40  This Competing Continuation Application reques...         14  \n",
            "41  This Competing Continuation Application reques...         14  \n",
            "42  This Competing Continuation Application reques...         14  \n",
            "43  This Competing Continuation Application reques...         14  \n",
            "44  The Jersey City AIDS Community Outreach Projec...         15  \n",
            "45  The Newark AIDS Community Outreach Project is ...         15  \n",
            "46  Detailed racked bimbo Kagney Linn Karter is a ...         16  \n",
            "47  Detailed racked bimbo Kagney Linn Karter is a ...         16  \n",
            "48  I&#39m ready to guess you almost certainly hav...         17  \n",
            "49  I&#39m ready to guess you almost certainly hav...         17  \u001b[0m\n",
            "execute with spark for global tasks took 113.58866902099999 sec\n",
            "PerfileSourcedJsonlReader\n"
          ]
        },
        {
          "output_type": "stream",
          "name": "stderr",
          "text": [
            "ResumableTextPipeline, current on tiny_c4_sample_for_pii.jsonl:   0%|          | 0/3 [00:00<?, ?it/s]"
          ]
        },
        {
          "output_type": "stream",
          "name": "stdout",
          "text": [
            "tiny_c4_sample_for_pii.jsonl\n",
            "FuzzyDeduplicateApplyDict\n",
            "statistics_decorator spark\n",
            "\u001b[32m2023-10-31 21:11:02.726\u001b[0m | \u001b[1mINFO    \u001b[0m | \u001b[36mpyrecdp.LLM.TextPipeline\u001b[0m:\u001b[36mexecute\u001b[0m:\u001b[36m400\u001b[0m - \u001b[1mFuzzyDeduplicateApplyDict: A total of 18 rows of data were processed, using 1.067012071609497 seconds, with 7 rows modified or removed, 11 rows of data remaining.\u001b[0m\n",
            "\u001b[32m2023-10-31 21:11:02.737\u001b[0m | \u001b[1mINFO    \u001b[0m | \u001b[36mpyrecdp.LLM.TextPipeline\u001b[0m:\u001b[36mexecute\u001b[0m:\u001b[36m400\u001b[0m - \u001b[1mPerfileParquetWriter: A total of 0 rows of data were processed, using 0 seconds, with 0 rows modified or removed, 0 rows of data remaining.\u001b[0m\n"
          ]
        },
        {
          "output_type": "stream",
          "name": "stderr",
          "text": [
            "ResumableTextPipeline, current on tiny_c4_sample.jsonl:  33%|███▎      | 1/3 [00:03<00:07,  3.68s/it]        "
          ]
        },
        {
          "output_type": "stream",
          "name": "stdout",
          "text": [
            "tiny_c4_sample.jsonl\n",
            "FuzzyDeduplicateApplyDict\n",
            "statistics_decorator spark\n",
            "\u001b[32m2023-10-31 21:11:03.783\u001b[0m | \u001b[1mINFO    \u001b[0m | \u001b[36mpyrecdp.LLM.TextPipeline\u001b[0m:\u001b[36mexecute\u001b[0m:\u001b[36m400\u001b[0m - \u001b[1mFuzzyDeduplicateApplyDict: A total of 467 rows of data were processed, using 1.6002342700958252 seconds, with 20 rows modified or removed, 447 rows of data remaining.\u001b[0m\n",
            "\u001b[32m2023-10-31 21:11:03.786\u001b[0m | \u001b[1mINFO    \u001b[0m | \u001b[36mpyrecdp.LLM.TextPipeline\u001b[0m:\u001b[36mexecute\u001b[0m:\u001b[36m400\u001b[0m - \u001b[1mPerfileParquetWriter: A total of 0 rows of data were processed, using 0 seconds, with 0 rows modified or removed, 0 rows of data remaining.\u001b[0m\n"
          ]
        },
        {
          "output_type": "stream",
          "name": "stderr",
          "text": [
            "ResumableTextPipeline, current on NIH_sample.jsonl:  67%|██████▋   | 2/3 [00:04<00:02,  2.13s/it]    "
          ]
        },
        {
          "output_type": "stream",
          "name": "stdout",
          "text": [
            "NIH_sample.jsonl\n",
            "FuzzyDeduplicateApplyDict\n",
            "statistics_decorator spark\n",
            "\u001b[32m2023-10-31 21:11:05.894\u001b[0m | \u001b[1mINFO    \u001b[0m | \u001b[36mpyrecdp.LLM.TextPipeline\u001b[0m:\u001b[36mexecute\u001b[0m:\u001b[36m400\u001b[0m - \u001b[1mFuzzyDeduplicateApplyDict: A total of 10467 rows of data were processed, using 3.0440986156463623 seconds, with 52 rows modified or removed, 10415 rows of data remaining.\u001b[0m\n",
            "\u001b[32m2023-10-31 21:11:05.906\u001b[0m | \u001b[1mINFO    \u001b[0m | \u001b[36mpyrecdp.LLM.TextPipeline\u001b[0m:\u001b[36mexecute\u001b[0m:\u001b[36m400\u001b[0m - \u001b[1mPerfileParquetWriter: A total of 0 rows of data were processed, using 0 seconds, with 0 rows modified or removed, 0 rows of data remaining.\u001b[0m\n"
          ]
        },
        {
          "output_type": "stream",
          "name": "stderr",
          "text": [
            "ResumableTextPipeline, current on NIH_sample.jsonl: 100%|██████████| 3/3 [00:06<00:00,  2.29s/it]"
          ]
        },
        {
          "output_type": "stream",
          "name": "stdout",
          "text": [
            "\u001b[32m2023-10-31 21:11:05.917\u001b[0m | \u001b[1mINFO    \u001b[0m | \u001b[36mpyrecdp.LLM.TextPipeline\u001b[0m:\u001b[36mexecute\u001b[0m:\u001b[36m405\u001b[0m - \u001b[1mCompleted! ResumableTextPipeline will not return dataset, please check ResumableTextPipeline_output_20231031210859 for verification.\u001b[0m\n"
          ]
        },
        {
          "output_type": "stream",
          "name": "stderr",
          "text": [
            "\n"
          ]
        }
      ]
    },
    {
      "cell_type": "code",
      "source": [
        "pipeline.plot()"
      ],
      "metadata": {
        "id": "GmVjS5iJf-9v",
        "outputId": "8383907b-d207-4c49-db59-047a0fc4bc75",
        "colab": {
          "base_uri": "https://localhost:8080/",
          "height": 568
        }
      },
      "id": "GmVjS5iJf-9v",
      "execution_count": 6,
      "outputs": [
        {
          "output_type": "execute_result",
          "data": {
            "image/svg+xml": "<?xml version=\"1.0\" encoding=\"UTF-8\" standalone=\"no\"?>\n<!DOCTYPE svg PUBLIC \"-//W3C//DTD SVG 1.1//EN\"\n \"http://www.w3.org/Graphics/SVG/1.1/DTD/svg11.dtd\">\n<!-- Generated by graphviz version 2.43.0 (0)\n -->\n<!-- Title: %3 Pages: 1 -->\n<svg width=\"659pt\" height=\"410pt\"\n viewBox=\"0.00 0.00 659.00 410.00\" xmlns=\"http://www.w3.org/2000/svg\" xmlns:xlink=\"http://www.w3.org/1999/xlink\">\n<g id=\"graph0\" class=\"graph\" transform=\"scale(1 1) rotate(0) translate(4 406)\">\n<title>%3</title>\n<polygon fill=\"white\" stroke=\"transparent\" points=\"-4,4 -4,-406 655,-406 655,4 -4,4\"/>\n<!-- 0 -->\n<g id=\"node1\" class=\"node\">\n<title>0</title>\n<polygon fill=\"none\" stroke=\"black\" points=\"253.5,-365.5 253.5,-401.5 397.5,-401.5 397.5,-365.5 253.5,-365.5\"/>\n<text text-anchor=\"middle\" x=\"312.5\" y=\"-380.4\" font-family=\"Times,serif\" font-size=\"12.00\">0:DatasetReader</text>\n<polyline fill=\"none\" stroke=\"black\" points=\"371.5,-365.5 371.5,-401.5 \"/>\n<text text-anchor=\"middle\" x=\"384.5\" y=\"-380.4\" font-family=\"Times,serif\" font-size=\"12.00\">[]</text>\n</g>\n<!-- 3 -->\n<g id=\"node4\" class=\"node\">\n<title>3</title>\n<polygon fill=\"none\" stroke=\"black\" points=\"102,-292.5 102,-328.5 549,-328.5 549,-292.5 102,-292.5\"/>\n<text text-anchor=\"middle\" x=\"172\" y=\"-307.4\" font-family=\"Times,serif\" font-size=\"12.00\">3:GlobalJsonlReader</text>\n<polyline fill=\"none\" stroke=\"black\" points=\"242,-292.5 242,-328.5 \"/>\n<text text-anchor=\"middle\" x=\"395.5\" y=\"-307.4\" font-family=\"Times,serif\" font-size=\"12.00\">[&#39;input_dir: /content/test_data/&#39;, &#39;source_prefix: &#39;]</text>\n</g>\n<!-- 0&#45;&gt;3 -->\n<g id=\"edge4\" class=\"edge\">\n<title>0&#45;&gt;3</title>\n<path fill=\"none\" stroke=\"black\" d=\"M325.5,-365.31C325.5,-357.29 325.5,-347.55 325.5,-338.57\"/>\n<polygon fill=\"black\" stroke=\"black\" points=\"329,-338.53 325.5,-328.53 322,-338.53 329,-338.53\"/>\n</g>\n<!-- 1 -->\n<g id=\"node2\" class=\"node\">\n<title>1</title>\n<polygon fill=\"none\" stroke=\"black\" points=\"16.5,-146.5 16.5,-182.5 410.5,-182.5 410.5,-146.5 16.5,-146.5\"/>\n<text text-anchor=\"middle\" x=\"111.5\" y=\"-161.4\" font-family=\"Times,serif\" font-size=\"12.00\">1:PerfileSourcedJsonlReader</text>\n<polyline fill=\"none\" stroke=\"black\" points=\"206.5,-146.5 206.5,-182.5 \"/>\n<text text-anchor=\"middle\" x=\"308.5\" y=\"-161.4\" font-family=\"Times,serif\" font-size=\"12.00\">[&#39;input_dir: /content/test_data/&#39;]</text>\n</g>\n<!-- 2 -->\n<g id=\"node3\" class=\"node\">\n<title>2</title>\n<polygon fill=\"none\" stroke=\"black\" points=\"0,-73.5 0,-109.5 651,-109.5 651,-73.5 0,-73.5\"/>\n<text text-anchor=\"middle\" x=\"97\" y=\"-88.4\" font-family=\"Times,serif\" font-size=\"12.00\">2:FuzzyDeduplicateApplyDict</text>\n<polyline fill=\"none\" stroke=\"black\" points=\"194,-73.5 194,-109.5 \"/>\n<text text-anchor=\"middle\" x=\"422.5\" y=\"-88.4\" font-family=\"Times,serif\" font-size=\"12.00\">[&#39;text_key: text&#39;, &#39;num_perm: 256&#39;, &#39;ngram_size: 3&#39;, &#39;bands: 9&#39;, &#39;ranges: 13&#39;]</text>\n</g>\n<!-- 1&#45;&gt;2 -->\n<g id=\"edge2\" class=\"edge\">\n<title>1&#45;&gt;2</title>\n<path fill=\"none\" stroke=\"black\" d=\"M240.33,-146.49C255.18,-137.08 273.83,-125.26 289.89,-115.07\"/>\n<polygon fill=\"black\" stroke=\"black\" points=\"291.93,-117.92 298.5,-109.61 288.18,-112.01 291.93,-117.92\"/>\n</g>\n<!-- 5 -->\n<g id=\"node6\" class=\"node\">\n<title>5</title>\n<polygon fill=\"none\" stroke=\"black\" points=\"51,-0.5 51,-36.5 600,-36.5 600,-0.5 51,-0.5\"/>\n<text text-anchor=\"middle\" x=\"127.5\" y=\"-15.4\" font-family=\"Times,serif\" font-size=\"12.00\">5:PerfileParquetWriter</text>\n<polyline fill=\"none\" stroke=\"black\" points=\"204,-0.5 204,-36.5 \"/>\n<text text-anchor=\"middle\" x=\"402\" y=\"-15.4\" font-family=\"Times,serif\" font-size=\"12.00\">[&#39;output_dir: ResumableTextPipeline_output_20231031210859&#39;]</text>\n</g>\n<!-- 2&#45;&gt;5 -->\n<g id=\"edge6\" class=\"edge\">\n<title>2&#45;&gt;5</title>\n<path fill=\"none\" stroke=\"black\" d=\"M325.5,-73.31C325.5,-65.29 325.5,-55.55 325.5,-46.57\"/>\n<polygon fill=\"black\" stroke=\"black\" points=\"329,-46.53 325.5,-36.53 322,-46.53 329,-46.53\"/>\n</g>\n<!-- 4 -->\n<g id=\"node5\" class=\"node\">\n<title>4</title>\n<polygon fill=\"none\" stroke=\"black\" points=\"5.5,-219.5 5.5,-255.5 645.5,-255.5 645.5,-219.5 5.5,-219.5\"/>\n<text text-anchor=\"middle\" x=\"97\" y=\"-234.4\" font-family=\"Times,serif\" font-size=\"12.00\">4:FuzzyDeduplicateGenDict</text>\n<polyline fill=\"none\" stroke=\"black\" points=\"188.5,-219.5 188.5,-255.5 \"/>\n<text text-anchor=\"middle\" x=\"417\" y=\"-234.4\" font-family=\"Times,serif\" font-size=\"12.00\">[&#39;text_key: text&#39;, &#39;num_perm: 256&#39;, &#39;ngram_size: 3&#39;, &#39;bands: 9&#39;, &#39;ranges: 13&#39;]</text>\n</g>\n<!-- 3&#45;&gt;4 -->\n<g id=\"edge5\" class=\"edge\">\n<title>3&#45;&gt;4</title>\n<path fill=\"none\" stroke=\"black\" d=\"M325.5,-292.31C325.5,-284.29 325.5,-274.55 325.5,-265.57\"/>\n<polygon fill=\"black\" stroke=\"black\" points=\"329,-265.53 325.5,-255.53 322,-265.53 329,-265.53\"/>\n</g>\n<!-- 4&#45;&gt;1 -->\n<g id=\"edge1\" class=\"edge\">\n<title>4&#45;&gt;1</title>\n<path fill=\"none\" stroke=\"black\" d=\"M298.67,-219.49C283.82,-210.08 265.17,-198.26 249.11,-188.07\"/>\n<polygon fill=\"black\" stroke=\"black\" points=\"250.82,-185.01 240.5,-182.61 247.07,-190.92 250.82,-185.01\"/>\n</g>\n<!-- 4&#45;&gt;2 -->\n<g id=\"edge3\" class=\"edge\">\n<title>4&#45;&gt;2</title>\n<path fill=\"none\" stroke=\"black\" d=\"M376.67,-219.44C393.32,-211.18 409.97,-199.4 419.5,-183 427.77,-168.78 427.77,-160.22 419.5,-146 411.68,-132.55 399.08,-122.2 385.6,-114.36\"/>\n<polygon fill=\"black\" stroke=\"black\" points=\"387.13,-111.21 376.67,-109.56 383.82,-117.37 387.13,-111.21\"/>\n</g>\n</g>\n</svg>\n",
            "text/plain": [
              "<graphviz.graphs.Digraph at 0x7b7acc183880>"
            ]
          },
          "metadata": {},
          "execution_count": 6
        }
      ]
    },
    {
      "cell_type": "code",
      "source": [
        "del pipeline"
      ],
      "metadata": {
        "id": "k9dSq5SMhndd"
      },
      "id": "k9dSq5SMhndd",
      "execution_count": 7,
      "outputs": []
    }
  ],
  "metadata": {
    "kernelspec": {
      "display_name": "Python 3 (ipykernel)",
      "language": "python",
      "name": "python3"
    },
    "language_info": {
      "codemirror_mode": {
        "name": "ipython",
        "version": 3
      },
      "file_extension": ".py",
      "mimetype": "text/x-python",
      "name": "python",
      "nbconvert_exporter": "python",
      "pygments_lexer": "ipython3",
      "version": "3.10.12"
    },
    "colab": {
      "provenance": []
    },
    "widgets": {
      "application/vnd.jupyter.widget-state+json": {
        "c4e98c4f3e8541899806859920a6bdd6": {
          "model_module": "@jupyter-widgets/controls",
          "model_name": "HBoxModel",
          "model_module_version": "1.5.0",
          "state": {
            "_dom_classes": [],
            "_model_module": "@jupyter-widgets/controls",
            "_model_module_version": "1.5.0",
            "_model_name": "HBoxModel",
            "_view_count": null,
            "_view_module": "@jupyter-widgets/controls",
            "_view_module_version": "1.5.0",
            "_view_name": "HBoxView",
            "box_style": "",
            "children": [
              "IPY_MODEL_3d416bcec2f44a719d6f5fb6742292cc",
              "IPY_MODEL_0785fa595356477fb2cfa6a90c7f01e0",
              "IPY_MODEL_d0b92dcabaf34a918d1abe4748c1d906"
            ],
            "layout": "IPY_MODEL_a2741048c0e74c92b0e85bba2c7f4a3e"
          }
        },
        "3d416bcec2f44a719d6f5fb6742292cc": {
          "model_module": "@jupyter-widgets/controls",
          "model_name": "HTMLModel",
          "model_module_version": "1.5.0",
          "state": {
            "_dom_classes": [],
            "_model_module": "@jupyter-widgets/controls",
            "_model_module_version": "1.5.0",
            "_model_name": "HTMLModel",
            "_view_count": null,
            "_view_module": "@jupyter-widgets/controls",
            "_view_module_version": "1.5.0",
            "_view_name": "HTMLView",
            "description": "",
            "description_tooltip": null,
            "layout": "IPY_MODEL_646ce9557dce49508453134ab10eab67",
            "placeholder": "​",
            "style": "IPY_MODEL_da9d53a0c10544a29f3d97bfdd24186b",
            "value": ""
          }
        },
        "0785fa595356477fb2cfa6a90c7f01e0": {
          "model_module": "@jupyter-widgets/controls",
          "model_name": "FloatProgressModel",
          "model_module_version": "1.5.0",
          "state": {
            "_dom_classes": [],
            "_model_module": "@jupyter-widgets/controls",
            "_model_module_version": "1.5.0",
            "_model_name": "FloatProgressModel",
            "_view_count": null,
            "_view_module": "@jupyter-widgets/controls",
            "_view_module_version": "1.5.0",
            "_view_name": "ProgressView",
            "bar_style": "success",
            "description": "",
            "description_tooltip": null,
            "layout": "IPY_MODEL_1777447dba914306bf08760c6cba1671",
            "max": 1,
            "min": 0,
            "orientation": "horizontal",
            "style": "IPY_MODEL_23f76880ba79404b80720d5ddf7a3d67",
            "value": 0
          }
        },
        "d0b92dcabaf34a918d1abe4748c1d906": {
          "model_module": "@jupyter-widgets/controls",
          "model_name": "HTMLModel",
          "model_module_version": "1.5.0",
          "state": {
            "_dom_classes": [],
            "_model_module": "@jupyter-widgets/controls",
            "_model_module_version": "1.5.0",
            "_model_name": "HTMLModel",
            "_view_count": null,
            "_view_module": "@jupyter-widgets/controls",
            "_view_module_version": "1.5.0",
            "_view_name": "HTMLView",
            "description": "",
            "description_tooltip": null,
            "layout": "IPY_MODEL_2e90a2eb0a6343abb349a1751d1c942b",
            "placeholder": "​",
            "style": "IPY_MODEL_50e7c60c9d474c64a62cda0344fef6aa",
            "value": " 0/0 [00:00&lt;?, ?it/s]"
          }
        },
        "a2741048c0e74c92b0e85bba2c7f4a3e": {
          "model_module": "@jupyter-widgets/base",
          "model_name": "LayoutModel",
          "model_module_version": "1.2.0",
          "state": {
            "_model_module": "@jupyter-widgets/base",
            "_model_module_version": "1.2.0",
            "_model_name": "LayoutModel",
            "_view_count": null,
            "_view_module": "@jupyter-widgets/base",
            "_view_module_version": "1.2.0",
            "_view_name": "LayoutView",
            "align_content": null,
            "align_items": null,
            "align_self": null,
            "border": null,
            "bottom": null,
            "display": null,
            "flex": null,
            "flex_flow": null,
            "grid_area": null,
            "grid_auto_columns": null,
            "grid_auto_flow": null,
            "grid_auto_rows": null,
            "grid_column": null,
            "grid_gap": null,
            "grid_row": null,
            "grid_template_areas": null,
            "grid_template_columns": null,
            "grid_template_rows": null,
            "height": null,
            "justify_content": null,
            "justify_items": null,
            "left": null,
            "margin": null,
            "max_height": null,
            "max_width": null,
            "min_height": null,
            "min_width": null,
            "object_fit": null,
            "object_position": null,
            "order": null,
            "overflow": null,
            "overflow_x": null,
            "overflow_y": null,
            "padding": null,
            "right": null,
            "top": null,
            "visibility": null,
            "width": null
          }
        },
        "646ce9557dce49508453134ab10eab67": {
          "model_module": "@jupyter-widgets/base",
          "model_name": "LayoutModel",
          "model_module_version": "1.2.0",
          "state": {
            "_model_module": "@jupyter-widgets/base",
            "_model_module_version": "1.2.0",
            "_model_name": "LayoutModel",
            "_view_count": null,
            "_view_module": "@jupyter-widgets/base",
            "_view_module_version": "1.2.0",
            "_view_name": "LayoutView",
            "align_content": null,
            "align_items": null,
            "align_self": null,
            "border": null,
            "bottom": null,
            "display": null,
            "flex": null,
            "flex_flow": null,
            "grid_area": null,
            "grid_auto_columns": null,
            "grid_auto_flow": null,
            "grid_auto_rows": null,
            "grid_column": null,
            "grid_gap": null,
            "grid_row": null,
            "grid_template_areas": null,
            "grid_template_columns": null,
            "grid_template_rows": null,
            "height": null,
            "justify_content": null,
            "justify_items": null,
            "left": null,
            "margin": null,
            "max_height": null,
            "max_width": null,
            "min_height": null,
            "min_width": null,
            "object_fit": null,
            "object_position": null,
            "order": null,
            "overflow": null,
            "overflow_x": null,
            "overflow_y": null,
            "padding": null,
            "right": null,
            "top": null,
            "visibility": null,
            "width": null
          }
        },
        "da9d53a0c10544a29f3d97bfdd24186b": {
          "model_module": "@jupyter-widgets/controls",
          "model_name": "DescriptionStyleModel",
          "model_module_version": "1.5.0",
          "state": {
            "_model_module": "@jupyter-widgets/controls",
            "_model_module_version": "1.5.0",
            "_model_name": "DescriptionStyleModel",
            "_view_count": null,
            "_view_module": "@jupyter-widgets/base",
            "_view_module_version": "1.2.0",
            "_view_name": "StyleView",
            "description_width": ""
          }
        },
        "1777447dba914306bf08760c6cba1671": {
          "model_module": "@jupyter-widgets/base",
          "model_name": "LayoutModel",
          "model_module_version": "1.2.0",
          "state": {
            "_model_module": "@jupyter-widgets/base",
            "_model_module_version": "1.2.0",
            "_model_name": "LayoutModel",
            "_view_count": null,
            "_view_module": "@jupyter-widgets/base",
            "_view_module_version": "1.2.0",
            "_view_name": "LayoutView",
            "align_content": null,
            "align_items": null,
            "align_self": null,
            "border": null,
            "bottom": null,
            "display": null,
            "flex": null,
            "flex_flow": null,
            "grid_area": null,
            "grid_auto_columns": null,
            "grid_auto_flow": null,
            "grid_auto_rows": null,
            "grid_column": null,
            "grid_gap": null,
            "grid_row": null,
            "grid_template_areas": null,
            "grid_template_columns": null,
            "grid_template_rows": null,
            "height": null,
            "justify_content": null,
            "justify_items": null,
            "left": null,
            "margin": null,
            "max_height": null,
            "max_width": null,
            "min_height": null,
            "min_width": null,
            "object_fit": null,
            "object_position": null,
            "order": null,
            "overflow": null,
            "overflow_x": null,
            "overflow_y": null,
            "padding": null,
            "right": null,
            "top": null,
            "visibility": null,
            "width": "20px"
          }
        },
        "23f76880ba79404b80720d5ddf7a3d67": {
          "model_module": "@jupyter-widgets/controls",
          "model_name": "ProgressStyleModel",
          "model_module_version": "1.5.0",
          "state": {
            "_model_module": "@jupyter-widgets/controls",
            "_model_module_version": "1.5.0",
            "_model_name": "ProgressStyleModel",
            "_view_count": null,
            "_view_module": "@jupyter-widgets/base",
            "_view_module_version": "1.2.0",
            "_view_name": "StyleView",
            "bar_color": null,
            "description_width": ""
          }
        },
        "2e90a2eb0a6343abb349a1751d1c942b": {
          "model_module": "@jupyter-widgets/base",
          "model_name": "LayoutModel",
          "model_module_version": "1.2.0",
          "state": {
            "_model_module": "@jupyter-widgets/base",
            "_model_module_version": "1.2.0",
            "_model_name": "LayoutModel",
            "_view_count": null,
            "_view_module": "@jupyter-widgets/base",
            "_view_module_version": "1.2.0",
            "_view_name": "LayoutView",
            "align_content": null,
            "align_items": null,
            "align_self": null,
            "border": null,
            "bottom": null,
            "display": null,
            "flex": null,
            "flex_flow": null,
            "grid_area": null,
            "grid_auto_columns": null,
            "grid_auto_flow": null,
            "grid_auto_rows": null,
            "grid_column": null,
            "grid_gap": null,
            "grid_row": null,
            "grid_template_areas": null,
            "grid_template_columns": null,
            "grid_template_rows": null,
            "height": null,
            "justify_content": null,
            "justify_items": null,
            "left": null,
            "margin": null,
            "max_height": null,
            "max_width": null,
            "min_height": null,
            "min_width": null,
            "object_fit": null,
            "object_position": null,
            "order": null,
            "overflow": null,
            "overflow_x": null,
            "overflow_y": null,
            "padding": null,
            "right": null,
            "top": null,
            "visibility": null,
            "width": null
          }
        },
        "50e7c60c9d474c64a62cda0344fef6aa": {
          "model_module": "@jupyter-widgets/controls",
          "model_name": "DescriptionStyleModel",
          "model_module_version": "1.5.0",
          "state": {
            "_model_module": "@jupyter-widgets/controls",
            "_model_module_version": "1.5.0",
            "_model_name": "DescriptionStyleModel",
            "_view_count": null,
            "_view_module": "@jupyter-widgets/base",
            "_view_module_version": "1.2.0",
            "_view_name": "StyleView",
            "description_width": ""
          }
        }
      }
    }
  },
  "nbformat": 4,
  "nbformat_minor": 5
}