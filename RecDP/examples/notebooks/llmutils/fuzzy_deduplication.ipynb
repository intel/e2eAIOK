{
  "cells": [
    {
      "cell_type": "markdown",
      "source": [
        "# RecDP LLM - fuzzy deduplication\n",
        "\n",
        "Near Dedup is to Detect duplicated documents and output as a duplicates list.\n",
        "\n",
        "* Step 1. We use DataSketch minHash as the base algorithm to calculate (hash, band_id) pair for each documents.\n",
        "\n",
        "* Step 2. We use Spark and SlimPajama connected component detect documents who sharing the same (hash, band_id) pair.\n",
        "\n",
        "* Step 3(Optional). We apply the duplication list to original file to elimate duplicated documents.\n",
        "\n",
        "\n",
        "### use case:\n",
        "* Expect Input format: a folder of *.jsonl.\n",
        "* Expect Output format: a folder of *.jsonl after reduction.\n"
      ],
      "metadata": {
        "id": "NUdnJWOJLGvF"
      },
      "id": "NUdnJWOJLGvF"
    },
    {
      "cell_type": "markdown",
      "source": [
        "# Get started"
      ],
      "metadata": {
        "id": "C1FFwhr3MwA1"
      },
      "id": "C1FFwhr3MwA1"
    },
    {
      "cell_type": "markdown",
      "source": [
        "## Install pyrecdp and dependencies"
      ],
      "metadata": {
        "id": "tMaSNIKIMz3T"
      },
      "id": "tMaSNIKIMz3T"
    },
    {
      "cell_type": "code",
      "source": [
        "! DEBIAN_FRONTEND=noninteractive apt-get install -y openjdk-8-jre\n",
        "! pip install pyrecdp --pre\n",
        "# ! pip install 'git+https://github.com/intel/e2eAIOK.git#egg=pyrecdp&subdirectory=RecDP'"
      ],
      "metadata": {
        "id": "ro4yOk5IMvRY"
      },
      "id": "ro4yOk5IMvRY",
      "execution_count": null,
      "outputs": []
    },
    {
      "cell_type": "markdown",
      "source": [
        "## 2. prepare your own data"
      ],
      "metadata": {
        "id": "pnHK2VTvM5rg"
      },
      "id": "pnHK2VTvM5rg"
    },
    {
      "cell_type": "code",
      "execution_count": 2,
      "id": "736fb211-dbe6-4ca9-a1b1-db2cff2d287a",
      "metadata": {
        "id": "736fb211-dbe6-4ca9-a1b1-db2cff2d287a",
        "outputId": "5586df15-4a64-4f58-ca5e-b072cd1c42f1",
        "colab": {
          "base_uri": "https://localhost:8080/"
        }
      },
      "outputs": [
        {
          "output_type": "stream",
          "name": "stdout",
          "text": [
            "/content/test_data\n",
            "--2023-10-11 18:43:44--  https://raw.githubusercontent.com/intel/e2eAIOK/main/RecDP/tests/data/PILE/NIH_sample.jsonl\n",
            "Resolving raw.githubusercontent.com (raw.githubusercontent.com)... 185.199.108.133, 185.199.109.133, 185.199.110.133, ...\n",
            "Connecting to raw.githubusercontent.com (raw.githubusercontent.com)|185.199.108.133|:443... connected.\n",
            "HTTP request sent, awaiting response... 200 OK\n",
            "Length: 21626664 (21M) [text/plain]\n",
            "Saving to: ‘/content/test_data/NIH_sample.jsonl’\n",
            "\n",
            "NIH_sample.jsonl    100%[===================>]  20.62M   111MB/s    in 0.2s    \n",
            "\n",
            "2023-10-11 18:43:45 (111 MB/s) - ‘/content/test_data/NIH_sample.jsonl’ saved [21626664/21626664]\n",
            "\n"
          ]
        }
      ],
      "source": [
        "%mkdir -p /content/test_data\n",
        "%cd /content/test_data\n",
        "file_names = ['NIH_sample.jsonl']\n",
        "file_list = [f\"https://raw.githubusercontent.com/intel/e2eAIOK/main/RecDP/tests/data/PILE/{i}\" for i in file_names]\n",
        "!wget -P /content/test_data {\" \".join(file_list)}"
      ]
    },
    {
      "cell_type": "markdown",
      "source": [
        "## 3. fuzzy deduplicate (seperate detection and reduction)"
      ],
      "metadata": {
        "id": "J-125gFtNyOg"
      },
      "id": "J-125gFtNyOg"
    },
    {
      "cell_type": "code",
      "source": [
        "! ls /content/test_data"
      ],
      "metadata": {
        "id": "vkGRn9uJN4B0",
        "outputId": "eca184d8-a0be-4ac4-d0b5-2d12d991cace",
        "colab": {
          "base_uri": "https://localhost:8080/"
        }
      },
      "id": "vkGRn9uJN4B0",
      "execution_count": 3,
      "outputs": [
        {
          "output_type": "stream",
          "name": "stdout",
          "text": [
            "NIH_sample.jsonl\n"
          ]
        }
      ]
    },
    {
      "cell_type": "markdown",
      "source": [
        "### 3.1 PIPELINE based API"
      ],
      "metadata": {
        "id": "OidKtF2hCNHd"
      },
      "id": "OidKtF2hCNHd"
    },
    {
      "cell_type": "code",
      "source": [
        "from pyrecdp.LLM import TextPipeline, ResumableTextPipeline\n",
        "from pyrecdp.primitives.operations import *\n",
        "\n",
        "pipeline = TextPipeline()\n",
        "ops = [\n",
        "    JsonlReader(\"/content/test_data/NIH_sample.jsonl\"),\n",
        "    FuzzyDeduplicate(text_key='text', num_perm = 256, ngram_size = 13, bands = 9, ranges = 13),\n",
        "]\n",
        "pipeline.add_operations(ops)\n",
        "pipeline.plot()"
      ],
      "metadata": {
        "id": "SMK9KcV4N7al",
        "outputId": "3275e936-25c4-4328-fc1e-8584a6fe2484",
        "colab": {
          "base_uri": "https://localhost:8080/",
          "height": 276
        }
      },
      "id": "SMK9KcV4N7al",
      "execution_count": 8,
      "outputs": [
        {
          "output_type": "execute_result",
          "data": {
            "image/svg+xml": "<?xml version=\"1.0\" encoding=\"UTF-8\" standalone=\"no\"?>\n<!DOCTYPE svg PUBLIC \"-//W3C//DTD SVG 1.1//EN\"\n \"http://www.w3.org/Graphics/SVG/1.1/DTD/svg11.dtd\">\n<!-- Generated by graphviz version 2.43.0 (0)\n -->\n<!-- Title: %3 Pages: 1 -->\n<svg width=\"599pt\" height=\"191pt\"\n viewBox=\"0.00 0.00 599.00 191.00\" xmlns=\"http://www.w3.org/2000/svg\" xmlns:xlink=\"http://www.w3.org/1999/xlink\">\n<g id=\"graph0\" class=\"graph\" transform=\"scale(1 1) rotate(0) translate(4 187)\">\n<title>%3</title>\n<polygon fill=\"white\" stroke=\"transparent\" points=\"-4,4 -4,-187 595,-187 595,4 -4,4\"/>\n<!-- 0 -->\n<g id=\"node1\" class=\"node\">\n<title>0</title>\n<polygon fill=\"none\" stroke=\"black\" points=\"223.5,-146.5 223.5,-182.5 367.5,-182.5 367.5,-146.5 223.5,-146.5\"/>\n<text text-anchor=\"middle\" x=\"282.5\" y=\"-161.4\" font-family=\"Times,serif\" font-size=\"12.00\">0:DatasetReader</text>\n<polyline fill=\"none\" stroke=\"black\" points=\"341.5,-146.5 341.5,-182.5 \"/>\n<text text-anchor=\"middle\" x=\"354.5\" y=\"-161.4\" font-family=\"Times,serif\" font-size=\"12.00\">[]</text>\n</g>\n<!-- 1 -->\n<g id=\"node2\" class=\"node\">\n<title>1</title>\n<polygon fill=\"none\" stroke=\"black\" points=\"89.5,-73.5 89.5,-109.5 501.5,-109.5 501.5,-73.5 89.5,-73.5\"/>\n<text text-anchor=\"middle\" x=\"140\" y=\"-88.4\" font-family=\"Times,serif\" font-size=\"12.00\">1:JsonlReader</text>\n<polyline fill=\"none\" stroke=\"black\" points=\"190.5,-73.5 190.5,-109.5 \"/>\n<text text-anchor=\"middle\" x=\"346\" y=\"-88.4\" font-family=\"Times,serif\" font-size=\"12.00\">[&#39;input_dir: /content/test_data/NIH_sample.jsonl&#39;]</text>\n</g>\n<!-- 0&#45;&gt;1 -->\n<g id=\"edge1\" class=\"edge\">\n<title>0&#45;&gt;1</title>\n<path fill=\"none\" stroke=\"black\" d=\"M295.5,-146.31C295.5,-138.29 295.5,-128.55 295.5,-119.57\"/>\n<polygon fill=\"black\" stroke=\"black\" points=\"299,-119.53 295.5,-109.53 292,-119.53 299,-119.53\"/>\n</g>\n<!-- 2 -->\n<g id=\"node3\" class=\"node\">\n<title>2</title>\n<polygon fill=\"none\" stroke=\"black\" points=\"0,-0.5 0,-36.5 591,-36.5 591,-0.5 0,-0.5\"/>\n<text text-anchor=\"middle\" x=\"67\" y=\"-15.4\" font-family=\"Times,serif\" font-size=\"12.00\">2:FuzzyDeduplicate</text>\n<polyline fill=\"none\" stroke=\"black\" points=\"134,-0.5 134,-36.5 \"/>\n<text text-anchor=\"middle\" x=\"362.5\" y=\"-15.4\" font-family=\"Times,serif\" font-size=\"12.00\">[&#39;text_key: text&#39;, &#39;num_perm: 256&#39;, &#39;ngram_size: 3&#39;, &#39;bands: 9&#39;, &#39;ranges: 13&#39;]</text>\n</g>\n<!-- 1&#45;&gt;2 -->\n<g id=\"edge2\" class=\"edge\">\n<title>1&#45;&gt;2</title>\n<path fill=\"none\" stroke=\"black\" d=\"M295.5,-73.31C295.5,-65.29 295.5,-55.55 295.5,-46.57\"/>\n<polygon fill=\"black\" stroke=\"black\" points=\"299,-46.53 295.5,-36.53 292,-46.53 299,-46.53\"/>\n</g>\n</g>\n</svg>\n",
            "text/plain": [
              "<graphviz.graphs.Digraph at 0x7a713e59ed40>"
            ]
          },
          "metadata": {},
          "execution_count": 8
        }
      ]
    },
    {
      "cell_type": "code",
      "source": [
        "ret = pipeline.execute()\n",
        "ret.toPandas()"
      ],
      "metadata": {
        "id": "EXfTz8zfEwJX",
        "outputId": "fb6fbd34-fd08-4c67-825d-a2c745741829",
        "colab": {
          "base_uri": "https://localhost:8080/",
          "height": 649
        }
      },
      "id": "EXfTz8zfEwJX",
      "execution_count": 9,
      "outputs": [
        {
          "output_type": "stream",
          "name": "stdout",
          "text": [
            "init spark\n",
            "Will assign 1 cores and 10386 M memory for spark\n",
            "per core memory size is 10.143 GB and shuffle_disk maximum capacity is 8589934592.000 GB\n",
            "execute with spark started ...\n",
            "num_bands is 9, ranges is 13\n",
            "generate minHashLsh started ...\n",
            "  generate minHashLsh took 81.08149501399998 sec\n",
            "generate_connected_components => duplicates started ...\n"
          ]
        },
        {
          "output_type": "stream",
          "name": "stderr",
          "text": [
            "100%|██████████| 39/39 [00:00<00:00, 120810.82it/s]\n"
          ]
        },
        {
          "output_type": "stream",
          "name": "stdout",
          "text": [
            "  generate_connected_components => duplicates took 0.8133754819999695 sec\n",
            "deduplicate input data started ...\n",
            "  deduplicate input data took 1.318230944999982 sec\n",
            "execute with spark took 83.63126261900004 sec\n"
          ]
        },
        {
          "output_type": "execute_result",
          "data": {
            "text/plain": [
              "                                                   text  \\\n",
              "0     The National Domestic Violence Hotline (NDVH) ...   \n",
              "1     The Office of Planning, Research and Evaluatio...   \n",
              "2     Improving outcomes for low-income fathers and ...   \n",
              "3     This project is implementing 36-month follow-u...   \n",
              "4     The CCDF Policies Database is a source of info...   \n",
              "...                                                 ...   \n",
              "9963  Project: Research and produce a videotape that...   \n",
              "9964  While relapse prevention has been studied and ...   \n",
              "9965  The proposed study on recruitment, adherence a...   \n",
              "9966  Recent studies suggest that HIV epidemics are ...   \n",
              "9967  The overall goal of this study is to develop a...   \n",
              "\n",
              "                            meta  \n",
              "0      {\"APPLICATION_ID\":100065}  \n",
              "1      {\"APPLICATION_ID\":100066}  \n",
              "2      {\"APPLICATION_ID\":100067}  \n",
              "3      {\"APPLICATION_ID\":100068}  \n",
              "4      {\"APPLICATION_ID\":100069}  \n",
              "...                          ...  \n",
              "9963  {\"APPLICATION_ID\":2120612}  \n",
              "9964  {\"APPLICATION_ID\":2120613}  \n",
              "9965  {\"APPLICATION_ID\":2120616}  \n",
              "9966  {\"APPLICATION_ID\":2120620}  \n",
              "9967  {\"APPLICATION_ID\":2120624}  \n",
              "\n",
              "[9968 rows x 2 columns]"
            ],
            "text/html": [
              "\n",
              "  <div id=\"df-b38b39be-f2eb-42c4-bf4c-f9f41c360f51\" class=\"colab-df-container\">\n",
              "    <div>\n",
              "<style scoped>\n",
              "    .dataframe tbody tr th:only-of-type {\n",
              "        vertical-align: middle;\n",
              "    }\n",
              "\n",
              "    .dataframe tbody tr th {\n",
              "        vertical-align: top;\n",
              "    }\n",
              "\n",
              "    .dataframe thead th {\n",
              "        text-align: right;\n",
              "    }\n",
              "</style>\n",
              "<table border=\"1\" class=\"dataframe\">\n",
              "  <thead>\n",
              "    <tr style=\"text-align: right;\">\n",
              "      <th></th>\n",
              "      <th>text</th>\n",
              "      <th>meta</th>\n",
              "    </tr>\n",
              "  </thead>\n",
              "  <tbody>\n",
              "    <tr>\n",
              "      <th>0</th>\n",
              "      <td>The National Domestic Violence Hotline (NDVH) ...</td>\n",
              "      <td>{\"APPLICATION_ID\":100065}</td>\n",
              "    </tr>\n",
              "    <tr>\n",
              "      <th>1</th>\n",
              "      <td>The Office of Planning, Research and Evaluatio...</td>\n",
              "      <td>{\"APPLICATION_ID\":100066}</td>\n",
              "    </tr>\n",
              "    <tr>\n",
              "      <th>2</th>\n",
              "      <td>Improving outcomes for low-income fathers and ...</td>\n",
              "      <td>{\"APPLICATION_ID\":100067}</td>\n",
              "    </tr>\n",
              "    <tr>\n",
              "      <th>3</th>\n",
              "      <td>This project is implementing 36-month follow-u...</td>\n",
              "      <td>{\"APPLICATION_ID\":100068}</td>\n",
              "    </tr>\n",
              "    <tr>\n",
              "      <th>4</th>\n",
              "      <td>The CCDF Policies Database is a source of info...</td>\n",
              "      <td>{\"APPLICATION_ID\":100069}</td>\n",
              "    </tr>\n",
              "    <tr>\n",
              "      <th>...</th>\n",
              "      <td>...</td>\n",
              "      <td>...</td>\n",
              "    </tr>\n",
              "    <tr>\n",
              "      <th>9963</th>\n",
              "      <td>Project: Research and produce a videotape that...</td>\n",
              "      <td>{\"APPLICATION_ID\":2120612}</td>\n",
              "    </tr>\n",
              "    <tr>\n",
              "      <th>9964</th>\n",
              "      <td>While relapse prevention has been studied and ...</td>\n",
              "      <td>{\"APPLICATION_ID\":2120613}</td>\n",
              "    </tr>\n",
              "    <tr>\n",
              "      <th>9965</th>\n",
              "      <td>The proposed study on recruitment, adherence a...</td>\n",
              "      <td>{\"APPLICATION_ID\":2120616}</td>\n",
              "    </tr>\n",
              "    <tr>\n",
              "      <th>9966</th>\n",
              "      <td>Recent studies suggest that HIV epidemics are ...</td>\n",
              "      <td>{\"APPLICATION_ID\":2120620}</td>\n",
              "    </tr>\n",
              "    <tr>\n",
              "      <th>9967</th>\n",
              "      <td>The overall goal of this study is to develop a...</td>\n",
              "      <td>{\"APPLICATION_ID\":2120624}</td>\n",
              "    </tr>\n",
              "  </tbody>\n",
              "</table>\n",
              "<p>9968 rows × 2 columns</p>\n",
              "</div>\n",
              "    <div class=\"colab-df-buttons\">\n",
              "\n",
              "  <div class=\"colab-df-container\">\n",
              "    <button class=\"colab-df-convert\" onclick=\"convertToInteractive('df-b38b39be-f2eb-42c4-bf4c-f9f41c360f51')\"\n",
              "            title=\"Convert this dataframe to an interactive table.\"\n",
              "            style=\"display:none;\">\n",
              "\n",
              "  <svg xmlns=\"http://www.w3.org/2000/svg\" height=\"24px\" viewBox=\"0 -960 960 960\">\n",
              "    <path d=\"M120-120v-720h720v720H120Zm60-500h600v-160H180v160Zm220 220h160v-160H400v160Zm0 220h160v-160H400v160ZM180-400h160v-160H180v160Zm440 0h160v-160H620v160ZM180-180h160v-160H180v160Zm440 0h160v-160H620v160Z\"/>\n",
              "  </svg>\n",
              "    </button>\n",
              "\n",
              "  <style>\n",
              "    .colab-df-container {\n",
              "      display:flex;\n",
              "      gap: 12px;\n",
              "    }\n",
              "\n",
              "    .colab-df-convert {\n",
              "      background-color: #E8F0FE;\n",
              "      border: none;\n",
              "      border-radius: 50%;\n",
              "      cursor: pointer;\n",
              "      display: none;\n",
              "      fill: #1967D2;\n",
              "      height: 32px;\n",
              "      padding: 0 0 0 0;\n",
              "      width: 32px;\n",
              "    }\n",
              "\n",
              "    .colab-df-convert:hover {\n",
              "      background-color: #E2EBFA;\n",
              "      box-shadow: 0px 1px 2px rgba(60, 64, 67, 0.3), 0px 1px 3px 1px rgba(60, 64, 67, 0.15);\n",
              "      fill: #174EA6;\n",
              "    }\n",
              "\n",
              "    .colab-df-buttons div {\n",
              "      margin-bottom: 4px;\n",
              "    }\n",
              "\n",
              "    [theme=dark] .colab-df-convert {\n",
              "      background-color: #3B4455;\n",
              "      fill: #D2E3FC;\n",
              "    }\n",
              "\n",
              "    [theme=dark] .colab-df-convert:hover {\n",
              "      background-color: #434B5C;\n",
              "      box-shadow: 0px 1px 3px 1px rgba(0, 0, 0, 0.15);\n",
              "      filter: drop-shadow(0px 1px 2px rgba(0, 0, 0, 0.3));\n",
              "      fill: #FFFFFF;\n",
              "    }\n",
              "  </style>\n",
              "\n",
              "    <script>\n",
              "      const buttonEl =\n",
              "        document.querySelector('#df-b38b39be-f2eb-42c4-bf4c-f9f41c360f51 button.colab-df-convert');\n",
              "      buttonEl.style.display =\n",
              "        google.colab.kernel.accessAllowed ? 'block' : 'none';\n",
              "\n",
              "      async function convertToInteractive(key) {\n",
              "        const element = document.querySelector('#df-b38b39be-f2eb-42c4-bf4c-f9f41c360f51');\n",
              "        const dataTable =\n",
              "          await google.colab.kernel.invokeFunction('convertToInteractive',\n",
              "                                                    [key], {});\n",
              "        if (!dataTable) return;\n",
              "\n",
              "        const docLinkHtml = 'Like what you see? Visit the ' +\n",
              "          '<a target=\"_blank\" href=https://colab.research.google.com/notebooks/data_table.ipynb>data table notebook</a>'\n",
              "          + ' to learn more about interactive tables.';\n",
              "        element.innerHTML = '';\n",
              "        dataTable['output_type'] = 'display_data';\n",
              "        await google.colab.output.renderOutput(dataTable, element);\n",
              "        const docLink = document.createElement('div');\n",
              "        docLink.innerHTML = docLinkHtml;\n",
              "        element.appendChild(docLink);\n",
              "      }\n",
              "    </script>\n",
              "  </div>\n",
              "\n",
              "\n",
              "<div id=\"df-ef004ca0-ad15-4089-86d2-d39f97224cda\">\n",
              "  <button class=\"colab-df-quickchart\" onclick=\"quickchart('df-ef004ca0-ad15-4089-86d2-d39f97224cda')\"\n",
              "            title=\"Suggest charts.\"\n",
              "            style=\"display:none;\">\n",
              "\n",
              "<svg xmlns=\"http://www.w3.org/2000/svg\" height=\"24px\"viewBox=\"0 0 24 24\"\n",
              "     width=\"24px\">\n",
              "    <g>\n",
              "        <path d=\"M19 3H5c-1.1 0-2 .9-2 2v14c0 1.1.9 2 2 2h14c1.1 0 2-.9 2-2V5c0-1.1-.9-2-2-2zM9 17H7v-7h2v7zm4 0h-2V7h2v10zm4 0h-2v-4h2v4z\"/>\n",
              "    </g>\n",
              "</svg>\n",
              "  </button>\n",
              "\n",
              "<style>\n",
              "  .colab-df-quickchart {\n",
              "      --bg-color: #E8F0FE;\n",
              "      --fill-color: #1967D2;\n",
              "      --hover-bg-color: #E2EBFA;\n",
              "      --hover-fill-color: #174EA6;\n",
              "      --disabled-fill-color: #AAA;\n",
              "      --disabled-bg-color: #DDD;\n",
              "  }\n",
              "\n",
              "  [theme=dark] .colab-df-quickchart {\n",
              "      --bg-color: #3B4455;\n",
              "      --fill-color: #D2E3FC;\n",
              "      --hover-bg-color: #434B5C;\n",
              "      --hover-fill-color: #FFFFFF;\n",
              "      --disabled-bg-color: #3B4455;\n",
              "      --disabled-fill-color: #666;\n",
              "  }\n",
              "\n",
              "  .colab-df-quickchart {\n",
              "    background-color: var(--bg-color);\n",
              "    border: none;\n",
              "    border-radius: 50%;\n",
              "    cursor: pointer;\n",
              "    display: none;\n",
              "    fill: var(--fill-color);\n",
              "    height: 32px;\n",
              "    padding: 0;\n",
              "    width: 32px;\n",
              "  }\n",
              "\n",
              "  .colab-df-quickchart:hover {\n",
              "    background-color: var(--hover-bg-color);\n",
              "    box-shadow: 0 1px 2px rgba(60, 64, 67, 0.3), 0 1px 3px 1px rgba(60, 64, 67, 0.15);\n",
              "    fill: var(--button-hover-fill-color);\n",
              "  }\n",
              "\n",
              "  .colab-df-quickchart-complete:disabled,\n",
              "  .colab-df-quickchart-complete:disabled:hover {\n",
              "    background-color: var(--disabled-bg-color);\n",
              "    fill: var(--disabled-fill-color);\n",
              "    box-shadow: none;\n",
              "  }\n",
              "\n",
              "  .colab-df-spinner {\n",
              "    border: 2px solid var(--fill-color);\n",
              "    border-color: transparent;\n",
              "    border-bottom-color: var(--fill-color);\n",
              "    animation:\n",
              "      spin 1s steps(1) infinite;\n",
              "  }\n",
              "\n",
              "  @keyframes spin {\n",
              "    0% {\n",
              "      border-color: transparent;\n",
              "      border-bottom-color: var(--fill-color);\n",
              "      border-left-color: var(--fill-color);\n",
              "    }\n",
              "    20% {\n",
              "      border-color: transparent;\n",
              "      border-left-color: var(--fill-color);\n",
              "      border-top-color: var(--fill-color);\n",
              "    }\n",
              "    30% {\n",
              "      border-color: transparent;\n",
              "      border-left-color: var(--fill-color);\n",
              "      border-top-color: var(--fill-color);\n",
              "      border-right-color: var(--fill-color);\n",
              "    }\n",
              "    40% {\n",
              "      border-color: transparent;\n",
              "      border-right-color: var(--fill-color);\n",
              "      border-top-color: var(--fill-color);\n",
              "    }\n",
              "    60% {\n",
              "      border-color: transparent;\n",
              "      border-right-color: var(--fill-color);\n",
              "    }\n",
              "    80% {\n",
              "      border-color: transparent;\n",
              "      border-right-color: var(--fill-color);\n",
              "      border-bottom-color: var(--fill-color);\n",
              "    }\n",
              "    90% {\n",
              "      border-color: transparent;\n",
              "      border-bottom-color: var(--fill-color);\n",
              "    }\n",
              "  }\n",
              "</style>\n",
              "\n",
              "  <script>\n",
              "    async function quickchart(key) {\n",
              "      const quickchartButtonEl =\n",
              "        document.querySelector('#' + key + ' button');\n",
              "      quickchartButtonEl.disabled = true;  // To prevent multiple clicks.\n",
              "      quickchartButtonEl.classList.add('colab-df-spinner');\n",
              "      try {\n",
              "        const charts = await google.colab.kernel.invokeFunction(\n",
              "            'suggestCharts', [key], {});\n",
              "      } catch (error) {\n",
              "        console.error('Error during call to suggestCharts:', error);\n",
              "      }\n",
              "      quickchartButtonEl.classList.remove('colab-df-spinner');\n",
              "      quickchartButtonEl.classList.add('colab-df-quickchart-complete');\n",
              "    }\n",
              "    (() => {\n",
              "      let quickchartButtonEl =\n",
              "        document.querySelector('#df-ef004ca0-ad15-4089-86d2-d39f97224cda button');\n",
              "      quickchartButtonEl.style.display =\n",
              "        google.colab.kernel.accessAllowed ? 'block' : 'none';\n",
              "    })();\n",
              "  </script>\n",
              "</div>\n",
              "    </div>\n",
              "  </div>\n"
            ]
          },
          "metadata": {},
          "execution_count": 9
        }
      ]
    }
  ],
  "metadata": {
    "kernelspec": {
      "display_name": "Python 3 (ipykernel)",
      "language": "python",
      "name": "python3"
    },
    "language_info": {
      "codemirror_mode": {
        "name": "ipython",
        "version": 3
      },
      "file_extension": ".py",
      "mimetype": "text/x-python",
      "name": "python",
      "nbconvert_exporter": "python",
      "pygments_lexer": "ipython3",
      "version": "3.10.12"
    },
    "colab": {
      "provenance": []
    }
  },
  "nbformat": 4,
  "nbformat_minor": 5
}