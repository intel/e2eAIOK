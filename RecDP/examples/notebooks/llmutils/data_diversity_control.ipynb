{
  "cells": [
    {
      "cell_type": "markdown",
      "source": [
        "# RecDP LLM - Diversity Indicator\n",
        "\n",
        "This component will analysis data based on its diversity and provide a visualization diagram."
      ],
      "metadata": {
        "id": "VkgW3cFeoYmv"
      }
    },
    {
      "cell_type": "markdown",
      "source": [
        "# Get started"
      ],
      "metadata": {
        "id": "Gb8OEtJCo4X0"
      }
    },
    {
      "cell_type": "markdown",
      "metadata": {
        "id": "BT-BjcaHj3eh"
      },
      "source": [
        "## 1. Install pyrecdp and dependencies"
      ]
    },
    {
      "cell_type": "code",
      "execution_count": null,
      "metadata": {
        "id": "E3ffXVymdeKg"
      },
      "outputs": [],
      "source": [
        "! DEBIAN_FRONTEND=noninteractive apt-get install -qq -y openjdk-8-jre\n",
        "! pip install -q pyrecdp --pre\n",
        "# ! pip install 'git+https://github.com/intel/e2eAIOK.git#egg=pyrecdp&subdirectory=RecDP'"
      ]
    },
    {
      "cell_type": "markdown",
      "metadata": {
        "id": "bMqBJ9eckIs6"
      },
      "source": [
        "### 2. Prepare your own data"
      ]
    },
    {
      "cell_type": "code",
      "execution_count": null,
      "metadata": {
        "id": "2SFjDgfLd4qE"
      },
      "outputs": [],
      "source": [
        "%mkdir -p /content/test_data\n",
        "%cd /content/test_data\n",
        "!wget -P /content/test_data https://raw.githubusercontent.com/intel/e2eAIOK/main/RecDP/tests/data/PILE/NIH_sample.jsonl\n"
      ]
    },
    {
      "cell_type": "markdown",
      "metadata": {
        "id": "JjTnnzw_kRVV"
      },
      "source": [
        "## 3. Diversity Analysis and create diagram"
      ]
    },
    {
      "cell_type": "markdown",
      "source": [
        "### 3.1 Diversity Analysis"
      ],
      "metadata": {
        "id": "a1f8XfazqWlm"
      }
    },
    {
      "cell_type": "code",
      "execution_count": 5,
      "metadata": {
        "colab": {
          "base_uri": "https://localhost:8080/"
        },
        "id": "Swy-H3HQepjA",
        "outputId": "6e9dabd4-aa3d-4f4f-e3d8-23ebb6127768"
      },
      "outputs": [
        {
          "metadata": {
            "tags": null
          },
          "name": "stdout",
          "output_type": "stream",
          "text": [
            "Will assign 1 cores and 10386 M memory for spark\n",
            "per core memory size is 10.143 GB and shuffle_disk maximum capacity is 8589934592.000 GB\n"
          ]
        },
        {
          "metadata": {
            "tags": null
          },
          "name": "stderr",
          "output_type": "stream",
          "text": [
            "ResumableTextPipeline, current on NIH_sample.jsonl:   0%|          | 0/1 [00:00<?, ?it/s]"
          ]
        },
        {
          "metadata": {
            "tags": null
          },
          "name": "stdout",
          "output_type": "stream",
          "text": [
            "\u001b[32m2023-10-18 16:44:39.881\u001b[0m | \u001b[1mINFO    \u001b[0m | \u001b[36mpyrecdp.core.model_utils\u001b[0m:\u001b[36mprepare_diversity_model\u001b[0m:\u001b[36m187\u001b[0m - \u001b[1mLoading spacy model [en_core_web_md-3.5.0]...\u001b[0m\n",
            "\u001b[32m2023-10-18 16:44:39.884\u001b[0m | \u001b[1mINFO    \u001b[0m | \u001b[36mpyrecdp.core.model_utils\u001b[0m:\u001b[36mcheck_model\u001b[0m:\u001b[36m62\u001b[0m - \u001b[1mModel [en_core_web_md-3.5.0.zip] not found . Downloading...\u001b[0m\n"
          ]
        },
        {
          "output_type": "stream",
          "name": "stderr",
          "text": [
            "/usr/local/lib/python3.10/dist-packages/spacy/util.py:910: UserWarning: [W095] Model 'en_core_web_md' (3.5.0) was trained with spaCy v3.5.0 and may not be 100% compatible with the current version (3.6.1). If you see errors or degraded performance, download a newer compatible model or retrain your custom model with the current spaCy version. For more details and available updates, run: python -m spacy validate\n",
            "  warnings.warn(warn_msg)\n",
            "ResumableTextPipeline, current on NIH_sample.jsonl: 100%|██████████| 1/1 [13:07<00:00, 787.23s/it]"
          ]
        },
        {
          "output_type": "stream",
          "name": "stdout",
          "text": [
            "\u001b[32m2023-10-18 16:57:47.112\u001b[0m | \u001b[1mINFO    \u001b[0m | \u001b[36mpyrecdp.LLM.TextPipeline\u001b[0m:\u001b[36mexecute\u001b[0m:\u001b[36m325\u001b[0m - \u001b[1mCompleted! ResumableTextPipeline will not return dataset, please check /content/output for verification.\u001b[0m\n"
          ]
        },
        {
          "output_type": "stream",
          "name": "stderr",
          "text": [
            "\n"
          ]
        }
      ],
      "source": [
        "from pyrecdp.primitives.llmutils import diversity_indicate\n",
        "\n",
        "data_dir = \"/content/test_data\"\n",
        "out_dir = \"/content/output\"\n",
        "in_type = \"jsonl\"\n",
        "\n",
        "diversity_indicate(data_dir, in_type, out_dir, first_sent = False)"
      ]
    },
    {
      "cell_type": "markdown",
      "metadata": {
        "id": "pLqx_qMnmL1o"
      },
      "source": [
        "### 3.2 Diversity Results Visualization\n",
        "\n"
      ]
    },
    {
      "cell_type": "code",
      "execution_count": 6,
      "metadata": {
        "colab": {
          "base_uri": "https://localhost:8080/",
          "height": 542
        },
        "id": "6fZw1qa6fqjA",
        "outputId": "d7f4af73-9509-4615-d344-9b6338751db2"
      },
      "outputs": [
        {
          "output_type": "display_data",
          "data": {
            "text/html": [
              "<html>\n",
              "<head><meta charset=\"utf-8\" /></head>\n",
              "<body>\n",
              "    <div>            <script src=\"https://cdnjs.cloudflare.com/ajax/libs/mathjax/2.7.5/MathJax.js?config=TeX-AMS-MML_SVG\"></script><script type=\"text/javascript\">if (window.MathJax && window.MathJax.Hub && window.MathJax.Hub.Config) {window.MathJax.Hub.Config({SVG: {font: \"STIX-Web\"}});}</script>                <script type=\"text/javascript\">window.PlotlyConfig = {MathJaxConfig: 'local'};</script>\n",
              "        <script charset=\"utf-8\" src=\"https://cdn.plot.ly/plotly-2.24.1.min.js\"></script>                <div id=\"9f9f8216-471d-4790-a9d5-0f7d0097c1e4\" class=\"plotly-graph-div\" style=\"height:525px; width:100%;\"></div>            <script type=\"text/javascript\">                                    window.PLOTLYENV=window.PLOTLYENV || {};                                    if (document.getElementById(\"9f9f8216-471d-4790-a9d5-0f7d0097c1e4\")) {                    Plotly.newPlot(                        \"9f9f8216-471d-4790-a9d5-0f7d0097c1e4\",                        [{\"branchvalues\":\"total\",\"domain\":{\"x\":[0.0,1.0],\"y\":[0.0,1.0]},\"hovertemplate\":\"labels=%{label}\\u003cbr\\u003ecount=%{value}\\u003cbr\\u003eparent=%{parent}\\u003cbr\\u003eid=%{id}\\u003cextra\\u003e\\u003c\\u002fextra\\u003e\",\"ids\":[\"assess\\u002fability\",\"test\\u002fability\",\"have\\u002faim\",\"propose\\u002faim\",\"include\\u002fanalysis\",\"involve\\u002fanalysis\",\"represent\\u002fapproach\",\"use\\u002fapproach\",\"develop\\u002fassay\",\"allow\\u002fassessment\",\"provide\\u002fbasis\",\"allow\\u002fdetermination\",\"include\\u002fdevelopment\",\"involve\\u002fdevelopment\",\"assess\\u002feffect\",\"characterize\\u002feffect\",\"determine\\u002feffect\",\"evaluate\\u002feffect\",\"examine\\u002feffect\",\"have\\u002feffect\",\"investigate\\u002feffect\",\"study\\u002feffect\",\"test\\u002feffect\",\"evaluate\\u002fefficacy\",\"test\\u002fefficacy\",\"represent\\u002feffort\",\"identify\\u002felement\",\"propose\\u002fexperiment\",\"identify\\u002ffactor\",\"identify\\u002fgene\",\"address\\u002fhypothesis\",\"test\\u002fhypothesis\",\"allow\\u002fidentification\",\"assess\\u002fimpact\",\"have\\u002fimplication\",\"provide\\u002finformation\",\"provide\\u002finsight\",\"address\\u002fissue\",\"characterize\\u002fmechanism\",\"define\\u002fmechanism\",\"determine\\u002fmechanism\",\"examine\\u002fmechanism\",\"investigate\\u002fmechanism\",\"study\\u002fmechanism\",\"develop\\u002fmethod\",\"develop\\u002fmodel\",\"use\\u002fmodel\",\"provide\\u002fopportunity\",\"have\\u002fpotential\",\"identify\\u002fprotein\",\"address\\u002fquestion\",\"define\\u002fregion\",\"study\\u002fregulation\",\"define\\u002frelationship\",\"determine\\u002frelationship\",\"examine\\u002frelationship\",\"investigate\\u002frelationship\",\"characterize\\u002fresponse\",\"address\\u002frole\",\"assess\\u002frole\",\"characterize\\u002frole\",\"define\\u002frole\",\"determine\\u002frole\",\"evaluate\\u002frole\",\"examine\\u002frole\",\"investigate\\u002frole\",\"study\\u002frole\",\"propose\\u002fseries\",\"represent\\u002fstep\",\"allow\\u002fstudy\",\"include\\u002fstudy\",\"involve\\u002fstudy\",\"propose\\u002fstudy\",\"develop\\u002fsystem\",\"use\\u002fsystem\",\"represent\\u002ftarget\",\"use\\u002ftechnique\",\"include\\u002fuse\",\"involve\\u002fuse\",\"evaluate\\u002futility\",\"address\",\"allow\",\"assess\",\"characterize\",\"define\",\"determine\",\"develop\",\"evaluate\",\"examine\",\"have\",\"identify\",\"include\",\"investigate\",\"involve\",\"propose\",\"provide\",\"represent\",\"study\",\"test\",\"use\"],\"labels\":[\"ability\",\"ability\",\"aim\",\"aim\",\"analysis\",\"analysis\",\"approach\",\"approach\",\"assay\",\"assessment\",\"basis\",\"determination\",\"development\",\"development\",\"effect\",\"effect\",\"effect\",\"effect\",\"effect\",\"effect\",\"effect\",\"effect\",\"effect\",\"efficacy\",\"efficacy\",\"effort\",\"element\",\"experiment\",\"factor\",\"gene\",\"hypothesis\",\"hypothesis\",\"identification\",\"impact\",\"implication\",\"information\",\"insight\",\"issue\",\"mechanism\",\"mechanism\",\"mechanism\",\"mechanism\",\"mechanism\",\"mechanism\",\"method\",\"model\",\"model\",\"opportunity\",\"potential\",\"protein\",\"question\",\"region\",\"regulation\",\"relationship\",\"relationship\",\"relationship\",\"relationship\",\"response\",\"role\",\"role\",\"role\",\"role\",\"role\",\"role\",\"role\",\"role\",\"role\",\"series\",\"step\",\"study\",\"study\",\"study\",\"study\",\"system\",\"system\",\"target\",\"technique\",\"use\",\"use\",\"utility\",\"address\",\"allow\",\"assess\",\"characterize\",\"define\",\"determine\",\"develop\",\"evaluate\",\"examine\",\"have\",\"identify\",\"include\",\"investigate\",\"involve\",\"propose\",\"provide\",\"represent\",\"study\",\"test\",\"use\"],\"name\":\"\",\"parents\":[\"assess\",\"test\",\"have\",\"propose\",\"include\",\"involve\",\"represent\",\"use\",\"develop\",\"allow\",\"provide\",\"allow\",\"include\",\"involve\",\"assess\",\"characterize\",\"determine\",\"evaluate\",\"examine\",\"have\",\"investigate\",\"study\",\"test\",\"evaluate\",\"test\",\"represent\",\"identify\",\"propose\",\"identify\",\"identify\",\"address\",\"test\",\"allow\",\"assess\",\"have\",\"provide\",\"provide\",\"address\",\"characterize\",\"define\",\"determine\",\"examine\",\"investigate\",\"study\",\"develop\",\"develop\",\"use\",\"provide\",\"have\",\"identify\",\"address\",\"define\",\"study\",\"define\",\"determine\",\"examine\",\"investigate\",\"characterize\",\"address\",\"assess\",\"characterize\",\"define\",\"determine\",\"evaluate\",\"examine\",\"investigate\",\"study\",\"propose\",\"represent\",\"allow\",\"include\",\"involve\",\"propose\",\"develop\",\"use\",\"represent\",\"use\",\"include\",\"involve\",\"evaluate\",\"\",\"\",\"\",\"\",\"\",\"\",\"\",\"\",\"\",\"\",\"\",\"\",\"\",\"\",\"\",\"\",\"\",\"\",\"\",\"\"],\"values\":[15,16,81,25,65,17,25,50,27,22,121,15,33,14,41,26,105,38,136,76,45,56,21,9,14,15,21,26,40,29,23,305,23,11,169,438,357,56,15,17,43,51,51,23,58,48,47,128,136,49,64,12,14,7,25,29,14,12,23,13,12,35,58,21,68,55,29,22,12,17,67,22,73,59,40,11,46,33,24,10,166,77,80,65,71,231,192,78,284,462,139,198,165,77,146,1044,63,122,356,183],\"type\":\"sunburst\"}],                        {\"template\":{\"data\":{\"histogram2dcontour\":[{\"type\":\"histogram2dcontour\",\"colorbar\":{\"outlinewidth\":0,\"ticks\":\"\"},\"colorscale\":[[0.0,\"#0d0887\"],[0.1111111111111111,\"#46039f\"],[0.2222222222222222,\"#7201a8\"],[0.3333333333333333,\"#9c179e\"],[0.4444444444444444,\"#bd3786\"],[0.5555555555555556,\"#d8576b\"],[0.6666666666666666,\"#ed7953\"],[0.7777777777777778,\"#fb9f3a\"],[0.8888888888888888,\"#fdca26\"],[1.0,\"#f0f921\"]]}],\"choropleth\":[{\"type\":\"choropleth\",\"colorbar\":{\"outlinewidth\":0,\"ticks\":\"\"}}],\"histogram2d\":[{\"type\":\"histogram2d\",\"colorbar\":{\"outlinewidth\":0,\"ticks\":\"\"},\"colorscale\":[[0.0,\"#0d0887\"],[0.1111111111111111,\"#46039f\"],[0.2222222222222222,\"#7201a8\"],[0.3333333333333333,\"#9c179e\"],[0.4444444444444444,\"#bd3786\"],[0.5555555555555556,\"#d8576b\"],[0.6666666666666666,\"#ed7953\"],[0.7777777777777778,\"#fb9f3a\"],[0.8888888888888888,\"#fdca26\"],[1.0,\"#f0f921\"]]}],\"heatmap\":[{\"type\":\"heatmap\",\"colorbar\":{\"outlinewidth\":0,\"ticks\":\"\"},\"colorscale\":[[0.0,\"#0d0887\"],[0.1111111111111111,\"#46039f\"],[0.2222222222222222,\"#7201a8\"],[0.3333333333333333,\"#9c179e\"],[0.4444444444444444,\"#bd3786\"],[0.5555555555555556,\"#d8576b\"],[0.6666666666666666,\"#ed7953\"],[0.7777777777777778,\"#fb9f3a\"],[0.8888888888888888,\"#fdca26\"],[1.0,\"#f0f921\"]]}],\"heatmapgl\":[{\"type\":\"heatmapgl\",\"colorbar\":{\"outlinewidth\":0,\"ticks\":\"\"},\"colorscale\":[[0.0,\"#0d0887\"],[0.1111111111111111,\"#46039f\"],[0.2222222222222222,\"#7201a8\"],[0.3333333333333333,\"#9c179e\"],[0.4444444444444444,\"#bd3786\"],[0.5555555555555556,\"#d8576b\"],[0.6666666666666666,\"#ed7953\"],[0.7777777777777778,\"#fb9f3a\"],[0.8888888888888888,\"#fdca26\"],[1.0,\"#f0f921\"]]}],\"contourcarpet\":[{\"type\":\"contourcarpet\",\"colorbar\":{\"outlinewidth\":0,\"ticks\":\"\"}}],\"contour\":[{\"type\":\"contour\",\"colorbar\":{\"outlinewidth\":0,\"ticks\":\"\"},\"colorscale\":[[0.0,\"#0d0887\"],[0.1111111111111111,\"#46039f\"],[0.2222222222222222,\"#7201a8\"],[0.3333333333333333,\"#9c179e\"],[0.4444444444444444,\"#bd3786\"],[0.5555555555555556,\"#d8576b\"],[0.6666666666666666,\"#ed7953\"],[0.7777777777777778,\"#fb9f3a\"],[0.8888888888888888,\"#fdca26\"],[1.0,\"#f0f921\"]]}],\"surface\":[{\"type\":\"surface\",\"colorbar\":{\"outlinewidth\":0,\"ticks\":\"\"},\"colorscale\":[[0.0,\"#0d0887\"],[0.1111111111111111,\"#46039f\"],[0.2222222222222222,\"#7201a8\"],[0.3333333333333333,\"#9c179e\"],[0.4444444444444444,\"#bd3786\"],[0.5555555555555556,\"#d8576b\"],[0.6666666666666666,\"#ed7953\"],[0.7777777777777778,\"#fb9f3a\"],[0.8888888888888888,\"#fdca26\"],[1.0,\"#f0f921\"]]}],\"mesh3d\":[{\"type\":\"mesh3d\",\"colorbar\":{\"outlinewidth\":0,\"ticks\":\"\"}}],\"scatter\":[{\"fillpattern\":{\"fillmode\":\"overlay\",\"size\":10,\"solidity\":0.2},\"type\":\"scatter\"}],\"parcoords\":[{\"type\":\"parcoords\",\"line\":{\"colorbar\":{\"outlinewidth\":0,\"ticks\":\"\"}}}],\"scatterpolargl\":[{\"type\":\"scatterpolargl\",\"marker\":{\"colorbar\":{\"outlinewidth\":0,\"ticks\":\"\"}}}],\"bar\":[{\"error_x\":{\"color\":\"#2a3f5f\"},\"error_y\":{\"color\":\"#2a3f5f\"},\"marker\":{\"line\":{\"color\":\"#E5ECF6\",\"width\":0.5},\"pattern\":{\"fillmode\":\"overlay\",\"size\":10,\"solidity\":0.2}},\"type\":\"bar\"}],\"scattergeo\":[{\"type\":\"scattergeo\",\"marker\":{\"colorbar\":{\"outlinewidth\":0,\"ticks\":\"\"}}}],\"scatterpolar\":[{\"type\":\"scatterpolar\",\"marker\":{\"colorbar\":{\"outlinewidth\":0,\"ticks\":\"\"}}}],\"histogram\":[{\"marker\":{\"pattern\":{\"fillmode\":\"overlay\",\"size\":10,\"solidity\":0.2}},\"type\":\"histogram\"}],\"scattergl\":[{\"type\":\"scattergl\",\"marker\":{\"colorbar\":{\"outlinewidth\":0,\"ticks\":\"\"}}}],\"scatter3d\":[{\"type\":\"scatter3d\",\"line\":{\"colorbar\":{\"outlinewidth\":0,\"ticks\":\"\"}},\"marker\":{\"colorbar\":{\"outlinewidth\":0,\"ticks\":\"\"}}}],\"scattermapbox\":[{\"type\":\"scattermapbox\",\"marker\":{\"colorbar\":{\"outlinewidth\":0,\"ticks\":\"\"}}}],\"scatterternary\":[{\"type\":\"scatterternary\",\"marker\":{\"colorbar\":{\"outlinewidth\":0,\"ticks\":\"\"}}}],\"scattercarpet\":[{\"type\":\"scattercarpet\",\"marker\":{\"colorbar\":{\"outlinewidth\":0,\"ticks\":\"\"}}}],\"carpet\":[{\"aaxis\":{\"endlinecolor\":\"#2a3f5f\",\"gridcolor\":\"white\",\"linecolor\":\"white\",\"minorgridcolor\":\"white\",\"startlinecolor\":\"#2a3f5f\"},\"baxis\":{\"endlinecolor\":\"#2a3f5f\",\"gridcolor\":\"white\",\"linecolor\":\"white\",\"minorgridcolor\":\"white\",\"startlinecolor\":\"#2a3f5f\"},\"type\":\"carpet\"}],\"table\":[{\"cells\":{\"fill\":{\"color\":\"#EBF0F8\"},\"line\":{\"color\":\"white\"}},\"header\":{\"fill\":{\"color\":\"#C8D4E3\"},\"line\":{\"color\":\"white\"}},\"type\":\"table\"}],\"barpolar\":[{\"marker\":{\"line\":{\"color\":\"#E5ECF6\",\"width\":0.5},\"pattern\":{\"fillmode\":\"overlay\",\"size\":10,\"solidity\":0.2}},\"type\":\"barpolar\"}],\"pie\":[{\"automargin\":true,\"type\":\"pie\"}]},\"layout\":{\"autotypenumbers\":\"strict\",\"colorway\":[\"#636efa\",\"#EF553B\",\"#00cc96\",\"#ab63fa\",\"#FFA15A\",\"#19d3f3\",\"#FF6692\",\"#B6E880\",\"#FF97FF\",\"#FECB52\"],\"font\":{\"color\":\"#2a3f5f\"},\"hovermode\":\"closest\",\"hoverlabel\":{\"align\":\"left\"},\"paper_bgcolor\":\"white\",\"plot_bgcolor\":\"#E5ECF6\",\"polar\":{\"bgcolor\":\"#E5ECF6\",\"angularaxis\":{\"gridcolor\":\"white\",\"linecolor\":\"white\",\"ticks\":\"\"},\"radialaxis\":{\"gridcolor\":\"white\",\"linecolor\":\"white\",\"ticks\":\"\"}},\"ternary\":{\"bgcolor\":\"#E5ECF6\",\"aaxis\":{\"gridcolor\":\"white\",\"linecolor\":\"white\",\"ticks\":\"\"},\"baxis\":{\"gridcolor\":\"white\",\"linecolor\":\"white\",\"ticks\":\"\"},\"caxis\":{\"gridcolor\":\"white\",\"linecolor\":\"white\",\"ticks\":\"\"}},\"coloraxis\":{\"colorbar\":{\"outlinewidth\":0,\"ticks\":\"\"}},\"colorscale\":{\"sequential\":[[0.0,\"#0d0887\"],[0.1111111111111111,\"#46039f\"],[0.2222222222222222,\"#7201a8\"],[0.3333333333333333,\"#9c179e\"],[0.4444444444444444,\"#bd3786\"],[0.5555555555555556,\"#d8576b\"],[0.6666666666666666,\"#ed7953\"],[0.7777777777777778,\"#fb9f3a\"],[0.8888888888888888,\"#fdca26\"],[1.0,\"#f0f921\"]],\"sequentialminus\":[[0.0,\"#0d0887\"],[0.1111111111111111,\"#46039f\"],[0.2222222222222222,\"#7201a8\"],[0.3333333333333333,\"#9c179e\"],[0.4444444444444444,\"#bd3786\"],[0.5555555555555556,\"#d8576b\"],[0.6666666666666666,\"#ed7953\"],[0.7777777777777778,\"#fb9f3a\"],[0.8888888888888888,\"#fdca26\"],[1.0,\"#f0f921\"]],\"diverging\":[[0,\"#8e0152\"],[0.1,\"#c51b7d\"],[0.2,\"#de77ae\"],[0.3,\"#f1b6da\"],[0.4,\"#fde0ef\"],[0.5,\"#f7f7f7\"],[0.6,\"#e6f5d0\"],[0.7,\"#b8e186\"],[0.8,\"#7fbc41\"],[0.9,\"#4d9221\"],[1,\"#276419\"]]},\"xaxis\":{\"gridcolor\":\"white\",\"linecolor\":\"white\",\"ticks\":\"\",\"title\":{\"standoff\":15},\"zerolinecolor\":\"white\",\"automargin\":true,\"zerolinewidth\":2},\"yaxis\":{\"gridcolor\":\"white\",\"linecolor\":\"white\",\"ticks\":\"\",\"title\":{\"standoff\":15},\"zerolinecolor\":\"white\",\"automargin\":true,\"zerolinewidth\":2},\"scene\":{\"xaxis\":{\"backgroundcolor\":\"#E5ECF6\",\"gridcolor\":\"white\",\"linecolor\":\"white\",\"showbackground\":true,\"ticks\":\"\",\"zerolinecolor\":\"white\",\"gridwidth\":2},\"yaxis\":{\"backgroundcolor\":\"#E5ECF6\",\"gridcolor\":\"white\",\"linecolor\":\"white\",\"showbackground\":true,\"ticks\":\"\",\"zerolinecolor\":\"white\",\"gridwidth\":2},\"zaxis\":{\"backgroundcolor\":\"#E5ECF6\",\"gridcolor\":\"white\",\"linecolor\":\"white\",\"showbackground\":true,\"ticks\":\"\",\"zerolinecolor\":\"white\",\"gridwidth\":2}},\"shapedefaults\":{\"line\":{\"color\":\"#2a3f5f\"}},\"annotationdefaults\":{\"arrowcolor\":\"#2a3f5f\",\"arrowhead\":0,\"arrowwidth\":1},\"geo\":{\"bgcolor\":\"white\",\"landcolor\":\"#E5ECF6\",\"subunitcolor\":\"white\",\"showland\":true,\"showlakes\":true,\"lakecolor\":\"white\"},\"title\":{\"x\":0.05},\"mapbox\":{\"style\":\"light\"}}},\"legend\":{\"tracegroupgap\":0},\"margin\":{\"t\":0,\"l\":0,\"r\":0,\"b\":0},\"font\":{\"family\":\"Times New Roman\"}},                        {\"responsive\": true}                    ).then(function(){\n",
              "                            \n",
              "var gd = document.getElementById('9f9f8216-471d-4790-a9d5-0f7d0097c1e4');\n",
              "var x = new MutationObserver(function (mutations, observer) {{\n",
              "        var display = window.getComputedStyle(gd).display;\n",
              "        if (!display || display === 'none') {{\n",
              "            console.log([gd, 'removed!']);\n",
              "            Plotly.purge(gd);\n",
              "            observer.disconnect();\n",
              "        }}\n",
              "}});\n",
              "\n",
              "// Listen for the removal of the full notebook cells\n",
              "var notebookContainer = gd.closest('#notebook-container');\n",
              "if (notebookContainer) {{\n",
              "    x.observe(notebookContainer, {childList: true});\n",
              "}}\n",
              "\n",
              "// Listen for the clearing of the current output cell\n",
              "var outputEl = gd.closest('.output');\n",
              "if (outputEl) {{\n",
              "    x.observe(outputEl, {childList: true});\n",
              "}}\n",
              "\n",
              "                        })                };                            </script>        </div>\n",
              "</body>\n",
              "</html>"
            ]
          },
          "metadata": {}
        }
      ],
      "source": [
        "import plotly.express as px\n",
        "import pandas as pd\n",
        "import os\n",
        "df = pd.read_csv(os.path.join(out_dir, \"diversity.csv\"))\n",
        "fig = px.sunburst(df, path=['verb', 'noun'], values='count')\n",
        "fig.update_layout(\n",
        "    margin=dict(l=0, r=0, t=0, b=0),\n",
        "    font_family=\"Times New Roman\",\n",
        ")\n",
        "fig.show()"
      ]
    }
  ],
  "metadata": {
    "colab": {
      "provenance": []
    },
    "kernelspec": {
      "display_name": "Python 3",
      "name": "python3"
    },
    "language_info": {
      "name": "python"
    }
  },
  "nbformat": 4,
  "nbformat_minor": 0
}