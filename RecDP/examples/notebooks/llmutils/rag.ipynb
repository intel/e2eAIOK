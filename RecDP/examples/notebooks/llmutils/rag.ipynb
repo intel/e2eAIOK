{
 "cells": [
  {
   "cell_type": "markdown",
   "id": "z_gVsK2fahsZ",
   "metadata": {
    "id": "z_gVsK2fahsZ"
   },
   "source": [
    "# RecDP LLM - RAG"
   ]
  },
  {
   "cell_type": "markdown",
   "id": "lFH8BqLubYLI",
   "metadata": {
    "id": "lFH8BqLubYLI"
   },
   "source": [
    "# Get started"
   ]
  },
  {
   "cell_type": "markdown",
   "id": "n35FAQmcbdY_",
   "metadata": {
    "id": "n35FAQmcbdY_"
   },
   "source": [
    "## 1. Install pyrecdp and dependencies"
   ]
  },
  {
   "cell_type": "code",
   "execution_count": null,
   "id": "wzlH_Ms3bnGM",
   "metadata": {
    "id": "wzlH_Ms3bnGM",
    "pycharm": {
     "is_executing": true
    }
   },
   "outputs": [],
   "source": [
    "! DEBIAN_FRONTEND=noninteractive apt-get install -y openjdk-8-jre\n",
    "! pip install /work/e2eAIOK/RecDP\n",
    "# ! pip install 'git+https://github.com/intel/e2eAIOK.git#egg=pyrecdp&subdirectory=RecDP'"
   ]
  },
  {
   "cell_type": "markdown",
   "metadata": {},
   "source": [
    "## 2. Prepare your data"
   ]
  },
  {
   "cell_type": "code",
   "execution_count": 17,
   "metadata": {},
   "outputs": [
    {
     "name": "stdout",
     "output_type": "stream",
     "text": [
      "huggingface/tokenizers: The current process just got forked, after parallelism has already been used. Disabling parallelism to avoid deadlocks...\n",
      "To disable this warning, you can either:\n",
      "\t- Avoid using `tokenizers` before the fork if possible\n",
      "\t- Explicitly set the environment variable TOKENIZERS_PARALLELISM=(true | false)\n"
     ]
    }
   ],
   "source": [
    "%mkdir -p /content/test\n",
    "# 1. prepare sentence-transformers model\n",
    "import os\n",
    "model_root_path = os.path.join(RECDP_MODELS_CACHE, \"huggingface\")\n",
    "sentence_model_name= f\"{model_root_path}/sentence-transformers/all-mpnet-base-v2\"\n",
    "\n",
    "# 2. prepare output path of faiss database and index name\n",
    "faiss_output_path = \"/content/test/faiss\"\n",
    "faiss_index_name = 'test_index'\n"
   ]
  },
  {
   "cell_type": "markdown",
   "id": "iIZVijQ7cG1N",
   "metadata": {
    "id": "iIZVijQ7cG1N"
   },
   "source": [
    "## 3. RAG Workflow"
   ]
  },
  {
   "cell_type": "markdown",
   "metadata": {},
   "source": [
    "### Step 1. Load,Split and Store"
   ]
  },
  {
   "cell_type": "code",
   "execution_count": 12,
   "id": "736fb211-dbe6-4ca9-a1b1-db2cff2d287a",
   "metadata": {
    "colab": {
     "base_uri": "https://localhost:8080/",
     "height": 545
    },
    "id": "736fb211-dbe6-4ca9-a1b1-db2cff2d287a",
    "outputId": "5e26940b-d62b-406f-f7ae-293e1b88da83"
   },
   "outputs": [
    {
     "name": "stdout",
     "output_type": "stream",
     "text": [
      "init ray\n",
      "init ray with total mem of 324413575987, total core of 48\n",
      "huggingface/tokenizers: The current process just got forked, after parallelism has already been used. Disabling parallelism to avoid deadlocks...\n",
      "To disable this warning, you can either:\n",
      "\t- Avoid using `tokenizers` before the fork if possible\n",
      "\t- Explicitly set the environment variable TOKENIZERS_PARALLELISM=(true | false)\n",
      "huggingface/tokenizers: The current process just got forked, after parallelism has already been used. Disabling parallelism to avoid deadlocks...\n",
      "To disable this warning, you can either:\n",
      "\t- Avoid using `tokenizers` before the fork if possible\n",
      "\t- Explicitly set the environment variable TOKENIZERS_PARALLELISM=(true | false)\n",
      "huggingface/tokenizers: The current process just got forked, after parallelism has already been used. Disabling parallelism to avoid deadlocks...\n",
      "To disable this warning, you can either:\n",
      "\t- Avoid using `tokenizers` before the fork if possible\n",
      "\t- Explicitly set the environment variable TOKENIZERS_PARALLELISM=(true | false)\n",
      "huggingface/tokenizers: The current process just got forked, after parallelism has already been used. Disabling parallelism to avoid deadlocks...\n",
      "To disable this warning, you can either:\n",
      "\t- Avoid using `tokenizers` before the fork if possible\n",
      "\t- Explicitly set the environment variable TOKENIZERS_PARALLELISM=(true | false)\n",
      "huggingface/tokenizers: The current process just got forked, after parallelism has already been used. Disabling parallelism to avoid deadlocks...\n",
      "To disable this warning, you can either:\n",
      "\t- Avoid using `tokenizers` before the fork if possible\n",
      "\t- Explicitly set the environment variable TOKENIZERS_PARALLELISM=(true | false)\n",
      "huggingface/tokenizers: The current process just got forked, after parallelism has already been used. Disabling parallelism to avoid deadlocks...\n",
      "To disable this warning, you can either:\n",
      "\t- Avoid using `tokenizers` before the fork if possible\n",
      "\t- Explicitly set the environment variable TOKENIZERS_PARALLELISM=(true | false)\n",
      "huggingface/tokenizers: The current process just got forked, after parallelism has already been used. Disabling parallelism to avoid deadlocks...\n",
      "To disable this warning, you can either:\n",
      "\t- Avoid using `tokenizers` before the fork if possible\n",
      "\t- Explicitly set the environment variable TOKENIZERS_PARALLELISM=(true | false)\n",
      "huggingface/tokenizers: The current process just got forked, after parallelism has already been used. Disabling parallelism to avoid deadlocks...\n",
      "To disable this warning, you can either:\n",
      "\t- Avoid using `tokenizers` before the fork if possible\n",
      "\t- Explicitly set the environment variable TOKENIZERS_PARALLELISM=(true | false)\n"
     ]
    },
    {
     "name": "stderr",
     "output_type": "stream",
     "text": [
      "2023-11-22 15:37:00,503\tINFO worker.py:1642 -- Started a local Ray instance.\n"
     ]
    },
    {
     "name": "stdout",
     "output_type": "stream",
     "text": [
      "execute with ray started ...\n"
     ]
    },
    {
     "name": "stderr",
     "output_type": "stream",
     "text": [
      "2023-11-22 15:37:04,826\tINFO streaming_executor.py:93 -- Executing DAG InputDataBuffer[Input] -> ActorPoolMapOperator[FlatMap(<lambda>)->MapBatches(DocEmbedding)]\n",
      "2023-11-22 15:37:04,827\tINFO streaming_executor.py:94 -- Execution config: ExecutionOptions(resource_limits=ExecutionResources(cpu=None, gpu=None, object_store_memory=None), locality_with_output=False, preserve_order=False, actor_locality_enabled=True, verbose_progress=False)\n",
      "2023-11-22 15:37:04,828\tINFO streaming_executor.py:96 -- Tip: For detailed progress reporting, run `ray.data.DataContext.get_current().execution_options.verbose_progress = True`\n",
      "2023-11-22 15:37:07,157\tINFO actor_pool_map_operator.py:106 -- FlatMap(<lambda>)->MapBatches(DocEmbedding): Waiting for 1 pool actors to start...\n"
     ]
    },
    {
     "data": {
      "application/vnd.jupyter.widget-view+json": {
       "model_id": "bde8b2531bf1499ba0914c1f1441e5a2",
       "version_major": 2,
       "version_minor": 0
      },
      "text/plain": [
       "Running 0:   0%|          | 0/1 [00:00<?, ?it/s]"
      ]
     },
     "metadata": {},
     "output_type": "display_data"
    },
    {
     "name": "stderr",
     "output_type": "stream",
     "text": [
      "Batches:   0%|          | 0/1 [00:00<?, ?it/s]hes(DocEmbedding)) pid=307178)\u001b[0m \n",
      "Batches: 100%|██████████| 1/1 [00:13<00:00, 13.08s/it]mbedding)) pid=307178)\u001b[0m \n",
      "2023-11-22 15:37:27,327\tINFO streaming_executor.py:93 -- Executing DAG InputDataBuffer[Input] -> ActorPoolMapOperator[FlatMap(<lambda>)->MapBatches(DocEmbedding)]\n",
      "2023-11-22 15:37:27,328\tINFO streaming_executor.py:94 -- Execution config: ExecutionOptions(resource_limits=ExecutionResources(cpu=None, gpu=None, object_store_memory=None), locality_with_output=False, preserve_order=False, actor_locality_enabled=True, verbose_progress=False)\n",
      "2023-11-22 15:37:27,329\tINFO streaming_executor.py:96 -- Tip: For detailed progress reporting, run `ray.data.DataContext.get_current().execution_options.verbose_progress = True`\n",
      "2023-11-22 15:37:29,204\tINFO actor_pool_map_operator.py:106 -- FlatMap(<lambda>)->MapBatches(DocEmbedding): Waiting for 1 pool actors to start...\n"
     ]
    },
    {
     "data": {
      "application/vnd.jupyter.widget-view+json": {
       "model_id": "3e4408e555474885817fdf160a579f74",
       "version_major": 2,
       "version_minor": 0
      },
      "text/plain": [
       "Running 0:   0%|          | 0/1 [00:00<?, ?it/s]"
      ]
     },
     "metadata": {},
     "output_type": "display_data"
    },
    {
     "name": "stderr",
     "output_type": "stream",
     "text": [
      "Batches:   0%|          | 0/1 [00:00<?, ?it/s]hes(DocEmbedding)) pid=307938)\u001b[0m \n"
     ]
    },
    {
     "name": "stdout",
     "output_type": "stream",
     "text": [
      "execute with ray took 47.292022357694805 sec\n"
     ]
    },
    {
     "data": {
      "text/html": [
       "<div>\n",
       "<style scoped>\n",
       "    .dataframe tbody tr th:only-of-type {\n",
       "        vertical-align: middle;\n",
       "    }\n",
       "\n",
       "    .dataframe tbody tr th {\n",
       "        vertical-align: top;\n",
       "    }\n",
       "\n",
       "    .dataframe thead th {\n",
       "        text-align: right;\n",
       "    }\n",
       "</style>\n",
       "<table border=\"1\" class=\"dataframe\">\n",
       "  <thead>\n",
       "    <tr style=\"text-align: right;\">\n",
       "      <th></th>\n",
       "      <th>text</th>\n",
       "    </tr>\n",
       "  </thead>\n",
       "  <tbody>\n",
       "    <tr>\n",
       "      <th>0</th>\n",
       "      <td>Intel Reports Third-Quarter 2023 Financial Results ==================================================    [Download as PDF](https://d1io3yog0oux5.cloudfront.net/_68614b7f1d0de99bd7f726f92c573cc8/intel/db/887/8973/earnings_release/Q3+23+EarningsRelease.pdf \"PDF: Intel Reports Third-Quarter 2023 Financial Results\")  \\r  Oct 26, 2023 • 4:01 PM EDT      ### Related Documents        [Audio](https://...</td>\n",
       "    </tr>\n",
       "    <tr>\n",
       "      <th>1</th>\n",
       "      <td>Q3 2023 Financial Highlights      |  |  |  |  | | --- | --- | --- | --- | |   | **GAAP** |   | **Non-GAAP** | |   | **Q3 2023** | **Q3 2022** | **vs. Q3 2022** |   | **Q3 2023** | **Q3 2022** | **vs. Q3 2022** | | Revenue ($B) | $14.2 | $15.3 | down 8% |   |   |   |   | | Gross Margin | 42.5% | 42.6% | down 0.1 ppt |   | 45.8% | 45.9% | down 0.1 ppt | | R&amp;D and MG&amp;A ($B) | $5.2 | $6.0 | down 1...</td>\n",
       "    </tr>\n",
       "    <tr>\n",
       "      <th>2</th>\n",
       "      <td>▪       Intel announced that a major customer committed to Intel 18A and Intel 3 with a meaningful pre-payment, allowing the company to accelerate its plans to build two new leading-edge chip factories at its Ocotillo campus in Chandler, Arizona. In addition, IFS and Tower Semiconductor announced an agreement where Intel will provide foundry services and 300 mm manufacturing capacity to help T...</td>\n",
       "    </tr>\n",
       "    <tr>\n",
       "      <th>3</th>\n",
       "      <td>Business Outlook   Intel's guidance for the fourth quarter of 2023 includes both GAAP and non-GAAP estimates. Reconciliations between GAAP and non-GAAP financial measures are included below.\\*     |  |  |  |  |  | | --- | --- | --- | --- | --- | | **Q4 2023** |   | **GAAP\\*** |   | **Non-GAAP\\*** | | Revenue |   | $14.6-15.6 billion |   | $14.6-15.6 billion^ | | Gross Margin |   | 43.3% |   | ...</td>\n",
       "    </tr>\n",
       "    <tr>\n",
       "      <th>4</th>\n",
       "      <td>•       future production capacity and product supply;   •       supply expectations, including regarding constraints, limitations, pricing, and industry shortages;   •       plans and goals related to Intel’s foundry business, including with respect to anticipated customers, future manufacturing capacity and service, technology and IP offerings;    •       expected timing and impact of acquis...</td>\n",
       "    </tr>\n",
       "    <tr>\n",
       "      <th>5</th>\n",
       "      <td>Unless specifically indicated otherwise, the forward-looking statements in this release do not reflect the potential impact of any divestitures, mergers, acquisitions, or other business combinations that have not been completed as of the date of this filing. In addition, the forward-looking statements in this release are based on management's expectations as of the date of this release, unless...</td>\n",
       "    </tr>\n",
       "    <tr>\n",
       "      <th>6</th>\n",
       "      <td>|  |  |  | | --- | --- | --- | |   |   | **Three Months Ended** | | **(In Millions)** |   | **Sep 30, 2023** |   | **Jul 2, 2022** | | **Earnings per share of common stock information:**  |   |   |   |   | | **Weighted average shares of common stock outstanding—basic** |   | **4,202**  |   | **4,118**  | | Dilutive effect of employee equity incentive plans |   |                27  |   |       ...</td>\n",
       "    </tr>\n",
       "    <tr>\n",
       "      <th>7</th>\n",
       "      <td>Intel Corporation   Consolidated Condensed Statements of Cash Flows     |  |  |  | | --- | --- | --- | |   |   | **Nine Months Ended** | | **(In Millions; Unaudited)** |   | **Sep 30, 2023** |   | **Oct 1, 2022** | |   |   |   |   |   | | **Cash and cash equivalents, beginning of period** |   | **$         11,144**  |   | **$          4,827**  | | Cash flows provided by (used for) operating ac...</td>\n",
       "    </tr>\n",
       "    <tr>\n",
       "      <th>8</th>\n",
       "      <td>Intel Corporation   Supplemental Operating Segment Results     |  |  |  | | --- | --- | --- | |   |   | **Three Months Ended** | | **(In Millions)** |   | **Sep 30, 2023** |   | **Oct 1, 2022** | | **Net revenue:** |   |   |   |   | | **Client Computing** |   |   |   |   | | Desktop |   | $         2,753  |   | $         3,222  | | Notebook |   |            4,503  |   |            4,408  | | O...</td>\n",
       "    </tr>\n",
       "    <tr>\n",
       "      <th>9</th>\n",
       "      <td>▪       acquisition-related costs, including amortization and any impairment of acquisition-related intangibles and goodwill.          Intel Corporation   Explanation of Non-GAAP Measures   In addition to disclosing financial results in accordance with US GAAP, this document contains references to the non-GAAP financial measures below. We believe these non-GAAP financial measures provide inves...</td>\n",
       "    </tr>\n",
       "    <tr>\n",
       "      <th>10</th>\n",
       "      <td>| **Non-GAAP adjustment or measure** | **Definition**  | **Usefulness to management and investors** | | Acquisition-related adjustments | Amortization of acquisition-related intangible assets consists of amortization of intangible assets such as developed technology, brands, and customer relationships acquired in connection with business combinations. Charges related to the amortization of the...</td>\n",
       "    </tr>\n",
       "    <tr>\n",
       "      <th>11</th>\n",
       "      <td>| Gains (losses) from divestiture | Gains (losses) are recognized at the close of a divestiture, or over a specified deferral period when deferred consideration is received at the time of closing. Based on our ongoing obligation under the NAND wafer manufacturing and sale agreement entered into in connection with the first closing of the sale of our NAND memory business on December 29, 2021, a...</td>\n",
       "    </tr>\n",
       "    <tr>\n",
       "      <th>12</th>\n",
       "      <td>Intel Corporation   Supplemental Reconciliations of GAAP Actuals to Non-GAAP Actuals   Set forth below are reconciliations of the non-GAAP financial measure to the most directly comparable US GAAP financial measure. These non-GAAP financial measures should not be considered a substitute for, or superior to, financial measures calculated in accordance with US GAAP, and the reconciliations from ...</td>\n",
       "    </tr>\n",
       "    <tr>\n",
       "      <th>13</th>\n",
       "      <td>|   |   | **Three Months Ended** | | **(In Millions, Except Per Share Amounts)** |   | **Sep 30, 2023** |   | **Oct 1, 2022** | | **GAAP gross margin** |   | **$       6,018**  |   | **$       6,535**  | | Acquisition-related adjustments |   |            301     |   |            330     | | Share-based compensation |   |            164     |   |            172     | | **Non-GAAP gross margin**...</td>\n",
       "    </tr>\n",
       "    <tr>\n",
       "      <th>14</th>\n",
       "      <td>|  |  |  | | --- | --- | --- | |   |   | **Three Months Ended** | | **(In Millions)** |   | **Sep 30, 2023** |   | **Oct 1, 2022** | | **GAAP net cash provided by (used for) operating activities** |   | **$         5,824**  |   | **$         1,030**  | | Net additions to property, plant and equipment |   |           (4,881) |   |           (7,296) | | Payments on finance leases |   |          ...</td>\n",
       "    </tr>\n",
       "  </tbody>\n",
       "</table>\n",
       "</div>"
      ],
      "text/plain": [
       "                                                                                                                                                                                                                                                                                                                                                                                                               text\n",
       "0   Intel Reports Third-Quarter 2023 Financial Results ==================================================    [Download as PDF](https://d1io3yog0oux5.cloudfront.net/_68614b7f1d0de99bd7f726f92c573cc8/intel/db/887/8973/earnings_release/Q3+23+EarningsRelease.pdf \"PDF: Intel Reports Third-Quarter 2023 Financial Results\")  \\r  Oct 26, 2023 • 4:01 PM EDT      ### Related Documents        [Audio](https://...\n",
       "1   Q3 2023 Financial Highlights      |  |  |  |  | | --- | --- | --- | --- | |   | **GAAP** |   | **Non-GAAP** | |   | **Q3 2023** | **Q3 2022** | **vs. Q3 2022** |   | **Q3 2023** | **Q3 2022** | **vs. Q3 2022** | | Revenue ($B) | $14.2 | $15.3 | down 8% |   |   |   |   | | Gross Margin | 42.5% | 42.6% | down 0.1 ppt |   | 45.8% | 45.9% | down 0.1 ppt | | R&D and MG&A ($B) | $5.2 | $6.0 | down 1...\n",
       "2   ▪       Intel announced that a major customer committed to Intel 18A and Intel 3 with a meaningful pre-payment, allowing the company to accelerate its plans to build two new leading-edge chip factories at its Ocotillo campus in Chandler, Arizona. In addition, IFS and Tower Semiconductor announced an agreement where Intel will provide foundry services and 300 mm manufacturing capacity to help T...\n",
       "3   Business Outlook   Intel's guidance for the fourth quarter of 2023 includes both GAAP and non-GAAP estimates. Reconciliations between GAAP and non-GAAP financial measures are included below.\\*     |  |  |  |  |  | | --- | --- | --- | --- | --- | | **Q4 2023** |   | **GAAP\\*** |   | **Non-GAAP\\*** | | Revenue |   | $14.6-15.6 billion |   | $14.6-15.6 billion^ | | Gross Margin |   | 43.3% |   | ...\n",
       "4   •       future production capacity and product supply;   •       supply expectations, including regarding constraints, limitations, pricing, and industry shortages;   •       plans and goals related to Intel’s foundry business, including with respect to anticipated customers, future manufacturing capacity and service, technology and IP offerings;    •       expected timing and impact of acquis...\n",
       "5   Unless specifically indicated otherwise, the forward-looking statements in this release do not reflect the potential impact of any divestitures, mergers, acquisitions, or other business combinations that have not been completed as of the date of this filing. In addition, the forward-looking statements in this release are based on management's expectations as of the date of this release, unless...\n",
       "6   |  |  |  | | --- | --- | --- | |   |   | **Three Months Ended** | | **(In Millions)** |   | **Sep 30, 2023** |   | **Jul 2, 2022** | | **Earnings per share of common stock information:**  |   |   |   |   | | **Weighted average shares of common stock outstanding—basic** |   | **4,202**  |   | **4,118**  | | Dilutive effect of employee equity incentive plans |   |                27  |   |       ...\n",
       "7   Intel Corporation   Consolidated Condensed Statements of Cash Flows     |  |  |  | | --- | --- | --- | |   |   | **Nine Months Ended** | | **(In Millions; Unaudited)** |   | **Sep 30, 2023** |   | **Oct 1, 2022** | |   |   |   |   |   | | **Cash and cash equivalents, beginning of period** |   | **$         11,144**  |   | **$          4,827**  | | Cash flows provided by (used for) operating ac...\n",
       "8   Intel Corporation   Supplemental Operating Segment Results     |  |  |  | | --- | --- | --- | |   |   | **Three Months Ended** | | **(In Millions)** |   | **Sep 30, 2023** |   | **Oct 1, 2022** | | **Net revenue:** |   |   |   |   | | **Client Computing** |   |   |   |   | | Desktop |   | $         2,753  |   | $         3,222  | | Notebook |   |            4,503  |   |            4,408  | | O...\n",
       "9   ▪       acquisition-related costs, including amortization and any impairment of acquisition-related intangibles and goodwill.          Intel Corporation   Explanation of Non-GAAP Measures   In addition to disclosing financial results in accordance with US GAAP, this document contains references to the non-GAAP financial measures below. We believe these non-GAAP financial measures provide inves...\n",
       "10  | **Non-GAAP adjustment or measure** | **Definition**  | **Usefulness to management and investors** | | Acquisition-related adjustments | Amortization of acquisition-related intangible assets consists of amortization of intangible assets such as developed technology, brands, and customer relationships acquired in connection with business combinations. Charges related to the amortization of the...\n",
       "11  | Gains (losses) from divestiture | Gains (losses) are recognized at the close of a divestiture, or over a specified deferral period when deferred consideration is received at the time of closing. Based on our ongoing obligation under the NAND wafer manufacturing and sale agreement entered into in connection with the first closing of the sale of our NAND memory business on December 29, 2021, a...\n",
       "12  Intel Corporation   Supplemental Reconciliations of GAAP Actuals to Non-GAAP Actuals   Set forth below are reconciliations of the non-GAAP financial measure to the most directly comparable US GAAP financial measure. These non-GAAP financial measures should not be considered a substitute for, or superior to, financial measures calculated in accordance with US GAAP, and the reconciliations from ...\n",
       "13  |   |   | **Three Months Ended** | | **(In Millions, Except Per Share Amounts)** |   | **Sep 30, 2023** |   | **Oct 1, 2022** | | **GAAP gross margin** |   | **$       6,018**  |   | **$       6,535**  | | Acquisition-related adjustments |   |            301     |   |            330     | | Share-based compensation |   |            164     |   |            172     | | **Non-GAAP gross margin**...\n",
       "14  |  |  |  | | --- | --- | --- | |   |   | **Three Months Ended** | | **(In Millions)** |   | **Sep 30, 2023** |   | **Oct 1, 2022** | | **GAAP net cash provided by (used for) operating activities** |   | **$         5,824**  |   | **$         1,030**  | | Net additions to property, plant and equipment |   |           (4,881) |   |           (7,296) | | Payments on finance leases |   |          ..."
      ]
     },
     "metadata": {},
     "output_type": "display_data"
    },
    {
     "name": "stderr",
     "output_type": "stream",
     "text": [
      "Batches: 100%|██████████| 1/1 [00:12<00:00, 12.95s/it]mbedding)) pid=307938)\u001b[0m \n"
     ]
    }
   ],
   "source": [
    "from pyrecdp.primitives.operations import *\n",
    "from pyrecdp.LLM import TextPipeline\n",
    "from pyrecdp.core.cache_utils import RECDP_MODELS_CACHE\n",
    "from langchain.embeddings import HuggingFaceEmbeddings\n",
    "from langchain.vectorstores.faiss import FAISS\n",
    "import os\n",
    "parquet_file=\"/content/test/parquet\"\n",
    "pipeline = TextPipeline()\n",
    "ops = [\n",
    "    Url_Loader([\"https://www.intc.com/news-events/press-releases/detail/1655/intel-reports-third-quarter-2023-financial-results\"],\n",
    "                   target_tag='div', target_attrs={'class': 'main-content'}),\n",
    "    DocumentSplit(text_splitter='RecursiveCharacterTextSplitter', text_splitter_args={}),\n",
    "    #DocumentSplit(text_splitter='SentenceTransformersTokenTextSplitter', text_splitter_args={'model_name': sentence_model_name}),\n",
    "    DocumentIngestion(\n",
    "            vector_store='FAISS',\n",
    "            vector_store_args={\n",
    "                \"output_dir\": faiss_output_path,\n",
    "                \"index\": faiss_index_name\n",
    "            },\n",
    "            embeddings='HuggingFaceEmbeddings',\n",
    "            embeddings_args={\n",
    "                'model_name': sentence_model_name,\n",
    "            }\n",
    "        ),\n",
    "    \n",
    "]\n",
    "pipeline.add_operations(ops)\n",
    "pipeline.execute()\n",
    "\n",
    "import pandas as pd \n",
    "from pandas import option_context\n",
    "\n",
    "with option_context('display.max_colwidth', 400):\n",
    "    ds = pd.read_parquet(parquet_file)\n",
    "    display(ds[[\"text\"]])\n"
   ]
  },
  {
   "cell_type": "markdown",
   "metadata": {},
   "source": [
    "### Step 2 Retrieve"
   ]
  },
  {
   "cell_type": "code",
   "execution_count": 16,
   "metadata": {},
   "outputs": [
    {
     "name": "stdout",
     "output_type": "stream",
     "text": [
      "question: Has Intel made any organizational structure adjustments?\n",
      "answers:\n",
      "    Unless specifically indicated otherwise, the forward-looking statements in this release do not reflect the potential impact of any divestitures, mergers, acquisitions, or other business combinations that have not been completed as of the date of this filing. In addition, the forward-looking statements in this release are based on management's expectations as of the date of this release, unless an earlier date is specified, including expectations based on third-party information and projections that management believes to be reputable. We do not undertake, and expressly disclaim any duty, to update such statements, whether as a result of new information, new developments, or otherwise, except to the extent that disclosure may be required by law.          About Intel   Intel (Nasdaq: INTC) is an industry leader, creating world-changing technology that enables global progress and enriches lives. Inspired by Moore’s Law, we continuously work to advance the design and manufacturing of semiconductors to help address our customers’ greatest challenges. By embedding intelligence in the cloud, network, edge and every kind of computing device, we unleash the potential of data to transform business and society for the better. To learn more about Intel’s innovations, go to newsroom.intel.com and intel.com.   ..   © Intel Corporation. Intel, the Intel logo, and other Intel marks are trademarks of Intel Corporation or its subsidiaries. Other names and brands may be claimed as the property of others.             Intel Corporation   Consolidated Condensed Statements of Income and Other Information      |  |  |  | | --- | --- | --- | |   |   | **Three Months Ended** | | **(In Millions, Except Per Share Amounts; Unaudited)** |   | **Sep 30, 2023** |   | **Oct 1, 2022** | | **Net revenue** |   | **$        14,158**  |   | **$        15,338**  | | Cost of sales |   |            8,140  |   |            8,803  | | **Gross margin** |   | **6,018**  |   | **6,535**  | | Research and development |   |            3,870  |   |            4,302  | | Marketing, general, and administrative |   |            1,340  |   |            1,744  | | Restructuring and other charges |   |               816  |   |               664  | | **Operating expenses** |   | **6,026**  |   | **6,710**  | | **Operating income (loss)** |   | **(8)** |   | **(175)** | | Gains (losses) on equity investments, net |   |             (191) |   |             (151) | | Interest and other, net |   |               147  |   |               138  | | **Income (loss) before taxes** |   | **(52)** |   | **(188)** | | Provision for (benefit from) taxes |   |             (362) |   |           (1,207) | | **Net income (loss)** |   | **310**  |   | **1,019**  | | Less: Net income (loss) attributable to non-controlling interests |   |                13  |   |                 —  | | **Net income (loss) attributable to Intel** |   | **$            297**  |   | **$         1,019**  | | **Earnings (loss) per share attributable to Intel—basic** |   | **$           0.07**  |   | **$           0.25**  | | **Earnings (loss) per share attributable to Intel—diluted** |   | **$           0.07**  |   | **$           0.25**  | |   |   |   |   |   | | Weighted average shares of common stock outstanding: |   |   |   |   | | **Basic** |   | **4,202**  |   | **4,118**  | | **Diluted** |   | **4,229**  |   | **4,125**  |\n",
      "    Intel Corporation   Supplemental Operating Segment Results     |  |  |  | | --- | --- | --- | |   |   | **Three Months Ended** | | **(In Millions)** |   | **Sep 30, 2023** |   | **Oct 1, 2022** | | **Net revenue:** |   |   |   |   | | **Client Computing** |   |   |   |   | | Desktop |   | $         2,753  |   | $         3,222  | | Notebook |   |            4,503  |   |            4,408  | | Other |   |               611  |   |               498  | |   |   | **7,867**  |   | **8,128**  | |   |   |   |   |   | | **Data Center and AI** |   | **3,814**  |   | **4,255**  | | **Network and Edge** |   | **1,450**  |   | **2,133**  | | **Mobileye** |   | **530**  |   | **450**  | | **Intel Foundry Services** |   | **311**  |   | **78**  | | **All other** |   | **186**  |   | **294**  | | **Total net revenue** |   | **$        14,158**  |   | **$        15,338**  | |   |   |   |   |   | | **Operating income (loss):** |   |   |   |   | | **Client Computing** |   | **$         2,073**  |   | **$         1,447**  | | **Data Center and AI** |   | **71**  |   | **(139)** | | **Network and Edge** |   | **17**  |   | **197**  | | **Mobileye** |   | **170**  |   | **142**  | | **Intel Foundry Services** |   | **(86)** |   | **(90)** | | **All other** |   | **(2,253)** |   | **(1,732)** | | **Total operating income (loss)** |   | **$              (8)** |   | **$           (175)** |       We derive a substantial majority of our revenue from our principal products that incorporate various components and technologies, including a microprocessor and chipset, a stand-alone system-on-chip or a multichip package, which are based on Intel architecture.    Revenue for our reportable and non-reportable operating segments is primarily related to the following product lines:   ▪       CCG includes products designed for end-user form factors, focusing on higher growth segments of 2 in 1, thin-and-light, commercial and gaming, and growing other products such as connectivity and graphics.   ▪       DCAI includes a broad portfolio of central processing units (CPUs), domain-specific accelerators and field programmable gate arrays (FPGAs), designed to empower data center and hyperscale solutions for diverse computing needs.   ▪       NEX includes programmable platforms and high-performance connectivity and compute solutions designed for market segments such as cloud networking, telecommunications networks, on-premises edge, software and platforms.    ▪       Mobileye includes the development and deployment of advanced driver-assistance systems (ADAS) and autonomous driving technologies and solutions.   ▪       IFS provides differentiated full stack solutions including wafer fabrication, packaging, chiplet standard and software.   We have sales and marketing, manufacturing, engineering, finance and administration groups. Expenses for these groups are generally allocated to the operating segments.   We have an \"all other\" category that includes revenue, expenses and charges such as:   ▪       results of operations from non-reportable segments not otherwise presented, and from start-up businesses that support our initiatives;   ▪       historical results of operations from divested businesses;    ▪       amounts included within restructuring and other charges;    ▪       employee benefits, compensation, impairment charges, and other expenses not allocated to the operating segments; and    ▪       acquisition-related costs, including amortization and any impairment of acquisition-related intangibles and goodwill.          Intel Corporation   Explanation of Non-GAAP Measures\n",
      "    Intel Corporation   Consolidated Condensed Statements of Cash Flows     |  |  |  | | --- | --- | --- | |   |   | **Nine Months Ended** | | **(In Millions; Unaudited)** |   | **Sep 30, 2023** |   | **Oct 1, 2022** | |   |   |   |   |   | | **Cash and cash equivalents, beginning of period** |   | **$         11,144**  |   | **$          4,827**  | | Cash flows provided by (used for) operating activities: |   |   |   |   | | Net income (loss) |   |              (985) |   |             8,678  | | Adjustments to reconcile net income (loss) to net cash provided by operating activities: |   |   |   |   | | Depreciation |   |             5,753  |   |             8,309  | | Share-based compensation |   |             2,433  |   |             2,392  | | Restructuring and other charges |   |                718  |   |                665  | | Amortization of intangibles |   |             1,336  |   |             1,439  | | (Gains) losses on equity investments, net |   |                 47  |   |            (4,075) | | (Gains) losses on divestitures |   |                  —  |   |            (1,072) | | Changes in assets and liabilities: |   |   |   |   | | Accounts receivable |   |             1,290  |   |             1,991  | | Inventories |   |             1,758  |   |            (2,043) | | Accounts payable |   |            (1,082) |   |              (485) | | Accrued compensation and benefits |   |            (1,171) |   |            (1,912) | | Income taxes |   |            (2,676) |   |            (4,062) | | Other assets and liabilities |   |              (574) |   |            (2,095) | | **Total adjustments** |   | **7,832**  |   | **(948)** | | **Net cash provided by (used for) operating activities** |   | **6,847**  |   | **7,730**  | | Cash flows provided by (used for) investing activities: |   |   |   |   | | Additions to property, plant, and equipment |   |          (19,054) |   |          (19,145) | | Purchases of short-term investments |   |          (37,287) |   |          (31,669) | | Maturities and sales of short-term investments |   |           36,725  |   |           35,129  | | Sales of equity investments |   |                375  |   |             4,880  | | Proceeds from divestitures |   |                  —  |   |             6,579  | | Other investing |   |                518  |   |            (2,764) | | **Net cash used for investing activities** |   | **(18,723)** |   | **(6,990)** | | Cash flows provided by (used for) financing activities: |   |   |   |   | | Repayment of commercial paper |   |            (3,944) |   |                  —  | | Payments on finance leases |   |                (96) |   |              (341) | | Partner contributions |   |             1,106  |   |                  —  | | Proceeds from sales of subsidiary shares |   |             2,423  |   |                  —  | | Issuance of long-term debt, net of issuance costs |   |           11,391  |   |             6,103  | | Repayment of debt |   |              (423) |   |            (3,088) | | Payment of dividends to stockholders |   |            (2,561) |   |            (4,488) | | Other financing |   |                457  |   |                776  | | **Net cash provided by (used for) financing activities** |   | **8,353**  |   | **(1,038)** | | **Net increase (decrease) in cash and cash equivalents** |   | **(3,523)** |   | **(298)** | | **Cash and cash equivalents, end of period** |   | **$          7,621**  |   | **$          4,529**  |             Intel Corporation   Supplemental Operating Segment Results\n",
      "    |  |  |  | | --- | --- | --- | |   |   | **Three Months Ended** | | **(In Millions)** |   | **Sep 30, 2023** |   | **Jul 2, 2022** | | **Earnings per share of common stock information:**  |   |   |   |   | | **Weighted average shares of common stock outstanding—basic** |   | **4,202**  |   | **4,118**  | | Dilutive effect of employee equity incentive plans |   |                27  |   |                  7  | | **Weighted average shares of common stock outstanding—diluted** |   | **4,229**  |   | **4,125**  | |   |   |   |   |   | | **Other information:** |   |   |   |   | | Employees (in thousands) |   |            120.3  |   |            131.5  |       Intel Corporation   Consolidated Condensed Balance Sheets     |  |  |  |  |  | | --- | --- | --- | --- | --- | | **(In Millions, Except Par Value; Unaudited)** |   | **Sep 30, 2023** |   | **Dec 31, 2022** | | **Assets** |   |   |   |   | | Current assets: |   |   |   |   | | Cash and cash equivalents |   | $          7,621  |   | $         11,144  | | Short-term investments |   |           17,409  |   |           17,194  | | Accounts receivable, net |   |             2,843  |   |             4,133  | | Inventories |   |   |   |   | | Raw materials |   |             1,278  |   |             1,517  | | Work in process |   |             6,266  |   |             7,565  | | Finished goods |   |             3,922  |   |             4,142  | |   |   | **11,466**  |   | **13,224**  | | Other current assets |   |             4,472  |   |             4,712  | | **Total current assets** |   | **43,811**  |   | **50,407**  | |   |   |   |   |   | | **Property, plant and equipment, net** |   | **93,352**  |   | **80,860**  | | **Equity investments** |   | **5,700**  |   | **5,912**  | | **Goodwill** |   | **27,591**  |   | **27,591**  | | **Identified intangible assets, net** |   | **4,970**  |   | **6,018**  | | **Other long-term assets** |   | **13,413**  |   | **11,315**  | | **Total assets** |   | **$       188,837**  |   | **$       182,103**  | |   |   |   |   |   | | **Liabilities and stockholders’ equity** |   |   |   |   | | Current liabilities: |   |   |   |   | | Short-term debt |   | $          2,288  |   | $          4,367  | | Accounts payable |   |             8,669  |   |             9,595  | | Accrued compensation and benefits |   |             3,115  |   |             4,084  | | Income taxes payable |   |             2,112  |   |             2,251  | | Other accrued liabilities |   |           12,430  |   |           11,858  | | **Total current liabilities** |   | **28,614**  |   | **32,155**  | |   |   |   |   |   | | **Debt** |   | **46,591**  |   | **37,684**  | | **Other long-term liabilities** |   | **7,946**  |   | **8,978**  | | Stockholders’ equity: |   |   |   |   | | Common stock and capital in excess of par value, 4,216 issued and outstanding (4,137 issued and outstanding as of December 31, 2022) |   |           35,653  |   |           31,580  | | Accumulated other comprehensive income (loss) |   |              (861) |   |              (562) | | Retained earnings |   |           67,021  |   |           70,405  | | **Total Intel stockholders' equity** |   | **101,813**  |   | **101,423**  | | **Non-controlling interests** |   | **3,873**  |   | **1,863**  | | **Total stockholders' equity** |   | **105,686**  |   | **103,286**  | | **Total liabilities and stockholders’ equity** |   | **$       188,837**  |   | **$       182,103**  |             Intel Corporation   Consolidated Condensed Statements of Cash Flows\n",
      "\n",
      "\n",
      "question: What is DCAI's revenue in the third quarter and what is the year-on-year situation?\n",
      "answers:\n",
      "    Intel Corporation   Supplemental Operating Segment Results     |  |  |  | | --- | --- | --- | |   |   | **Three Months Ended** | | **(In Millions)** |   | **Sep 30, 2023** |   | **Oct 1, 2022** | | **Net revenue:** |   |   |   |   | | **Client Computing** |   |   |   |   | | Desktop |   | $         2,753  |   | $         3,222  | | Notebook |   |            4,503  |   |            4,408  | | Other |   |               611  |   |               498  | |   |   | **7,867**  |   | **8,128**  | |   |   |   |   |   | | **Data Center and AI** |   | **3,814**  |   | **4,255**  | | **Network and Edge** |   | **1,450**  |   | **2,133**  | | **Mobileye** |   | **530**  |   | **450**  | | **Intel Foundry Services** |   | **311**  |   | **78**  | | **All other** |   | **186**  |   | **294**  | | **Total net revenue** |   | **$        14,158**  |   | **$        15,338**  | |   |   |   |   |   | | **Operating income (loss):** |   |   |   |   | | **Client Computing** |   | **$         2,073**  |   | **$         1,447**  | | **Data Center and AI** |   | **71**  |   | **(139)** | | **Network and Edge** |   | **17**  |   | **197**  | | **Mobileye** |   | **170**  |   | **142**  | | **Intel Foundry Services** |   | **(86)** |   | **(90)** | | **All other** |   | **(2,253)** |   | **(1,732)** | | **Total operating income (loss)** |   | **$              (8)** |   | **$           (175)** |       We derive a substantial majority of our revenue from our principal products that incorporate various components and technologies, including a microprocessor and chipset, a stand-alone system-on-chip or a multichip package, which are based on Intel architecture.    Revenue for our reportable and non-reportable operating segments is primarily related to the following product lines:   ▪       CCG includes products designed for end-user form factors, focusing on higher growth segments of 2 in 1, thin-and-light, commercial and gaming, and growing other products such as connectivity and graphics.   ▪       DCAI includes a broad portfolio of central processing units (CPUs), domain-specific accelerators and field programmable gate arrays (FPGAs), designed to empower data center and hyperscale solutions for diverse computing needs.   ▪       NEX includes programmable platforms and high-performance connectivity and compute solutions designed for market segments such as cloud networking, telecommunications networks, on-premises edge, software and platforms.    ▪       Mobileye includes the development and deployment of advanced driver-assistance systems (ADAS) and autonomous driving technologies and solutions.   ▪       IFS provides differentiated full stack solutions including wafer fabrication, packaging, chiplet standard and software.   We have sales and marketing, manufacturing, engineering, finance and administration groups. Expenses for these groups are generally allocated to the operating segments.   We have an \"all other\" category that includes revenue, expenses and charges such as:   ▪       results of operations from non-reportable segments not otherwise presented, and from start-up businesses that support our initiatives;   ▪       historical results of operations from divested businesses;    ▪       amounts included within restructuring and other charges;    ▪       employee benefits, compensation, impairment charges, and other expenses not allocated to the operating segments; and    ▪       acquisition-related costs, including amortization and any impairment of acquisition-related intangibles and goodwill.          Intel Corporation   Explanation of Non-GAAP Measures\n",
      "    Q3 2023 Financial Highlights      |  |  |  |  | | --- | --- | --- | --- | |   | **GAAP** |   | **Non-GAAP** | |   | **Q3 2023** | **Q3 2022** | **vs. Q3 2022** |   | **Q3 2023** | **Q3 2022** | **vs. Q3 2022** | | Revenue ($B) | $14.2 | $15.3 | down 8% |   |   |   |   | | Gross Margin | 42.5% | 42.6% | down 0.1 ppt |   | 45.8% | 45.9% | down 0.1 ppt | | R&D and MG&A ($B) | $5.2 | $6.0 | down 14% |   | $4.6 | $5.4 | down 15% | | Operating Margin | (0.1)% | (1.1)% | up 1 ppt |   | 13.6% | 10.8% | up 2.8 ppts | | Tax Rate | 696.2% | 642.0% | n/m\\* |   | 13.0% | 13.0% | — | | Net Income (loss) Attributable to Intel ($B) | $0.3 | $1.0 | down 71% |   | $1.7 | $1.5 | up 14% | | Earnings (loss) Per Share Attributable to Intel—Diluted | $0.07 | $0.25 | down 72% |   | $0.41 | $0.37 | up 11% |    In the third quarter, the company generated $5.8 billion in cash from operations and paid dividends of $0.5 billion.             Business Unit Summary   Intel previously announced the organizational change to integrate its Accelerated Computing Systems and Graphics Group into its Client Computing Group and Data Center and AI Group. This change is intended to drive a more effective go-to-market capability and to accelerate the scale of these businesses, while also reducing costs. As a result, the company modified its segment reporting in the first quarter of 2023 to align to this and certain other business reorganizations. All prior-period segment data has been retrospectively adjusted to reflect the way the company internally receives information and manages and monitors operating segment performance starting in fiscal year 2023.     |  |  |  |  |  |  | | --- | --- | --- | --- | --- | --- | | **Business Unit Revenue and Trends** |   | **Q3 2023** |   | **vs. Q3 2022** |   | | Client Computing Group (CCG) |   | $7.9 billion |   | down | 3% |   | | Data Center and AI (DCAI) |   | $3.8 billion |   | down | 10% |   | | Network and Edge (NEX) |   | $1.5 billion |   | down | 32% |   | | Mobileye |   | $530 million |   | up | 18% |   | | Intel Foundry Services (IFS) |   | $311 million |   | up | 299% |   |   **Business Highlights**       ▪       Intel remains on track to meet its goal of achieving five nodes in four years and to regain transistor performance and power performance leadership by 2025. Along with Intel 7, Intel 4, the company’s first node using extreme ultraviolet (EUV) technology, is now in high-volume manufacturing. Intel also achieved a critical milestone on Intel 18A with the release of the 0.9 PDK. In addition, Intel announced one of the industry’s first glass substrates for next-generation advanced packaging, planned for the latter part of this decade. This breakthrough achievement will enable the continued scaling of transistors in a package and advance Moore’s Law to deliver data-centric applications.   ▪       Continuing its investment in manufacturing capacity to create a geographically balanced, secure and resilient supply chain, Intel opened Fab 34 in Leixlip, Ireland, during the quarter. Combined with the company’s planned wafer fabrication facility in Magdeburg, Germany, and planned assembly and test facility in Wrocław, Poland, this will help create a first-of-its-kind, end-to-end leading-edge semiconductor manufacturing value chain in Europe.    ▪       This week, Intel shared its plans to begin installation of the world’s first high-NA EUV tool for commercial use by the end of the year to continue the company's modernization and infrastructure expansion of the Gordon Moore Park at Ronler Acres in Oregon, one of the world’s leading semiconductor innovation and productization centers.   ▪       Intel has submitted all four of its major manufacturing proposals in Arizona, New Mexico, Ohio and Oregon, representing more than $100 billion of U.S. manufacturing and research investments, to the U.S. Department of Commerce’s CHIPS Program Office.\n",
      "  Oct 26, 2023 • 4:01 PM EDT      ### Related Documents        [Audio](https://edge.media-server.com/mmc/p/fnz7p6vb/)   [Earnings Webcast](https://edge.media-server.com/mmc/p/fnz7p6vb/)   [Earnings Presentation](https://d1io3yog0oux5.cloudfront.net/_68614b7f1d0de99bd7f726f92c573cc8/intel/db/887/8973/earnings_presentation/Q3%272023+Earnings+Deck.pdf)  [PDF](https://d1io3yog0oux5.cloudfront.net/_68614b7f1d0de99bd7f726f92c573cc8/intel/db/887/8973/earnings_presentation/Q3%272023+Earnings+Deck.pdf \"Earnings Presentation\")    [Infographic](https://d1io3yog0oux5.cloudfront.net/_68614b7f1d0de99bd7f726f92c573cc8/intel/db/887/8973/infographic/intel-q3-2023-financial-and-business-report+final+V2.pdf)  [PDF](https://d1io3yog0oux5.cloudfront.net/_68614b7f1d0de99bd7f726f92c573cc8/intel/db/887/8973/infographic/intel-q3-2023-financial-and-business-report+final+V2.pdf \"Infographic\")    [Prepared Remarks](https://d1io3yog0oux5.cloudfront.net/_68614b7f1d0de99bd7f726f92c573cc8/intel/db/887/8973/prepared_remarks/3Q23-Earnings-Script-FINAL.pdf)  [PDF](https://d1io3yog0oux5.cloudfront.net/_68614b7f1d0de99bd7f726f92c573cc8/intel/db/887/8973/prepared_remarks/3Q23-Earnings-Script-FINAL.pdf \"Prepared Remarks\")     [10-Q Filing](/filings-reports/all-sec-filings/content/0000050863-23-000103/intc-20230930.htm \"10-Q Filing Viewer\")   [PDF](/filings-reports/all-sec-filings/content/0000050863-23-000103/0000050863-23-000103.pdf \"10-Q\")  [HTML](/filings-reports/all-sec-filings/content/0000050863-23-000103/intc-20230930.htm \"10-Q Filing Viewer\")    [XBRL](/filings-reports/all-sec-filings/xbrl_doc_only/3469 \"XBRL Viewer\")   [ZIP](/filings-reports/all-sec-filings/content/0000050863-23-000103/0000050863-23-000103-xbrl.zip \"Download Raw XBRL Files\")  [XLS](https://content.equisolve.net/sec/0000050863-23-000103/Financial_Report.xlsx \"XBRL Spreadsheet\")  [HTML](/filings-reports/all-sec-filings/xbrl_doc_only/3469 \"XBRL Viewer\")        NEWS SUMMARY   •       Third-quarter revenue of $14.2 billion, down 8% year over year (YoY).    •       Third-quarter earnings per share (EPS) attributable to Intel was $0.07; non-GAAP EPS attributable to Intel was $0.41.   •       Third-quarter revenue exceeded high end of guidance and EPS benefited from strong operating leverage and expense discipline; company achieved key milestones across process and product, foundry and artificial intelligence (AI).   •       Guiding fourth-quarter revenue of $14.6 billion to $15.6 billion, EPS attributable to Intel of $0.23 and non-GAAP EPS attributable to Intel of $0.44.       SANTA CLARA, Calif., Oct. 26, 2023 – Intel Corporation today reported third-quarter 2023 financial results.    “We delivered a standout third quarter, underscored by across-the-board progress on our process and product roadmaps, agreements with new foundry customers, and momentum as we bring AI everywhere,” said Pat Gelsinger, Intel CEO. “We continue to make meaningful progress on our IDM 2.0 transformation by relentlessly advancing our strategy, rebuilding our execution engine and delivering on our commitments to our customers.”   David Zinsner, Intel CFO, said, “Our results exceeded expectations for the third consecutive quarter, with revenue above the high end of our guidance and EPS benefiting from strong operating leverage and expense discipline. As demonstrated by our recent portfolio actions, we are highly focused on being great allocators of our owners’ capital and unlocking value for shareholders.”   Q3 2023 Financial Highlights\n",
      "    |  |  |  | | --- | --- | --- | |   |   | **Three Months Ended** | | **(In Millions)** |   | **Sep 30, 2023** |   | **Oct 1, 2022** | | **GAAP net cash provided by (used for) operating activities** |   | **$         5,824**  |   | **$         1,030**  | | Net additions to property, plant and equipment |   |           (4,881) |   |           (7,296) | | Payments on finance leases |   |                 —  |   |               (42) | | **Adjusted free cash flow** |   | **$            943**  |   | **$        (6,308)** | | **GAAP net cash used for investing activities** |   | **$        (7,394)** |   | **$        (4,571)** | | **GAAP net cash provided by (used for) financing activities** |   | **$            842**  |   | **$         3,680**  |       Intel Corporation   Supplemental Reconciliations of GAAP Outlook to Non-GAAP Outlook   Set forth below are reconciliations of the non-GAAP financial measure to the most directly comparable US GAAP financial measure. These non-GAAP financial measures should not be considered a substitute for, or superior to, financial measures calculated in accordance with US GAAP, and the financial outlook prepared in accordance with US GAAP and the reconciliations from this Business Outlook should be carefully evaluated.    Please refer to \"Explanation of Non-GAAP Measures\" in this document for a detailed explanation of the adjustments made to the comparable US GAAP measures, the ways management uses the non-GAAP measures, and the reasons why management believes the non-GAAP measures provide useful information for investors.     |  |  |  |  | | --- | --- | --- | --- | |   |   | **Q4 2023 Outlook1** |   | |   |   | Approximately |   | | **GAAP gross margin percentage** |   |  **43.3 %** |   | | Acquisition-related adjustments |   |  2.0 % |   | | Share-based compensation |   |  1.2 % |   | | **Non-GAAP gross margin percentage** |   |  **46.5 %** |   | |   |   |   |   | | **GAAP tax rate** |   |  **5 %** |   | | Income tax effects |   |  8 % |   | | **Non-GAAP tax rate** |   |  **13 %** |   | |   |   |   |   | | **GAAP earnings (loss) per share attributable to Intel—diluted** |   | **$                   0.23**  |   | | Acquisition-related adjustments |   |                      0.08     |   | | Share-based compensation |   |                      0.19     |   | | Restructuring and other charges |   |                      0.01     |   | | (Gains) losses from divestiture |   |                     (0.01)    |   | | Adjustments attributable to non-controlling interest |   |                     (0.01)    |   | | Income tax effects |   |                     (0.05)    |   | | **Non-GAAP earnings (loss) per share attributable to Intel—diluted** |   | **$                   0.44**  |   |    Released Oct 26, 2023 • 4:01 PM EDT\n",
      "\n",
      "\n",
      "question: What is Intel's revenue in the third quarter and what is the year-on-year situation?\n",
      "answers:\n",
      "  Oct 26, 2023 • 4:01 PM EDT      ### Related Documents        [Audio](https://edge.media-server.com/mmc/p/fnz7p6vb/)   [Earnings Webcast](https://edge.media-server.com/mmc/p/fnz7p6vb/)   [Earnings Presentation](https://d1io3yog0oux5.cloudfront.net/_68614b7f1d0de99bd7f726f92c573cc8/intel/db/887/8973/earnings_presentation/Q3%272023+Earnings+Deck.pdf)  [PDF](https://d1io3yog0oux5.cloudfront.net/_68614b7f1d0de99bd7f726f92c573cc8/intel/db/887/8973/earnings_presentation/Q3%272023+Earnings+Deck.pdf \"Earnings Presentation\")    [Infographic](https://d1io3yog0oux5.cloudfront.net/_68614b7f1d0de99bd7f726f92c573cc8/intel/db/887/8973/infographic/intel-q3-2023-financial-and-business-report+final+V2.pdf)  [PDF](https://d1io3yog0oux5.cloudfront.net/_68614b7f1d0de99bd7f726f92c573cc8/intel/db/887/8973/infographic/intel-q3-2023-financial-and-business-report+final+V2.pdf \"Infographic\")    [Prepared Remarks](https://d1io3yog0oux5.cloudfront.net/_68614b7f1d0de99bd7f726f92c573cc8/intel/db/887/8973/prepared_remarks/3Q23-Earnings-Script-FINAL.pdf)  [PDF](https://d1io3yog0oux5.cloudfront.net/_68614b7f1d0de99bd7f726f92c573cc8/intel/db/887/8973/prepared_remarks/3Q23-Earnings-Script-FINAL.pdf \"Prepared Remarks\")     [10-Q Filing](/filings-reports/all-sec-filings/content/0000050863-23-000103/intc-20230930.htm \"10-Q Filing Viewer\")   [PDF](/filings-reports/all-sec-filings/content/0000050863-23-000103/0000050863-23-000103.pdf \"10-Q\")  [HTML](/filings-reports/all-sec-filings/content/0000050863-23-000103/intc-20230930.htm \"10-Q Filing Viewer\")    [XBRL](/filings-reports/all-sec-filings/xbrl_doc_only/3469 \"XBRL Viewer\")   [ZIP](/filings-reports/all-sec-filings/content/0000050863-23-000103/0000050863-23-000103-xbrl.zip \"Download Raw XBRL Files\")  [XLS](https://content.equisolve.net/sec/0000050863-23-000103/Financial_Report.xlsx \"XBRL Spreadsheet\")  [HTML](/filings-reports/all-sec-filings/xbrl_doc_only/3469 \"XBRL Viewer\")        NEWS SUMMARY   •       Third-quarter revenue of $14.2 billion, down 8% year over year (YoY).    •       Third-quarter earnings per share (EPS) attributable to Intel was $0.07; non-GAAP EPS attributable to Intel was $0.41.   •       Third-quarter revenue exceeded high end of guidance and EPS benefited from strong operating leverage and expense discipline; company achieved key milestones across process and product, foundry and artificial intelligence (AI).   •       Guiding fourth-quarter revenue of $14.6 billion to $15.6 billion, EPS attributable to Intel of $0.23 and non-GAAP EPS attributable to Intel of $0.44.       SANTA CLARA, Calif., Oct. 26, 2023 – Intel Corporation today reported third-quarter 2023 financial results.    “We delivered a standout third quarter, underscored by across-the-board progress on our process and product roadmaps, agreements with new foundry customers, and momentum as we bring AI everywhere,” said Pat Gelsinger, Intel CEO. “We continue to make meaningful progress on our IDM 2.0 transformation by relentlessly advancing our strategy, rebuilding our execution engine and delivering on our commitments to our customers.”   David Zinsner, Intel CFO, said, “Our results exceeded expectations for the third consecutive quarter, with revenue above the high end of our guidance and EPS benefiting from strong operating leverage and expense discipline. As demonstrated by our recent portfolio actions, we are highly focused on being great allocators of our owners’ capital and unlocking value for shareholders.”   Q3 2023 Financial Highlights\n",
      "    Intel Corporation   Supplemental Operating Segment Results     |  |  |  | | --- | --- | --- | |   |   | **Three Months Ended** | | **(In Millions)** |   | **Sep 30, 2023** |   | **Oct 1, 2022** | | **Net revenue:** |   |   |   |   | | **Client Computing** |   |   |   |   | | Desktop |   | $         2,753  |   | $         3,222  | | Notebook |   |            4,503  |   |            4,408  | | Other |   |               611  |   |               498  | |   |   | **7,867**  |   | **8,128**  | |   |   |   |   |   | | **Data Center and AI** |   | **3,814**  |   | **4,255**  | | **Network and Edge** |   | **1,450**  |   | **2,133**  | | **Mobileye** |   | **530**  |   | **450**  | | **Intel Foundry Services** |   | **311**  |   | **78**  | | **All other** |   | **186**  |   | **294**  | | **Total net revenue** |   | **$        14,158**  |   | **$        15,338**  | |   |   |   |   |   | | **Operating income (loss):** |   |   |   |   | | **Client Computing** |   | **$         2,073**  |   | **$         1,447**  | | **Data Center and AI** |   | **71**  |   | **(139)** | | **Network and Edge** |   | **17**  |   | **197**  | | **Mobileye** |   | **170**  |   | **142**  | | **Intel Foundry Services** |   | **(86)** |   | **(90)** | | **All other** |   | **(2,253)** |   | **(1,732)** | | **Total operating income (loss)** |   | **$              (8)** |   | **$           (175)** |       We derive a substantial majority of our revenue from our principal products that incorporate various components and technologies, including a microprocessor and chipset, a stand-alone system-on-chip or a multichip package, which are based on Intel architecture.    Revenue for our reportable and non-reportable operating segments is primarily related to the following product lines:   ▪       CCG includes products designed for end-user form factors, focusing on higher growth segments of 2 in 1, thin-and-light, commercial and gaming, and growing other products such as connectivity and graphics.   ▪       DCAI includes a broad portfolio of central processing units (CPUs), domain-specific accelerators and field programmable gate arrays (FPGAs), designed to empower data center and hyperscale solutions for diverse computing needs.   ▪       NEX includes programmable platforms and high-performance connectivity and compute solutions designed for market segments such as cloud networking, telecommunications networks, on-premises edge, software and platforms.    ▪       Mobileye includes the development and deployment of advanced driver-assistance systems (ADAS) and autonomous driving technologies and solutions.   ▪       IFS provides differentiated full stack solutions including wafer fabrication, packaging, chiplet standard and software.   We have sales and marketing, manufacturing, engineering, finance and administration groups. Expenses for these groups are generally allocated to the operating segments.   We have an \"all other\" category that includes revenue, expenses and charges such as:   ▪       results of operations from non-reportable segments not otherwise presented, and from start-up businesses that support our initiatives;   ▪       historical results of operations from divested businesses;    ▪       amounts included within restructuring and other charges;    ▪       employee benefits, compensation, impairment charges, and other expenses not allocated to the operating segments; and    ▪       acquisition-related costs, including amortization and any impairment of acquisition-related intangibles and goodwill.          Intel Corporation   Explanation of Non-GAAP Measures\n",
      "    Business Outlook   Intel's guidance for the fourth quarter of 2023 includes both GAAP and non-GAAP estimates. Reconciliations between GAAP and non-GAAP financial measures are included below.\\*     |  |  |  |  |  | | --- | --- | --- | --- | --- | | **Q4 2023** |   | **GAAP\\*** |   | **Non-GAAP\\*** | | Revenue |   | $14.6-15.6 billion |   | $14.6-15.6 billion^ | | Gross Margin |   | 43.3% |   | 46.5% | | Tax Rate |   | 5% |   | 13% | | Earnings (Loss) Per Share Attributable to Intel—Diluted |   | $0.23 |   | $0.44 |   ^ *No adjustment on a non-GAAP basis.*       Actual results may differ materially from Intel’s Business Outlook as a result of, among other things, the factors described under “Forward-Looking Statements” below. The gross margin and EPS outlook are based on the mid-point of the revenue range.   \\*Effective January 2023, Intel increased the estimated useful life of certain production machinery and equipment from five years to eight years. When compared to the estimated useful life in place as of the end of 2022, Intel expects total depreciation expense in 2023 to be reduced by $4.2 billion. Intel expects this change will result in an approximately $2.5 billion increase to gross margin, a $400 million decrease in R&D expenses and a $1.3 billion decrease in ending inventory values.    Earnings Webcast   Intel will hold a public webcast at 2 p.m. PDT today to discuss the results for its third-quarter 2023. The live public webcast can be accessed on Intel's Investor Relations website at www.intc.com. The corresponding earnings presentation and webcast replay will also be available on the site.      Forward-Looking Statements   This release contains forward-looking statements that involve a number of risks and uncertainties. Words such as \"accelerate\", \"achieve\", \"aim\", \"ambitions\", \"anticipate\", \"believe\", \"committed\", \"continue\", \"could\", \"designed\", \"estimate\", \"expect\", \"forecast\", \"future\", \"goals\", \"grow\", \"guidance\", \"intend\", \"likely\", \"may\", \"might\", \"milestones\", \"next generation\", \"objective\", \"on track\", \"opportunity\", \"outlook\", \"pending\", \"plan\", \"position\", \"potential\", \"possible\", \"predict\", \"progress\", \"ramp\", \"roadmap\", \"seeks\", \"should\", \"strive\", \"targets\", \"to be\", \"upcoming\", \"will\", \"would\", and variations of such words and similar expressions are intended to identify such forward-looking statements, which may include statements regarding:   •       our business plans and strategy and anticipated benefits therefrom, including with respect to our IDM 2.0 strategy, our partnership with Brookfield, the transition to an internal foundry model, updates to our reporting structure and our AI strategy;   •       projections of our future financial performance, including future revenue, gross margins, capital expenditures, and cash flows;   •       projected costs and yield trends;   •       future cash requirements and the availability, uses, sufficiency, and cost of capital resources, and sources of funding, including future capital and R&D investments, credit rating expectations, and expected returns to stockholders, such as stock repurchases and dividends;   •       future products, services and technologies, and the expected goals, timeline, ramps, progress, availability, production, regulation and benefits of such products, services and technologies, including future process nodes and packaging technology, product roadmaps, schedules, future product architectures, expectations regarding process performance, per-watt parity, and metrics and expectations regarding product and process leadership;   •       investment plans, and impacts of investment plans, including in the US and abroad;    •       internal and external manufacturing plans, including future internal manufacturing volumes, manufacturing expansion plans and the financing therefor, and external foundry usage;   •       future production capacity and product supply;\n",
      "    Intel Corporation   Consolidated Condensed Statements of Cash Flows     |  |  |  | | --- | --- | --- | |   |   | **Nine Months Ended** | | **(In Millions; Unaudited)** |   | **Sep 30, 2023** |   | **Oct 1, 2022** | |   |   |   |   |   | | **Cash and cash equivalents, beginning of period** |   | **$         11,144**  |   | **$          4,827**  | | Cash flows provided by (used for) operating activities: |   |   |   |   | | Net income (loss) |   |              (985) |   |             8,678  | | Adjustments to reconcile net income (loss) to net cash provided by operating activities: |   |   |   |   | | Depreciation |   |             5,753  |   |             8,309  | | Share-based compensation |   |             2,433  |   |             2,392  | | Restructuring and other charges |   |                718  |   |                665  | | Amortization of intangibles |   |             1,336  |   |             1,439  | | (Gains) losses on equity investments, net |   |                 47  |   |            (4,075) | | (Gains) losses on divestitures |   |                  —  |   |            (1,072) | | Changes in assets and liabilities: |   |   |   |   | | Accounts receivable |   |             1,290  |   |             1,991  | | Inventories |   |             1,758  |   |            (2,043) | | Accounts payable |   |            (1,082) |   |              (485) | | Accrued compensation and benefits |   |            (1,171) |   |            (1,912) | | Income taxes |   |            (2,676) |   |            (4,062) | | Other assets and liabilities |   |              (574) |   |            (2,095) | | **Total adjustments** |   | **7,832**  |   | **(948)** | | **Net cash provided by (used for) operating activities** |   | **6,847**  |   | **7,730**  | | Cash flows provided by (used for) investing activities: |   |   |   |   | | Additions to property, plant, and equipment |   |          (19,054) |   |          (19,145) | | Purchases of short-term investments |   |          (37,287) |   |          (31,669) | | Maturities and sales of short-term investments |   |           36,725  |   |           35,129  | | Sales of equity investments |   |                375  |   |             4,880  | | Proceeds from divestitures |   |                  —  |   |             6,579  | | Other investing |   |                518  |   |            (2,764) | | **Net cash used for investing activities** |   | **(18,723)** |   | **(6,990)** | | Cash flows provided by (used for) financing activities: |   |   |   |   | | Repayment of commercial paper |   |            (3,944) |   |                  —  | | Payments on finance leases |   |                (96) |   |              (341) | | Partner contributions |   |             1,106  |   |                  —  | | Proceeds from sales of subsidiary shares |   |             2,423  |   |                  —  | | Issuance of long-term debt, net of issuance costs |   |           11,391  |   |             6,103  | | Repayment of debt |   |              (423) |   |            (3,088) | | Payment of dividends to stockholders |   |            (2,561) |   |            (4,488) | | Other financing |   |                457  |   |                776  | | **Net cash provided by (used for) financing activities** |   | **8,353**  |   | **(1,038)** | | **Net increase (decrease) in cash and cash equivalents** |   | **(3,523)** |   | **(298)** | | **Cash and cash equivalents, end of period** |   | **$          7,621**  |   | **$          4,529**  |             Intel Corporation   Supplemental Operating Segment Results\n",
      "\n",
      "\n"
     ]
    }
   ],
   "source": [
    "\n",
    "questions = [\n",
    "    \"Has Intel made any organizational structure adjustments?\",\n",
    "    \"What is DCAI's revenue in the third quarter and what is the year-on-year situation?\",\n",
    "    \"What is Intel's revenue in the third quarter and what is the year-on-year situation?\",\n",
    "]\n",
    "\n",
    "embeddings = HuggingFaceEmbeddings(model_name=sentence_model_name)\n",
    "new_db = FAISS.load_local(faiss_output_path, embeddings=embeddings, index_name=faiss_index_name )\n",
    "result = {}\n",
    "for question in questions:\n",
    "    docs = new_db.similarity_search(question)\n",
    "    result[question] = [doc.page_content for doc in docs]\n",
    "    \n",
    "    \n",
    "for question, answers in result.items():\n",
    "    print(f\"question: {question}\" )\n",
    "    print(f\"answers:\")\n",
    "    for answer in answers:\n",
    "        print(f\"    {answer}\")\n",
    "    print(\"\\n\")\n",
    "    "
   ]
  }
 ],
 "metadata": {
  "colab": {
   "provenance": []
  },
  "kernelspec": {
   "display_name": "Python 3 (ipykernel)",
   "language": "python",
   "name": "python3"
  },
  "language_info": {
   "codemirror_mode": {
    "name": "ipython",
    "version": 3
   },
   "file_extension": ".py",
   "mimetype": "text/x-python",
   "name": "python",
   "nbconvert_exporter": "python",
   "pygments_lexer": "ipython3",
   "version": "3.10.12"
  }
 },
 "nbformat": 4,
 "nbformat_minor": 5
}
