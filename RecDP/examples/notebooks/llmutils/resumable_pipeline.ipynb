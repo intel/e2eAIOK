{
 "cells": [
  {
   "cell_type": "markdown",
   "metadata": {
    "id": "BT-BjcaHj3eh"
   },
   "source": [
    "## Install pyrecdp from github"
   ]
  },
  {
   "cell_type": "code",
   "execution_count": null,
   "metadata": {
    "id": "E3ffXVymdeKg"
   },
   "outputs": [],
   "source": [
    "! pip install 'git+https://github.com/intel/e2eAIOK.git#egg=pyrecdp&subdirectory=RecDP'"
   ]
  },
  {
   "cell_type": "markdown",
   "metadata": {
    "id": "KVAcXKenj_sZ"
   },
   "source": [
    "## Install jdk for pyspark running"
   ]
  },
  {
   "cell_type": "code",
   "execution_count": null,
   "metadata": {
    "id": "4Z1dPdx3dwf1"
   },
   "outputs": [],
   "source": [
    "! DEBIAN_FRONTEND=noninteractive apt-get install -y openjdk-8-jre"
   ]
  },
  {
   "cell_type": "markdown",
   "metadata": {
    "id": "bMqBJ9eckIs6"
   },
   "source": [
    "### Prepare test data"
   ]
  },
  {
   "cell_type": "code",
   "execution_count": null,
   "metadata": {
    "id": "2SFjDgfLd4qE"
   },
   "outputs": [],
   "source": [
    "%mkdir -p /content/test_data\n",
    "%cd /content/test_data\n",
    "!wget -P /content/test_data https://raw.githubusercontent.com/intel/e2eAIOK/main/RecDP/tests/data/llm_data/arxiv_sample_100.jsonl\n",
    "!wget -P /content/test_data https://raw.githubusercontent.com/intel/e2eAIOK/main/RecDP/tests/data/llm_data/github_sample_50.jsonl\n",
    "!wget -P /content/test_data https://raw.githubusercontent.com/intel/e2eAIOK/main/RecDP/tests/data/llm_data/pii_test.jsonl\n",
    "!wget -P /content/test_data https://raw.githubusercontent.com/intel/e2eAIOK/main/RecDP/tests/data/llm_data/tiny_c4_sample.jsonl"
   ]
  },
  {
   "cell_type": "markdown",
   "metadata": {
    "id": "JjTnnzw_kRVV"
   },
   "source": [
    "## Import filter functions"
   ]
  },
  {
   "cell_type": "code",
   "execution_count": 14,
   "metadata": {
    "id": "Swy-H3HQepjA"
   },
   "outputs": [],
   "source": [
    "from pyrecdp.primitives.llmutils.text_fixer import text_fixer\n"
   ]
  },
  {
   "cell_type": "markdown",
   "metadata": {
    "id": "XXGify_rkXHZ"
   },
   "source": [
    "## Specify input data path, output path,input data type and text types"
   ]
  },
  {
   "cell_type": "code",
   "execution_count": 15,
   "metadata": {
    "id": "UvIWsnV-fYmv"
   },
   "outputs": [],
   "source": [
    "data_dir = \"/content/test_data\"\n",
    "out_dir = \"/content/output\"\n",
    "in_type = \"jsonl\"\n",
    "text_types = [\"html\", 'latex', \"codes\"]\n"
   ]
  },
  {
   "cell_type": "markdown",
   "metadata": {
    "id": "nj0LuIsFkhRr"
   },
   "source": [
    "## Process the 'text' column  and remove unnecessary control characters, HTML elements and comments\n",
    "\n",
    "\n",
    "\n"
   ]
  },
  {
   "cell_type": "code",
   "execution_count": 16,
   "metadata": {
    "colab": {
     "base_uri": "https://localhost:8080/"
    },
    "id": "vftAYZMwfllh",
    "outputId": "21041b9e-3643-427c-ca71-0eca0bf622b9"
   },
   "outputs": [
    {
     "name": "stdout",
     "output_type": "stream",
     "text": [
      "Will assign 1 cores and 10386 M memory for spark\n",
      "per core memory size is 10.143 GB and shuffle_disk maximum capacity is 8589934592.000 GB\n",
      "Load data from jsonl file started ...\n",
      "Load data from jsonl file took 0.7552096419999543 sec\n",
      "Processing data started ...\n",
      "Processing data took 0.12260321699977794 sec\n",
      "Save data started ...\n",
      "Save data took 11.986804642999687 sec\n",
      "Completed!!\n",
      "    Loaded and processed total 602 documents\n"
     ]
    }
   ],
   "source": [
    "text_fixer(data_dir, in_type, out_dir,text_types)"
   ]
  }
 ],
 "metadata": {
  "colab": {
   "provenance": []
  },
  "kernelspec": {
   "display_name": "Python 3 (ipykernel)",
   "language": "python",
   "name": "python3"
  },
  "language_info": {
   "codemirror_mode": {
    "name": "ipython",
    "version": 3
   },
   "file_extension": ".py",
   "mimetype": "text/x-python",
   "name": "python",
   "nbconvert_exporter": "python",
   "pygments_lexer": "ipython3",
   "version": "3.10.12"
  }
 },
 "nbformat": 4,
 "nbformat_minor": 4
}
