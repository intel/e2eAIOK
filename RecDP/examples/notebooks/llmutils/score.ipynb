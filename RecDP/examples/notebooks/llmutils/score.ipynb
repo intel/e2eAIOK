{
 "cells": [
  {
   "cell_type": "markdown",
   "id": "xqO9S27psEaG",
   "metadata": {
    "id": "xqO9S27psEaG"
   },
   "source": [
    "# RecDP LLM - Dataset Score Assessment\n",
    "\n",
    "This notebook shows how to use several tools to evaluate the quality score, diversity, toxicity, perplexity and rouge of a dataset."
   ]
  },
  {
   "cell_type": "markdown",
   "id": "x19WYyOQsdDq",
   "metadata": {
    "id": "x19WYyOQsdDq"
   },
   "source": [
    "# Get Started"
   ]
  },
  {
   "cell_type": "markdown",
   "id": "hNOO3-I-Tgzd",
   "metadata": {
    "id": "hNOO3-I-Tgzd"
   },
   "source": [
    "## 1. Install pyrecdp and dependencies"
   ]
  },
  {
   "cell_type": "code",
   "execution_count": null,
   "id": "316b3984-7840-45a2-88db-33ee2fac4930",
   "metadata": {
    "id": "736fb211-dbe6-4ca9-a1b1-db2cff2d287a"
   },
   "outputs": [],
   "source": [
    "! DEBIAN_FRONTEND=noninteractive apt-get install -qq -y openjdk-8-jre\n",
    "! pip install -q pyrecdp --pre\n",
    "# ! pip install 'git+https://github.com/intel/e2eAIOK.git#egg=pyrecdp&subdirectory=RecDP'"
   ]
  },
  {
   "cell_type": "markdown",
   "id": "3UMkbvwwT2Vc",
   "metadata": {
    "id": "3UMkbvwwT2Vc"
   },
   "source": [
    "## 2. Prepare your data"
   ]
  },
  {
   "cell_type": "code",
   "execution_count": null,
   "id": "d6fX0InLTTXt",
   "metadata": {
    "id": "d6fX0InLTTXt"
   },
   "outputs": [],
   "source": [
    "%mkdir -p /content/test_data\n",
    "%cd /content/test_data\n",
    "!wget https://raw.githubusercontent.com/intel/e2eAIOK/main/RecDP/tests/data/llm_data/tiny_c4_sample_10.jsonl"
   ]
  },
  {
   "cell_type": "markdown",
   "id": "G3wjx-yItOkR",
   "metadata": {
    "id": "G3wjx-yItOkR"
   },
   "source": [
    "## 3. Score Assement"
   ]
  },
  {
   "cell_type": "code",
   "execution_count": null,
   "id": "f41e847f-d8ea-4995-a353-7ce7bb3df5ae",
   "metadata": {},
   "outputs": [],
   "source": [
    "from pyrecdp.LLM import TextPipeline, ResumableTextPipeline\n",
    "from pyrecdp.primitives.operations import *"
   ]
  },
  {
   "cell_type": "markdown",
   "id": "yAscO0gQWBKa",
   "metadata": {
    "id": "yAscO0gQWBKa"
   },
   "source": [
    "### 3.1 Process with toxicity and perplexity scorer"
   ]
  },
  {
   "cell_type": "code",
   "execution_count": null,
   "id": "q65vRbH7uJwC",
   "metadata": {
    "colab": {
     "base_uri": "https://localhost:8080/",
     "height": 396,
     "referenced_widgets": [
      "db4260225b4f4c59a65491860c2cfd40",
      "c617382f949f41a899a8891abae6ac05",
      "793adfc9606547dd95e09534c6a8ee9c",
      "53d09e33fd3b4532937a0d383fe28310",
      "2910b4043048423b94958349a212d7b6",
      "0c1a1de47d404194b50c571744337ab2",
      "148574df54a94354a4978cf94be86a76",
      "d67f914b86584956b643e5b017ebf2fd",
      "9756942b4f9b426897fb92b6b353017d",
      "e44de870690644f88c24a0afa74aa54d",
      "cfe7ffb4c8194d88aed5c0564b25eef5"
     ]
    },
    "id": "q65vRbH7uJwC",
    "outputId": "7ca9b420-4f1e-48a1-c539-fd5beb0907e7"
   },
   "outputs": [],
   "source": [
    "pipeline = ResumableTextPipeline()\n",
    "pipeline.enable_statistics()\n",
    "ops = [\n",
    "    JsonlReader(\"/content/test_data/\"),\n",
    "    TextPerplexityScore(),\n",
    "    TextToxicity(huggingface_config_path=\"/root/.cache/huggingface/hub/models--xlm-roberta-base\"),\n",
    "    ParquetWriter(\"ResumableTextPipeline_output-1\")\n",
    "]\n",
    "pipeline.add_operations(ops)\n",
    "ret = pipeline.execute()\n",
    "del pipeline"
   ]
  },
  {
   "cell_type": "markdown",
   "id": "12b1bfef-8d1f-4e7d-80d7-1d8906f9db61",
   "metadata": {},
   "source": [
    "### 3.2 Process with QualityScorer, Diversity and Rouge scorer"
   ]
  },
  {
   "cell_type": "code",
   "execution_count": null,
   "id": "f7904f51-9aca-4b79-8a0d-75cf3de91762",
   "metadata": {},
   "outputs": [],
   "source": [
    "pipeline = ResumableTextPipeline()\n",
    "pipeline.enable_statistics()\n",
    "ops = [\n",
    "    JsonlReader(\"/content/test_data/\"),\n",
    "    TextQualityScorer(),\n",
    "    TextDiversityIndicate(),\n",
    "    RougeScoreDedup(max_ratio=0.7, batch_size=20),\n",
    "    ParquetWriter(\"ResumableTextPipeline_output-2\")\n",
    "]\n",
    "pipeline.add_operations(ops)\n",
    "ret = pipeline.execute()\n",
    "del pipeline"
   ]
  },
  {
   "cell_type": "markdown",
   "id": "3ddbf3d1-a3f3-4aff-8faf-ab46fad4eb08",
   "metadata": {},
   "source": [
    "### 3.3 View score "
   ]
  },
  {
   "cell_type": "code",
   "execution_count": null,
   "id": "e4544d94-2792-4711-a7de-6a990087c60e",
   "metadata": {},
   "outputs": [],
   "source": [
    "ppl_score = json.load(os.path.join(\"ResumableTextPipeline_output-1/TextPerplexityScore-statistics\"))\n",
    "toxicity_score = json.load(os.path.join(\"ResumableTextPipeline_output-1/TextToxicity-statistics\"))\n",
    "quality_score = json.load(os.path.join(\"ResumableTextPipeline_output-2/TextQualityScorer-statistics\"))\n",
    "diversity_score = json.load(os.path.join(\"ResumableTextPipeline_output-2/TextDiversityIndicate-statistics\"))\n",
    "rouge_score = json.load(os.path.join(\"ResumableTextPipeline_output-2/RougeScoreDedup-statistics\"))\n",
    "\n",
    "print(\"Perplexity scores: \", ppl_score)\n",
    "print(\"Toxicity scores: \", toxicity_score)\n",
    "print(\"Quality scores: \", quality_score)\n",
    "print(\"Diversity scores: \", diversity_score)\n",
    "print(\"Rouge scores: \", rouge_score)"
   ]
  }
 ],
 "metadata": {
  "colab": {
   "provenance": []
  },
  "kernelspec": {
   "display_name": "Python 3 (ipykernel)",
   "language": "python",
   "name": "python3"
  },
  "language_info": {
   "codemirror_mode": {
    "name": "ipython",
    "version": 3
   },
   "file_extension": ".py",
   "mimetype": "text/x-python",
   "name": "python",
   "nbconvert_exporter": "python",
   "pygments_lexer": "ipython3",
   "version": "3.9.12"
  },
  "widgets": {
   "application/vnd.jupyter.widget-state+json": {
    "0c1a1de47d404194b50c571744337ab2": {
     "model_module": "@jupyter-widgets/base",
     "model_module_version": "1.2.0",
     "model_name": "LayoutModel",
     "state": {
      "_model_module": "@jupyter-widgets/base",
      "_model_module_version": "1.2.0",
      "_model_name": "LayoutModel",
      "_view_count": null,
      "_view_module": "@jupyter-widgets/base",
      "_view_module_version": "1.2.0",
      "_view_name": "LayoutView",
      "align_content": null,
      "align_items": null,
      "align_self": null,
      "border": null,
      "bottom": null,
      "display": null,
      "flex": null,
      "flex_flow": null,
      "grid_area": null,
      "grid_auto_columns": null,
      "grid_auto_flow": null,
      "grid_auto_rows": null,
      "grid_column": null,
      "grid_gap": null,
      "grid_row": null,
      "grid_template_areas": null,
      "grid_template_columns": null,
      "grid_template_rows": null,
      "height": null,
      "justify_content": null,
      "justify_items": null,
      "left": null,
      "margin": null,
      "max_height": null,
      "max_width": null,
      "min_height": null,
      "min_width": null,
      "object_fit": null,
      "object_position": null,
      "order": null,
      "overflow": null,
      "overflow_x": null,
      "overflow_y": null,
      "padding": null,
      "right": null,
      "top": null,
      "visibility": null,
      "width": null
     }
    },
    "148574df54a94354a4978cf94be86a76": {
     "model_module": "@jupyter-widgets/controls",
     "model_module_version": "1.5.0",
     "model_name": "DescriptionStyleModel",
     "state": {
      "_model_module": "@jupyter-widgets/controls",
      "_model_module_version": "1.5.0",
      "_model_name": "DescriptionStyleModel",
      "_view_count": null,
      "_view_module": "@jupyter-widgets/base",
      "_view_module_version": "1.2.0",
      "_view_name": "StyleView",
      "description_width": ""
     }
    },
    "2910b4043048423b94958349a212d7b6": {
     "model_module": "@jupyter-widgets/base",
     "model_module_version": "1.2.0",
     "model_name": "LayoutModel",
     "state": {
      "_model_module": "@jupyter-widgets/base",
      "_model_module_version": "1.2.0",
      "_model_name": "LayoutModel",
      "_view_count": null,
      "_view_module": "@jupyter-widgets/base",
      "_view_module_version": "1.2.0",
      "_view_name": "LayoutView",
      "align_content": null,
      "align_items": null,
      "align_self": null,
      "border": null,
      "bottom": null,
      "display": null,
      "flex": null,
      "flex_flow": null,
      "grid_area": null,
      "grid_auto_columns": null,
      "grid_auto_flow": null,
      "grid_auto_rows": null,
      "grid_column": null,
      "grid_gap": null,
      "grid_row": null,
      "grid_template_areas": null,
      "grid_template_columns": null,
      "grid_template_rows": null,
      "height": null,
      "justify_content": null,
      "justify_items": null,
      "left": null,
      "margin": null,
      "max_height": null,
      "max_width": null,
      "min_height": null,
      "min_width": null,
      "object_fit": null,
      "object_position": null,
      "order": null,
      "overflow": null,
      "overflow_x": null,
      "overflow_y": null,
      "padding": null,
      "right": null,
      "top": null,
      "visibility": null,
      "width": null
     }
    },
    "53d09e33fd3b4532937a0d383fe28310": {
     "model_module": "@jupyter-widgets/controls",
     "model_module_version": "1.5.0",
     "model_name": "HTMLModel",
     "state": {
      "_dom_classes": [],
      "_model_module": "@jupyter-widgets/controls",
      "_model_module_version": "1.5.0",
      "_model_name": "HTMLModel",
      "_view_count": null,
      "_view_module": "@jupyter-widgets/controls",
      "_view_module_version": "1.5.0",
      "_view_name": "HTMLView",
      "description": "",
      "description_tooltip": null,
      "layout": "IPY_MODEL_e44de870690644f88c24a0afa74aa54d",
      "placeholder": "​",
      "style": "IPY_MODEL_cfe7ffb4c8194d88aed5c0564b25eef5",
      "value": " 0/0 [00:00&lt;?, ?it/s]"
     }
    },
    "793adfc9606547dd95e09534c6a8ee9c": {
     "model_module": "@jupyter-widgets/controls",
     "model_module_version": "1.5.0",
     "model_name": "FloatProgressModel",
     "state": {
      "_dom_classes": [],
      "_model_module": "@jupyter-widgets/controls",
      "_model_module_version": "1.5.0",
      "_model_name": "FloatProgressModel",
      "_view_count": null,
      "_view_module": "@jupyter-widgets/controls",
      "_view_module_version": "1.5.0",
      "_view_name": "ProgressView",
      "bar_style": "success",
      "description": "",
      "description_tooltip": null,
      "layout": "IPY_MODEL_d67f914b86584956b643e5b017ebf2fd",
      "max": 1,
      "min": 0,
      "orientation": "horizontal",
      "style": "IPY_MODEL_9756942b4f9b426897fb92b6b353017d",
      "value": 0
     }
    },
    "9756942b4f9b426897fb92b6b353017d": {
     "model_module": "@jupyter-widgets/controls",
     "model_module_version": "1.5.0",
     "model_name": "ProgressStyleModel",
     "state": {
      "_model_module": "@jupyter-widgets/controls",
      "_model_module_version": "1.5.0",
      "_model_name": "ProgressStyleModel",
      "_view_count": null,
      "_view_module": "@jupyter-widgets/base",
      "_view_module_version": "1.2.0",
      "_view_name": "StyleView",
      "bar_color": null,
      "description_width": ""
     }
    },
    "c617382f949f41a899a8891abae6ac05": {
     "model_module": "@jupyter-widgets/controls",
     "model_module_version": "1.5.0",
     "model_name": "HTMLModel",
     "state": {
      "_dom_classes": [],
      "_model_module": "@jupyter-widgets/controls",
      "_model_module_version": "1.5.0",
      "_model_name": "HTMLModel",
      "_view_count": null,
      "_view_module": "@jupyter-widgets/controls",
      "_view_module_version": "1.5.0",
      "_view_name": "HTMLView",
      "description": "",
      "description_tooltip": null,
      "layout": "IPY_MODEL_0c1a1de47d404194b50c571744337ab2",
      "placeholder": "​",
      "style": "IPY_MODEL_148574df54a94354a4978cf94be86a76",
      "value": ""
     }
    },
    "cfe7ffb4c8194d88aed5c0564b25eef5": {
     "model_module": "@jupyter-widgets/controls",
     "model_module_version": "1.5.0",
     "model_name": "DescriptionStyleModel",
     "state": {
      "_model_module": "@jupyter-widgets/controls",
      "_model_module_version": "1.5.0",
      "_model_name": "DescriptionStyleModel",
      "_view_count": null,
      "_view_module": "@jupyter-widgets/base",
      "_view_module_version": "1.2.0",
      "_view_name": "StyleView",
      "description_width": ""
     }
    },
    "d67f914b86584956b643e5b017ebf2fd": {
     "model_module": "@jupyter-widgets/base",
     "model_module_version": "1.2.0",
     "model_name": "LayoutModel",
     "state": {
      "_model_module": "@jupyter-widgets/base",
      "_model_module_version": "1.2.0",
      "_model_name": "LayoutModel",
      "_view_count": null,
      "_view_module": "@jupyter-widgets/base",
      "_view_module_version": "1.2.0",
      "_view_name": "LayoutView",
      "align_content": null,
      "align_items": null,
      "align_self": null,
      "border": null,
      "bottom": null,
      "display": null,
      "flex": null,
      "flex_flow": null,
      "grid_area": null,
      "grid_auto_columns": null,
      "grid_auto_flow": null,
      "grid_auto_rows": null,
      "grid_column": null,
      "grid_gap": null,
      "grid_row": null,
      "grid_template_areas": null,
      "grid_template_columns": null,
      "grid_template_rows": null,
      "height": null,
      "justify_content": null,
      "justify_items": null,
      "left": null,
      "margin": null,
      "max_height": null,
      "max_width": null,
      "min_height": null,
      "min_width": null,
      "object_fit": null,
      "object_position": null,
      "order": null,
      "overflow": null,
      "overflow_x": null,
      "overflow_y": null,
      "padding": null,
      "right": null,
      "top": null,
      "visibility": null,
      "width": "20px"
     }
    },
    "db4260225b4f4c59a65491860c2cfd40": {
     "model_module": "@jupyter-widgets/controls",
     "model_module_version": "1.5.0",
     "model_name": "HBoxModel",
     "state": {
      "_dom_classes": [],
      "_model_module": "@jupyter-widgets/controls",
      "_model_module_version": "1.5.0",
      "_model_name": "HBoxModel",
      "_view_count": null,
      "_view_module": "@jupyter-widgets/controls",
      "_view_module_version": "1.5.0",
      "_view_name": "HBoxView",
      "box_style": "",
      "children": [
       "IPY_MODEL_c617382f949f41a899a8891abae6ac05",
       "IPY_MODEL_793adfc9606547dd95e09534c6a8ee9c",
       "IPY_MODEL_53d09e33fd3b4532937a0d383fe28310"
      ],
      "layout": "IPY_MODEL_2910b4043048423b94958349a212d7b6"
     }
    },
    "e44de870690644f88c24a0afa74aa54d": {
     "model_module": "@jupyter-widgets/base",
     "model_module_version": "1.2.0",
     "model_name": "LayoutModel",
     "state": {
      "_model_module": "@jupyter-widgets/base",
      "_model_module_version": "1.2.0",
      "_model_name": "LayoutModel",
      "_view_count": null,
      "_view_module": "@jupyter-widgets/base",
      "_view_module_version": "1.2.0",
      "_view_name": "LayoutView",
      "align_content": null,
      "align_items": null,
      "align_self": null,
      "border": null,
      "bottom": null,
      "display": null,
      "flex": null,
      "flex_flow": null,
      "grid_area": null,
      "grid_auto_columns": null,
      "grid_auto_flow": null,
      "grid_auto_rows": null,
      "grid_column": null,
      "grid_gap": null,
      "grid_row": null,
      "grid_template_areas": null,
      "grid_template_columns": null,
      "grid_template_rows": null,
      "height": null,
      "justify_content": null,
      "justify_items": null,
      "left": null,
      "margin": null,
      "max_height": null,
      "max_width": null,
      "min_height": null,
      "min_width": null,
      "object_fit": null,
      "object_position": null,
      "order": null,
      "overflow": null,
      "overflow_x": null,
      "overflow_y": null,
      "padding": null,
      "right": null,
      "top": null,
      "visibility": null,
      "width": null
     }
    }
   }
  }
 },
 "nbformat": 4,
 "nbformat_minor": 5
}
