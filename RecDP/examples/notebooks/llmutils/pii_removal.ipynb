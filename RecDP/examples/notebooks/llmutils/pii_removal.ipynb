{
  "cells": [
    {
      "cell_type": "markdown",
      "id": "z_gVsK2fahsZ",
      "metadata": {
        "id": "z_gVsK2fahsZ"
      },
      "source": [
        "# RecDP LLM - PII Removal"
      ]
    },
    {
      "cell_type": "markdown",
      "id": "lFH8BqLubYLI",
      "metadata": {
        "id": "lFH8BqLubYLI"
      },
      "source": [
        "# Get started"
      ]
    },
    {
      "cell_type": "markdown",
      "id": "n35FAQmcbdY_",
      "metadata": {
        "id": "n35FAQmcbdY_"
      },
      "source": [
        "## 1. Install pyrecdp and dependencies"
      ]
    },
    {
      "cell_type": "code",
      "execution_count": null,
      "id": "wzlH_Ms3bnGM",
      "metadata": {
        "id": "wzlH_Ms3bnGM"
      },
      "outputs": [],
      "source": [
        "! DEBIAN_FRONTEND=noninteractive apt-get install -y openjdk-8-jre\n",
        "! pip install pyrecdp --pre\n",
        "# ! pip install 'git+https://github.com/intel/e2eAIOK.git#egg=pyrecdp&subdirectory=RecDP'"
      ]
    },
    {
      "cell_type": "markdown",
      "id": "LHPfbKs7be8l",
      "metadata": {
        "id": "LHPfbKs7be8l"
      },
      "source": [
        "## 2. Prepare your own data"
      ]
    },
    {
      "cell_type": "code",
      "execution_count": null,
      "id": "ED6Z8QPdbwoF",
      "metadata": {
        "id": "ED6Z8QPdbwoF"
      },
      "outputs": [],
      "source": [
        "%mkdir -p /tmp/pii_remove\n",
        "%cd /tmp/pii_remove\n",
        "!wget https://raw.githubusercontent.com/intel/e2eAIOK/main/RecDP/tests/data/llm_data/tiny_c4_sample_for_pii.jsonl"
      ]
    },
    {
      "cell_type": "markdown",
      "id": "iIZVijQ7cG1N",
      "metadata": {
        "id": "iIZVijQ7cG1N"
      },
      "source": [
        "## 3. PII Detect and Redact"
      ]
    },
    {
      "cell_type": "code",
      "execution_count": 9,
      "id": "736fb211-dbe6-4ca9-a1b1-db2cff2d287a",
      "metadata": {
        "colab": {
          "base_uri": "https://localhost:8080/",
          "height": 545
        },
        "id": "736fb211-dbe6-4ca9-a1b1-db2cff2d287a",
        "outputId": "5e26940b-d62b-406f-f7ae-293e1b88da83"
      },
      "outputs": [
        {
          "name": "stderr",
          "output_type": "stream",
          "text": [
            "/root/miniforge3/envs/recdp/lib/python3.10/site-packages/transformers/pipelines/token_classification.py:169: UserWarning: `grouped_entities` is deprecated and will be removed in version v5.0.0, defaulted to `aggregation_strategy=\"simple\"` instead.\n",
            "  warnings.warn(\n",
            "Asking to truncate to max_length but no maximum length is provided and the model has no predefined maximum length. Default to no truncation.\n"
          ]
        },
        {
          "name": "stdout",
          "output_type": "stream",
          "text": [
            "+--------------------+--------------------+--------------------+------------------+--------------------+\n",
            "|         __SECRETS__|                meta|                text|is_modified_by_pii|             secrets|\n",
            "+--------------------+--------------------+--------------------+------------------+--------------------+\n",
            "|[{start=23, end=4...|{\"timestamp\":\"201...|This is a test em...|              true|[{'tag': 'EMAIL',...|\n",
            "|[{start=28, end=4...|{\"timestamp\":\"201...|This is a test ph...|              true|[{'tag': 'PHONE_N...|\n",
            "|[{start=27, end=3...|{\"timestamp\":\"201...|This is a test ip...|              true|[{'tag': 'IP_ADDR...|\n",
            "|[{start=17, end=2...|                null|Hello, my name is...|              true|[{'tag': 'NAME', ...|\n",
            "|                  []|{\"timestamp\":\"201...|SCRAPPY is a supe...|             false|                  []|\n",
            "|[{start=453, end=...|{\"timestamp\":\"201...|POLL: Is The SEC ...|              true|[{'tag': 'NAME', ...|\n",
            "|[{start=21, end=4...|{\"timestamp\":\"201...|Detailed racked b...|              true|[{'tag': 'NAME', ...|\n",
            "|                  []|{\"timestamp\":\"201...|Ion Coatings can ...|             false|                  []|\n",
            "|                  []|{\"timestamp\":\"201...|JessicaCloud IGOR...|             false|                  []|\n",
            "|                  []|{\"timestamp\":\"201...|This dark haired ...|             false|                  []|\n",
            "|                  []|{\"timestamp\":\"201...|Who were the firs...|             false|                  []|\n",
            "|                  []|{\"timestamp\":\"201...|Let Others Rate Y...|             false|                  []|\n",
            "|                  []|{\"timestamp\":\"201...|She’s the girl wh...|             false|                  []|\n",
            "|[{start=78, end=8...|{\"timestamp\":\"201...|I really love kal...|              true|[{'tag': 'NAME', ...|\n",
            "|                  []|{\"timestamp\":\"201...|Meet local city s...|             false|                  []|\n",
            "|                  []|{\"timestamp\":\"201...|Sunrise is an equ...|             false|                  []|\n",
            "|[{start=866, end=...|{\"timestamp\":\"201...|Home / Business /...|              true|[{'tag': 'NAME', ...|\n",
            "+--------------------+--------------------+--------------------+------------------+--------------------+\n",
            "\n"
          ]
        },
        {
          "name": "stderr",
          "output_type": "stream",
          "text": [
            "                                                                                \r"
          ]
        }
      ],
      "source": [
        "from pyrecdp.primitives.llmutils import pii_remove\n",
        "from pyspark.sql import SparkSession\n",
        "from pyrecdp.core.cache_utils import RECDP_MODELS_CACHE\n",
        "import os\n",
        "\n",
        "spark = SparkSession.builder.getOrCreate()\n",
        "input_dataset = spark.read.json(\"file:///tmp/pii_remove/tiny_c4_sample_for_pii.jsonl\")\n",
        "\n",
        "model_root_path = os.path.join(RECDP_MODELS_CACHE, \"huggingface\")\n",
        "output_dataset = pii_remove(dataset=input_dataset,text_column=\"text\", model_root_path=model_root_path, show_secret_column=True)\n",
        "output_dataset.show()\n"
      ]
    }
  ],
  "metadata": {
    "colab": {
      "provenance": []
    },
    "kernelspec": {
      "display_name": "Python 3 (ipykernel)",
      "language": "python",
      "name": "python3"
    },
    "language_info": {
      "codemirror_mode": {
        "name": "ipython",
        "version": 3
      },
      "file_extension": ".py",
      "mimetype": "text/x-python",
      "name": "python",
      "nbconvert_exporter": "python",
      "pygments_lexer": "ipython3",
      "version": "3.10.12"
    }
  },
  "nbformat": 4,
  "nbformat_minor": 5
}
