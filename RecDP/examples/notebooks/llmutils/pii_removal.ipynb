{
  "cells": [
    {
      "cell_type": "markdown",
      "id": "z_gVsK2fahsZ",
      "metadata": {
        "id": "z_gVsK2fahsZ"
      },
      "source": [
        "# RecDP LLM - PII Removal"
      ]
    },
    {
      "cell_type": "markdown",
      "id": "lFH8BqLubYLI",
      "metadata": {
        "id": "lFH8BqLubYLI"
      },
      "source": [
        "# Get started"
      ]
    },
    {
      "cell_type": "markdown",
      "id": "n35FAQmcbdY_",
      "metadata": {
        "id": "n35FAQmcbdY_"
      },
      "source": [
        "## 1. Install pyrecdp and dependencies"
      ]
    },
    {
      "cell_type": "code",
      "execution_count": null,
      "id": "wzlH_Ms3bnGM",
      "metadata": {
        "id": "wzlH_Ms3bnGM"
      },
      "outputs": [],
      "source": [
        "! DEBIAN_FRONTEND=noninteractive apt-get install -y openjdk-8-jre\n",
        "! pip install pyrecdp --pre\n",
        "# ! pip install 'git+https://github.com/intel/e2eAIOK.git#egg=pyrecdp&subdirectory=RecDP'"
      ]
    },
    {
      "cell_type": "markdown",
      "id": "LHPfbKs7be8l",
      "metadata": {
        "id": "LHPfbKs7be8l"
      },
      "source": [
        "## 2. Prepare your own data"
      ]
    },
    {
      "cell_type": "code",
      "execution_count": null,
      "id": "ED6Z8QPdbwoF",
      "metadata": {
        "id": "ED6Z8QPdbwoF"
      },
      "outputs": [],
      "source": [
        "%mkdir -p /tmp/pii_remove\n",
        "%cd /tmp/pii_remove\n",
        "!wget https://raw.githubusercontent.com/intel/e2eAIOK/main/RecDP/tests/data/llm_data/tiny_c4_sample_for_pii.jsonl"
      ]
    },
    {
      "cell_type": "markdown",
      "id": "iIZVijQ7cG1N",
      "metadata": {
        "id": "iIZVijQ7cG1N"
      },
      "source": [
        "## 3. PII Detect and Redact"
      ]
    },
    {
      "cell_type": "code",
      "execution_count": null,
      "id": "736fb211-dbe6-4ca9-a1b1-db2cff2d287a",
      "metadata": {
        "colab": {
          "base_uri": "https://localhost:8080/",
          "height": 545
        },
        "id": "736fb211-dbe6-4ca9-a1b1-db2cff2d287a",
        "outputId": "5e26940b-d62b-406f-f7ae-293e1b88da83"
      },
      "outputs": [],
      "source": [
        "from pyrecdp.core import SparkDataProcessor \n",
        "from pyrecdp.primitives.llmutils import pii_remove\n",
        "\n",
        "rdp = SparkDataProcessor()\n",
        "spark = rdp.spark\n",
        "input_dataset = spark.read.json(\"//Users/chaojun/work/e2eAIOK/RecDP/test/data/llm_data/tiny_c4_sample_for_pii.jsonl\")\n",
        "output_dataset = pii_remove(dataset=input_dataset,text_column=\"text\", show_secret_column=True)\n",
        "output_dataset.show()\n"
      ]
    }
  ],
  "metadata": {
    "colab": {
      "provenance": []
    },
    "kernelspec": {
      "display_name": "Python 3 (ipykernel)",
      "language": "python",
      "name": "python3"
    },
    "language_info": {
      "codemirror_mode": {
        "name": "ipython",
        "version": 3
      },
      "file_extension": ".py",
      "mimetype": "text/x-python",
      "name": "python",
      "nbconvert_exporter": "python",
      "pygments_lexer": "ipython3",
      "version": "3.10.12"
    }
  },
  "nbformat": 4,
  "nbformat_minor": 5
}
