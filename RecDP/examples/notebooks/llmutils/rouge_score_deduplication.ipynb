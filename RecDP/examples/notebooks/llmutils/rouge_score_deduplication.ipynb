{
 "cells": [
  {
   "cell_type": "markdown",
   "id": "NUdnJWOJLGvF",
   "metadata": {
    "id": "NUdnJWOJLGvF"
   },
   "source": [
    "# RecDP LLM - rough score deduplication\n",
    "\n",
    "Remove similar data by calculating the rough score. Using python library [rouge-score](https://pypi.org/project/rouge-score/)\n",
    "\n",
    "\n",
    "### use case:\n",
    "* Expect Input format: a folder of *.jsonl.\n",
    "* Expect Output format: a folder of *.jsonl after reduction.\n"
   ]
  },
  {
   "cell_type": "markdown",
   "id": "C1FFwhr3MwA1",
   "metadata": {
    "id": "C1FFwhr3MwA1"
   },
   "source": [
    "# Get started"
   ]
  },
  {
   "cell_type": "markdown",
   "id": "tMaSNIKIMz3T",
   "metadata": {
    "id": "tMaSNIKIMz3T"
   },
   "source": [
    "## Install pyrecdp and dependencies"
   ]
  },
  {
   "cell_type": "code",
   "execution_count": 4,
   "id": "ro4yOk5IMvRY",
   "metadata": {
    "colab": {
     "base_uri": "https://localhost:8080/"
    },
    "id": "ro4yOk5IMvRY",
    "outputId": "9b50c9a4-52fd-4203-e024-3331c98ef834"
   },
   "outputs": [
    {
     "name": "stdout",
     "output_type": "stream",
     "text": [
      "Reading package lists... Done\n",
      "Building dependency tree... Done\n",
      "Reading state information... Done\n",
      "openjdk-8-jre is already the newest version (8u382-ga-1~22.04.1).\n",
      "0 upgraded, 0 newly installed, 0 to remove and 19 not upgraded.\n",
      "Requirement already satisfied: pyrecdp in /usr/local/lib/python3.10/dist-packages (1.6.1b2023110200)\n",
      "Requirement already satisfied: scikit-learn in /usr/local/lib/python3.10/dist-packages (from pyrecdp) (1.3.0)\n",
      "Requirement already satisfied: psutil in /usr/local/lib/python3.10/dist-packages (from pyrecdp) (5.9.5)\n",
      "Requirement already satisfied: tqdm in /usr/local/lib/python3.10/dist-packages (from pyrecdp) (4.66.1)\n",
      "Requirement already satisfied: pyyaml in /usr/local/lib/python3.10/dist-packages (from pyrecdp) (6.0.1)\n",
      "Requirement already satisfied: pandas in /usr/local/lib/python3.10/dist-packages (from pyrecdp) (1.5.3)\n",
      "Requirement already satisfied: numpy in /usr/local/lib/python3.10/dist-packages (from pyrecdp) (1.23.5)\n",
      "Requirement already satisfied: pyarrow in /usr/local/lib/python3.10/dist-packages (from pyrecdp) (9.0.0)\n",
      "Requirement already satisfied: pandas-flavor in /usr/local/lib/python3.10/dist-packages (from pyrecdp) (0.6.0)\n",
      "Requirement already satisfied: featuretools in /usr/local/lib/python3.10/dist-packages (from pyrecdp) (1.28.0)\n",
      "Requirement already satisfied: bokeh>=2.4.2 in /usr/local/lib/python3.10/dist-packages (from pyrecdp) (3.2.2)\n",
      "Requirement already satisfied: transformers in /usr/local/lib/python3.10/dist-packages (from pyrecdp) (4.22.1)\n",
      "Requirement already satisfied: ipywidgets in /usr/local/lib/python3.10/dist-packages (from pyrecdp) (7.7.1)\n",
      "Requirement already satisfied: shapely in /usr/local/lib/python3.10/dist-packages (from pyrecdp) (2.0.2)\n",
      "Requirement already satisfied: graphviz in /usr/local/lib/python3.10/dist-packages (from pyrecdp) (0.20.1)\n",
      "Requirement already satisfied: requests in /usr/local/lib/python3.10/dist-packages (from pyrecdp) (2.31.0)\n",
      "Requirement already satisfied: distro in /usr/lib/python3/dist-packages (from pyrecdp) (1.7.0)\n",
      "Requirement already satisfied: pyspark==3.4.0 in /usr/local/lib/python3.10/dist-packages (from pyrecdp) (3.4.0)\n",
      "Requirement already satisfied: lightgbm<4.0.0 in /usr/local/lib/python3.10/dist-packages (from pyrecdp) (3.3.5)\n",
      "Requirement already satisfied: matplotlib in /usr/local/lib/python3.10/dist-packages (from pyrecdp) (3.7.1)\n",
      "Requirement already satisfied: category-encoders in /usr/local/lib/python3.10/dist-packages (from pyrecdp) (2.6.3)\n",
      "Requirement already satisfied: seaborn in /usr/local/lib/python3.10/dist-packages (from pyrecdp) (0.12.2)\n",
      "Requirement already satisfied: numba in /usr/local/lib/python3.10/dist-packages (from pyrecdp) (0.56.4)\n",
      "Requirement already satisfied: missingno in /usr/local/lib/python3.10/dist-packages (from pyrecdp) (0.5.2)\n",
      "Requirement already satisfied: datasketch==1.5.9 in /usr/local/lib/python3.10/dist-packages (from pyrecdp) (1.5.9)\n",
      "Requirement already satisfied: ftfy==6.1.1 in /usr/local/lib/python3.10/dist-packages (from pyrecdp) (6.1.1)\n",
      "Requirement already satisfied: jsonlines==3.1.0 in /usr/local/lib/python3.10/dist-packages (from pyrecdp) (3.1.0)\n",
      "Requirement already satisfied: networkit==10.1 in /usr/local/lib/python3.10/dist-packages (from pyrecdp) (10.1)\n",
      "Requirement already satisfied: nltk==3.8.1 in /usr/local/lib/python3.10/dist-packages (from pyrecdp) (3.8.1)\n",
      "Requirement already satisfied: regex==2023.6.3 in /usr/local/lib/python3.10/dist-packages (from pyrecdp) (2023.6.3)\n",
      "Requirement already satisfied: scipy==1.10.1 in /usr/local/lib/python3.10/dist-packages (from pyrecdp) (1.10.1)\n",
      "Requirement already satisfied: datasets>=2.7.0 in /usr/local/lib/python3.10/dist-packages (from pyrecdp) (2.14.6)\n",
      "Requirement already satisfied: typer>=0.6.1 in /usr/local/lib/python3.10/dist-packages (from pyrecdp) (0.9.0)\n",
      "Requirement already satisfied: phonenumbers in /usr/local/lib/python3.10/dist-packages (from pyrecdp) (8.13.24)\n",
      "Requirement already satisfied: fasttext==0.9.2 in /usr/local/lib/python3.10/dist-packages (from pyrecdp) (0.9.2)\n",
      "Requirement already satisfied: wget==3.2 in /usr/local/lib/python3.10/dist-packages (from pyrecdp) (3.2)\n",
      "Requirement already satisfied: alt-profanity-check==1.3.0 in /usr/local/lib/python3.10/dist-packages (from pyrecdp) (1.3.0)\n",
      "Requirement already satisfied: huggingface-hub==0.16.4 in /usr/local/lib/python3.10/dist-packages (from pyrecdp) (0.16.4)\n",
      "Requirement already satisfied: loguru==0.7.2 in /usr/local/lib/python3.10/dist-packages (from pyrecdp) (0.7.2)\n",
      "Requirement already satisfied: tabulate==0.9.0 in /usr/local/lib/python3.10/dist-packages (from pyrecdp) (0.9.0)\n",
      "Requirement already satisfied: sentencepiece in /usr/local/lib/python3.10/dist-packages (from pyrecdp) (0.1.99)\n",
      "Requirement already satisfied: selectolax in /usr/local/lib/python3.10/dist-packages (from pyrecdp) (0.3.17)\n",
      "Requirement already satisfied: spacy in /usr/local/lib/python3.10/dist-packages (from pyrecdp) (3.6.1)\n",
      "Requirement already satisfied: torch in /usr/local/lib/python3.10/dist-packages (from pyrecdp) (2.1.0+cu118)\n",
      "Requirement already satisfied: Faker in /usr/local/lib/python3.10/dist-packages (from pyrecdp) (19.13.0)\n",
      "Requirement already satisfied: ray in /usr/local/lib/python3.10/dist-packages (from pyrecdp) (2.8.0)\n",
      "Requirement already satisfied: detoxify in /usr/local/lib/python3.10/dist-packages (from pyrecdp) (0.5.1)\n",
      "Requirement already satisfied: emoji==2.2.0 in /usr/local/lib/python3.10/dist-packages (from pyrecdp) (2.2.0)\n",
      "Requirement already satisfied: kenlm in /usr/local/lib/python3.10/dist-packages (from pyrecdp) (0.2.0)\n",
      "Requirement already satisfied: rouge-score in /usr/local/lib/python3.10/dist-packages (from pyrecdp) (0.1.2)\n",
      "Requirement already satisfied: joblib>=1.3.1 in /usr/local/lib/python3.10/dist-packages (from alt-profanity-check==1.3.0->pyrecdp) (1.3.2)\n",
      "Requirement already satisfied: pybind11>=2.2 in /usr/local/lib/python3.10/dist-packages (from fasttext==0.9.2->pyrecdp) (2.11.1)\n",
      "Requirement already satisfied: setuptools>=0.7.0 in /usr/local/lib/python3.10/dist-packages (from fasttext==0.9.2->pyrecdp) (67.7.2)\n",
      "Requirement already satisfied: wcwidth>=0.2.5 in /usr/local/lib/python3.10/dist-packages (from ftfy==6.1.1->pyrecdp) (0.2.8)\n",
      "Requirement already satisfied: filelock in /usr/local/lib/python3.10/dist-packages (from huggingface-hub==0.16.4->pyrecdp) (3.12.4)\n",
      "Requirement already satisfied: fsspec in /usr/local/lib/python3.10/dist-packages (from huggingface-hub==0.16.4->pyrecdp) (2023.6.0)\n",
      "Requirement already satisfied: typing-extensions>=3.7.4.3 in /usr/local/lib/python3.10/dist-packages (from huggingface-hub==0.16.4->pyrecdp) (4.5.0)\n",
      "Requirement already satisfied: packaging>=20.9 in /usr/local/lib/python3.10/dist-packages (from huggingface-hub==0.16.4->pyrecdp) (23.2)\n",
      "Requirement already satisfied: attrs>=19.2.0 in /usr/local/lib/python3.10/dist-packages (from jsonlines==3.1.0->pyrecdp) (23.1.0)\n",
      "Requirement already satisfied: click in /usr/local/lib/python3.10/dist-packages (from nltk==3.8.1->pyrecdp) (8.1.7)\n",
      "Requirement already satisfied: py4j==0.10.9.7 in /usr/local/lib/python3.10/dist-packages (from pyspark==3.4.0->pyrecdp) (0.10.9.7)\n",
      "Requirement already satisfied: threadpoolctl>=2.0.0 in /usr/local/lib/python3.10/dist-packages (from scikit-learn->pyrecdp) (3.2.0)\n",
      "Requirement already satisfied: Jinja2>=2.9 in /usr/local/lib/python3.10/dist-packages (from bokeh>=2.4.2->pyrecdp) (3.1.2)\n",
      "Requirement already satisfied: contourpy>=1 in /usr/local/lib/python3.10/dist-packages (from bokeh>=2.4.2->pyrecdp) (1.1.1)\n",
      "Requirement already satisfied: pillow>=7.1.0 in /usr/local/lib/python3.10/dist-packages (from bokeh>=2.4.2->pyrecdp) (9.4.0)\n",
      "Requirement already satisfied: tornado>=5.1 in /usr/local/lib/python3.10/dist-packages (from bokeh>=2.4.2->pyrecdp) (6.3.2)\n",
      "Requirement already satisfied: xyzservices>=2021.09.1 in /usr/local/lib/python3.10/dist-packages (from bokeh>=2.4.2->pyrecdp) (2023.10.0)\n",
      "Requirement already satisfied: dill<0.3.8,>=0.3.0 in /usr/local/lib/python3.10/dist-packages (from datasets>=2.7.0->pyrecdp) (0.3.7)\n",
      "Requirement already satisfied: xxhash in /usr/local/lib/python3.10/dist-packages (from datasets>=2.7.0->pyrecdp) (3.4.1)\n",
      "Requirement already satisfied: multiprocess in /usr/local/lib/python3.10/dist-packages (from datasets>=2.7.0->pyrecdp) (0.70.15)\n",
      "Requirement already satisfied: aiohttp in /usr/local/lib/python3.10/dist-packages (from datasets>=2.7.0->pyrecdp) (3.8.6)\n",
      "Requirement already satisfied: wheel in /usr/local/lib/python3.10/dist-packages (from lightgbm<4.0.0->pyrecdp) (0.41.2)\n",
      "Requirement already satisfied: python-dateutil>=2.8.1 in /usr/local/lib/python3.10/dist-packages (from pandas->pyrecdp) (2.8.2)\n",
      "Requirement already satisfied: pytz>=2020.1 in /usr/local/lib/python3.10/dist-packages (from pandas->pyrecdp) (2023.3.post1)\n",
      "Requirement already satisfied: charset-normalizer<4,>=2 in /usr/local/lib/python3.10/dist-packages (from requests->pyrecdp) (3.3.1)\n",
      "Requirement already satisfied: idna<4,>=2.5 in /usr/local/lib/python3.10/dist-packages (from requests->pyrecdp) (3.4)\n",
      "Requirement already satisfied: urllib3<3,>=1.21.1 in /usr/local/lib/python3.10/dist-packages (from requests->pyrecdp) (2.0.7)\n",
      "Requirement already satisfied: certifi>=2017.4.17 in /usr/local/lib/python3.10/dist-packages (from requests->pyrecdp) (2023.7.22)\n",
      "Requirement already satisfied: statsmodels>=0.9.0 in /usr/local/lib/python3.10/dist-packages (from category-encoders->pyrecdp) (0.14.0)\n",
      "Requirement already satisfied: patsy>=0.5.1 in /usr/local/lib/python3.10/dist-packages (from category-encoders->pyrecdp) (0.5.3)\n",
      "Requirement already satisfied: tokenizers!=0.11.3,<0.13,>=0.11.1 in /usr/local/lib/python3.10/dist-packages (from transformers->pyrecdp) (0.12.1)\n",
      "Requirement already satisfied: sympy in /usr/local/lib/python3.10/dist-packages (from torch->pyrecdp) (1.12)\n",
      "Requirement already satisfied: networkx in /usr/local/lib/python3.10/dist-packages (from torch->pyrecdp) (3.2)\n",
      "Requirement already satisfied: triton==2.1.0 in /usr/local/lib/python3.10/dist-packages (from torch->pyrecdp) (2.1.0)\n",
      "Requirement already satisfied: cloudpickle>=1.5.0 in /usr/local/lib/python3.10/dist-packages (from featuretools->pyrecdp) (2.2.1)\n",
      "Requirement already satisfied: holidays<0.33,>=0.13 in /usr/local/lib/python3.10/dist-packages (from featuretools->pyrecdp) (0.32)\n",
      "Requirement already satisfied: woodwork>=0.23.0 in /usr/local/lib/python3.10/dist-packages (from featuretools->pyrecdp) (0.26.0)\n",
      "Requirement already satisfied: ipykernel>=4.5.1 in /usr/local/lib/python3.10/dist-packages (from ipywidgets->pyrecdp) (5.5.6)\n",
      "Requirement already satisfied: ipython-genutils~=0.2.0 in /usr/local/lib/python3.10/dist-packages (from ipywidgets->pyrecdp) (0.2.0)\n",
      "Requirement already satisfied: traitlets>=4.3.1 in /usr/local/lib/python3.10/dist-packages (from ipywidgets->pyrecdp) (5.7.1)\n",
      "Requirement already satisfied: widgetsnbextension~=3.6.0 in /usr/local/lib/python3.10/dist-packages (from ipywidgets->pyrecdp) (3.6.6)\n",
      "Requirement already satisfied: ipython>=4.0.0 in /usr/local/lib/python3.10/dist-packages (from ipywidgets->pyrecdp) (7.34.0)\n",
      "Requirement already satisfied: jupyterlab-widgets>=1.0.0 in /usr/local/lib/python3.10/dist-packages (from ipywidgets->pyrecdp) (3.0.9)\n",
      "Requirement already satisfied: cycler>=0.10 in /usr/local/lib/python3.10/dist-packages (from matplotlib->pyrecdp) (0.12.1)\n",
      "Requirement already satisfied: fonttools>=4.22.0 in /usr/local/lib/python3.10/dist-packages (from matplotlib->pyrecdp) (4.43.1)\n",
      "Requirement already satisfied: kiwisolver>=1.0.1 in /usr/local/lib/python3.10/dist-packages (from matplotlib->pyrecdp) (1.4.5)\n",
      "Requirement already satisfied: pyparsing>=2.3.1 in /usr/local/lib/python3.10/dist-packages (from matplotlib->pyrecdp) (3.1.1)\n",
      "Requirement already satisfied: llvmlite<0.40,>=0.39.0dev0 in /usr/local/lib/python3.10/dist-packages (from numba->pyrecdp) (0.39.1)\n",
      "Requirement already satisfied: xarray in /usr/local/lib/python3.10/dist-packages (from pandas-flavor->pyrecdp) (2023.7.0)\n",
      "Requirement already satisfied: jsonschema in /usr/local/lib/python3.10/dist-packages (from ray->pyrecdp) (4.19.1)\n",
      "Requirement already satisfied: msgpack<2.0.0,>=1.0.0 in /usr/local/lib/python3.10/dist-packages (from ray->pyrecdp) (1.0.7)\n",
      "Requirement already satisfied: protobuf!=3.19.5,>=3.15.3 in /usr/local/lib/python3.10/dist-packages (from ray->pyrecdp) (3.20.3)\n",
      "Requirement already satisfied: aiosignal in /usr/local/lib/python3.10/dist-packages (from ray->pyrecdp) (1.3.1)\n",
      "Requirement already satisfied: frozenlist in /usr/local/lib/python3.10/dist-packages (from ray->pyrecdp) (1.4.0)\n",
      "Requirement already satisfied: absl-py in /usr/local/lib/python3.10/dist-packages (from rouge-score->pyrecdp) (1.4.0)\n",
      "Requirement already satisfied: six>=1.14.0 in /usr/local/lib/python3.10/dist-packages (from rouge-score->pyrecdp) (1.16.0)\n",
      "Requirement already satisfied: spacy-legacy<3.1.0,>=3.0.11 in /usr/local/lib/python3.10/dist-packages (from spacy->pyrecdp) (3.0.12)\n",
      "Requirement already satisfied: spacy-loggers<2.0.0,>=1.0.0 in /usr/local/lib/python3.10/dist-packages (from spacy->pyrecdp) (1.0.5)\n",
      "Requirement already satisfied: murmurhash<1.1.0,>=0.28.0 in /usr/local/lib/python3.10/dist-packages (from spacy->pyrecdp) (1.0.10)\n",
      "Requirement already satisfied: cymem<2.1.0,>=2.0.2 in /usr/local/lib/python3.10/dist-packages (from spacy->pyrecdp) (2.0.8)\n",
      "Requirement already satisfied: preshed<3.1.0,>=3.0.2 in /usr/local/lib/python3.10/dist-packages (from spacy->pyrecdp) (3.0.9)\n",
      "Requirement already satisfied: thinc<8.2.0,>=8.1.8 in /usr/local/lib/python3.10/dist-packages (from spacy->pyrecdp) (8.1.12)\n",
      "Requirement already satisfied: wasabi<1.2.0,>=0.9.1 in /usr/local/lib/python3.10/dist-packages (from spacy->pyrecdp) (1.1.2)\n",
      "Requirement already satisfied: srsly<3.0.0,>=2.4.3 in /usr/local/lib/python3.10/dist-packages (from spacy->pyrecdp) (2.4.8)\n",
      "Requirement already satisfied: catalogue<2.1.0,>=2.0.6 in /usr/local/lib/python3.10/dist-packages (from spacy->pyrecdp) (2.0.10)\n",
      "Requirement already satisfied: pathy>=0.10.0 in /usr/local/lib/python3.10/dist-packages (from spacy->pyrecdp) (0.10.3)\n",
      "Requirement already satisfied: smart-open<7.0.0,>=5.2.1 in /usr/local/lib/python3.10/dist-packages (from spacy->pyrecdp) (6.4.0)\n",
      "Requirement already satisfied: pydantic!=1.8,!=1.8.1,<3.0.0,>=1.7.4 in /usr/local/lib/python3.10/dist-packages (from spacy->pyrecdp) (1.10.13)\n",
      "Requirement already satisfied: langcodes<4.0.0,>=3.2.0 in /usr/local/lib/python3.10/dist-packages (from spacy->pyrecdp) (3.3.0)\n",
      "Requirement already satisfied: multidict<7.0,>=4.5 in /usr/local/lib/python3.10/dist-packages (from aiohttp->datasets>=2.7.0->pyrecdp) (6.0.4)\n",
      "Requirement already satisfied: async-timeout<5.0,>=4.0.0a3 in /usr/local/lib/python3.10/dist-packages (from aiohttp->datasets>=2.7.0->pyrecdp) (4.0.3)\n",
      "Requirement already satisfied: yarl<2.0,>=1.0 in /usr/local/lib/python3.10/dist-packages (from aiohttp->datasets>=2.7.0->pyrecdp) (1.9.2)\n",
      "Requirement already satisfied: jupyter-client in /usr/local/lib/python3.10/dist-packages (from ipykernel>=4.5.1->ipywidgets->pyrecdp) (6.1.12)\n",
      "Requirement already satisfied: jedi>=0.16 in /usr/local/lib/python3.10/dist-packages (from ipython>=4.0.0->ipywidgets->pyrecdp) (0.19.1)\n",
      "Requirement already satisfied: decorator in /usr/local/lib/python3.10/dist-packages (from ipython>=4.0.0->ipywidgets->pyrecdp) (4.4.2)\n",
      "Requirement already satisfied: pickleshare in /usr/local/lib/python3.10/dist-packages (from ipython>=4.0.0->ipywidgets->pyrecdp) (0.7.5)\n",
      "Requirement already satisfied: prompt-toolkit!=3.0.0,!=3.0.1,<3.1.0,>=2.0.0 in /usr/local/lib/python3.10/dist-packages (from ipython>=4.0.0->ipywidgets->pyrecdp) (3.0.39)\n",
      "Requirement already satisfied: pygments in /usr/local/lib/python3.10/dist-packages (from ipython>=4.0.0->ipywidgets->pyrecdp) (2.16.1)\n",
      "Requirement already satisfied: backcall in /usr/local/lib/python3.10/dist-packages (from ipython>=4.0.0->ipywidgets->pyrecdp) (0.2.0)\n",
      "Requirement already satisfied: matplotlib-inline in /usr/local/lib/python3.10/dist-packages (from ipython>=4.0.0->ipywidgets->pyrecdp) (0.1.6)\n",
      "Requirement already satisfied: pexpect>4.3 in /usr/local/lib/python3.10/dist-packages (from ipython>=4.0.0->ipywidgets->pyrecdp) (4.8.0)\n",
      "Requirement already satisfied: MarkupSafe>=2.0 in /usr/local/lib/python3.10/dist-packages (from Jinja2>=2.9->bokeh>=2.4.2->pyrecdp) (2.1.3)\n",
      "Requirement already satisfied: blis<0.8.0,>=0.7.8 in /usr/local/lib/python3.10/dist-packages (from thinc<8.2.0,>=8.1.8->spacy->pyrecdp) (0.7.11)\n",
      "Requirement already satisfied: confection<1.0.0,>=0.0.1 in /usr/local/lib/python3.10/dist-packages (from thinc<8.2.0,>=8.1.8->spacy->pyrecdp) (0.1.3)\n",
      "Requirement already satisfied: notebook>=4.4.1 in /usr/local/lib/python3.10/dist-packages (from widgetsnbextension~=3.6.0->ipywidgets->pyrecdp) (6.5.5)\n",
      "Requirement already satisfied: importlib-resources>=5.10.0 in /usr/local/lib/python3.10/dist-packages (from woodwork>=0.23.0->featuretools->pyrecdp) (6.1.0)\n",
      "Requirement already satisfied: jsonschema-specifications>=2023.03.6 in /usr/local/lib/python3.10/dist-packages (from jsonschema->ray->pyrecdp) (2023.7.1)\n",
      "Requirement already satisfied: referencing>=0.28.4 in /usr/local/lib/python3.10/dist-packages (from jsonschema->ray->pyrecdp) (0.30.2)\n",
      "Requirement already satisfied: rpds-py>=0.7.1 in /usr/local/lib/python3.10/dist-packages (from jsonschema->ray->pyrecdp) (0.10.6)\n",
      "Requirement already satisfied: mpmath>=0.19 in /usr/local/lib/python3.10/dist-packages (from sympy->torch->pyrecdp) (1.3.0)\n",
      "Requirement already satisfied: parso<0.9.0,>=0.8.3 in /usr/local/lib/python3.10/dist-packages (from jedi>=0.16->ipython>=4.0.0->ipywidgets->pyrecdp) (0.8.3)\n",
      "Requirement already satisfied: pyzmq<25,>=17 in /usr/local/lib/python3.10/dist-packages (from notebook>=4.4.1->widgetsnbextension~=3.6.0->ipywidgets->pyrecdp) (23.2.1)\n",
      "Requirement already satisfied: argon2-cffi in /usr/local/lib/python3.10/dist-packages (from notebook>=4.4.1->widgetsnbextension~=3.6.0->ipywidgets->pyrecdp) (23.1.0)\n",
      "Requirement already satisfied: jupyter-core>=4.6.1 in /usr/local/lib/python3.10/dist-packages (from notebook>=4.4.1->widgetsnbextension~=3.6.0->ipywidgets->pyrecdp) (5.4.0)\n",
      "Requirement already satisfied: nbformat in /usr/local/lib/python3.10/dist-packages (from notebook>=4.4.1->widgetsnbextension~=3.6.0->ipywidgets->pyrecdp) (5.9.2)\n",
      "Requirement already satisfied: nbconvert>=5 in /usr/local/lib/python3.10/dist-packages (from notebook>=4.4.1->widgetsnbextension~=3.6.0->ipywidgets->pyrecdp) (6.5.4)\n",
      "Requirement already satisfied: nest-asyncio>=1.5 in /usr/local/lib/python3.10/dist-packages (from notebook>=4.4.1->widgetsnbextension~=3.6.0->ipywidgets->pyrecdp) (1.5.8)\n",
      "Requirement already satisfied: Send2Trash>=1.8.0 in /usr/local/lib/python3.10/dist-packages (from notebook>=4.4.1->widgetsnbextension~=3.6.0->ipywidgets->pyrecdp) (1.8.2)\n",
      "Requirement already satisfied: terminado>=0.8.3 in /usr/local/lib/python3.10/dist-packages (from notebook>=4.4.1->widgetsnbextension~=3.6.0->ipywidgets->pyrecdp) (0.17.1)\n",
      "Requirement already satisfied: prometheus-client in /usr/local/lib/python3.10/dist-packages (from notebook>=4.4.1->widgetsnbextension~=3.6.0->ipywidgets->pyrecdp) (0.17.1)\n",
      "Requirement already satisfied: nbclassic>=0.4.7 in /usr/local/lib/python3.10/dist-packages (from notebook>=4.4.1->widgetsnbextension~=3.6.0->ipywidgets->pyrecdp) (1.0.0)\n",
      "Requirement already satisfied: ptyprocess>=0.5 in /usr/local/lib/python3.10/dist-packages (from pexpect>4.3->ipython>=4.0.0->ipywidgets->pyrecdp) (0.7.0)\n",
      "Requirement already satisfied: platformdirs>=2.5 in /usr/local/lib/python3.10/dist-packages (from jupyter-core>=4.6.1->notebook>=4.4.1->widgetsnbextension~=3.6.0->ipywidgets->pyrecdp) (3.11.0)\n",
      "Requirement already satisfied: jupyter-server>=1.8 in /usr/local/lib/python3.10/dist-packages (from nbclassic>=0.4.7->notebook>=4.4.1->widgetsnbextension~=3.6.0->ipywidgets->pyrecdp) (1.24.0)\n",
      "Requirement already satisfied: notebook-shim>=0.2.3 in /usr/local/lib/python3.10/dist-packages (from nbclassic>=0.4.7->notebook>=4.4.1->widgetsnbextension~=3.6.0->ipywidgets->pyrecdp) (0.2.3)\n",
      "Requirement already satisfied: lxml in /usr/local/lib/python3.10/dist-packages (from nbconvert>=5->notebook>=4.4.1->widgetsnbextension~=3.6.0->ipywidgets->pyrecdp) (4.9.3)\n",
      "Requirement already satisfied: beautifulsoup4 in /usr/local/lib/python3.10/dist-packages (from nbconvert>=5->notebook>=4.4.1->widgetsnbextension~=3.6.0->ipywidgets->pyrecdp) (4.11.2)\n",
      "Requirement already satisfied: bleach in /usr/local/lib/python3.10/dist-packages (from nbconvert>=5->notebook>=4.4.1->widgetsnbextension~=3.6.0->ipywidgets->pyrecdp) (6.1.0)\n",
      "Requirement already satisfied: defusedxml in /usr/local/lib/python3.10/dist-packages (from nbconvert>=5->notebook>=4.4.1->widgetsnbextension~=3.6.0->ipywidgets->pyrecdp) (0.7.1)\n",
      "Requirement already satisfied: entrypoints>=0.2.2 in /usr/local/lib/python3.10/dist-packages (from nbconvert>=5->notebook>=4.4.1->widgetsnbextension~=3.6.0->ipywidgets->pyrecdp) (0.4)\n",
      "Requirement already satisfied: jupyterlab-pygments in /usr/local/lib/python3.10/dist-packages (from nbconvert>=5->notebook>=4.4.1->widgetsnbextension~=3.6.0->ipywidgets->pyrecdp) (0.2.2)\n",
      "Requirement already satisfied: mistune<2,>=0.8.1 in /usr/local/lib/python3.10/dist-packages (from nbconvert>=5->notebook>=4.4.1->widgetsnbextension~=3.6.0->ipywidgets->pyrecdp) (0.8.4)\n",
      "Requirement already satisfied: nbclient>=0.5.0 in /usr/local/lib/python3.10/dist-packages (from nbconvert>=5->notebook>=4.4.1->widgetsnbextension~=3.6.0->ipywidgets->pyrecdp) (0.8.0)\n",
      "Requirement already satisfied: pandocfilters>=1.4.1 in /usr/local/lib/python3.10/dist-packages (from nbconvert>=5->notebook>=4.4.1->widgetsnbextension~=3.6.0->ipywidgets->pyrecdp) (1.5.0)\n",
      "Requirement already satisfied: tinycss2 in /usr/local/lib/python3.10/dist-packages (from nbconvert>=5->notebook>=4.4.1->widgetsnbextension~=3.6.0->ipywidgets->pyrecdp) (1.2.1)\n",
      "Requirement already satisfied: fastjsonschema in /usr/local/lib/python3.10/dist-packages (from nbformat->notebook>=4.4.1->widgetsnbextension~=3.6.0->ipywidgets->pyrecdp) (2.18.1)\n",
      "Requirement already satisfied: argon2-cffi-bindings in /usr/local/lib/python3.10/dist-packages (from argon2-cffi->notebook>=4.4.1->widgetsnbextension~=3.6.0->ipywidgets->pyrecdp) (21.2.0)\n",
      "Requirement already satisfied: anyio<4,>=3.1.0 in /usr/local/lib/python3.10/dist-packages (from jupyter-server>=1.8->nbclassic>=0.4.7->notebook>=4.4.1->widgetsnbextension~=3.6.0->ipywidgets->pyrecdp) (3.7.1)\n",
      "Requirement already satisfied: websocket-client in /usr/local/lib/python3.10/dist-packages (from jupyter-server>=1.8->nbclassic>=0.4.7->notebook>=4.4.1->widgetsnbextension~=3.6.0->ipywidgets->pyrecdp) (1.6.4)\n",
      "Requirement already satisfied: cffi>=1.0.1 in /usr/local/lib/python3.10/dist-packages (from argon2-cffi-bindings->argon2-cffi->notebook>=4.4.1->widgetsnbextension~=3.6.0->ipywidgets->pyrecdp) (1.16.0)\n",
      "Requirement already satisfied: soupsieve>1.2 in /usr/local/lib/python3.10/dist-packages (from beautifulsoup4->nbconvert>=5->notebook>=4.4.1->widgetsnbextension~=3.6.0->ipywidgets->pyrecdp) (2.5)\n",
      "Requirement already satisfied: webencodings in /usr/local/lib/python3.10/dist-packages (from bleach->nbconvert>=5->notebook>=4.4.1->widgetsnbextension~=3.6.0->ipywidgets->pyrecdp) (0.5.1)\n",
      "Requirement already satisfied: sniffio>=1.1 in /usr/local/lib/python3.10/dist-packages (from anyio<4,>=3.1.0->jupyter-server>=1.8->nbclassic>=0.4.7->notebook>=4.4.1->widgetsnbextension~=3.6.0->ipywidgets->pyrecdp) (1.3.0)\n",
      "Requirement already satisfied: exceptiongroup in /usr/local/lib/python3.10/dist-packages (from anyio<4,>=3.1.0->jupyter-server>=1.8->nbclassic>=0.4.7->notebook>=4.4.1->widgetsnbextension~=3.6.0->ipywidgets->pyrecdp) (1.1.3)\n",
      "Requirement already satisfied: pycparser in /usr/local/lib/python3.10/dist-packages (from cffi>=1.0.1->argon2-cffi-bindings->argon2-cffi->notebook>=4.4.1->widgetsnbextension~=3.6.0->ipywidgets->pyrecdp) (2.21)\n"
     ]
    }
   ],
   "source": [
    "! DEBIAN_FRONTEND=noninteractive apt-get install -y openjdk-8-jre\n",
    "! pip install pyrecdp --pre\n",
    "# ! pip install 'git+https://github.com/intel/e2eAIOK.git#egg=pyrecdp&subdirectory=RecDP'"
   ]
  },
  {
   "cell_type": "markdown",
   "id": "pnHK2VTvM5rg",
   "metadata": {
    "id": "pnHK2VTvM5rg"
   },
   "source": [
    "## 2. prepare your own data"
   ]
  },
  {
   "cell_type": "code",
   "execution_count": 2,
   "id": "736fb211-dbe6-4ca9-a1b1-db2cff2d287a",
   "metadata": {
    "colab": {
     "base_uri": "https://localhost:8080/"
    },
    "id": "736fb211-dbe6-4ca9-a1b1-db2cff2d287a",
    "outputId": "85aa0ab0-30b8-4921-9e51-ac5b2e0e5cbd"
   },
   "outputs": [
    {
     "name": "stdout",
     "output_type": "stream",
     "text": [
      "/content/test_data\n",
      "--2023-11-10 07:49:21--  http://tiny_c4_sample.jsonl/\n",
      "Resolving proxy-prc.intel.com (proxy-prc.intel.com)... 10.240.252.16\n",
      "Connecting to proxy-prc.intel.com (proxy-prc.intel.com)|10.240.252.16|:912... connected.\n",
      "Proxy request sent, awaiting response... 500 Internal Server Error\n",
      "2023-11-10 07:49:21 ERROR 500: Internal Server Error.\n",
      "\n",
      "--2023-11-10 07:49:21--  https://raw.githubusercontent.com/intel/e2eAIOK/main/RecDP/tests/data/llm_data/tiny_c4_sample.jsonl\n",
      "Connecting to proxy-prc.intel.com (proxy-prc.intel.com)|10.240.252.16|:912... connected.\n",
      "Proxy request sent, awaiting response... 200 OK\n",
      "Length: 1062126 (1.0M) [text/plain]\n",
      "Saving to: ‘/content/test_data/tiny_c4_sample.jsonl’\n",
      "\n",
      "tiny_c4_sample.json 100%[===================>]   1.01M   922KB/s    in 1.1s    \n",
      "\n",
      "2023-11-10 07:49:23 (922 KB/s) - ‘/content/test_data/tiny_c4_sample.jsonl’ saved [1062126/1062126]\n",
      "\n",
      "FINISHED --2023-11-10 07:49:23--\n",
      "Total wall clock time: 2.2s\n",
      "Downloaded: 1 files, 1.0M in 1.1s (922 KB/s)\n"
     ]
    }
   ],
   "source": [
    "%mkdir -p /content/test_data\n",
    "%cd /content/test_data\n",
    "file_list = ['tiny_c4_sample.jsonl']\n",
    "file_list += [f\"https://raw.githubusercontent.com/intel/e2eAIOK/main/RecDP/tests/data/llm_data/{i}\" for i in file_names]\n",
    "!wget -P /content/test_data {\" \".join(file_list)}"
   ]
  },
  {
   "cell_type": "markdown",
   "id": "J-125gFtNyOg",
   "metadata": {
    "id": "J-125gFtNyOg"
   },
   "source": [
    "## 3. fuzzy deduplicate (seperate detection and reduction)"
   ]
  },
  {
   "cell_type": "code",
   "execution_count": 3,
   "id": "vkGRn9uJN4B0",
   "metadata": {
    "colab": {
     "base_uri": "https://localhost:8080/"
    },
    "id": "vkGRn9uJN4B0",
    "outputId": "814c2351-b2fb-4770-be60-00a12377f435"
   },
   "outputs": [
    {
     "name": "stdout",
     "output_type": "stream",
     "text": [
      "tiny_c4_sample.jsonl\n"
     ]
    }
   ],
   "source": [
    "! ls /content/test_data"
   ]
  },
  {
   "cell_type": "markdown",
   "id": "OidKtF2hCNHd",
   "metadata": {
    "id": "OidKtF2hCNHd"
   },
   "source": [
    "### 3.1 PIPELINE based API"
   ]
  },
  {
   "cell_type": "code",
   "execution_count": 2,
   "id": "SMK9KcV4N7al",
   "metadata": {
    "colab": {
     "base_uri": "https://localhost:8080/",
     "height": 432,
     "referenced_widgets": [
      "3122abfac57e4b74b68d4bc32af63012",
      "3ca9aab87bd54c07a3741c371692366a",
      "37cbf5293bd1408094b9406c55fbca00",
      "b1540bcc0aaa4f0bb0cb1f6c28e41587",
      "8766e09451ee4d0ebe4be4f358589930",
      "b9be56e8740f4cfa973e2697c5c7f10c",
      "5343b405d5aa49cfa6168bfa188de954",
      "9e8de235eadb41d3bd5e76284f64f57b",
      "fb28cb3e97ce4e8c9a44b03c107c6fd4",
      "6a65a84b219f4213b0e703d8292412f7",
      "6c9c984d140f4a9295fbfbecd4b2c785"
     ]
    },
    "id": "SMK9KcV4N7al",
    "outputId": "ec2a901f-8748-450a-bcf0-c8c96d8d1f16"
   },
   "outputs": [
    {
     "name": "stdout",
     "output_type": "stream",
     "text": [
      "\u001b[32m2023-11-10 07:51:50.416\u001b[0m | \u001b[33m\u001b[1mWARNING \u001b[0m | \u001b[36mpyrecdp.LLM.TextPipeline\u001b[0m:\u001b[36menable_statistics\u001b[0m:\u001b[36m214\u001b[0m - \u001b[33m\u001b[1mEnabling this option will result in a decrease in execution speed\u001b[0m\n"
     ]
    },
    {
     "data": {
      "text/plain": [
       "{0: {'children': None, 'op': 'DatasetReader', 'config': {}},\n",
       " 1: {'children': [0], 'op': 'JsonlReader', 'config': {'input_dir': '/content/test_data/'}},\n",
       " 2: {'children': [1], 'op': 'RougeScoreDedup', 'config': {'text_key': 'text', 'max_ratio': 0.7, 'batch_size': 20, 'score_store_path': 'RougeScorefiltered.parquet'}}}"
      ]
     },
     "execution_count": 2,
     "metadata": {},
     "output_type": "execute_result"
    }
   ],
   "source": [
    "from pyrecdp.LLM import TextPipeline, ResumableTextPipeline\n",
    "from pyrecdp.primitives.operations import *\n",
    "\n",
    "pipeline = ResumableTextPipeline()\n",
    "# optional to enable or not enable statistics.\n",
    "# enable_statistics helps to show summary info\n",
    "# not enable_statistics provides better performance\n",
    "pipeline.enable_statistics()\n",
    "\n",
    "# start to add ops to pipeline\n",
    "ops = [\n",
    "    JsonlReader(\"/content/test_data/\"),\n",
    "    RougeScoreDedup(text_key='text', max_ratio=0.7, batch_size=20),\n",
    "]\n",
    "pipeline.add_operations(ops)\n",
    "# pipeline.plot()"
   ]
  },
  {
   "cell_type": "code",
   "execution_count": 3,
   "id": "EXfTz8zfEwJX",
   "metadata": {
    "colab": {
     "base_uri": "https://localhost:8080/"
    },
    "id": "EXfTz8zfEwJX",
    "outputId": "bb9df83b-d0cb-4a55-99b2-b9a00e1de439"
   },
   "outputs": [
    {
     "name": "stdout",
     "output_type": "stream",
     "text": [
      "[DatasetReader, PerfileSourcedJsonlReader, RougeScoreDedup, PerfileParquetWriter]\n",
      "Will assign 48 cores and 412162 M memory for spark\n"
     ]
    },
    {
     "name": "stderr",
     "output_type": "stream",
     "text": [
      "Setting default log level to \"WARN\".\n",
      "To adjust logging level use sc.setLogLevel(newLevel). For SparkR, use setLogLevel(newLevel).\n",
      "23/11/10 07:51:57 WARN NativeCodeLoader: Unable to load native-hadoop library for your platform... using builtin-java classes where applicable\n"
     ]
    },
    {
     "name": "stdout",
     "output_type": "stream",
     "text": [
      "per core memory size is 8.385 GB and shuffle_disk maximum capacity is 8589934592.000 GB\n",
      "execute with spark for global tasks started ...\n",
      "DatasetReader\n",
      "\u001b[32m2023-11-10 07:51:58.406\u001b[0m | \u001b[1mINFO    \u001b[0m | \u001b[36mpyrecdp.LLM.TextPipeline\u001b[0m:\u001b[36mexecute\u001b[0m:\u001b[36m365\u001b[0m - \u001b[1mDatasetReader: A total of 0 rows of data were processed, using 0 seconds, with 0 rows modified or removed, 0 rows of data remaining.\u001b[0m\n",
      "execute with spark for global tasks took 0.003309955000077025 sec\n",
      "PerfileSourcedJsonlReader\n"
     ]
    },
    {
     "name": "stderr",
     "output_type": "stream",
     "text": [
      "ResumableTextPipeline, current on tiny_c4_sample.jsonl:   0%|          | 0/1 [00:00<?, ?it/s]"
     ]
    },
    {
     "name": "stdout",
     "output_type": "stream",
     "text": [
      "tiny_c4_sample.jsonl\n",
      "RougeScoreDedup\n",
      "statistics_decorator spark\n"
     ]
    },
    {
     "name": "stderr",
     "output_type": "stream",
     "text": [
      "                                                                                \n",
      "  0%|          | 0/23 [00:00<?, ?it/s]\u001b[A"
     ]
    },
    {
     "name": "stdout",
     "output_type": "stream",
     "text": [
      "Round 0 started ...\n"
     ]
    },
    {
     "name": "stderr",
     "output_type": "stream",
     "text": [
      "[Stage 19:=====================================================>(199 + 1) / 200]\r"
     ]
    },
    {
     "name": "stdout",
     "output_type": "stream",
     "text": [
      "\u001b[32m2023-11-10 07:52:35.658\u001b[0m | \u001b[1mINFO    \u001b[0m | \u001b[36mpyrecdp.primitives.operations.text_compare_dedup\u001b[0m:\u001b[36mprocess_spark\u001b[0m:\u001b[36m105\u001b[0m - \u001b[1mRound 0: total processing num_samples is 8770, detected high score num_samples is 11\u001b[0m\n"
     ]
    },
    {
     "name": "stderr",
     "output_type": "stream",
     "text": [
      "                                                                                \n",
      "  4%|▍         | 1/23 [00:32<12:01, 32.79s/it]\u001b[A"
     ]
    },
    {
     "name": "stdout",
     "output_type": "stream",
     "text": [
      "Round 0 took 32.78911198000003 sec\n",
      "Round 1 started ...\n"
     ]
    },
    {
     "name": "stderr",
     "output_type": "stream",
     "text": [
      "[Stage 40:=====================================================>(199 + 1) / 200]\r"
     ]
    },
    {
     "name": "stdout",
     "output_type": "stream",
     "text": [
      "\u001b[32m2023-11-10 07:53:14.611\u001b[0m | \u001b[1mINFO    \u001b[0m | \u001b[36mpyrecdp.primitives.operations.text_compare_dedup\u001b[0m:\u001b[36mprocess_spark\u001b[0m:\u001b[36m105\u001b[0m - \u001b[1mRound 1: total processing num_samples is 8370, detected high score num_samples is 0\u001b[0m\n"
     ]
    },
    {
     "name": "stderr",
     "output_type": "stream",
     "text": [
      "                                                                                \n",
      "  9%|▊         | 2/23 [01:10<12:30, 35.76s/it]\u001b[A"
     ]
    },
    {
     "name": "stdout",
     "output_type": "stream",
     "text": [
      "Round 1 took 37.82962588499993 sec\n",
      "Round 2 started ...\n"
     ]
    },
    {
     "name": "stderr",
     "output_type": "stream",
     "text": [
      "[Stage 61:=====================================================>(199 + 1) / 200]\r"
     ]
    },
    {
     "name": "stdout",
     "output_type": "stream",
     "text": [
      "\u001b[32m2023-11-10 07:54:20.294\u001b[0m | \u001b[1mINFO    \u001b[0m | \u001b[36mpyrecdp.primitives.operations.text_compare_dedup\u001b[0m:\u001b[36mprocess_spark\u001b[0m:\u001b[36m105\u001b[0m - \u001b[1mRound 2: total processing num_samples is 7970, detected high score num_samples is 0\u001b[0m\n"
     ]
    },
    {
     "name": "stderr",
     "output_type": "stream",
     "text": [
      "                                                                                \n",
      " 13%|█▎        | 3/23 [02:16<16:27, 49.37s/it]\u001b[A"
     ]
    },
    {
     "name": "stdout",
     "output_type": "stream",
     "text": [
      "Round 2 took 65.57384711899999 sec\n",
      "Round 3 started ...\n"
     ]
    },
    {
     "name": "stderr",
     "output_type": "stream",
     "text": [
      "[Stage 82:=====================================================>(199 + 1) / 200]\r"
     ]
    },
    {
     "name": "stdout",
     "output_type": "stream",
     "text": [
      "\u001b[32m2023-11-10 07:54:39.516\u001b[0m | \u001b[1mINFO    \u001b[0m | \u001b[36mpyrecdp.primitives.operations.text_compare_dedup\u001b[0m:\u001b[36mprocess_spark\u001b[0m:\u001b[36m105\u001b[0m - \u001b[1mRound 3: total processing num_samples is 7570, detected high score num_samples is 0\u001b[0m\n"
     ]
    },
    {
     "name": "stderr",
     "output_type": "stream",
     "text": [
      "                                                                                \n",
      " 17%|█▋        | 4/23 [02:35<11:51, 37.47s/it]\u001b[A"
     ]
    },
    {
     "name": "stdout",
     "output_type": "stream",
     "text": [
      "Round 3 took 19.224398283000028 sec\n",
      "Round 4 started ...\n"
     ]
    },
    {
     "name": "stderr",
     "output_type": "stream",
     "text": [
      "[Stage 103:====================================================>(199 + 1) / 200]\r"
     ]
    },
    {
     "name": "stdout",
     "output_type": "stream",
     "text": [
      "\u001b[32m2023-11-10 07:54:58.154\u001b[0m | \u001b[1mINFO    \u001b[0m | \u001b[36mpyrecdp.primitives.operations.text_compare_dedup\u001b[0m:\u001b[36mprocess_spark\u001b[0m:\u001b[36m105\u001b[0m - \u001b[1mRound 4: total processing num_samples is 7170, detected high score num_samples is 2\u001b[0m\n"
     ]
    },
    {
     "name": "stderr",
     "output_type": "stream",
     "text": [
      "                                                                                \n",
      " 22%|██▏       | 5/23 [02:54<09:12, 30.68s/it]\u001b[A"
     ]
    },
    {
     "name": "stdout",
     "output_type": "stream",
     "text": [
      "Round 4 took 18.62540297399994 sec\n",
      "Round 5 started ...\n"
     ]
    },
    {
     "name": "stderr",
     "output_type": "stream",
     "text": [
      "[Stage 124:====================================================>(199 + 1) / 200]\r"
     ]
    },
    {
     "name": "stdout",
     "output_type": "stream",
     "text": [
      "\u001b[32m2023-11-10 07:55:12.462\u001b[0m | \u001b[1mINFO    \u001b[0m | \u001b[36mpyrecdp.primitives.operations.text_compare_dedup\u001b[0m:\u001b[36mprocess_spark\u001b[0m:\u001b[36m105\u001b[0m - \u001b[1mRound 5: total processing num_samples is 6770, detected high score num_samples is 0\u001b[0m\n"
     ]
    },
    {
     "name": "stderr",
     "output_type": "stream",
     "text": [
      "                                                                                \n",
      " 26%|██▌       | 6/23 [03:08<07:06, 25.10s/it]\u001b[A"
     ]
    },
    {
     "name": "stdout",
     "output_type": "stream",
     "text": [
      "Round 5 took 14.275545535999981 sec\n",
      "Round 6 started ...\n"
     ]
    },
    {
     "name": "stderr",
     "output_type": "stream",
     "text": [
      "[Stage 145:====================================================>(199 + 1) / 200]\r"
     ]
    },
    {
     "name": "stdout",
     "output_type": "stream",
     "text": [
      "\u001b[32m2023-11-10 07:55:24.737\u001b[0m | \u001b[1mINFO    \u001b[0m | \u001b[36mpyrecdp.primitives.operations.text_compare_dedup\u001b[0m:\u001b[36mprocess_spark\u001b[0m:\u001b[36m105\u001b[0m - \u001b[1mRound 6: total processing num_samples is 6370, detected high score num_samples is 0\u001b[0m\n"
     ]
    },
    {
     "name": "stderr",
     "output_type": "stream",
     "text": [
      "                                                                                \n",
      " 30%|███       | 7/23 [03:20<05:34, 20.91s/it]\u001b[A"
     ]
    },
    {
     "name": "stdout",
     "output_type": "stream",
     "text": [
      "Round 6 took 12.261500141999932 sec\n",
      "Round 7 started ...\n"
     ]
    },
    {
     "name": "stderr",
     "output_type": "stream",
     "text": [
      "[Stage 166:====================================================>(199 + 1) / 200]\r"
     ]
    },
    {
     "name": "stdout",
     "output_type": "stream",
     "text": [
      "\u001b[32m2023-11-10 07:55:38.443\u001b[0m | \u001b[1mINFO    \u001b[0m | \u001b[36mpyrecdp.primitives.operations.text_compare_dedup\u001b[0m:\u001b[36mprocess_spark\u001b[0m:\u001b[36m105\u001b[0m - \u001b[1mRound 7: total processing num_samples is 5970, detected high score num_samples is 0\u001b[0m\n"
     ]
    },
    {
     "name": "stderr",
     "output_type": "stream",
     "text": [
      "                                                                                \n",
      " 35%|███▍      | 8/23 [03:34<04:39, 18.60s/it]\u001b[A"
     ]
    },
    {
     "name": "stdout",
     "output_type": "stream",
     "text": [
      "Round 7 took 13.671373291000009 sec\n",
      "Round 8 started ...\n"
     ]
    },
    {
     "name": "stderr",
     "output_type": "stream",
     "text": [
      "[Stage 187:====================================================>(199 + 1) / 200]\r"
     ]
    },
    {
     "name": "stdout",
     "output_type": "stream",
     "text": [
      "\u001b[32m2023-11-10 07:55:50.146\u001b[0m | \u001b[1mINFO    \u001b[0m | \u001b[36mpyrecdp.primitives.operations.text_compare_dedup\u001b[0m:\u001b[36mprocess_spark\u001b[0m:\u001b[36m105\u001b[0m - \u001b[1mRound 8: total processing num_samples is 5570, detected high score num_samples is 5\u001b[0m\n"
     ]
    },
    {
     "name": "stderr",
     "output_type": "stream",
     "text": [
      "                                                                                \n",
      " 39%|███▉      | 9/23 [03:46<03:50, 16.47s/it]\u001b[A"
     ]
    },
    {
     "name": "stdout",
     "output_type": "stream",
     "text": [
      "Round 8 took 11.786905280999918 sec\n",
      "Round 9 started ...\n"
     ]
    },
    {
     "name": "stderr",
     "output_type": "stream",
     "text": [
      "[Stage 208:====================================================>(199 + 1) / 200]\r"
     ]
    },
    {
     "name": "stdout",
     "output_type": "stream",
     "text": [
      "\u001b[32m2023-11-10 07:55:59.721\u001b[0m | \u001b[1mINFO    \u001b[0m | \u001b[36mpyrecdp.primitives.operations.text_compare_dedup\u001b[0m:\u001b[36mprocess_spark\u001b[0m:\u001b[36m105\u001b[0m - \u001b[1mRound 9: total processing num_samples is 5170, detected high score num_samples is 1\u001b[0m\n"
     ]
    },
    {
     "name": "stderr",
     "output_type": "stream",
     "text": [
      "                                                                                \n",
      " 43%|████▎     | 10/23 [03:55<03:06, 14.34s/it]\u001b[A"
     ]
    },
    {
     "name": "stdout",
     "output_type": "stream",
     "text": [
      "Round 9 took 9.56197019800004 sec\n",
      "Round 10 started ...\n"
     ]
    },
    {
     "name": "stderr",
     "output_type": "stream",
     "text": [
      "[Stage 229:====================================================>(198 + 2) / 200]\r"
     ]
    },
    {
     "name": "stdout",
     "output_type": "stream",
     "text": [
      "\u001b[32m2023-11-10 07:56:10.393\u001b[0m | \u001b[1mINFO    \u001b[0m | \u001b[36mpyrecdp.primitives.operations.text_compare_dedup\u001b[0m:\u001b[36mprocess_spark\u001b[0m:\u001b[36m105\u001b[0m - \u001b[1mRound 10: total processing num_samples is 4770, detected high score num_samples is 3\u001b[0m\n"
     ]
    },
    {
     "name": "stderr",
     "output_type": "stream",
     "text": [
      "                                                                                \n",
      " 48%|████▊     | 11/23 [04:06<02:38, 13.21s/it]\u001b[A"
     ]
    },
    {
     "name": "stdout",
     "output_type": "stream",
     "text": [
      "Round 10 took 10.65314421000005 sec\n",
      "Round 11 started ...\n"
     ]
    },
    {
     "name": "stderr",
     "output_type": "stream",
     "text": [
      "[Stage 250:====================================================>(199 + 1) / 200]\r"
     ]
    },
    {
     "name": "stdout",
     "output_type": "stream",
     "text": [
      "\u001b[32m2023-11-10 07:56:24.142\u001b[0m | \u001b[1mINFO    \u001b[0m | \u001b[36mpyrecdp.primitives.operations.text_compare_dedup\u001b[0m:\u001b[36mprocess_spark\u001b[0m:\u001b[36m105\u001b[0m - \u001b[1mRound 11: total processing num_samples is 4370, detected high score num_samples is 0\u001b[0m\n"
     ]
    },
    {
     "name": "stderr",
     "output_type": "stream",
     "text": [
      "                                                                                \n",
      " 52%|█████▏    | 12/23 [04:20<02:27, 13.40s/it]\u001b[A"
     ]
    },
    {
     "name": "stdout",
     "output_type": "stream",
     "text": [
      "Round 11 took 13.806791524000005 sec\n",
      "Round 12 started ...\n"
     ]
    },
    {
     "name": "stderr",
     "output_type": "stream",
     "text": [
      "[Stage 271:====================================================>(199 + 1) / 200]\r"
     ]
    },
    {
     "name": "stdout",
     "output_type": "stream",
     "text": [
      "\u001b[32m2023-11-10 07:56:38.419\u001b[0m | \u001b[1mINFO    \u001b[0m | \u001b[36mpyrecdp.primitives.operations.text_compare_dedup\u001b[0m:\u001b[36mprocess_spark\u001b[0m:\u001b[36m105\u001b[0m - \u001b[1mRound 12: total processing num_samples is 3970, detected high score num_samples is 0\u001b[0m\n"
     ]
    },
    {
     "name": "stderr",
     "output_type": "stream",
     "text": [
      "                                                                                \n",
      " 57%|█████▋    | 13/23 [04:34<02:16, 13.66s/it]\u001b[A"
     ]
    },
    {
     "name": "stdout",
     "output_type": "stream",
     "text": [
      "Round 12 took 14.27520691899997 sec\n",
      "Round 13 started ...\n"
     ]
    },
    {
     "name": "stderr",
     "output_type": "stream",
     "text": [
      "[Stage 292:====================================================>(199 + 1) / 200]\r"
     ]
    },
    {
     "name": "stdout",
     "output_type": "stream",
     "text": [
      "\u001b[32m2023-11-10 07:56:47.479\u001b[0m | \u001b[1mINFO    \u001b[0m | \u001b[36mpyrecdp.primitives.operations.text_compare_dedup\u001b[0m:\u001b[36mprocess_spark\u001b[0m:\u001b[36m105\u001b[0m - \u001b[1mRound 13: total processing num_samples is 3570, detected high score num_samples is 0\u001b[0m\n"
     ]
    },
    {
     "name": "stderr",
     "output_type": "stream",
     "text": [
      "                                                                                \n",
      " 61%|██████    | 14/23 [04:43<01:50, 12.25s/it]\u001b[A"
     ]
    },
    {
     "name": "stdout",
     "output_type": "stream",
     "text": [
      "Round 13 took 8.987865287999966 sec\n",
      "Round 14 started ...\n"
     ]
    },
    {
     "name": "stderr",
     "output_type": "stream",
     "text": [
      "[Stage 313:====================================================>(199 + 1) / 200]\r"
     ]
    },
    {
     "name": "stdout",
     "output_type": "stream",
     "text": [
      "\u001b[32m2023-11-10 07:57:07.598\u001b[0m | \u001b[1mINFO    \u001b[0m | \u001b[36mpyrecdp.primitives.operations.text_compare_dedup\u001b[0m:\u001b[36mprocess_spark\u001b[0m:\u001b[36m105\u001b[0m - \u001b[1mRound 14: total processing num_samples is 3170, detected high score num_samples is 0\u001b[0m\n"
     ]
    },
    {
     "name": "stderr",
     "output_type": "stream",
     "text": [
      "                                                                                \n",
      " 65%|██████▌   | 15/23 [05:03<01:57, 14.64s/it]\u001b[A"
     ]
    },
    {
     "name": "stdout",
     "output_type": "stream",
     "text": [
      "Round 14 took 20.170672734999926 sec\n",
      "Round 15 started ...\n"
     ]
    },
    {
     "name": "stderr",
     "output_type": "stream",
     "text": [
      "[Stage 334:====================================================>(199 + 1) / 200]\r"
     ]
    },
    {
     "name": "stdout",
     "output_type": "stream",
     "text": [
      "\u001b[32m2023-11-10 07:57:22.569\u001b[0m | \u001b[1mINFO    \u001b[0m | \u001b[36mpyrecdp.primitives.operations.text_compare_dedup\u001b[0m:\u001b[36mprocess_spark\u001b[0m:\u001b[36m105\u001b[0m - \u001b[1mRound 15: total processing num_samples is 2770, detected high score num_samples is 0\u001b[0m\n"
     ]
    },
    {
     "name": "stderr",
     "output_type": "stream",
     "text": [
      "                                                                                \n",
      " 70%|██████▉   | 16/23 [05:18<01:43, 14.73s/it]\u001b[A"
     ]
    },
    {
     "name": "stdout",
     "output_type": "stream",
     "text": [
      "Round 15 took 14.940632277000077 sec\n",
      "Round 16 started ...\n"
     ]
    },
    {
     "name": "stderr",
     "output_type": "stream",
     "text": [
      "[Stage 355:====================================================>(199 + 1) / 200]\r"
     ]
    },
    {
     "name": "stdout",
     "output_type": "stream",
     "text": [
      "\u001b[32m2023-11-10 07:57:30.755\u001b[0m | \u001b[1mINFO    \u001b[0m | \u001b[36mpyrecdp.primitives.operations.text_compare_dedup\u001b[0m:\u001b[36mprocess_spark\u001b[0m:\u001b[36m105\u001b[0m - \u001b[1mRound 16: total processing num_samples is 2370, detected high score num_samples is 4\u001b[0m\n"
     ]
    },
    {
     "name": "stderr",
     "output_type": "stream",
     "text": [
      "                                                                                \n",
      " 74%|███████▍  | 17/23 [05:26<01:16, 12.77s/it]\u001b[A"
     ]
    },
    {
     "name": "stdout",
     "output_type": "stream",
     "text": [
      "Round 16 took 8.218632835000108 sec\n",
      "Round 17 started ...\n"
     ]
    },
    {
     "name": "stderr",
     "output_type": "stream",
     "text": [
      "[Stage 376:====================================================>(199 + 1) / 200]\r"
     ]
    },
    {
     "name": "stdout",
     "output_type": "stream",
     "text": [
      "\u001b[32m2023-11-10 07:57:39.984\u001b[0m | \u001b[1mINFO    \u001b[0m | \u001b[36mpyrecdp.primitives.operations.text_compare_dedup\u001b[0m:\u001b[36mprocess_spark\u001b[0m:\u001b[36m105\u001b[0m - \u001b[1mRound 17: total processing num_samples is 1970, detected high score num_samples is 0\u001b[0m\n"
     ]
    },
    {
     "name": "stderr",
     "output_type": "stream",
     "text": [
      "                                                                                \n",
      " 78%|███████▊  | 18/23 [05:35<00:58, 11.72s/it]\u001b[A"
     ]
    },
    {
     "name": "stdout",
     "output_type": "stream",
     "text": [
      "Round 17 took 9.267777621999812 sec\n",
      "Round 18 started ...\n"
     ]
    },
    {
     "name": "stderr",
     "output_type": "stream",
     "text": [
      "[Stage 397:====================================================>(197 + 3) / 200]\r"
     ]
    },
    {
     "name": "stdout",
     "output_type": "stream",
     "text": [
      "\u001b[32m2023-11-10 07:57:46.405\u001b[0m | \u001b[1mINFO    \u001b[0m | \u001b[36mpyrecdp.primitives.operations.text_compare_dedup\u001b[0m:\u001b[36mprocess_spark\u001b[0m:\u001b[36m105\u001b[0m - \u001b[1mRound 18: total processing num_samples is 1570, detected high score num_samples is 1\u001b[0m\n"
     ]
    },
    {
     "name": "stderr",
     "output_type": "stream",
     "text": [
      "                                                                                \n",
      " 83%|████████▎ | 19/23 [05:42<00:40, 10.13s/it]\u001b[A"
     ]
    },
    {
     "name": "stdout",
     "output_type": "stream",
     "text": [
      "Round 18 took 6.425793315999954 sec\n",
      "Round 19 started ...\n"
     ]
    },
    {
     "name": "stderr",
     "output_type": "stream",
     "text": [
      "[Stage 418:====================================================>(199 + 1) / 200]\r"
     ]
    },
    {
     "name": "stdout",
     "output_type": "stream",
     "text": [
      "\u001b[32m2023-11-10 07:58:13.327\u001b[0m | \u001b[1mINFO    \u001b[0m | \u001b[36mpyrecdp.primitives.operations.text_compare_dedup\u001b[0m:\u001b[36mprocess_spark\u001b[0m:\u001b[36m105\u001b[0m - \u001b[1mRound 19: total processing num_samples is 1170, detected high score num_samples is 0\u001b[0m\n"
     ]
    },
    {
     "name": "stderr",
     "output_type": "stream",
     "text": [
      "                                                                                \n",
      " 87%|████████▋ | 20/23 [06:09<00:45, 15.17s/it]\u001b[A"
     ]
    },
    {
     "name": "stdout",
     "output_type": "stream",
     "text": [
      "Round 19 took 26.911595658000124 sec\n",
      "Round 20 started ...\n"
     ]
    },
    {
     "name": "stderr",
     "output_type": "stream",
     "text": [
      "[Stage 439:====================================================>(199 + 1) / 200]\r"
     ]
    },
    {
     "name": "stdout",
     "output_type": "stream",
     "text": [
      "\u001b[32m2023-11-10 07:58:24.568\u001b[0m | \u001b[1mINFO    \u001b[0m | \u001b[36mpyrecdp.primitives.operations.text_compare_dedup\u001b[0m:\u001b[36mprocess_spark\u001b[0m:\u001b[36m105\u001b[0m - \u001b[1mRound 20: total processing num_samples is 770, detected high score num_samples is 0\u001b[0m\n"
     ]
    },
    {
     "name": "stderr",
     "output_type": "stream",
     "text": [
      "                                                                                \n",
      " 91%|█████████▏| 21/23 [06:20<00:28, 14.00s/it]\u001b[A"
     ]
    },
    {
     "name": "stdout",
     "output_type": "stream",
     "text": [
      "Round 20 took 11.270802099999855 sec\n",
      "Round 21 started ...\n"
     ]
    },
    {
     "name": "stderr",
     "output_type": "stream",
     "text": [
      "[Stage 460:====================================================>(199 + 1) / 200]\r"
     ]
    },
    {
     "name": "stdout",
     "output_type": "stream",
     "text": [
      "\u001b[32m2023-11-10 07:58:28.352\u001b[0m | \u001b[1mINFO    \u001b[0m | \u001b[36mpyrecdp.primitives.operations.text_compare_dedup\u001b[0m:\u001b[36mprocess_spark\u001b[0m:\u001b[36m105\u001b[0m - \u001b[1mRound 21: total processing num_samples is 370, detected high score num_samples is 0\u001b[0m\n"
     ]
    },
    {
     "name": "stderr",
     "output_type": "stream",
     "text": [
      "                                                                                \n",
      " 96%|█████████▌| 22/23 [06:24<00:10, 10.94s/it]\u001b[A"
     ]
    },
    {
     "name": "stdout",
     "output_type": "stream",
     "text": [
      "Round 21 took 3.779994233000025 sec\n",
      "Round 22 started ...\n"
     ]
    },
    {
     "name": "stderr",
     "output_type": "stream",
     "text": [
      "[Stage 481:==================================================>  (191 + 9) / 200]\r"
     ]
    },
    {
     "name": "stdout",
     "output_type": "stream",
     "text": [
      "\u001b[32m2023-11-10 07:58:31.054\u001b[0m | \u001b[1mINFO    \u001b[0m | \u001b[36mpyrecdp.primitives.operations.text_compare_dedup\u001b[0m:\u001b[36mprocess_spark\u001b[0m:\u001b[36m105\u001b[0m - \u001b[1mRound 22: total processing num_samples is 36, detected high score num_samples is 0\u001b[0m\n"
     ]
    },
    {
     "name": "stderr",
     "output_type": "stream",
     "text": [
      "                                                                                \n",
      "100%|██████████| 23/23 [06:27<00:00, 16.83s/it]\u001b[A\n"
     ]
    },
    {
     "name": "stdout",
     "output_type": "stream",
     "text": [
      "Round 22 took 2.671257287999879 sec\n",
      "generate_connected_components => duplicates started ...\n"
     ]
    },
    {
     "name": "stderr",
     "output_type": "stream",
     "text": [
      "\n",
      "100%|██████████| 27/27 [00:00<00:00, 16104.41it/s]\n"
     ]
    },
    {
     "name": "stdout",
     "output_type": "stream",
     "text": [
      "\u001b[32m2023-11-10 07:58:32.416\u001b[0m | \u001b[1mINFO    \u001b[0m | \u001b[36mpyrecdp.primitives.operations.text_compare_dedup\u001b[0m:\u001b[36mprocess_spark\u001b[0m:\u001b[36m130\u001b[0m - \u001b[1mFinally detected duplicated num_samples is 12\u001b[0m\n",
      "generate_connected_components => duplicates took 0.2964779440001166 sec\n",
      "\u001b[32m2023-11-10 07:58:32.930\u001b[0m | \u001b[1mINFO    \u001b[0m | \u001b[36mpyrecdp.LLM.TextPipeline\u001b[0m:\u001b[36mexecute\u001b[0m:\u001b[36m404\u001b[0m - \u001b[1mRougeScoreDedup: A total of 449 rows of data were processed, using 388.623343706131 seconds, A duplication list containing 437 found, around 97.32739420935413% of total data, Sampled, duplication preview:     id_1  id_2     id_pair                                    similarity_left  \\\n",
      "0    351    19   19 :: 351  After tipping 25 tokens in a day, you'll be ab...   \n",
      "1    201     4    4 :: 201  After tipping 25 tokens in a day, you'll be ab...   \n",
      "2    351     4    4 :: 351  After tipping 25 tokens in a day, you'll be ab...   \n",
      "3     19     4     4 :: 19  After tipping 25 tokens in a day, you'll be ab...   \n",
      "4    320     4    4 :: 320  After tipping 25 tokens in a day, you'll be ab...   \n",
      "5    320    19   19 :: 320  After tipping 25 tokens in a day, you'll be ab...   \n",
      "6    327     4    4 :: 327  After tipping 25 tokens in a day, you'll be ab...   \n",
      "7    164     4    4 :: 164  After tipping 25 tokens in a day, you'll be ab...   \n",
      "8    164    19   19 :: 164  After tipping 25 tokens in a day, you'll be ab...   \n",
      "9    201    19   19 :: 201  After tipping 25 tokens in a day, you'll be ab...   \n",
      "10   327    19   19 :: 327  After tipping 25 tokens in a day, you'll be ab...   \n",
      "11   146    99   99 :: 146  Feltrinelli Pordenone. Novita Mondadori 2016. ...   \n",
      "12   404    85   85 :: 404  I&#39m ready to guess you almost certainly hav...   \n",
      "13   201   164  164 :: 201  After tipping 25 tokens in a day, you'll be ab...   \n",
      "14   413   162  162 :: 413  Applications arc hereby invited from concerned...   \n",
      "15   320   164  164 :: 320  After tipping 25 tokens in a day, you'll be ab...   \n",
      "16   351   164  164 :: 351  After tipping 25 tokens in a day, you'll be ab...   \n",
      "17   327   164  164 :: 327  After tipping 25 tokens in a day, you'll be ab...   \n",
      "18   325   186  186 :: 325  Meet people who have a real photos. In 🏘️Puert...   \n",
      "19   320   201  201 :: 320  After tipping 25 tokens in a day, you'll be ab...   \n",
      "20   327   201  201 :: 327  After tipping 25 tokens in a day, you'll be ab...   \n",
      "21   351   201  201 :: 351  After tipping 25 tokens in a day, you'll be ab...   \n",
      "22   351   320  320 :: 351  After tipping 25 tokens in a day, you'll be ab...   \n",
      "23   351   327  327 :: 351  After tipping 25 tokens in a day, you'll be ab...   \n",
      "24   387   331  331 :: 387  said when appearing on teeth in Vietnam?\\nsaid...   \n",
      "25   327   320  320 :: 327  After tipping 25 tokens in a day, you'll be ab...   \n",
      "26   377   372  372 :: 377  Dear Guest153239, Unfortunately, you have no m...   \n",
      "\n",
      "                                     similarity_right     score  \n",
      "0   After tipping 25 tokens in a day, you'll be ab...  0.924370  \n",
      "1   After tipping 25 tokens in a day, you'll be ab...  0.901639  \n",
      "2   After tipping 25 tokens in a day, you'll be ab...  0.901639  \n",
      "3   After tipping 25 tokens in a day, you'll be ab...  0.924370  \n",
      "4   After tipping 25 tokens in a day, you'll be ab...  0.924370  \n",
      "5   After tipping 25 tokens in a day, you'll be ab...  0.948276  \n",
      "6   After tipping 25 tokens in a day, you'll be ab...  0.924370  \n",
      "7   After tipping 25 tokens in a day, you'll be ab...  0.924370  \n",
      "8   After tipping 25 tokens in a day, you'll be ab...  0.948276  \n",
      "9   After tipping 25 tokens in a day, you'll be ab...  0.924370  \n",
      "10  After tipping 25 tokens in a day, you'll be ab...  0.948276  \n",
      "11  Feltrinelli Pordenone. Novita Mondadori 2016. ...  1.000000  \n",
      "12  I&#39m ready to guess you almost certainly hav...  1.000000  \n",
      "13  After tipping 25 tokens in a day, you'll be ab...  0.924370  \n",
      "14  Applications arc hereby invited from concerned...  1.000000  \n",
      "15  After tipping 25 tokens in a day, you'll be ab...  0.948276  \n",
      "16  After tipping 25 tokens in a day, you'll be ab...  0.924370  \n",
      "17  After tipping 25 tokens in a day, you'll be ab...  0.948276  \n",
      "18  Meet people who have a real photos. In 🏘️Jijig...  0.857143  \n",
      "19  After tipping 25 tokens in a day, you'll be ab...  0.924370  \n",
      "20  After tipping 25 tokens in a day, you'll be ab...  0.924370  \n",
      "21  After tipping 25 tokens in a day, you'll be ab...  0.901639  \n",
      "22  After tipping 25 tokens in a day, you'll be ab...  0.924370  \n",
      "23  After tipping 25 tokens in a day, you'll be ab...  0.924370  \n",
      "24  said when appearing on teeth in Vietnam?\\nsaid...  1.000000  \n",
      "25  After tipping 25 tokens in a day, you'll be ab...  0.948276  \n",
      "26  Dear Guest458024, Unfortunately, you have no m...  0.970588  \u001b[0m\n",
      "\u001b[32m2023-11-10 07:58:32.933\u001b[0m | \u001b[1mINFO    \u001b[0m | \u001b[36mpyrecdp.LLM.TextPipeline\u001b[0m:\u001b[36mexecute\u001b[0m:\u001b[36m404\u001b[0m - \u001b[1mPerfileParquetWriter: A total of 0 rows of data were processed, using 0 seconds, with 0 rows modified or removed, 0 rows of data remaining.\u001b[0m\n"
     ]
    },
    {
     "name": "stderr",
     "output_type": "stream",
     "text": [
      "ResumableTextPipeline, current on tiny_c4_sample.jsonl: 100%|██████████| 1/1 [06:28<00:00, 388.99s/it]"
     ]
    },
    {
     "name": "stdout",
     "output_type": "stream",
     "text": [
      "\u001b[32m2023-11-10 07:58:32.939\u001b[0m | \u001b[1mINFO    \u001b[0m | \u001b[36mpyrecdp.LLM.TextPipeline\u001b[0m:\u001b[36mexecute\u001b[0m:\u001b[36m409\u001b[0m - \u001b[1mCompleted! ResumableTextPipeline will not return dataset, please check ResumableTextPipeline_output_20231110075154 for verification.\u001b[0m\n"
     ]
    },
    {
     "name": "stderr",
     "output_type": "stream",
     "text": [
      "\n"
     ]
    }
   ],
   "source": [
    "ret = pipeline.execute()"
   ]
  },
  {
   "cell_type": "code",
   "execution_count": null,
   "id": "k9dSq5SMhndd",
   "metadata": {
    "id": "k9dSq5SMhndd"
   },
   "outputs": [],
   "source": [
    "pipeline.plot()\n",
    "del pipeline"
   ]
  }
 ],
 "metadata": {
  "colab": {
   "provenance": []
  },
  "kernelspec": {
   "display_name": "Python 3 (ipykernel)",
   "language": "python",
   "name": "python3"
  },
  "language_info": {
   "codemirror_mode": {
    "name": "ipython",
    "version": 3
   },
   "file_extension": ".py",
   "mimetype": "text/x-python",
   "name": "python",
   "nbconvert_exporter": "python",
   "pygments_lexer": "ipython3",
   "version": "3.9.12"
  },
  "widgets": {
   "application/vnd.jupyter.widget-state+json": {
    "3122abfac57e4b74b68d4bc32af63012": {
     "model_module": "@jupyter-widgets/controls",
     "model_module_version": "1.5.0",
     "model_name": "HBoxModel",
     "state": {
      "_dom_classes": [],
      "_model_module": "@jupyter-widgets/controls",
      "_model_module_version": "1.5.0",
      "_model_name": "HBoxModel",
      "_view_count": null,
      "_view_module": "@jupyter-widgets/controls",
      "_view_module_version": "1.5.0",
      "_view_name": "HBoxView",
      "box_style": "",
      "children": [
       "IPY_MODEL_3ca9aab87bd54c07a3741c371692366a",
       "IPY_MODEL_37cbf5293bd1408094b9406c55fbca00",
       "IPY_MODEL_b1540bcc0aaa4f0bb0cb1f6c28e41587"
      ],
      "layout": "IPY_MODEL_8766e09451ee4d0ebe4be4f358589930"
     }
    },
    "37cbf5293bd1408094b9406c55fbca00": {
     "model_module": "@jupyter-widgets/controls",
     "model_module_version": "1.5.0",
     "model_name": "FloatProgressModel",
     "state": {
      "_dom_classes": [],
      "_model_module": "@jupyter-widgets/controls",
      "_model_module_version": "1.5.0",
      "_model_name": "FloatProgressModel",
      "_view_count": null,
      "_view_module": "@jupyter-widgets/controls",
      "_view_module_version": "1.5.0",
      "_view_name": "ProgressView",
      "bar_style": "success",
      "description": "",
      "description_tooltip": null,
      "layout": "IPY_MODEL_9e8de235eadb41d3bd5e76284f64f57b",
      "max": 1,
      "min": 0,
      "orientation": "horizontal",
      "style": "IPY_MODEL_fb28cb3e97ce4e8c9a44b03c107c6fd4",
      "value": 0
     }
    },
    "3ca9aab87bd54c07a3741c371692366a": {
     "model_module": "@jupyter-widgets/controls",
     "model_module_version": "1.5.0",
     "model_name": "HTMLModel",
     "state": {
      "_dom_classes": [],
      "_model_module": "@jupyter-widgets/controls",
      "_model_module_version": "1.5.0",
      "_model_name": "HTMLModel",
      "_view_count": null,
      "_view_module": "@jupyter-widgets/controls",
      "_view_module_version": "1.5.0",
      "_view_name": "HTMLView",
      "description": "",
      "description_tooltip": null,
      "layout": "IPY_MODEL_b9be56e8740f4cfa973e2697c5c7f10c",
      "placeholder": "​",
      "style": "IPY_MODEL_5343b405d5aa49cfa6168bfa188de954",
      "value": ""
     }
    },
    "5343b405d5aa49cfa6168bfa188de954": {
     "model_module": "@jupyter-widgets/controls",
     "model_module_version": "1.5.0",
     "model_name": "DescriptionStyleModel",
     "state": {
      "_model_module": "@jupyter-widgets/controls",
      "_model_module_version": "1.5.0",
      "_model_name": "DescriptionStyleModel",
      "_view_count": null,
      "_view_module": "@jupyter-widgets/base",
      "_view_module_version": "1.2.0",
      "_view_name": "StyleView",
      "description_width": ""
     }
    },
    "6a65a84b219f4213b0e703d8292412f7": {
     "model_module": "@jupyter-widgets/base",
     "model_module_version": "1.2.0",
     "model_name": "LayoutModel",
     "state": {
      "_model_module": "@jupyter-widgets/base",
      "_model_module_version": "1.2.0",
      "_model_name": "LayoutModel",
      "_view_count": null,
      "_view_module": "@jupyter-widgets/base",
      "_view_module_version": "1.2.0",
      "_view_name": "LayoutView",
      "align_content": null,
      "align_items": null,
      "align_self": null,
      "border": null,
      "bottom": null,
      "display": null,
      "flex": null,
      "flex_flow": null,
      "grid_area": null,
      "grid_auto_columns": null,
      "grid_auto_flow": null,
      "grid_auto_rows": null,
      "grid_column": null,
      "grid_gap": null,
      "grid_row": null,
      "grid_template_areas": null,
      "grid_template_columns": null,
      "grid_template_rows": null,
      "height": null,
      "justify_content": null,
      "justify_items": null,
      "left": null,
      "margin": null,
      "max_height": null,
      "max_width": null,
      "min_height": null,
      "min_width": null,
      "object_fit": null,
      "object_position": null,
      "order": null,
      "overflow": null,
      "overflow_x": null,
      "overflow_y": null,
      "padding": null,
      "right": null,
      "top": null,
      "visibility": null,
      "width": null
     }
    },
    "6c9c984d140f4a9295fbfbecd4b2c785": {
     "model_module": "@jupyter-widgets/controls",
     "model_module_version": "1.5.0",
     "model_name": "DescriptionStyleModel",
     "state": {
      "_model_module": "@jupyter-widgets/controls",
      "_model_module_version": "1.5.0",
      "_model_name": "DescriptionStyleModel",
      "_view_count": null,
      "_view_module": "@jupyter-widgets/base",
      "_view_module_version": "1.2.0",
      "_view_name": "StyleView",
      "description_width": ""
     }
    },
    "8766e09451ee4d0ebe4be4f358589930": {
     "model_module": "@jupyter-widgets/base",
     "model_module_version": "1.2.0",
     "model_name": "LayoutModel",
     "state": {
      "_model_module": "@jupyter-widgets/base",
      "_model_module_version": "1.2.0",
      "_model_name": "LayoutModel",
      "_view_count": null,
      "_view_module": "@jupyter-widgets/base",
      "_view_module_version": "1.2.0",
      "_view_name": "LayoutView",
      "align_content": null,
      "align_items": null,
      "align_self": null,
      "border": null,
      "bottom": null,
      "display": null,
      "flex": null,
      "flex_flow": null,
      "grid_area": null,
      "grid_auto_columns": null,
      "grid_auto_flow": null,
      "grid_auto_rows": null,
      "grid_column": null,
      "grid_gap": null,
      "grid_row": null,
      "grid_template_areas": null,
      "grid_template_columns": null,
      "grid_template_rows": null,
      "height": null,
      "justify_content": null,
      "justify_items": null,
      "left": null,
      "margin": null,
      "max_height": null,
      "max_width": null,
      "min_height": null,
      "min_width": null,
      "object_fit": null,
      "object_position": null,
      "order": null,
      "overflow": null,
      "overflow_x": null,
      "overflow_y": null,
      "padding": null,
      "right": null,
      "top": null,
      "visibility": null,
      "width": null
     }
    },
    "9e8de235eadb41d3bd5e76284f64f57b": {
     "model_module": "@jupyter-widgets/base",
     "model_module_version": "1.2.0",
     "model_name": "LayoutModel",
     "state": {
      "_model_module": "@jupyter-widgets/base",
      "_model_module_version": "1.2.0",
      "_model_name": "LayoutModel",
      "_view_count": null,
      "_view_module": "@jupyter-widgets/base",
      "_view_module_version": "1.2.0",
      "_view_name": "LayoutView",
      "align_content": null,
      "align_items": null,
      "align_self": null,
      "border": null,
      "bottom": null,
      "display": null,
      "flex": null,
      "flex_flow": null,
      "grid_area": null,
      "grid_auto_columns": null,
      "grid_auto_flow": null,
      "grid_auto_rows": null,
      "grid_column": null,
      "grid_gap": null,
      "grid_row": null,
      "grid_template_areas": null,
      "grid_template_columns": null,
      "grid_template_rows": null,
      "height": null,
      "justify_content": null,
      "justify_items": null,
      "left": null,
      "margin": null,
      "max_height": null,
      "max_width": null,
      "min_height": null,
      "min_width": null,
      "object_fit": null,
      "object_position": null,
      "order": null,
      "overflow": null,
      "overflow_x": null,
      "overflow_y": null,
      "padding": null,
      "right": null,
      "top": null,
      "visibility": null,
      "width": "20px"
     }
    },
    "b1540bcc0aaa4f0bb0cb1f6c28e41587": {
     "model_module": "@jupyter-widgets/controls",
     "model_module_version": "1.5.0",
     "model_name": "HTMLModel",
     "state": {
      "_dom_classes": [],
      "_model_module": "@jupyter-widgets/controls",
      "_model_module_version": "1.5.0",
      "_model_name": "HTMLModel",
      "_view_count": null,
      "_view_module": "@jupyter-widgets/controls",
      "_view_module_version": "1.5.0",
      "_view_name": "HTMLView",
      "description": "",
      "description_tooltip": null,
      "layout": "IPY_MODEL_6a65a84b219f4213b0e703d8292412f7",
      "placeholder": "​",
      "style": "IPY_MODEL_6c9c984d140f4a9295fbfbecd4b2c785",
      "value": " 0/0 [00:00&lt;?, ?it/s]"
     }
    },
    "b9be56e8740f4cfa973e2697c5c7f10c": {
     "model_module": "@jupyter-widgets/base",
     "model_module_version": "1.2.0",
     "model_name": "LayoutModel",
     "state": {
      "_model_module": "@jupyter-widgets/base",
      "_model_module_version": "1.2.0",
      "_model_name": "LayoutModel",
      "_view_count": null,
      "_view_module": "@jupyter-widgets/base",
      "_view_module_version": "1.2.0",
      "_view_name": "LayoutView",
      "align_content": null,
      "align_items": null,
      "align_self": null,
      "border": null,
      "bottom": null,
      "display": null,
      "flex": null,
      "flex_flow": null,
      "grid_area": null,
      "grid_auto_columns": null,
      "grid_auto_flow": null,
      "grid_auto_rows": null,
      "grid_column": null,
      "grid_gap": null,
      "grid_row": null,
      "grid_template_areas": null,
      "grid_template_columns": null,
      "grid_template_rows": null,
      "height": null,
      "justify_content": null,
      "justify_items": null,
      "left": null,
      "margin": null,
      "max_height": null,
      "max_width": null,
      "min_height": null,
      "min_width": null,
      "object_fit": null,
      "object_position": null,
      "order": null,
      "overflow": null,
      "overflow_x": null,
      "overflow_y": null,
      "padding": null,
      "right": null,
      "top": null,
      "visibility": null,
      "width": null
     }
    },
    "fb28cb3e97ce4e8c9a44b03c107c6fd4": {
     "model_module": "@jupyter-widgets/controls",
     "model_module_version": "1.5.0",
     "model_name": "ProgressStyleModel",
     "state": {
      "_model_module": "@jupyter-widgets/controls",
      "_model_module_version": "1.5.0",
      "_model_name": "ProgressStyleModel",
      "_view_count": null,
      "_view_module": "@jupyter-widgets/base",
      "_view_module_version": "1.2.0",
      "_view_name": "StyleView",
      "bar_color": null,
      "description_width": ""
     }
    }
   }
  }
 },
 "nbformat": 4,
 "nbformat_minor": 5
}
