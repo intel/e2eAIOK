{
  "cells": [
    {
      "cell_type": "markdown",
      "source": [
        "# Install pyrecdp from github"
      ],
      "metadata": {
        "id": "IJ8RaakCnsyW"
      },
      "id": "IJ8RaakCnsyW"
    },
    {
      "cell_type": "code",
      "execution_count": null,
      "id": "736fb211-dbe6-4ca9-a1b1-db2cff2d287a",
      "metadata": {
        "id": "736fb211-dbe6-4ca9-a1b1-db2cff2d287a"
      },
      "outputs": [],
      "source": [
        "!pip install 'git+https://github.com/intel/e2eAIOK.git#egg=pyrecdp&subdirectory=RecDP'"
      ]
    },
    {
      "cell_type": "markdown",
      "source": [
        "# Install jdk for pyspark running"
      ],
      "metadata": {
        "id": "TWv2WvL6nzTA"
      },
      "id": "TWv2WvL6nzTA"
    },
    {
      "cell_type": "code",
      "source": [
        "!DEBIAN_FRONTEND=noninteractive apt-get install -y openjdk-8-jre"
      ],
      "metadata": {
        "id": "vk2j9kKbSrLT"
      },
      "id": "vk2j9kKbSrLT",
      "execution_count": null,
      "outputs": []
    },
    {
      "cell_type": "markdown",
      "source": [
        "# Prepare test data"
      ],
      "metadata": {
        "id": "ljHxOJL8n-5E"
      },
      "id": "ljHxOJL8n-5E"
    },
    {
      "cell_type": "code",
      "source": [
        "%mkdir -p /content/test_data\n",
        "%cd /content/test_data\n",
        "!wget https://raw.githubusercontent.com/intel/e2eAIOK/main/RecDP/tests/data/llm_data/arxiv_sample_100.jsonl"
      ],
      "metadata": {
        "id": "bWDi0vtLoHwm"
      },
      "id": "bWDi0vtLoHwm",
      "execution_count": null,
      "outputs": []
    },
    {
      "cell_type": "markdown",
      "source": [
        "# Import classifier function"
      ],
      "metadata": {
        "id": "XusjrHT4tOdj"
      },
      "id": "XusjrHT4tOdj"
    },
    {
      "cell_type": "code",
      "source": [
        "from pyrecdp.primitives.llmutils import classify_spark, language_identify_spark\n",
        "from pyrecdp.primitives.llmutils.utils import get_target_file_list\n",
        "from huggingface_hub import hf_hub_download\n",
        "from pyrecdp.core import SparkDataProcessor"
      ],
      "metadata": {
        "id": "SkccgiE9oNyL"
      },
      "id": "SkccgiE9oNyL",
      "execution_count": null,
      "outputs": []
    },
    {
      "cell_type": "markdown",
      "source": [
        "# Specify variables"
      ],
      "metadata": {
        "id": "w0kSy1Fotwcl"
      },
      "id": "w0kSy1Fotwcl"
    },
    {
      "cell_type": "code",
      "source": [
        "fasttext_model_dir = hf_hub_download(repo_id=\"facebook/fasttext-language-identification\", filename=\"model.bin\")\n",
        "data_dir = \"/content/test_data/\"\n",
        "data_file = '/content/test_data/arxiv_sample_100.jsonl'\n",
        "classify_save_path = \"/content/test_data/output/classify_spark\"\n",
        "lid_save_path = \"/content/test_data/output/lid_spark\""
      ],
      "metadata": {
        "colab": {
          "base_uri": "https://localhost:8080/",
          "height": 49,
          "referenced_widgets": [
            "dc3c682cb1bc4d5f88bf43c86b898431",
            "7793cbf3c78243149a2da2737c90ac66",
            "d9bc3c02728b47b8975652218b3461b7",
            "820b072d209248cc80edbffb6d12eaf1",
            "d7ea696fa05a45e78a0d8ea5109fe217",
            "976c51d83a6c4854a4f2a047e033ea2c",
            "2c8fc55d83f6446cb6d818d91eeec56e",
            "0f76169e9b254ae9bddcafb5f3ceeaba",
            "c075b502c1894942821ca27c5d84b64f",
            "4e549e4efbfe4ad48ae7c18f2c2c1db3",
            "8cbb21549dd44a8eaa48f9b89b3aef94"
          ]
        },
        "id": "xM8XygxBXKfh",
        "outputId": "8ded52f1-014c-4857-d3df-5432999b3ca8"
      },
      "id": "xM8XygxBXKfh",
      "execution_count": 6,
      "outputs": [
        {
          "output_type": "display_data",
          "data": {
            "text/plain": [
              "Downloading model.bin:   0%|          | 0.00/1.18G [00:00<?, ?B/s]"
            ],
            "application/vnd.jupyter.widget-view+json": {
              "version_major": 2,
              "version_minor": 0,
              "model_id": "dc3c682cb1bc4d5f88bf43c86b898431"
            }
          },
          "metadata": {}
        }
      ]
    },
    {
      "cell_type": "markdown",
      "source": [
        "# Load data"
      ],
      "metadata": {
        "id": "TVbiJxG3uNX5"
      },
      "id": "TVbiJxG3uNX5"
    },
    {
      "cell_type": "code",
      "source": [
        "rdp = SparkDataProcessor()\n",
        "spark=rdp.spark\n",
        "spark_df = spark.read.json(data_file)\n",
        "lid_df = language_identify_spark(spark_df, fasttext_model_dir, 'text', 'lang', lid_save_path)\n",
        "print(\"input is\")\n",
        "lid_df.show()"
      ],
      "metadata": {
        "id": "ex3QUs1tuVb0",
        "outputId": "9299feb4-05ec-4efa-cd4d-6d611a05b540",
        "colab": {
          "base_uri": "https://localhost:8080/"
        }
      },
      "id": "ex3QUs1tuVb0",
      "execution_count": 7,
      "outputs": [
        {
          "output_type": "stream",
          "name": "stdout",
          "text": [
            "Will assign 1 cores and 10386 M memory for spark\n",
            "per core memory size is 10.143 GB and shuffle_disk maximum capacity is 8589934592.000 GB\n",
            "process data started ...\n",
            "process data took 0.3967957800005024 sec\n",
            "Save data started ...\n",
            "Save data took 24.597423498999888 sec\n",
            "Completed!!\n",
            "    total identify the language for 100 documents\n",
            "    All the processed data are saving under the folder: /content/test_data/output/lid_spark\n",
            "input is\n",
            "+--------------------+--------------------+--------+\n",
            "|                meta|                text|    lang|\n",
            "+--------------------+--------------------+--------+\n",
            "|{2203.15369, en, ...|\\section{Introduc...|eng_Latn|\n",
            "|{math/9807097, en...|\\section{Introduc...|eng_Latn|\n",
            "|{2008.06948, en, ...|\\section{Introduc...|eng_Latn|\n",
            "|{cond-mat/9807071...|\\section{Introduc...|eng_Latn|\n",
            "|{2210.10650, en, ...|\\section{\\label{s...|eng_Latn|\n",
            "|{astro-ph/9807119...|\\section{Introduc...|eng_Latn|\n",
            "|{2111.03152, en, ...|\\section{Introduc...|eng_Latn|\n",
            "|{1606.04992, en, ...|\\n\\n\\section{Intr...|eng_Latn|\n",
            "|{1608.03404, en, ...|\\section{introduc...|eng_Latn|\n",
            "|{1904.10101, en, ...|\\section{Introduc...|eng_Latn|\n",
            "|{cond-mat/9807275...|\\section{Introduc...|eng_Latn|\n",
            "|{2109.05334, en, ...|\\section{Introduc...|eng_Latn|\n",
            "|{1512.06966, en, ...|\\section{Introduc...|eng_Latn|\n",
            "|{2112.04926, en, ...|\\section{Introduc...|eng_Latn|\n",
            "|{2202.01000, en, ...|\\section{Introduc...|eng_Latn|\n",
            "|{2209.13421, en, ...|\\section{Introduc...|eng_Latn|\n",
            "|{1103.5603, en, 2...|\\section{Introduc...|eng_Latn|\n",
            "|{1001.3679, en, 2...|\\section{Introduc...|eng_Latn|\n",
            "|{1702.08222, en, ...|\\section{Introduc...|eng_Latn|\n",
            "|{2201.05495, en, ...|\\section{Introduc...|eng_Latn|\n",
            "+--------------------+--------------------+--------+\n",
            "only showing top 20 rows\n",
            "\n"
          ]
        }
      ]
    },
    {
      "cell_type": "markdown",
      "source": [
        "# Split the data into sub buckets according to lang column"
      ],
      "metadata": {
        "id": "QEMpJ79yuf8W"
      },
      "id": "QEMpJ79yuf8W"
    },
    {
      "cell_type": "code",
      "source": [
        "classify_spark(lid_df, \"lang\", classify_save_path, \"file://\")"
      ],
      "metadata": {
        "id": "iQlDQ8SrkuN9",
        "outputId": "735bd993-e0e2-40e5-9d09-e5c02a558000",
        "colab": {
          "base_uri": "https://localhost:8080/"
        }
      },
      "id": "iQlDQ8SrkuN9",
      "execution_count": 8,
      "outputs": [
        {
          "output_type": "stream",
          "name": "stdout",
          "text": [
            "Spilt data started ...\n",
            "Spilt data took 1.7437168729993573 sec\n",
            "Completed!!\n",
            "    total classify the spark dataframe by lang for 100 documents\n",
            "    All the classified data are saving under the folder: file:///content/test_data/output/classify_spark\n"
          ]
        },
        {
          "output_type": "execute_result",
          "data": {
            "text/plain": [
              "DataFrame[meta: struct<arxiv_id:string,language:string,timestamp:string,url:string,yymm:string>, text: string, lang: string]"
            ]
          },
          "metadata": {},
          "execution_count": 8
        }
      ]
    },
    {
      "cell_type": "code",
      "source": [
        "!ls $classify_save_path"
      ],
      "metadata": {
        "id": "Yl9V2MAVvk29",
        "outputId": "d193f8ba-4042-48b2-ac5c-ac5c8ec366e6",
        "colab": {
          "base_uri": "https://localhost:8080/"
        }
      },
      "id": "Yl9V2MAVvk29",
      "execution_count": 9,
      "outputs": [
        {
          "output_type": "stream",
          "name": "stdout",
          "text": [
            "'lang=eng_Latn'   _SUCCESS\n"
          ]
        }
      ]
    },
    {
      "cell_type": "code",
      "source": [],
      "metadata": {
        "id": "cPnipZELwTPQ"
      },
      "id": "cPnipZELwTPQ",
      "execution_count": null,
      "outputs": []
    }
  ],
  "metadata": {
    "kernelspec": {
      "display_name": "Python 3 (ipykernel)",
      "language": "python",
      "name": "python3"
    },
    "language_info": {
      "codemirror_mode": {
        "name": "ipython",
        "version": 3
      },
      "file_extension": ".py",
      "mimetype": "text/x-python",
      "name": "python",
      "nbconvert_exporter": "python",
      "pygments_lexer": "ipython3",
      "version": "3.10.12"
    },
    "colab": {
      "provenance": [],
      "toc_visible": true
    },
    "widgets": {
      "application/vnd.jupyter.widget-state+json": {
        "dc3c682cb1bc4d5f88bf43c86b898431": {
          "model_module": "@jupyter-widgets/controls",
          "model_name": "HBoxModel",
          "model_module_version": "1.5.0",
          "state": {
            "_dom_classes": [],
            "_model_module": "@jupyter-widgets/controls",
            "_model_module_version": "1.5.0",
            "_model_name": "HBoxModel",
            "_view_count": null,
            "_view_module": "@jupyter-widgets/controls",
            "_view_module_version": "1.5.0",
            "_view_name": "HBoxView",
            "box_style": "",
            "children": [
              "IPY_MODEL_7793cbf3c78243149a2da2737c90ac66",
              "IPY_MODEL_d9bc3c02728b47b8975652218b3461b7",
              "IPY_MODEL_820b072d209248cc80edbffb6d12eaf1"
            ],
            "layout": "IPY_MODEL_d7ea696fa05a45e78a0d8ea5109fe217"
          }
        },
        "7793cbf3c78243149a2da2737c90ac66": {
          "model_module": "@jupyter-widgets/controls",
          "model_name": "HTMLModel",
          "model_module_version": "1.5.0",
          "state": {
            "_dom_classes": [],
            "_model_module": "@jupyter-widgets/controls",
            "_model_module_version": "1.5.0",
            "_model_name": "HTMLModel",
            "_view_count": null,
            "_view_module": "@jupyter-widgets/controls",
            "_view_module_version": "1.5.0",
            "_view_name": "HTMLView",
            "description": "",
            "description_tooltip": null,
            "layout": "IPY_MODEL_976c51d83a6c4854a4f2a047e033ea2c",
            "placeholder": "​",
            "style": "IPY_MODEL_2c8fc55d83f6446cb6d818d91eeec56e",
            "value": "Downloading model.bin: 100%"
          }
        },
        "d9bc3c02728b47b8975652218b3461b7": {
          "model_module": "@jupyter-widgets/controls",
          "model_name": "FloatProgressModel",
          "model_module_version": "1.5.0",
          "state": {
            "_dom_classes": [],
            "_model_module": "@jupyter-widgets/controls",
            "_model_module_version": "1.5.0",
            "_model_name": "FloatProgressModel",
            "_view_count": null,
            "_view_module": "@jupyter-widgets/controls",
            "_view_module_version": "1.5.0",
            "_view_name": "ProgressView",
            "bar_style": "success",
            "description": "",
            "description_tooltip": null,
            "layout": "IPY_MODEL_0f76169e9b254ae9bddcafb5f3ceeaba",
            "max": 1176355829,
            "min": 0,
            "orientation": "horizontal",
            "style": "IPY_MODEL_c075b502c1894942821ca27c5d84b64f",
            "value": 1176355829
          }
        },
        "820b072d209248cc80edbffb6d12eaf1": {
          "model_module": "@jupyter-widgets/controls",
          "model_name": "HTMLModel",
          "model_module_version": "1.5.0",
          "state": {
            "_dom_classes": [],
            "_model_module": "@jupyter-widgets/controls",
            "_model_module_version": "1.5.0",
            "_model_name": "HTMLModel",
            "_view_count": null,
            "_view_module": "@jupyter-widgets/controls",
            "_view_module_version": "1.5.0",
            "_view_name": "HTMLView",
            "description": "",
            "description_tooltip": null,
            "layout": "IPY_MODEL_4e549e4efbfe4ad48ae7c18f2c2c1db3",
            "placeholder": "​",
            "style": "IPY_MODEL_8cbb21549dd44a8eaa48f9b89b3aef94",
            "value": " 1.18G/1.18G [00:26&lt;00:00, 65.7MB/s]"
          }
        },
        "d7ea696fa05a45e78a0d8ea5109fe217": {
          "model_module": "@jupyter-widgets/base",
          "model_name": "LayoutModel",
          "model_module_version": "1.2.0",
          "state": {
            "_model_module": "@jupyter-widgets/base",
            "_model_module_version": "1.2.0",
            "_model_name": "LayoutModel",
            "_view_count": null,
            "_view_module": "@jupyter-widgets/base",
            "_view_module_version": "1.2.0",
            "_view_name": "LayoutView",
            "align_content": null,
            "align_items": null,
            "align_self": null,
            "border": null,
            "bottom": null,
            "display": null,
            "flex": null,
            "flex_flow": null,
            "grid_area": null,
            "grid_auto_columns": null,
            "grid_auto_flow": null,
            "grid_auto_rows": null,
            "grid_column": null,
            "grid_gap": null,
            "grid_row": null,
            "grid_template_areas": null,
            "grid_template_columns": null,
            "grid_template_rows": null,
            "height": null,
            "justify_content": null,
            "justify_items": null,
            "left": null,
            "margin": null,
            "max_height": null,
            "max_width": null,
            "min_height": null,
            "min_width": null,
            "object_fit": null,
            "object_position": null,
            "order": null,
            "overflow": null,
            "overflow_x": null,
            "overflow_y": null,
            "padding": null,
            "right": null,
            "top": null,
            "visibility": null,
            "width": null
          }
        },
        "976c51d83a6c4854a4f2a047e033ea2c": {
          "model_module": "@jupyter-widgets/base",
          "model_name": "LayoutModel",
          "model_module_version": "1.2.0",
          "state": {
            "_model_module": "@jupyter-widgets/base",
            "_model_module_version": "1.2.0",
            "_model_name": "LayoutModel",
            "_view_count": null,
            "_view_module": "@jupyter-widgets/base",
            "_view_module_version": "1.2.0",
            "_view_name": "LayoutView",
            "align_content": null,
            "align_items": null,
            "align_self": null,
            "border": null,
            "bottom": null,
            "display": null,
            "flex": null,
            "flex_flow": null,
            "grid_area": null,
            "grid_auto_columns": null,
            "grid_auto_flow": null,
            "grid_auto_rows": null,
            "grid_column": null,
            "grid_gap": null,
            "grid_row": null,
            "grid_template_areas": null,
            "grid_template_columns": null,
            "grid_template_rows": null,
            "height": null,
            "justify_content": null,
            "justify_items": null,
            "left": null,
            "margin": null,
            "max_height": null,
            "max_width": null,
            "min_height": null,
            "min_width": null,
            "object_fit": null,
            "object_position": null,
            "order": null,
            "overflow": null,
            "overflow_x": null,
            "overflow_y": null,
            "padding": null,
            "right": null,
            "top": null,
            "visibility": null,
            "width": null
          }
        },
        "2c8fc55d83f6446cb6d818d91eeec56e": {
          "model_module": "@jupyter-widgets/controls",
          "model_name": "DescriptionStyleModel",
          "model_module_version": "1.5.0",
          "state": {
            "_model_module": "@jupyter-widgets/controls",
            "_model_module_version": "1.5.0",
            "_model_name": "DescriptionStyleModel",
            "_view_count": null,
            "_view_module": "@jupyter-widgets/base",
            "_view_module_version": "1.2.0",
            "_view_name": "StyleView",
            "description_width": ""
          }
        },
        "0f76169e9b254ae9bddcafb5f3ceeaba": {
          "model_module": "@jupyter-widgets/base",
          "model_name": "LayoutModel",
          "model_module_version": "1.2.0",
          "state": {
            "_model_module": "@jupyter-widgets/base",
            "_model_module_version": "1.2.0",
            "_model_name": "LayoutModel",
            "_view_count": null,
            "_view_module": "@jupyter-widgets/base",
            "_view_module_version": "1.2.0",
            "_view_name": "LayoutView",
            "align_content": null,
            "align_items": null,
            "align_self": null,
            "border": null,
            "bottom": null,
            "display": null,
            "flex": null,
            "flex_flow": null,
            "grid_area": null,
            "grid_auto_columns": null,
            "grid_auto_flow": null,
            "grid_auto_rows": null,
            "grid_column": null,
            "grid_gap": null,
            "grid_row": null,
            "grid_template_areas": null,
            "grid_template_columns": null,
            "grid_template_rows": null,
            "height": null,
            "justify_content": null,
            "justify_items": null,
            "left": null,
            "margin": null,
            "max_height": null,
            "max_width": null,
            "min_height": null,
            "min_width": null,
            "object_fit": null,
            "object_position": null,
            "order": null,
            "overflow": null,
            "overflow_x": null,
            "overflow_y": null,
            "padding": null,
            "right": null,
            "top": null,
            "visibility": null,
            "width": null
          }
        },
        "c075b502c1894942821ca27c5d84b64f": {
          "model_module": "@jupyter-widgets/controls",
          "model_name": "ProgressStyleModel",
          "model_module_version": "1.5.0",
          "state": {
            "_model_module": "@jupyter-widgets/controls",
            "_model_module_version": "1.5.0",
            "_model_name": "ProgressStyleModel",
            "_view_count": null,
            "_view_module": "@jupyter-widgets/base",
            "_view_module_version": "1.2.0",
            "_view_name": "StyleView",
            "bar_color": null,
            "description_width": ""
          }
        },
        "4e549e4efbfe4ad48ae7c18f2c2c1db3": {
          "model_module": "@jupyter-widgets/base",
          "model_name": "LayoutModel",
          "model_module_version": "1.2.0",
          "state": {
            "_model_module": "@jupyter-widgets/base",
            "_model_module_version": "1.2.0",
            "_model_name": "LayoutModel",
            "_view_count": null,
            "_view_module": "@jupyter-widgets/base",
            "_view_module_version": "1.2.0",
            "_view_name": "LayoutView",
            "align_content": null,
            "align_items": null,
            "align_self": null,
            "border": null,
            "bottom": null,
            "display": null,
            "flex": null,
            "flex_flow": null,
            "grid_area": null,
            "grid_auto_columns": null,
            "grid_auto_flow": null,
            "grid_auto_rows": null,
            "grid_column": null,
            "grid_gap": null,
            "grid_row": null,
            "grid_template_areas": null,
            "grid_template_columns": null,
            "grid_template_rows": null,
            "height": null,
            "justify_content": null,
            "justify_items": null,
            "left": null,
            "margin": null,
            "max_height": null,
            "max_width": null,
            "min_height": null,
            "min_width": null,
            "object_fit": null,
            "object_position": null,
            "order": null,
            "overflow": null,
            "overflow_x": null,
            "overflow_y": null,
            "padding": null,
            "right": null,
            "top": null,
            "visibility": null,
            "width": null
          }
        },
        "8cbb21549dd44a8eaa48f9b89b3aef94": {
          "model_module": "@jupyter-widgets/controls",
          "model_name": "DescriptionStyleModel",
          "model_module_version": "1.5.0",
          "state": {
            "_model_module": "@jupyter-widgets/controls",
            "_model_module_version": "1.5.0",
            "_model_name": "DescriptionStyleModel",
            "_view_count": null,
            "_view_module": "@jupyter-widgets/base",
            "_view_module_version": "1.2.0",
            "_view_name": "StyleView",
            "description_width": ""
          }
        }
      }
    }
  },
  "nbformat": 4,
  "nbformat_minor": 5
}