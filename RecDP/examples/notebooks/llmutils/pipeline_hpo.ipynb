{
 "cells": [
  {
   "cell_type": "markdown",
   "metadata": {},
   "source": [
    "# RecDP LLM - Data Pipeline HPO\n",
    "Data pipeline hyperparameter optimization tools can be a valuable assetto improve the performance of llm data pipelines. It can help to find the best set of hyperparameters for data pipeline without having to manually evaluate every possible combination.\n",
    "\n",
    "We provide the LLM data pipeline HPO tool pipeline_hpo.py which takes a YAML configuration file for a pipeline and a HPO configuration file as input, and outputs a pipeline configuration file with the best indicators."
   ]
  },
  {
   "cell_type": "markdown",
   "metadata": {},
   "source": [
    "# Get Started"
   ]
  },
  {
   "cell_type": "markdown",
   "metadata": {},
   "source": [
    "## 1. Install pyrecdp and dependencies"
   ]
  },
  {
   "cell_type": "code",
   "execution_count": null,
   "metadata": {},
   "outputs": [],
   "source": [
    "! DEBIAN_FRONTEND=noninteractive apt-get install -y openjdk-8-jre\n",
    "! pip install pyrecdp --pre\n",
    "# ! pip install 'git+https://github.com/intel/e2eAIOK.git#egg=pyrecdp&subdirectory=RecDP'"
   ]
  },
  {
   "cell_type": "markdown",
   "metadata": {},
   "source": [
    "## 2. Prepare your data"
   ]
  },
  {
   "cell_type": "markdown",
   "metadata": {},
   "source": [
    "### 2.1 Prepare your dataset"
   ]
  },
  {
   "cell_type": "code",
   "execution_count": null,
   "metadata": {},
   "outputs": [],
   "source": [
    "%mkdir -p /content/test_data\n",
    "%cd /content/test_data\n",
    "!wget -P /content/test_data https://raw.githubusercontent.com/intel/e2eAIOK/main/RecDP/tests/data/PILE/NIH_sample.jsonl\n",
    "!wget -P /content/test_data https://raw.githubusercontent.com/intel/e2eAIOK/main/RecDP/tests/data/PILE/NIH_sample.parquet"
   ]
  },
  {
   "cell_type": "markdown",
   "metadata": {},
   "source": [
    "### 2.2. Process your pipeline and HPO configuration"
   ]
  },
  {
   "cell_type": "code",
   "execution_count": null,
   "metadata": {},
   "outputs": [],
   "source": [
    "%mkdir -p /content/test_config\n",
    "%cd /content/test_config\n",
    "!wget -P /content/test_config https://raw.githubusercontent.com/intel/e2eAIOK/main/RecDP/tests/config/llm/pipeline/pipeline_hpo.yaml.template"
   ]
  },
  {
   "cell_type": "markdown",
   "metadata": {},
   "source": [
    "## 3. HPO for data pipeline"
   ]
  },
  {
   "cell_type": "code",
   "execution_count": 8,
   "metadata": {},
   "outputs": [
    {
     "name": "stdout",
     "output_type": "stream",
     "text": [
      "\u001B[32m2023-11-01 14:43:43.417\u001B[0m | \u001B[1mINFO    \u001B[0m | \u001B[36mpyrecdp.primitives.llmutils.pipeline_hpo\u001B[0m:\u001B[36mrun\u001B[0m:\u001B[36m202\u001B[0m - \u001B[1mStarting optimize text pipeline with config file /content/test_config/pipeline.yaml\u001B[0m\n",
      "[PerfileSourcedJsonlReader, LengthFilter, ProfanityFilter, WordRepetitionFilter, PerfileParquetWriter]\n",
      "init ray with total mem of 324413575987\n"
     ]
    },
    {
     "name": "stderr",
     "output_type": "stream",
     "text": [
      "2023-11-01 14:43:48,265\tINFO worker.py:1642 -- Started a local Ray instance.\n",
      "find: ‘tests/data’: No such file or directory\n",
      "0it [00:00, ?it/s]"
     ]
    },
    {
     "name": "stdout",
     "output_type": "stream",
     "text": [
      "\u001B[32m2023-11-01 14:43:49.354\u001B[0m | \u001B[1mINFO    \u001B[0m | \u001B[36mpyrecdp.LLM.TextPipeline\u001B[0m:\u001B[36mexecute\u001B[0m:\u001B[36m394\u001B[0m - \u001B[1mCompleted! ResumableTextPipeline will not return dataset, please check ResumableTextPipeline_output for verification.\u001B[0m\n"
     ]
    },
    {
     "name": "stderr",
     "output_type": "stream",
     "text": [
      "\n"
     ]
    },
    {
     "name": "stdout",
     "output_type": "stream",
     "text": [
      "\u001B[32m2023-11-01 14:43:51.651\u001B[0m | \u001B[1mINFO    \u001B[0m | \u001B[36mpyrecdp.primitives.llmutils.pipeline_hpo\u001B[0m:\u001B[36moptimize\u001B[0m:\u001B[36m126\u001B[0m - \u001B[1mReport metrics to sigopt with metrics: [{'name': 'metric_1', 'value': 0.2187840113056655}, {'name': 'metric_2', 'value': 0.2224697122073407}], assignment: Assignments({\n",
      "  \"WordRepetitionFilter_max_ratio\": 0.4638563398007593,\n",
      "  \"WordRepetitionFilter_min_ratio\": 0.10794814881518933\n",
      "})\u001B[0m\n",
      "\u001B[32m2023-11-01 14:43:51.674\u001B[0m | \u001B[1mINFO    \u001B[0m | \u001B[36mpyrecdp.primitives.llmutils.pipeline_hpo\u001B[0m:\u001B[36mrun\u001B[0m:\u001B[36m211\u001B[0m - \u001B[1mThe pipeline optimization was successfully completed, and the pipeline output was kept to the file '/content/test_config/pipeline.yaml'\u001B[0m\n"
     ]
    },
    {
     "name": "stderr",
     "output_type": "stream",
     "text": [
      "/root/miniforge3/envs/recdp/lib/python3.10/site-packages/sigopt/objects.py:338\n",
      "\tRuntimeWarning: The .data field only contains a single page of results, which may be incomplete for large responses. Prefer to use the `.iterate_pages() to ensure that you iterate through all elements in the response.\n"
     ]
    }
   ],
   "source": [
    "from pyrecdp.primitives.llmutils.pipeline_hpo import text_pipeline_optimize\n",
    "input_pipeline_file = \"/content/test_config/pipeline_hpo.yaml.template\"\n",
    "output_pipeline_file = \"/content/test_config/pipeline.yaml\"\n",
    "text_pipeline_optimize(input_pipeline_file, output_pipeline_file)"
   ]
  }
 ],
 "metadata": {
  "kernelspec": {
   "display_name": "recdp",
   "language": "python",
   "name": "python3"
  },
  "language_info": {
   "codemirror_mode": {
    "name": "ipython",
    "version": 3
   },
   "file_extension": ".py",
   "mimetype": "text/x-python",
   "name": "python",
   "nbconvert_exporter": "python",
   "pygments_lexer": "ipython3",
   "version": "3.10.12"
  }
 },
 "nbformat": 4,
 "nbformat_minor": 2
}
