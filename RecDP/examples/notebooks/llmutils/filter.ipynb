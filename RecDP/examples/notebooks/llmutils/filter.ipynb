{
  "cells": [
    {
      "cell_type": "markdown",
      "metadata": {
        "id": "HZnkoi9dtEd6"
      },
      "source": [
        "# RecDP LLM - Filter\n",
        "\n",
        "This notebooK mainly displays the basic usage of the filters provided by Recdp\n",
        "\n"
      ]
    },
    {
      "cell_type": "markdown",
      "metadata": {
        "id": "uhBMmqXHtJDL"
      },
      "source": [
        "# Get Started"
      ]
    },
    {
      "cell_type": "markdown",
      "metadata": {
        "id": "BT-BjcaHj3eh"
      },
      "source": [
        "## 1. Install pyrecdp and dependencies\n"
      ]
    },
    {
      "cell_type": "code",
      "execution_count": null,
      "metadata": {
        "id": "E3ffXVymdeKg"
      },
      "outputs": [],
      "source": [
        "! DEBIAN_FRONTEND=noninteractive apt-get install -qq -y openjdk-8-jre\n",
        "! pip install -q pyrecdp --pre\n",
        "# ! pip install 'git+https://github.com/intel/e2eAIOK.git#egg=pyrecdp&subdirectory=RecDP'"
      ]
    },
    {
      "cell_type": "markdown",
      "metadata": {
        "id": "bMqBJ9eckIs6"
      },
      "source": [
        "## 2. Prepare your data"
      ]
    },
    {
      "cell_type": "code",
      "execution_count": null,
      "metadata": {
        "id": "2SFjDgfLd4qE"
      },
      "outputs": [],
      "source": [
        "%mkdir -p /content/test_data\n",
        "%cd /content/test_data\n",
        "!wget -P /content/test_data https://raw.githubusercontent.com/intel/e2eAIOK/main/RecDP/tests/data/llm_data/arxiv_sample_100.jsonl\n",
        "!wget -P /content/test_data https://raw.githubusercontent.com/intel/e2eAIOK/main/RecDP/tests/data/llm_data/github_sample_50.jsonl\n",
        "!wget -P /content/test_data https://raw.githubusercontent.com/intel/e2eAIOK/main/RecDP/tests/data/llm_data/pii_test.jsonl\n",
        "!wget -P /content/test_data https://raw.githubusercontent.com/intel/e2eAIOK/main/RecDP/tests/data/llm_data/tiny_c4_sample.jsonl"
      ]
    },
    {
      "cell_type": "markdown",
      "metadata": {
        "id": "JjTnnzw_kRVV"
      },
      "source": [
        "## 3. Filters\n"
      ]
    },
    {
      "cell_type": "markdown",
      "metadata": {
        "id": "XXGify_rkXHZ"
      },
      "source": [
        "## Specify input data path and output path"
      ]
    },
    {
      "cell_type": "code",
      "execution_count": 7,
      "metadata": {
        "id": "UvIWsnV-fYmv"
      },
      "outputs": [],
      "source": [
        "data_dir = \"/content/test_data\"\n",
        "out_dir = \"/content/output\""
      ]
    },
    {
      "cell_type": "markdown",
      "metadata": {
        "id": "nj0LuIsFkhRr"
      },
      "source": [
        "## Filter out data with URLs based on [blacklist](https://dsi.ut-capitole.fr/blacklists/)\n",
        "\n"
      ]
    },
    {
      "cell_type": "code",
      "execution_count": null,
      "metadata": {
        "id": "vftAYZMwfllh"
      },
      "outputs": [],
      "source": [
        "from pyrecdp.primitives.llmutils import filter_by_blocklist\n",
        "filter_by_blocklist(data_dir, out_dir)"
      ]
    },
    {
      "cell_type": "markdown",
      "metadata": {
        "id": "WOn4LzMYk_Xm"
      },
      "source": [
        "## Filter out data containing bad words\n",
        " The bad words list comes from [List-of-Dirty-Naughty-Obscene-and-Otherwise-Bad-Words](https://github.com/LDNOOBW/List-of-Dirty-Naughty-Obscene-and-Otherwise-Bad-Words)\n",
        "\n"
      ]
    },
    {
      "cell_type": "code",
      "execution_count": null,
      "metadata": {
        "id": "tYizFBdUfpne"
      },
      "outputs": [],
      "source": [
        "from pyrecdp.primitives.llmutils import filter_by_bad_words\n",
        "filter_by_bad_words(data_dir, out_dir)"
      ]
    },
    {
      "cell_type": "markdown",
      "metadata": {
        "id": "hquZ164_l8Ro"
      },
      "source": [
        "## Filter out data based on length limit"
      ]
    },
    {
      "cell_type": "code",
      "execution_count": null,
      "metadata": {
        "id": "qrAnHzftfqK2"
      },
      "outputs": [],
      "source": [
        "from pyrecdp.primitives.llmutils import filter_by_length\n",
        "filter_by_length(data_dir, out_dir,min_len=100, max_len=10000)"
      ]
    },
    {
      "cell_type": "markdown",
      "metadata": {
        "id": "pLqx_qMnmL1o"
      },
      "source": [
        "## Filter out data containing profanity language\n",
        "Mainly using [alt-profanity-check](https://pypi.org/project/alt-profanity-check/) library\n",
        "\n"
      ]
    },
    {
      "cell_type": "code",
      "execution_count": null,
      "metadata": {
        "id": "6fZw1qa6fqjA"
      },
      "outputs": [],
      "source": [
        "from pyrecdp.primitives.llmutils import profanity_filter\n",
        "profanity_filter(data_dir, out_dir)"
      ]
    },
    {
      "cell_type": "markdown",
      "metadata": {
        "id": "cVw4Hg9juw-t"
      },
      "source": [
        "## Filter out data by alphanumeric ratio within the specified range"
      ]
    },
    {
      "cell_type": "code",
      "execution_count": null,
      "metadata": {
        "id": "vGeTqjXxvJo2"
      },
      "outputs": [],
      "source": [
        "from pyrecdp.primitives.llmutils.filter import filter_by_alphanumeric\n",
        "filter_by_alphanumeric(data_dir, out_dir)"
      ]
    },
    {
      "cell_type": "markdown",
      "metadata": {
        "id": "yjMYnQvlxG9Z"
      },
      "source": [
        "## Filter out data by average line length within the specified range"
      ]
    },
    {
      "cell_type": "code",
      "execution_count": null,
      "metadata": {
        "id": "-uRfP9AWxOqS"
      },
      "outputs": [],
      "source": [
        "from pyrecdp.primitives.llmutils.filter import filter_by_average_line_length\n",
        "filter_by_average_line_length(data_dir, out_dir)"
      ]
    },
    {
      "cell_type": "markdown",
      "metadata": {
        "id": "VNF0gakNxUzx"
      },
      "source": [
        "## Filter out data by maximum line length within the specified range"
      ]
    },
    {
      "cell_type": "code",
      "execution_count": null,
      "metadata": {
        "id": "Re6VmQJQxdCB"
      },
      "outputs": [],
      "source": [
        "from pyrecdp.primitives.llmutils.filter import filter_by_maximum_line_length\n",
        "filter_by_maximum_line_length(data_dir, out_dir)"
      ]
    },
    {
      "cell_type": "markdown",
      "metadata": {
        "id": "Qj1chAwqxaIJ"
      },
      "source": [
        "## Filter out data by special-char ratio within the specified range"
      ]
    },
    {
      "cell_type": "code",
      "execution_count": null,
      "metadata": {
        "id": "jLn125X8xed5"
      },
      "outputs": [],
      "source": [
        "from pyrecdp.primitives.llmutils.filter import filter_by_special_characters\n",
        "filter_by_special_characters(data_dir, out_dir)"
      ]
    },
    {
      "cell_type": "markdown",
      "metadata": {
        "id": "VFE26jfKxanj"
      },
      "source": [
        "## Filter out data by  token count within the specified range"
      ]
    },
    {
      "cell_type": "code",
      "execution_count": null,
      "metadata": {
        "id": "YOwO_J6oxfNY"
      },
      "outputs": [],
      "source": [
        "from pyrecdp.primitives.llmutils.filter import filter_by_token_num\n",
        "filter_by_token_num(data_dir, out_dir)"
      ]
    },
    {
      "cell_type": "markdown",
      "metadata": {
        "id": "BIag-tLoxa_S"
      },
      "source": [
        "## Filter out data by  word count within the specified range"
      ]
    },
    {
      "cell_type": "code",
      "execution_count": null,
      "metadata": {
        "id": "I9dLBVYkxf_I"
      },
      "outputs": [],
      "source": [
        "from pyrecdp.primitives.llmutils.filter import filter_by_word_num\n",
        "filter_by_word_num(data_dir, out_dir)"
      ]
    },
    {
      "cell_type": "markdown",
      "metadata": {
        "id": "9Np8sa9AxbXD"
      },
      "source": [
        "## Filter out data by perplexity score below the specified threshold"
      ]
    },
    {
      "cell_type": "code",
      "execution_count": null,
      "metadata": {
        "id": "WzavXG-Fxgra"
      },
      "outputs": [],
      "source": [
        "from pyrecdp.primitives.llmutils.filter import filter_by_perplexity\n",
        "\n",
        "filter_by_perplexity(data_dir, out_dir)"
      ]
    },
    {
      "cell_type": "markdown",
      "metadata": {
        "id": "vYCCrvFzxbzP"
      },
      "source": [
        "## Filter out data by  word-level n-gram repetition ratio within the specified range"
      ]
    },
    {
      "cell_type": "code",
      "execution_count": null,
      "metadata": {
        "id": "10mCrc-RxhWD"
      },
      "outputs": [],
      "source": [
        "from pyrecdp.primitives.llmutils.filter import filter_by_word_repetition\n",
        "filter_by_word_repetition(data_dir, out_dir)"
      ]
    }
  ],
  "metadata": {
    "colab": {
      "provenance": [],
      "toc_visible": true
    },
    "kernelspec": {
      "display_name": "Python 3",
      "name": "python3"
    },
    "language_info": {
      "name": "python"
    }
  },
  "nbformat": 4,
  "nbformat_minor": 0
}
