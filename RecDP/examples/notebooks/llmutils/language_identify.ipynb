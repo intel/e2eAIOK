{
 "cells": [
  {
   "cell_type": "code",
   "execution_count": null,
   "id": "736fb211-dbe6-4ca9-a1b1-db2cff2d287a",
   "metadata": {
    "id": "736fb211-dbe6-4ca9-a1b1-db2cff2d287a"
   },
   "outputs": [],
   "source": [
    "! git clone https://github.com/intel/e2eAIOK.git /tmp/e2eAIOK"
   ]
  },
  {
   "cell_type": "code",
   "source": [
    "! apt-get update -y &&  DEBIAN_FRONTEND=noninteractive apt-get install -y python3 python3-pip python-is-python3 graphviz"
   ],
   "metadata": {
    "id": "vk2j9kKbSrLT"
   },
   "id": "vk2j9kKbSrLT",
   "execution_count": null,
   "outputs": []
  },
  {
   "cell_type": "code",
   "source": [
    "! DEBIAN_FRONTEND=noninteractive apt-get install -y openjdk-8-jre"
   ],
   "metadata": {
    "id": "7ulpAg02TKTg"
   },
   "id": "7ulpAg02TKTg",
   "execution_count": null,
   "outputs": []
  },
  {
   "cell_type": "code",
   "source": [
    "! cd /tmp/e2eAIOK/RecDP/ && python setup.py sdist && pip install dist/pyrecdp-*.tar.gz"
   ],
   "metadata": {
    "id": "lJXovRw6TSaB"
   },
   "id": "lJXovRw6TSaB",
   "execution_count": null,
   "outputs": []
  },
  {
   "cell_type": "code",
   "source": [
    "import os\n",
    "from pyrecdp.primitives.llmutils import language_identify, language_identify_spark\n",
    "from pyrecdp.primitives.llmutils.utils import get_target_file_list\n",
    "from huggingface_hub import hf_hub_download"
   ],
   "metadata": {
    "id": "19dfMJgoUBiT"
   },
   "id": "19dfMJgoUBiT",
   "execution_count": null,
   "outputs": []
  },
  {
   "cell_type": "code",
   "source": [
    "fasttext_model_dir = hf_hub_download(repo_id=\"facebook/fasttext-language-identification\", filename=\"model.bin\")\n",
    "data_dir = \"/tmp/e2eAIOK/RecDP/tests/data/llm_data\"\n",
    "data_files = get_target_file_list(data_dir, \"jsonl\", \"file://\")"
   ],
   "metadata": {
    "id": "6aQiDDX5VGij"
   },
   "id": "6aQiDDX5VGij",
   "execution_count": 4,
   "outputs": []
  },
  {
   "cell_type": "code",
   "source": [
    "language_identify_output_dir = os.path.join(data_dir, \"language_identify\")\n",
    "language_identify(data_dir, data_files, fasttext_model_dir, 'text', 'lang', language_identify_output_dir, \"file://\")"
   ],
   "metadata": {
    "id": "0cRHtG9tVhn6"
   },
   "id": "0cRHtG9tVhn6",
   "execution_count": null,
   "outputs": []
  },
  {
   "cell_type": "code",
   "source": [
    "from pyrecdp.core import SparkDataProcessor\n",
    "data_dir = \"/tmp/e2eAIOK/RecDP/tests/data/llm_data\"\n",
    "data_file = \"/tmp/e2eAIOK/RecDP/tests/data/llm_data/PILE/NIH_sample.jsonl\"\n",
    "save_path = os.path.join(data_dir, \"language_identify/lid_df\")\n",
    "rdp = SparkDataProcessor()\n",
    "spark=rdp.spark\n",
    "spark_df = spark.read.json(data_file)\n",
    "print(\"input is \")\n",
    "spark_df.show()\n",
    "lid_df = language_identify_spark(spark_df, fasttext_model_dir, 'text', 'lang', save_path)\n",
    "print(\"output is\")\n",
    "lid_df.show()"
   ],
   "metadata": {
    "id": "xM8XygxBXKfh",
    "outputId": "7f40de1c-3f47-481e-f891-a44c4c741e96",
    "colab": {
     "base_uri": "https://localhost:8080/"
    }
   },
   "id": "xM8XygxBXKfh",
   "execution_count": 9,
   "outputs": [
    {
     "output_type": "stream",
     "name": "stdout",
     "text": [
      "Will assign 1 cores and 10386 M memory for spark\n",
      "per core memory size is 10.143 GB and shuffle_disk maximum capacity is 8589934592.000 GB\n",
      "input is \n",
      "+--------+--------------------+\n",
      "|    meta|                text|\n",
      "+--------+--------------------+\n",
      "|{100065}|The National Dome...|\n",
      "|{100066}|The Office of Pla...|\n",
      "|{100067}|Improving outcome...|\n",
      "|{100068}|This project is i...|\n",
      "|{100069}|The CCDF Policies...|\n",
      "|{100070}|The overall purpo...|\n",
      "|{100071}|This contract wil...|\n",
      "|{100072}|The purpose of th...|\n",
      "|{100073}|The purpose of th...|\n",
      "|{100074}|Intimate partner ...|\n",
      "|{100075}|ACF's Office of R...|\n",
      "|{100076}|The Temporary Ass...|\n",
      "|{100077}|Investing in Qual...|\n",
      "|{100078}|Current developme...|\n",
      "|{100079}|The proposed diss...|\n",
      "|{100080}|As the US populat...|\n",
      "|{100081}|Through employing...|\n",
      "|{100082}|The proposed mixe...|\n",
      "|{100083}|To better serve D...|\n",
      "|{100084}|A long standing r...|\n",
      "+--------+--------------------+\n",
      "only showing top 20 rows\n",
      "\n",
      "process data started ...\n",
      "process data took 0.7508777949997238 sec\n",
      "Save data started ...\n",
      "Save data took 67.96624093199989 sec\n",
      "Completed!!\n",
      "    total identify the language for 10000 documents\n",
      "    All the processed data are saving under the folder: /tmp/e2eAIOK/RecDP/tests/data/llm_data/language_identify/lid_df\n",
      "output is\n",
      "+--------+--------------------+--------+\n",
      "|    meta|                text|    lang|\n",
      "+--------+--------------------+--------+\n",
      "|{100065}|The National Dome...|eng_Latn|\n",
      "|{100066}|The Office of Pla...|eng_Latn|\n",
      "|{100067}|Improving outcome...|eng_Latn|\n",
      "|{100068}|This project is i...|eng_Latn|\n",
      "|{100069}|The CCDF Policies...|eng_Latn|\n",
      "|{100070}|The overall purpo...|eng_Latn|\n",
      "|{100071}|This contract wil...|eng_Latn|\n",
      "|{100072}|The purpose of th...|eng_Latn|\n",
      "|{100073}|The purpose of th...|eng_Latn|\n",
      "|{100074}|Intimate partner ...|eng_Latn|\n",
      "|{100075}|ACF's Office of R...|eng_Latn|\n",
      "|{100076}|The Temporary Ass...|eng_Latn|\n",
      "|{100077}|Investing in Qual...|eng_Latn|\n",
      "|{100078}|Current developme...|eng_Latn|\n",
      "|{100079}|The proposed diss...|eng_Latn|\n",
      "|{100080}|As the US populat...|eng_Latn|\n",
      "|{100081}|Through employing...|eng_Latn|\n",
      "|{100082}|The proposed mixe...|eng_Latn|\n",
      "|{100083}|To better serve D...|eng_Latn|\n",
      "|{100084}|A long standing r...|eng_Latn|\n",
      "+--------+--------------------+--------+\n",
      "only showing top 20 rows\n",
      "\n"
     ]
    }
   ]
  },
  {
   "cell_type": "code",
   "source": [],
   "metadata": {
    "id": "1QajmJ1wYkJB"
   },
   "id": "1QajmJ1wYkJB",
   "execution_count": null,
   "outputs": []
  }
 ],
 "metadata": {
  "kernelspec": {
   "display_name": "Python 3 (ipykernel)",
   "language": "python",
   "name": "python3"
  },
  "language_info": {
   "codemirror_mode": {
    "name": "ipython",
    "version": 3
   },
   "file_extension": ".py",
   "mimetype": "text/x-python",
   "name": "python",
   "nbconvert_exporter": "python",
   "pygments_lexer": "ipython3",
   "version": "3.10.12"
  },
  "colab": {
   "provenance": [],
   "toc_visible": true
  }
 },
 "nbformat": 4,
 "nbformat_minor": 5
}
