{
  "cells": [
    {
      "cell_type": "markdown",
      "source": [
        "# Install pyrecdp from github"
      ],
      "metadata": {
        "id": "80TXnJRByjdX"
      },
      "id": "80TXnJRByjdX"
    },
    {
      "cell_type": "code",
      "execution_count": 1,
      "id": "736fb211-dbe6-4ca9-a1b1-db2cff2d287a",
      "metadata": {
        "id": "736fb211-dbe6-4ca9-a1b1-db2cff2d287a"
      },
      "outputs": [],
      "source": [
        "!pip install 'git+https://github.com/intel/e2eAIOK.git#egg=pyrecdp&subdirectory=RecDP'"
      ]
    },
    {
      "cell_type": "markdown",
      "source": [
        "# Install jdk for pyspark running"
      ],
      "metadata": {
        "id": "x5xIuDOOyoZ3"
      },
      "id": "x5xIuDOOyoZ3"
    },
    {
      "cell_type": "code",
      "source": [
        "!DEBIAN_FRONTEND=noninteractive apt-get install -y openjdk-8-jre"
      ],
      "metadata": {
        "id": "I0TogFroyq_O"
      },
      "id": "I0TogFroyq_O",
      "execution_count": null,
      "outputs": []
    },
    {
      "cell_type": "markdown",
      "source": [
        "# Prepare test data"
      ],
      "metadata": {
        "id": "QOJe5FCIyt--"
      },
      "id": "QOJe5FCIyt--"
    },
    {
      "cell_type": "code",
      "source": [
        "%mkdir -p /content/test_data\n",
        "%cd /content/test_data\n",
        "!wget https://raw.githubusercontent.com/intel/e2eAIOK/main/RecDP/tests/data/llm_data/PILE/NIH_sample.jsonl"
      ],
      "metadata": {
        "id": "pwKIBV2XyxJt"
      },
      "id": "pwKIBV2XyxJt",
      "execution_count": null,
      "outputs": []
    },
    {
      "cell_type": "markdown",
      "source": [
        "# Import quality classifier function"
      ],
      "metadata": {
        "id": "x5iHKSefzI2A"
      },
      "id": "x5iHKSefzI2A"
    },
    {
      "cell_type": "code",
      "source": [
        "from pyrecdp.primitives.llmutils import language_identify, language_identify_spark\n",
        "from pyrecdp.core import SparkDataProcessor\n",
        "from huggingface_hub import hf_hub_download"
      ],
      "metadata": {
        "id": "Tc5qXej_zNnk"
      },
      "id": "Tc5qXej_zNnk",
      "execution_count": null,
      "outputs": []
    },
    {
      "cell_type": "markdown",
      "source": [
        "# Specify variables"
      ],
      "metadata": {
        "id": "mTZxVnRYzwdt"
      },
      "id": "mTZxVnRYzwdt"
    },
    {
      "cell_type": "code",
      "source": [
        "fasttext_model_dir = hf_hub_download(repo_id=\"facebook/fasttext-language-identification\", filename=\"model.bin\")\n",
        "data_dir = \"/content/test_data/\"\n",
        "language_identify_output_dir = '/content/test_data/output/lid'"
      ],
      "metadata": {
        "id": "8NPf3CjezzHy"
      },
      "id": "8NPf3CjezzHy",
      "execution_count": 5,
      "outputs": []
    },
    {
      "cell_type": "markdown",
      "source": [
        "# Language identify"
      ],
      "metadata": {
        "id": "yJ3Hk75oIJ8I"
      },
      "id": "yJ3Hk75oIJ8I"
    },
    {
      "cell_type": "code",
      "source": [
        "language_identify(data_dir, \"jsonl\", fasttext_model_dir, 'text', 'lang', language_identify_output_dir, \"file://\")"
      ],
      "metadata": {
        "id": "19dfMJgoUBiT",
        "outputId": "ce1c75b4-b0d8-45f6-ae8b-7f6947f3e40c",
        "colab": {
          "base_uri": "https://localhost:8080/"
        }
      },
      "id": "19dfMJgoUBiT",
      "execution_count": 6,
      "outputs": [
        {
          "output_type": "stream",
          "name": "stdout",
          "text": [
            "Will assign 1 cores and 10386 M memory for spark\n",
            "per core memory size is 10.143 GB and shuffle_disk maximum capacity is 8589934592.000 GB\n",
            "Load data started ...\n",
            "Load data took 14.39143801299906 sec\n",
            "Process data started ...\n",
            "Process data took 0.8055603550001251 sec\n",
            "Save data started ...\n",
            "Save data took 59.9888566239988 sec\n",
            "Completed!!\n",
            "    total identify the language for 10000 documents\n",
            "    All the processed data are saving under the folder: /content/test_data/output/lid\n"
          ]
        }
      ]
    },
    {
      "cell_type": "markdown",
      "source": [
        "# Language identify for spark dataframe"
      ],
      "metadata": {
        "id": "KmZSUQAlQEcP"
      },
      "id": "KmZSUQAlQEcP"
    },
    {
      "cell_type": "code",
      "source": [
        "data_file = \"/content/test_data/NIH_sample.jsonl\"\n",
        "save_path = \"/content/test_data/output/lid_spark\"\n",
        "rdp = SparkDataProcessor()\n",
        "spark=rdp.spark\n",
        "spark_df = spark.read.json(data_file)\n",
        "print(\"input is \")\n",
        "spark_df.show()\n",
        "lid_df = language_identify_spark(spark_df, fasttext_model_dir, 'text', 'lang', save_path, \"file://\")\n",
        "print(\"output is\")\n",
        "lid_df.show()"
      ],
      "metadata": {
        "id": "xM8XygxBXKfh",
        "outputId": "2e81476c-a0c8-4c9f-e79f-bb81c6853f90",
        "colab": {
          "base_uri": "https://localhost:8080/"
        }
      },
      "id": "xM8XygxBXKfh",
      "execution_count": 7,
      "outputs": [
        {
          "output_type": "stream",
          "name": "stdout",
          "text": [
            "Will assign 1 cores and 10386 M memory for spark\n",
            "per core memory size is 10.143 GB and shuffle_disk maximum capacity is 8589934592.000 GB\n",
            "input is \n",
            "+--------+--------------------+\n",
            "|    meta|                text|\n",
            "+--------+--------------------+\n",
            "|{100065}|The National Dome...|\n",
            "|{100066}|The Office of Pla...|\n",
            "|{100067}|Improving outcome...|\n",
            "|{100068}|This project is i...|\n",
            "|{100069}|The CCDF Policies...|\n",
            "|{100070}|The overall purpo...|\n",
            "|{100071}|This contract wil...|\n",
            "|{100072}|The purpose of th...|\n",
            "|{100073}|The purpose of th...|\n",
            "|{100074}|Intimate partner ...|\n",
            "|{100075}|ACF's Office of R...|\n",
            "|{100076}|The Temporary Ass...|\n",
            "|{100077}|Investing in Qual...|\n",
            "|{100078}|Current developme...|\n",
            "|{100079}|The proposed diss...|\n",
            "|{100080}|As the US populat...|\n",
            "|{100081}|Through employing...|\n",
            "|{100082}|The proposed mixe...|\n",
            "|{100083}|To better serve D...|\n",
            "|{100084}|A long standing r...|\n",
            "+--------+--------------------+\n",
            "only showing top 20 rows\n",
            "\n",
            "process data started ...\n",
            "process data took 0.09892050800044672 sec\n",
            "Save data started ...\n",
            "Save data took 43.417044689998875 sec\n",
            "Completed!!\n",
            "    total identify the language for 10000 documents\n",
            "    All the processed data are saving under the folder: /content/test_data/output/lid_spark\n",
            "output is\n",
            "+--------+--------------------+--------+\n",
            "|    meta|                text|    lang|\n",
            "+--------+--------------------+--------+\n",
            "|{100065}|The National Dome...|eng_Latn|\n",
            "|{100066}|The Office of Pla...|eng_Latn|\n",
            "|{100067}|Improving outcome...|eng_Latn|\n",
            "|{100068}|This project is i...|eng_Latn|\n",
            "|{100069}|The CCDF Policies...|eng_Latn|\n",
            "|{100070}|The overall purpo...|eng_Latn|\n",
            "|{100071}|This contract wil...|eng_Latn|\n",
            "|{100072}|The purpose of th...|eng_Latn|\n",
            "|{100073}|The purpose of th...|eng_Latn|\n",
            "|{100074}|Intimate partner ...|eng_Latn|\n",
            "|{100075}|ACF's Office of R...|eng_Latn|\n",
            "|{100076}|The Temporary Ass...|eng_Latn|\n",
            "|{100077}|Investing in Qual...|eng_Latn|\n",
            "|{100078}|Current developme...|eng_Latn|\n",
            "|{100079}|The proposed diss...|eng_Latn|\n",
            "|{100080}|As the US populat...|eng_Latn|\n",
            "|{100081}|Through employing...|eng_Latn|\n",
            "|{100082}|The proposed mixe...|eng_Latn|\n",
            "|{100083}|To better serve D...|eng_Latn|\n",
            "|{100084}|A long standing r...|eng_Latn|\n",
            "+--------+--------------------+--------+\n",
            "only showing top 20 rows\n",
            "\n"
          ]
        }
      ]
    },
    {
      "cell_type": "code",
      "source": [],
      "metadata": {
        "id": "s-3ldhbVS2it"
      },
      "id": "s-3ldhbVS2it",
      "execution_count": null,
      "outputs": []
    }
  ],
  "metadata": {
    "kernelspec": {
      "display_name": "Python 3 (ipykernel)",
      "language": "python",
      "name": "python3"
    },
    "language_info": {
      "codemirror_mode": {
        "name": "ipython",
        "version": 3
      },
      "file_extension": ".py",
      "mimetype": "text/x-python",
      "name": "python",
      "nbconvert_exporter": "python",
      "pygments_lexer": "ipython3",
      "version": "3.10.12"
    },
    "colab": {
      "provenance": [],
      "toc_visible": true
    }
  },
  "nbformat": 4,
  "nbformat_minor": 5
}