{
  "cells": [
    {
      "cell_type": "markdown",
      "id": "NUdnJWOJLGvF",
      "metadata": {
        "id": "NUdnJWOJLGvF"
      },
      "source": [
        "# RecDP LLM - Repetition Removal\n",
        "\n",
        "This component is aimed to downsize text when repeated sentenses exist in text sample.\n",
        "\n",
        "STILL work in progress, not completed yet"
      ]
    },
    {
      "cell_type": "markdown",
      "id": "C1FFwhr3MwA1",
      "metadata": {
        "id": "C1FFwhr3MwA1"
      },
      "source": [
        "# Get started"
      ]
    },
    {
      "cell_type": "markdown",
      "id": "tMaSNIKIMz3T",
      "metadata": {
        "id": "tMaSNIKIMz3T"
      },
      "source": [
        "## Install pyrecdp and dependencies"
      ]
    },
    {
      "cell_type": "code",
      "execution_count": null,
      "id": "ro4yOk5IMvRY",
      "metadata": {
        "id": "ro4yOk5IMvRY"
      },
      "outputs": [],
      "source": [
        "! DEBIAN_FRONTEND=noninteractive apt-get install -y openjdk-8-jre\n",
        "! pip install pyrecdp --pre\n",
        "# ! pip install 'git+https://github.com/intel/e2eAIOK.git#egg=pyrecdp&subdirectory=RecDP'"
      ]
    },
    {
      "cell_type": "markdown",
      "id": "pnHK2VTvM5rg",
      "metadata": {
        "id": "pnHK2VTvM5rg"
      },
      "source": [
        "## 2. prepare your own data"
      ]
    },
    {
      "cell_type": "code",
      "execution_count": null,
      "id": "736fb211-dbe6-4ca9-a1b1-db2cff2d287a",
      "metadata": {
        "id": "736fb211-dbe6-4ca9-a1b1-db2cff2d287a",
        "colab": {
          "base_uri": "https://localhost:8080/"
        },
        "outputId": "d326b334-d005-42e1-ee4e-619d9c0b388b"
      },
      "outputs": [
        {
          "output_type": "stream",
          "name": "stdout",
          "text": [
            "/content/test_data\n",
            "--2023-10-11 18:10:37--  https://raw.githubusercontent.com/intel/e2eAIOK/main/RecDP/tests/data/PILE/NIH_sample.jsonl\n",
            "Resolving raw.githubusercontent.com (raw.githubusercontent.com)... 185.199.108.133, 185.199.109.133, 185.199.110.133, ...\n",
            "Connecting to raw.githubusercontent.com (raw.githubusercontent.com)|185.199.108.133|:443... connected.\n",
            "HTTP request sent, awaiting response... 200 OK\n",
            "Length: 21626664 (21M) [text/plain]\n",
            "Saving to: ‘/content/test_data/NIH_sample.jsonl’\n",
            "\n",
            "NIH_sample.jsonl    100%[===================>]  20.62M   114MB/s    in 0.2s    \n",
            "\n",
            "2023-10-11 18:10:38 (114 MB/s) - ‘/content/test_data/NIH_sample.jsonl’ saved [21626664/21626664]\n",
            "\n"
          ]
        }
      ],
      "source": [
        "%mkdir -p /content/test_data\n",
        "%cd /content/test_data\n",
        "file_names = ['NIH_sample.jsonl']\n",
        "file_list = [f\"https://raw.githubusercontent.com/intel/e2eAIOK/main/RecDP/tests/data/PILE/{i}\" for i in file_names]\n",
        "!wget -P /content/test_data {\" \".join(file_list)}"
      ]
    },
    {
      "cell_type": "markdown",
      "id": "J-125gFtNyOg",
      "metadata": {
        "id": "J-125gFtNyOg"
      },
      "source": [
        "## 3. Repetition Removal"
      ]
    }
  ],
  "metadata": {
    "colab": {
      "provenance": []
    },
    "kernelspec": {
      "display_name": "Python 3 (ipykernel)",
      "language": "python",
      "name": "python3"
    },
    "language_info": {
      "codemirror_mode": {
        "name": "ipython",
        "version": 3
      },
      "file_extension": ".py",
      "mimetype": "text/x-python",
      "name": "python",
      "nbconvert_exporter": "python",
      "pygments_lexer": "ipython3",
      "version": "3.10.12"
    }
  },
  "nbformat": 4,
  "nbformat_minor": 5
}