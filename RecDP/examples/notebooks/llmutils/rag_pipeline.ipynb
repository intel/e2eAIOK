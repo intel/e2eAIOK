{
  "cells": [
    {
      "cell_type": "markdown",
      "metadata": {
        "id": "VkgW3cFeoYmv"
      },
      "source": [
        "# RecDP LLM - RAG Data Processing Pipeline\n",
        "\n",
        "This component will show you how to  construct a RAG data processing pipeline  to build your own knowledge database for use by LLM-RAG."
      ]
    },
    {
      "cell_type": "markdown",
      "metadata": {
        "id": "Gb8OEtJCo4X0"
      },
      "source": [
        "# Get started"
      ]
    },
    {
      "cell_type": "markdown",
      "metadata": {
        "id": "BT-BjcaHj3eh"
      },
      "source": [
        "## 1. Install pyrecdp and dependencies"
      ]
    },
    {
      "cell_type": "code",
      "execution_count": null,
      "metadata": {
        "id": "E3ffXVymdeKg"
      },
      "outputs": [],
      "source": [
        "! DEBIAN_FRONTEND=noninteractive apt-get install -qq -y openjdk-8-jre\n",
        "! pip install -q pyrecdp --pre\n",
        "# ! pip install 'git+https://github.com/intel/e2eAIOK.git#egg=pyrecdp&subdirectory=RecDP'"
      ]
    },
    {
      "cell_type": "markdown",
      "metadata": {
        "id": "bMqBJ9eckIs6"
      },
      "source": [
        "### 2. Set parameters"
      ]
    },
    {
      "cell_type": "code",
      "execution_count": null,
      "metadata": {
        "id": "2SFjDgfLd4qE"
      },
      "outputs": [],
      "source": [
        "out_dir=/content/vs_store\n",
        "vector_store_type=\"FAISS\"\n",
        "index_name=\"knowledge_db\"\n",
        "\n",
        "text_splitter = \"RecursiveCharacterTextSplitter\"\n",
        "text_splitter_args = {\"chunk_size\": 500, \"chunk_overlap\": 0}\n",
        "\n",
        "target_urls = [\"https://www.intc.com/news-events/press-releases/detail/1655/intel-reports-third-quarter-2023-financial-results\"]\n",
        "\n",
        "embeddings_type=\"HuggingFaceEmbeddings\"\n",
        "embeddings_args={'model_name': f\"sentence-transformers/all-mpnet-base-v2\"}"
      ]
    },
    {
      "cell_type": "markdown",
      "metadata": {
        "id": "JjTnnzw_kRVV"
      },
      "source": [
        "## 3. Extract data and build a knowledge database"
      ]
    },
    {
      "cell_type": "markdown",
      "metadata": {
        "id": "a1f8XfazqWlm"
      },
      "source": [
        "### 3.1 Import related packages\n",
        "\n",
        "\n",
        "\n"
      ]
    },
    {
      "cell_type": "code",
      "execution_count": null,
      "metadata": {
        "id": "Swy-H3HQepjA"
      },
      "outputs": [],
      "source": [
        "from pyrecdp.LLM import TextPipeline\n",
        "from pyrecdp.primitives.operations import Url_Loader, DocumentSplit, DocumentIngestion"
      ]
    },
    {
      "cell_type": "markdown",
      "metadata": {
        "id": "pLqx_qMnmL1o"
      },
      "source": [
        "### 3.2 Set the RAG data processing pipeline\n",
        "\n",
        "\n",
        "\n",
        "\n"
      ]
    },
    {
      "cell_type": "code",
      "execution_count": null,
      "metadata": {
        "id": "6fZw1qa6fqjA"
      },
      "outputs": [],
      "source": [
        "pipeline = TextPipeline()\n",
        "ops = [\n",
        "    Url_Loader(urls=target_urls, target_tag='div', target_attrs={'class': 'main-content'}),\n",
        "    DocumentSplit(text_splitter=text_splitter, text_splitter_args=text_splitter_args),\n",
        "    DocumentIngestion(\n",
        "        vector_store=vector_store_type,\n",
        "        vector_store_args={\n",
        "            \"output_dir\": out_dir,\n",
        "            \"index\": index_name\n",
        "        },\n",
        "        embeddings=embeddings_type,\n",
        "        embeddings_args=embeddings_args\n",
        "    ),\n",
        "]\n",
        "pipeline.add_operations(ops)\n"
      ]
    },
    {
      "cell_type": "markdown",
      "source": [
        "### 3.3 Run your pipeline\n",
        "\n"
      ],
      "metadata": {
        "id": "u7xf3t-N5EFB"
      }
    },
    {
      "cell_type": "code",
      "source": [
        "pipeline.execute()"
      ],
      "metadata": {
        "id": "ZAts9XSe4wQC"
      },
      "execution_count": null,
      "outputs": []
    }
  ],
  "metadata": {
    "colab": {
      "provenance": []
    },
    "kernelspec": {
      "display_name": "Python 3 (ipykernel)",
      "language": "python",
      "name": "python3"
    },
    "language_info": {
      "codemirror_mode": {
        "name": "ipython",
        "version": 3
      },
      "file_extension": ".py",
      "mimetype": "text/x-python",
      "name": "python",
      "nbconvert_exporter": "python",
      "pygments_lexer": "ipython3",
      "version": "3.9.12"
    }
  },
  "nbformat": 4,
  "nbformat_minor": 0
}