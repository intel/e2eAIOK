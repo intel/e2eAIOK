{
 "cells": [
  {
   "cell_type": "markdown",
   "id": "5fb0f0d6",
   "metadata": {},
   "source": [
    "# RecDP LLM - Downsize public dataset\n",
    "\n",
    "This notebook shows how to use RecDP tools and pipeline to downsize a public fine tuning dataset and calculate kinds of evaluation scores."
   ]
  },
  {
   "cell_type": "markdown",
   "id": "e7ba4a07",
   "metadata": {},
   "source": [
    "# Get Started"
   ]
  },
  {
   "cell_type": "markdown",
   "id": "41a56be1",
   "metadata": {},
   "source": [
    "## 1. Install pyrecdp and dependencies"
   ]
  },
  {
   "cell_type": "code",
   "execution_count": 1,
   "id": "0efd7e3d",
   "metadata": {},
   "outputs": [
    {
     "name": "stdout",
     "output_type": "stream",
     "text": [
      "Collecting pyrecdp\n",
      "  Cloning https://github.com/intel/e2eAIOK.git to /tmp/pip-install-p1dgcloc/pyrecdp_c73eeefeffb64f78a7992379abd3e063\n",
      "  Running command git clone --filter=blob:none --quiet https://github.com/intel/e2eAIOK.git /tmp/pip-install-p1dgcloc/pyrecdp_c73eeefeffb64f78a7992379abd3e063\n",
      "  Resolved https://github.com/intel/e2eAIOK.git to commit f0ce056e5a435b4224b93cb8efb7fa9b678dea69\n",
      "  Running command git submodule update --init --recursive -q\n",
      "  Installing build dependencies ... \u001b[?25ldone\n",
      "\u001b[?25h  Getting requirements to build wheel ... \u001b[?25ldone\n",
      "\u001b[?25h  Preparing metadata (pyproject.toml) ... \u001b[?25ldone\n",
      "\u001b[?25hRequirement already satisfied: scikit-learn in /opt/conda/envs/llm_data/lib/python3.9/site-packages (from pyrecdp) (1.3.0)\n",
      "Requirement already satisfied: psutil in /opt/conda/envs/llm_data/lib/python3.9/site-packages (from pyrecdp) (5.8.0)\n",
      "Requirement already satisfied: tqdm in /opt/conda/envs/llm_data/lib/python3.9/site-packages (from pyrecdp) (4.66.1)\n",
      "Requirement already satisfied: pyyaml in /opt/conda/envs/llm_data/lib/python3.9/site-packages (from pyrecdp) (6.0.1)\n",
      "Requirement already satisfied: pandas in /opt/conda/envs/llm_data/lib/python3.9/site-packages (from pyrecdp) (2.1.3)\n",
      "Requirement already satisfied: numpy in /opt/conda/envs/llm_data/lib/python3.9/site-packages (from pyrecdp) (1.24.4)\n",
      "Requirement already satisfied: pyarrow in /opt/conda/envs/llm_data/lib/python3.9/site-packages (from pyrecdp) (14.0.1)\n",
      "Requirement already satisfied: pandas-flavor in /opt/conda/envs/llm_data/lib/python3.9/site-packages (from pyrecdp) (0.6.0)\n",
      "Requirement already satisfied: ipywidgets in /opt/conda/envs/llm_data/lib/python3.9/site-packages (from pyrecdp) (8.0.4)\n",
      "Requirement already satisfied: graphviz in /opt/conda/envs/llm_data/lib/python3.9/site-packages (from pyrecdp) (0.20.1)\n",
      "Requirement already satisfied: requests in /opt/conda/envs/llm_data/lib/python3.9/site-packages (from pyrecdp) (2.31.0)\n",
      "Requirement already satisfied: ipykernel>=4.5.1 in /opt/conda/envs/llm_data/lib/python3.9/site-packages (from ipywidgets->pyrecdp) (6.25.0)\n",
      "Requirement already satisfied: ipython>=6.1.0 in /opt/conda/envs/llm_data/lib/python3.9/site-packages (from ipywidgets->pyrecdp) (8.15.0)\n",
      "Requirement already satisfied: traitlets>=4.3.1 in /opt/conda/envs/llm_data/lib/python3.9/site-packages (from ipywidgets->pyrecdp) (5.13.0)\n",
      "Requirement already satisfied: widgetsnbextension~=4.0 in /opt/conda/envs/llm_data/lib/python3.9/site-packages (from ipywidgets->pyrecdp) (4.0.5)\n",
      "Requirement already satisfied: jupyterlab-widgets~=3.0 in /opt/conda/envs/llm_data/lib/python3.9/site-packages (from ipywidgets->pyrecdp) (3.0.9)\n",
      "Requirement already satisfied: python-dateutil>=2.8.2 in /opt/conda/envs/llm_data/lib/python3.9/site-packages (from pandas->pyrecdp) (2.8.2)\n",
      "Requirement already satisfied: pytz>=2020.1 in /opt/conda/envs/llm_data/lib/python3.9/site-packages (from pandas->pyrecdp) (2023.3.post1)\n",
      "Requirement already satisfied: tzdata>=2022.1 in /opt/conda/envs/llm_data/lib/python3.9/site-packages (from pandas->pyrecdp) (2023.3)\n",
      "Requirement already satisfied: xarray in /opt/conda/envs/llm_data/lib/python3.9/site-packages (from pandas-flavor->pyrecdp) (2023.11.0)\n",
      "Requirement already satisfied: charset-normalizer<4,>=2 in /opt/conda/envs/llm_data/lib/python3.9/site-packages (from requests->pyrecdp) (3.3.2)\n",
      "Requirement already satisfied: idna<4,>=2.5 in /opt/conda/envs/llm_data/lib/python3.9/site-packages (from requests->pyrecdp) (3.4)\n",
      "Requirement already satisfied: urllib3<3,>=1.21.1 in /opt/conda/envs/llm_data/lib/python3.9/site-packages (from requests->pyrecdp) (2.0.7)\n",
      "Requirement already satisfied: certifi>=2017.4.17 in /opt/conda/envs/llm_data/lib/python3.9/site-packages (from requests->pyrecdp) (2023.11.17)\n",
      "Requirement already satisfied: scipy>=1.5.0 in /opt/conda/envs/llm_data/lib/python3.9/site-packages (from scikit-learn->pyrecdp) (1.10.1)\n",
      "Requirement already satisfied: joblib>=1.1.1 in /opt/conda/envs/llm_data/lib/python3.9/site-packages (from scikit-learn->pyrecdp) (1.3.2)\n",
      "Requirement already satisfied: threadpoolctl>=2.0.0 in /opt/conda/envs/llm_data/lib/python3.9/site-packages (from scikit-learn->pyrecdp) (3.2.0)\n",
      "Requirement already satisfied: comm>=0.1.1 in /opt/conda/envs/llm_data/lib/python3.9/site-packages (from ipykernel>=4.5.1->ipywidgets->pyrecdp) (0.1.2)\n",
      "Requirement already satisfied: debugpy>=1.6.5 in /opt/conda/envs/llm_data/lib/python3.9/site-packages (from ipykernel>=4.5.1->ipywidgets->pyrecdp) (1.6.7)\n",
      "Requirement already satisfied: jupyter-client>=6.1.12 in /opt/conda/envs/llm_data/lib/python3.9/site-packages (from ipykernel>=4.5.1->ipywidgets->pyrecdp) (7.1.2)\n",
      "Requirement already satisfied: jupyter-core!=5.0.*,>=4.12 in /opt/conda/envs/llm_data/lib/python3.9/site-packages (from ipykernel>=4.5.1->ipywidgets->pyrecdp) (5.5.0)\n",
      "Requirement already satisfied: matplotlib-inline>=0.1 in /opt/conda/envs/llm_data/lib/python3.9/site-packages (from ipykernel>=4.5.1->ipywidgets->pyrecdp) (0.1.6)\n",
      "Requirement already satisfied: nest-asyncio in /opt/conda/envs/llm_data/lib/python3.9/site-packages (from ipykernel>=4.5.1->ipywidgets->pyrecdp) (1.5.6)\n",
      "Requirement already satisfied: packaging in /opt/conda/envs/llm_data/lib/python3.9/site-packages (from ipykernel>=4.5.1->ipywidgets->pyrecdp) (23.2)\n",
      "Requirement already satisfied: pyzmq>=20 in /opt/conda/envs/llm_data/lib/python3.9/site-packages (from ipykernel>=4.5.1->ipywidgets->pyrecdp) (23.2.0)\n",
      "Requirement already satisfied: tornado>=6.1 in /opt/conda/envs/llm_data/lib/python3.9/site-packages (from ipykernel>=4.5.1->ipywidgets->pyrecdp) (6.1)\n",
      "Requirement already satisfied: backcall in /opt/conda/envs/llm_data/lib/python3.9/site-packages (from ipython>=6.1.0->ipywidgets->pyrecdp) (0.2.0)\n",
      "Requirement already satisfied: decorator in /opt/conda/envs/llm_data/lib/python3.9/site-packages (from ipython>=6.1.0->ipywidgets->pyrecdp) (5.0.9)\n",
      "Requirement already satisfied: jedi>=0.16 in /opt/conda/envs/llm_data/lib/python3.9/site-packages (from ipython>=6.1.0->ipywidgets->pyrecdp) (0.18.1)\n",
      "Requirement already satisfied: pickleshare in /opt/conda/envs/llm_data/lib/python3.9/site-packages (from ipython>=6.1.0->ipywidgets->pyrecdp) (0.7.5)\n",
      "Requirement already satisfied: prompt-toolkit!=3.0.37,<3.1.0,>=3.0.30 in /opt/conda/envs/llm_data/lib/python3.9/site-packages (from ipython>=6.1.0->ipywidgets->pyrecdp) (3.0.36)\n",
      "Requirement already satisfied: pygments>=2.4.0 in /opt/conda/envs/llm_data/lib/python3.9/site-packages (from ipython>=6.1.0->ipywidgets->pyrecdp) (2.15.1)\n",
      "Requirement already satisfied: stack-data in /opt/conda/envs/llm_data/lib/python3.9/site-packages (from ipython>=6.1.0->ipywidgets->pyrecdp) (0.2.0)\n",
      "Requirement already satisfied: typing-extensions in /opt/conda/envs/llm_data/lib/python3.9/site-packages (from ipython>=6.1.0->ipywidgets->pyrecdp) (4.8.0)\n",
      "Requirement already satisfied: exceptiongroup in /opt/conda/envs/llm_data/lib/python3.9/site-packages (from ipython>=6.1.0->ipywidgets->pyrecdp) (1.0.4)\n",
      "Requirement already satisfied: pexpect>4.3 in /opt/conda/envs/llm_data/lib/python3.9/site-packages (from ipython>=6.1.0->ipywidgets->pyrecdp) (4.8.0)\n",
      "Requirement already satisfied: six>=1.5 in /opt/conda/envs/llm_data/lib/python3.9/site-packages (from python-dateutil>=2.8.2->pandas->pyrecdp) (1.16.0)\n",
      "Requirement already satisfied: parso<0.9.0,>=0.8.0 in /opt/conda/envs/llm_data/lib/python3.9/site-packages (from jedi>=0.16->ipython>=6.1.0->ipywidgets->pyrecdp) (0.8.3)\n",
      "Requirement already satisfied: entrypoints in /opt/conda/envs/llm_data/lib/python3.9/site-packages (from jupyter-client>=6.1.12->ipykernel>=4.5.1->ipywidgets->pyrecdp) (0.4)\n",
      "Requirement already satisfied: platformdirs>=2.5 in /opt/conda/envs/llm_data/lib/python3.9/site-packages (from jupyter-core!=5.0.*,>=4.12->ipykernel>=4.5.1->ipywidgets->pyrecdp) (3.11.0)\n",
      "Requirement already satisfied: ptyprocess>=0.5 in /opt/conda/envs/llm_data/lib/python3.9/site-packages (from pexpect>4.3->ipython>=6.1.0->ipywidgets->pyrecdp) (0.7.0)\n",
      "Requirement already satisfied: wcwidth in /opt/conda/envs/llm_data/lib/python3.9/site-packages (from prompt-toolkit!=3.0.37,<3.1.0,>=3.0.30->ipython>=6.1.0->ipywidgets->pyrecdp) (0.2.10)\n",
      "Requirement already satisfied: executing in /opt/conda/envs/llm_data/lib/python3.9/site-packages (from stack-data->ipython>=6.1.0->ipywidgets->pyrecdp) (0.8.3)\n",
      "Requirement already satisfied: asttokens in /opt/conda/envs/llm_data/lib/python3.9/site-packages (from stack-data->ipython>=6.1.0->ipywidgets->pyrecdp) (2.0.5)\n",
      "Requirement already satisfied: pure-eval in /opt/conda/envs/llm_data/lib/python3.9/site-packages (from stack-data->ipython>=6.1.0->ipywidgets->pyrecdp) (0.2.2)\n"
     ]
    },
    {
     "name": "stdout",
     "output_type": "stream",
     "text": [
      "Building wheels for collected packages: pyrecdp\n",
      "  Building wheel for pyrecdp (pyproject.toml) ... \u001b[?25ldone\n",
      "\u001b[?25h  Created wheel for pyrecdp: filename=pyrecdp-1.6.1-py3-none-any.whl size=375563 sha256=81ba14d8d440941fa8fca2c16571478715f375e568e4e5f816f363d6dc1515a9\n",
      "  Stored in directory: /tmp/pip-ephem-wheel-cache-il0wu9c4/wheels/1a/a7/22/3c0128609422765ab16fdd4095b9a9b426e5ae9de5c15cf70c\n",
      "Successfully built pyrecdp\n",
      "Installing collected packages: pyrecdp\n",
      "  Attempting uninstall: pyrecdp\n",
      "    Found existing installation: pyrecdp 1.6.1\n",
      "    Uninstalling pyrecdp-1.6.1:\n",
      "      Successfully uninstalled pyrecdp-1.6.1\n",
      "Successfully installed pyrecdp-1.6.1\n",
      "\u001b[33mWARNING: Running pip as the 'root' user can result in broken permissions and conflicting behaviour with the system package manager. It is recommended to use a virtual environment instead: https://pip.pypa.io/warnings/venv\u001b[0m\u001b[33m\n",
      "\u001b[0m"
     ]
    }
   ],
   "source": [
    "! DEBIAN_FRONTEND=noninteractive apt-get install -qq -y openjdk-8-jre\n",
    "! pip install 'git+https://github.com/intel/e2eAIOK.git#egg=pyrecdp&subdirectory=RecDP'"
   ]
  },
  {
   "cell_type": "markdown",
   "id": "a9de2779",
   "metadata": {},
   "source": [
    "## 2. Prepare your data"
   ]
  },
  {
   "cell_type": "code",
   "execution_count": 2,
   "id": "22acbecb",
   "metadata": {},
   "outputs": [
    {
     "name": "stdout",
     "output_type": "stream",
     "text": [
      "--2023-11-28 10:17:05--  https://raw.githubusercontent.com/intel/e2eAIOK/main/RecDP/tests/data/alpaca/alpaca_data_50.jsonl\n",
      "Resolving child-prc.intel.com (child-prc.intel.com)... 10.239.120.55\n",
      "Connecting to child-prc.intel.com (child-prc.intel.com)|10.239.120.55|:913... connected.\n",
      "Proxy request sent, awaiting response... 200 OK\n",
      "Length: 25027 (24K) [text/plain]\n",
      "Saving to: ‘/content/test_data/alpaca_data_50.jsonl’\n",
      "\n",
      "alpaca_data_50.json 100%[===================>]  24.44K   126KB/s    in 0.2s    \n",
      "\n",
      "2023-11-28 10:17:07 (126 KB/s) - ‘/content/test_data/alpaca_data_50.jsonl’ saved [25027/25027]\n",
      "\n"
     ]
    }
   ],
   "source": [
    "%mkdir -p /content/test_data\n",
    "!wget -P /content/test_data https://raw.githubusercontent.com/intel/e2eAIOK/main/RecDP/tests/data/alpaca/alpaca_data_50.jsonl"
   ]
  },
  {
   "cell_type": "markdown",
   "id": "2e5affc7",
   "metadata": {},
   "source": [
    "## 3. Downsize dataset"
   ]
  },
  {
   "cell_type": "markdown",
   "id": "27020a1c",
   "metadata": {},
   "source": [
    "### 3.1 Pipeline on Spark"
   ]
  },
  {
   "cell_type": "code",
   "execution_count": 7,
   "id": "0c22505e",
   "metadata": {},
   "outputs": [
    {
     "name": "stdout",
     "output_type": "stream",
     "text": [
      "JAVA_HOME is not set, use default value of /usr/lib/jvm/java-8-openjdk-amd64/\n"
     ]
    },
    {
     "name": "stderr",
     "output_type": "stream",
     "text": [
      "/opt/conda/envs/llm_data/lib/python3.9/site-packages/_distutils_hack/__init__.py:33: UserWarning: Setuptools is replacing distutils.\n",
      "  warnings.warn(\"Setuptools is replacing distutils.\")\n"
     ]
    },
    {
     "name": "stdout",
     "output_type": "stream",
     "text": [
      "['psutil', 'tqdm', 'pyyaml', 'pandas', 'pyarrow', 'transformers', 'graphviz', 'requests', 'distro', 'pyspark==3.4.0', 'matplotlib', 'datasketch==1.5.9', 'ftfy==6.1.1', 'jsonlines==3.1.0', 'networkit==10.1', 'nltk==3.8.1', 'regex==2023.6.3', 'scipy==1.10.1', 'typer>=0.6.1', 'phonenumbers', 'fasttext==0.9.2', 'wget==3.2', 'alt-profanity-check==1.3.0', 'huggingface-hub', 'loguru==0.7.2', 'tabulate==0.9.0', 'sentencepiece', 'selectolax', 'spacy', 'torch', 'Faker', 'ray==2.7.1', 'loguru', 'detoxify', 'emoji==2.2.0', 'kenlm', 'rouge-score']\n"
     ]
    },
    {
     "data": {
      "text/html": [
       "\n",
       "\t\t\t<script type=\"text/javascript\">\n",
       "\t\t\t<!--\n",
       "\t\t\t\t\n",
       "\t\t\t{\n",
       "\t\t\t\tvar element = document.getElementById('NetworKit_script');\n",
       "\t\t\t\tif (element) {\n",
       "\t\t\t\t\telement.parentNode.removeChild(element);\n",
       "\t\t\t\t}\n",
       "\t\t\t\telement = document.createElement('script');\n",
       "\t\t\t\telement.type = 'text/javascript';\n",
       "\t\t\t\telement.innerHTML = 'function NetworKit_pageEmbed(id) { var i, j; var elements; elements = document.getElementById(id).getElementsByClassName(\"Plot\"); for (i=0; i<elements.length; i++) { elements[i].id = id + \"_Plot_\" + i; var data = elements[i].getAttribute(\"data-image\").split(\"|\"); elements[i].removeAttribute(\"data-image\"); var content = \"<div class=\\\\\"Image\\\\\" id=\\\\\"\" + elements[i].id + \"_Image\\\\\" />\"; elements[i].innerHTML = content; elements[i].setAttribute(\"data-image-index\", 0); elements[i].setAttribute(\"data-image-length\", data.length); for (j=0; j<data.length; j++) { elements[i].setAttribute(\"data-image-\" + j, data[j]); } NetworKit_plotUpdate(elements[i]); elements[i].onclick = function (e) { NetworKit_overlayShow((e.target) ? e.target : e.srcElement); } } elements = document.getElementById(id).getElementsByClassName(\"HeatCell\"); for (i=0; i<elements.length; i++) { var data = parseFloat(elements[i].getAttribute(\"data-heat\")); var color = \"#00FF00\"; if (data <= 1 && data > 0) { color = \"hsla(0, 100%, 75%, \" + (data) + \")\"; } else if (data <= 0 && data >= -1) { color = \"hsla(240, 100%, 75%, \" + (-data) + \")\"; } elements[i].style.backgroundColor = color; } elements = document.getElementById(id).getElementsByClassName(\"Details\"); for (i=0; i<elements.length; i++) { elements[i].setAttribute(\"data-title\", \"-\"); NetworKit_toggleDetails(elements[i]); elements[i].onclick = function (e) { NetworKit_toggleDetails((e.target) ? e.target : e.srcElement); } } elements = document.getElementById(id).getElementsByClassName(\"MathValue\"); for (i=elements.length-1; i>=0; i--) { value = elements[i].innerHTML.trim(); if (value === \"nan\") { elements[i].parentNode.innerHTML = \"\" } } elements = document.getElementById(id).getElementsByClassName(\"SubCategory\"); for (i=elements.length-1; i>=0; i--) { value = elements[i].innerHTML.trim(); if (value === \"\") { elements[i].parentNode.removeChild(elements[i]) } } elements = document.getElementById(id).getElementsByClassName(\"Category\"); for (i=elements.length-1; i>=0; i--) { value = elements[i].innerHTML.trim(); if (value === \"\") { elements[i].parentNode.removeChild(elements[i]) } } var isFirefox = false; try { isFirefox = typeof InstallTrigger !== \"undefined\"; } catch (e) {} if (!isFirefox) { alert(\"Currently the function\\'s output is only fully supported by Firefox.\"); } } function NetworKit_plotUpdate(source) { var index = source.getAttribute(\"data-image-index\"); var data = source.getAttribute(\"data-image-\" + index); var image = document.getElementById(source.id + \"_Image\"); image.style.backgroundImage = \"url(\" + data + \")\"; } function NetworKit_showElement(id, show) { var element = document.getElementById(id); element.style.display = (show) ? \"block\" : \"none\"; } function NetworKit_overlayShow(source) { NetworKit_overlayUpdate(source); NetworKit_showElement(\"NetworKit_Overlay\", true); } function NetworKit_overlayUpdate(source) { document.getElementById(\"NetworKit_Overlay_Title\").innerHTML = source.title; var index = source.getAttribute(\"data-image-index\"); var data = source.getAttribute(\"data-image-\" + index); var image = document.getElementById(\"NetworKit_Overlay_Image\"); image.setAttribute(\"data-id\", source.id); image.style.backgroundImage = \"url(\" + data + \")\"; var link = document.getElementById(\"NetworKit_Overlay_Toolbar_Bottom_Save\"); link.href = data; link.download = source.title + \".svg\"; } function NetworKit_overlayImageShift(delta) { var image = document.getElementById(\"NetworKit_Overlay_Image\"); var source = document.getElementById(image.getAttribute(\"data-id\")); var index = parseInt(source.getAttribute(\"data-image-index\")); var length = parseInt(source.getAttribute(\"data-image-length\")); var index = (index+delta) % length; if (index < 0) { index = length + index; } source.setAttribute(\"data-image-index\", index); NetworKit_overlayUpdate(source); } function NetworKit_toggleDetails(source) { var childs = source.children; var show = false; if (source.getAttribute(\"data-title\") == \"-\") { source.setAttribute(\"data-title\", \"+\"); show = false; } else { source.setAttribute(\"data-title\", \"-\"); show = true; } for (i=0; i<childs.length; i++) { if (show) { childs[i].style.display = \"block\"; } else { childs[i].style.display = \"none\"; } } }';\n",
       "\t\t\t\telement.setAttribute('id', 'NetworKit_script');\n",
       "\t\t\t\tdocument.head.appendChild(element);\n",
       "\t\t\t}\n",
       "\t\t\n",
       "\t\t\t\t\n",
       "\t\t\t{\n",
       "\t\t\t\tvar element = document.getElementById('NetworKit_style');\n",
       "\t\t\t\tif (element) {\n",
       "\t\t\t\t\telement.parentNode.removeChild(element);\n",
       "\t\t\t\t}\n",
       "\t\t\t\telement = document.createElement('style');\n",
       "\t\t\t\telement.type = 'text/css';\n",
       "\t\t\t\telement.innerHTML = '.NetworKit_Page { font-family: Arial, Helvetica, sans-serif; font-size: 14px; } .NetworKit_Page .Value:before { font-family: Arial, Helvetica, sans-serif; font-size: 1.05em; content: attr(data-title) \":\"; margin-left: -2.5em; padding-right: 0.5em; } .NetworKit_Page .Details .Value:before { display: block; } .NetworKit_Page .Value { font-family: monospace; white-space: pre; padding-left: 2.5em; white-space: -moz-pre-wrap !important; white-space: -pre-wrap; white-space: -o-pre-wrap; white-space: pre-wrap; word-wrap: break-word; tab-size: 4; -moz-tab-size: 4; } .NetworKit_Page .Category { clear: both; padding-left: 1em; margin-bottom: 1.5em; } .NetworKit_Page .Category:before { content: attr(data-title); font-size: 1.75em; display: block; margin-left: -0.8em; margin-bottom: 0.5em; } .NetworKit_Page .SubCategory { margin-bottom: 1.5em; padding-left: 1em; } .NetworKit_Page .SubCategory:before { font-size: 1.6em; display: block; margin-left: -0.8em; margin-bottom: 0.5em; } .NetworKit_Page .SubCategory[data-title]:before { content: attr(data-title); } .NetworKit_Page .Block { display: block; } .NetworKit_Page .Block:after { content: \".\"; visibility: hidden; display: block; height: 0; clear: both; } .NetworKit_Page .Block .Thumbnail_Overview, .NetworKit_Page .Block .Thumbnail_ScatterPlot { width: 260px; float: left; } .NetworKit_Page .Block .Thumbnail_Overview img, .NetworKit_Page .Block .Thumbnail_ScatterPlot img { width: 260px; } .NetworKit_Page .Block .Thumbnail_Overview:before, .NetworKit_Page .Block .Thumbnail_ScatterPlot:before { display: block; text-align: center; font-weight: bold; } .NetworKit_Page .Block .Thumbnail_Overview:before { content: attr(data-title); } .NetworKit_Page .HeatCell { font-family: \"Courier New\", Courier, monospace; cursor: pointer; } .NetworKit_Page .HeatCell, .NetworKit_Page .HeatCellName { display: inline; padding: 0.1em; margin-right: 2px; background-color: #FFFFFF } .NetworKit_Page .HeatCellName { margin-left: 0.25em; } .NetworKit_Page .HeatCell:before { content: attr(data-heat); display: inline-block; color: #000000; width: 4em; text-align: center; } .NetworKit_Page .Measure { clear: both; } .NetworKit_Page .Measure .Details { cursor: pointer; } .NetworKit_Page .Measure .Details:before { content: \"[\" attr(data-title) \"]\"; display: block; } .NetworKit_Page .Measure .Details .Value { border-left: 1px dotted black; margin-left: 0.4em; padding-left: 3.5em; pointer-events: none; } .NetworKit_Page .Measure .Details .Spacer:before { content: \".\"; opacity: 0.0; pointer-events: none; } .NetworKit_Page .Measure .Plot { width: 440px; height: 440px; cursor: pointer; float: left; margin-left: -0.9em; margin-right: 20px; } .NetworKit_Page .Measure .Plot .Image { background-repeat: no-repeat; background-position: center center; background-size: contain; height: 100%; pointer-events: none; } .NetworKit_Page .Measure .Stat { width: 500px; float: left; } .NetworKit_Page .Measure .Stat .Group { padding-left: 1.25em; margin-bottom: 0.75em; } .NetworKit_Page .Measure .Stat .Group .Title { font-size: 1.1em; display: block; margin-bottom: 0.3em; margin-left: -0.75em; border-right-style: dotted; border-right-width: 1px; border-bottom-style: dotted; border-bottom-width: 1px; background-color: #D0D0D0; padding-left: 0.2em; } .NetworKit_Page .Measure .Stat .Group .List { -webkit-column-count: 3; -moz-column-count: 3; column-count: 3; } .NetworKit_Page .Measure .Stat .Group .List .Entry { position: relative; line-height: 1.75em; } .NetworKit_Page .Measure .Stat .Group .List .Entry[data-tooltip]:before { position: absolute; left: 0; top: -40px; background-color: #808080; color: #ffffff; height: 30px; line-height: 30px; border-radius: 5px; padding: 0 15px; content: attr(data-tooltip); white-space: nowrap; display: none; } .NetworKit_Page .Measure .Stat .Group .List .Entry[data-tooltip]:after { position: absolute; left: 15px; top: -10px; border-top: 7px solid #808080; border-left: 7px solid transparent; border-right: 7px solid transparent; content: \"\"; display: none; } .NetworKit_Page .Measure .Stat .Group .List .Entry[data-tooltip]:hover:after, .NetworKit_Page .Measure .Stat .Group .List .Entry[data-tooltip]:hover:before { display: block; } .NetworKit_Page .Measure .Stat .Group .List .Entry .MathValue { font-family: \"Courier New\", Courier, monospace; } .NetworKit_Page .Measure:after { content: \".\"; visibility: hidden; display: block; height: 0; clear: both; } .NetworKit_Page .PartitionPie { clear: both; } .NetworKit_Page .PartitionPie img { width: 600px; } #NetworKit_Overlay { left: 0px; top: 0px; display: none; position: absolute; width: 100%; height: 100%; background-color: rgba(0,0,0,0.6); z-index: 1000; } #NetworKit_Overlay_Title { position: absolute; color: white; transform: rotate(-90deg); width: 32em; height: 32em; padding-right: 0.5em; padding-top: 0.5em; text-align: right; font-size: 40px; } #NetworKit_Overlay .button { background: white; cursor: pointer; } #NetworKit_Overlay .button:before { size: 13px; display: inline-block; text-align: center; margin-top: 0.5em; margin-bottom: 0.5em; width: 1.5em; height: 1.5em; } #NetworKit_Overlay .icon-close:before { content: \"X\"; } #NetworKit_Overlay .icon-previous:before { content: \"P\"; } #NetworKit_Overlay .icon-next:before { content: \"N\"; } #NetworKit_Overlay .icon-save:before { content: \"S\"; } #NetworKit_Overlay_Toolbar_Top, #NetworKit_Overlay_Toolbar_Bottom { position: absolute; width: 40px; right: 13px; text-align: right; z-index: 1100; } #NetworKit_Overlay_Toolbar_Top { top: 0.5em; } #NetworKit_Overlay_Toolbar_Bottom { Bottom: 0.5em; } #NetworKit_Overlay_ImageContainer { position: absolute; top: 5%; left: 5%; height: 90%; width: 90%; background-repeat: no-repeat; background-position: center center; background-size: contain; } #NetworKit_Overlay_Image { height: 100%; width: 100%; background-repeat: no-repeat; background-position: center center; background-size: contain; }';\n",
       "\t\t\t\telement.setAttribute('id', 'NetworKit_style');\n",
       "\t\t\t\tdocument.head.appendChild(element);\n",
       "\t\t\t}\n",
       "\t\t\n",
       "\t\t\t\t\n",
       "\t\t\t{\n",
       "\t\t\t\tvar element = document.getElementById('NetworKit_Overlay');\n",
       "\t\t\t\tif (element) {\n",
       "\t\t\t\t\telement.parentNode.removeChild(element);\n",
       "\t\t\t\t}\n",
       "\t\t\t\telement = document.createElement('div');\n",
       "\t\t\t\telement.innerHTML = '<div id=\"NetworKit_Overlay_Toolbar_Top\"><div class=\"button icon-close\" id=\"NetworKit_Overlay_Close\" /></div><div id=\"NetworKit_Overlay_Title\" /> <div id=\"NetworKit_Overlay_ImageContainer\"> <div id=\"NetworKit_Overlay_Image\" /> </div> <div id=\"NetworKit_Overlay_Toolbar_Bottom\"> <div class=\"button icon-previous\" onclick=\"NetworKit_overlayImageShift(-1)\" /> <div class=\"button icon-next\" onclick=\"NetworKit_overlayImageShift(1)\" /> <a id=\"NetworKit_Overlay_Toolbar_Bottom_Save\"><div class=\"button icon-save\" /></a> </div>';\n",
       "\t\t\t\telement.setAttribute('id', 'NetworKit_Overlay');\n",
       "\t\t\t\tdocument.body.appendChild(element);\n",
       "\t\t\t\tdocument.getElementById('NetworKit_Overlay_Close').onclick = function (e) {\n",
       "\t\t\t\t\tdocument.getElementById('NetworKit_Overlay').style.display = 'none';\n",
       "\t\t\t\t}\n",
       "\t\t\t}\n",
       "\t\t\n",
       "\t\t\t-->\n",
       "\t\t\t</script>\n",
       "\t\t"
      ]
     },
     "metadata": {},
     "output_type": "display_data"
    },
    {
     "name": "stderr",
     "output_type": "stream",
     "text": [
      "WARNING: pip is being invoked by an old script wrapper. This will fail in a future version of pip.\n",
      "Please see https://github.com/pypa/pip/issues/5599 for advice on fixing the underlying issue.\n",
      "To avoid this problem you can invoke Python with '-m pip' instead of running pip directly.\n"
     ]
    },
    {
     "data": {
      "text/html": [
       "<pre style=\"white-space:pre;overflow-x:auto;line-height:normal;font-family:Menlo,'DejaVu Sans Mono',consolas,'Courier New',monospace\">Requirement already satisfied: alt-profanity-check==1.3.0 in /opt/conda/envs/llm_data/lib/python3.9/site-packages (1.3.0)\n",
       "</pre>\n"
      ],
      "text/plain": [
       "Requirement already satisfied: alt-profanity-check==1.3.0 in /opt/conda/envs/llm_data/lib/python3.9/site-packages (1.3.0)\n"
      ]
     },
     "metadata": {},
     "output_type": "display_data"
    },
    {
     "data": {
      "text/html": [
       "<pre style=\"white-space:pre;overflow-x:auto;line-height:normal;font-family:Menlo,'DejaVu Sans Mono',consolas,'Courier New',monospace\">Requirement already satisfied: scikit-learn==1.3.0 in /opt/conda/envs/llm_data/lib/python3.9/site-packages (from alt-profanity-check==1.3.0) (1.3.0)\n",
       "</pre>\n"
      ],
      "text/plain": [
       "Requirement already satisfied: scikit-learn==1.3.0 in /opt/conda/envs/llm_data/lib/python3.9/site-packages (from alt-profanity-check==1.3.0) (1.3.0)\n"
      ]
     },
     "metadata": {},
     "output_type": "display_data"
    },
    {
     "data": {
      "text/html": [
       "<pre style=\"white-space:pre;overflow-x:auto;line-height:normal;font-family:Menlo,'DejaVu Sans Mono',consolas,'Courier New',monospace\">Requirement already satisfied: joblib&gt;=1.3.1 in /opt/conda/envs/llm_data/lib/python3.9/site-packages (from alt-profanity-check==1.3.0) (1.3.2)\n",
       "</pre>\n"
      ],
      "text/plain": [
       "Requirement already satisfied: joblib>=1.3.1 in /opt/conda/envs/llm_data/lib/python3.9/site-packages (from alt-profanity-check==1.3.0) (1.3.2)\n"
      ]
     },
     "metadata": {},
     "output_type": "display_data"
    },
    {
     "data": {
      "text/html": [
       "<pre style=\"white-space:pre;overflow-x:auto;line-height:normal;font-family:Menlo,'DejaVu Sans Mono',consolas,'Courier New',monospace\">Requirement already satisfied: numpy&gt;=1.17.3 in /opt/conda/envs/llm_data/lib/python3.9/site-packages (from scikit-learn==1.3.0-&gt;alt-profanity-check==1.3.0) (1.24.4)\n",
       "</pre>\n"
      ],
      "text/plain": [
       "Requirement already satisfied: numpy>=1.17.3 in /opt/conda/envs/llm_data/lib/python3.9/site-packages (from scikit-learn==1.3.0->alt-profanity-check==1.3.0) (1.24.4)\n"
      ]
     },
     "metadata": {},
     "output_type": "display_data"
    },
    {
     "data": {
      "text/html": [
       "<pre style=\"white-space:pre;overflow-x:auto;line-height:normal;font-family:Menlo,'DejaVu Sans Mono',consolas,'Courier New',monospace\">Requirement already satisfied: scipy&gt;=1.5.0 in /opt/conda/envs/llm_data/lib/python3.9/site-packages (from scikit-learn==1.3.0-&gt;alt-profanity-check==1.3.0) (1.10.1)\n",
       "</pre>\n"
      ],
      "text/plain": [
       "Requirement already satisfied: scipy>=1.5.0 in /opt/conda/envs/llm_data/lib/python3.9/site-packages (from scikit-learn==1.3.0->alt-profanity-check==1.3.0) (1.10.1)\n"
      ]
     },
     "metadata": {},
     "output_type": "display_data"
    },
    {
     "data": {
      "text/html": [
       "<pre style=\"white-space:pre;overflow-x:auto;line-height:normal;font-family:Menlo,'DejaVu Sans Mono',consolas,'Courier New',monospace\">Requirement already satisfied: threadpoolctl&gt;=2.0.0 in /opt/conda/envs/llm_data/lib/python3.9/site-packages (from scikit-learn==1.3.0-&gt;alt-profanity-check==1.3.0) (3.2.0)\n",
       "</pre>\n"
      ],
      "text/plain": [
       "Requirement already satisfied: threadpoolctl>=2.0.0 in /opt/conda/envs/llm_data/lib/python3.9/site-packages (from scikit-learn==1.3.0->alt-profanity-check==1.3.0) (3.2.0)\n"
      ]
     },
     "metadata": {},
     "output_type": "display_data"
    },
    {
     "data": {
      "text/html": [
       "<pre style=\"white-space:pre;overflow-x:auto;line-height:normal;font-family:Menlo,'DejaVu Sans Mono',consolas,'Courier New',monospace\"><span style=\"color: #808000; text-decoration-color: #808000\">WARNING: Running pip as the 'root' user can result in broken permissions and conflicting behaviour with the system package manager. It is recommended to use a virtual environment instead: https://pip.pypa.io/warnings/venv\n",
       "</span></pre>\n"
      ],
      "text/plain": [
       "\u001b[33mWARNING: Running pip as the 'root' user can result in broken permissions and conflicting behaviour with the system package manager. It is recommended to use a virtual environment instead: https://pip.pypa.io/warnings/venv\u001b[0m\u001b[33m\n",
       "\u001b[0m"
      ]
     },
     "metadata": {},
     "output_type": "display_data"
    },
    {
     "name": "stderr",
     "output_type": "stream",
     "text": [
      "WARNING: pip is being invoked by an old script wrapper. This will fail in a future version of pip.\n",
      "Please see https://github.com/pypa/pip/issues/5599 for advice on fixing the underlying issue.\n",
      "To avoid this problem you can invoke Python with '-m pip' instead of running pip directly.\n"
     ]
    },
    {
     "data": {
      "text/html": [
       "<pre style=\"white-space:pre;overflow-x:auto;line-height:normal;font-family:Menlo,'DejaVu Sans Mono',consolas,'Courier New',monospace\">Requirement already satisfied: huggingface-hub in /opt/conda/envs/llm_data/lib/python3.9/site-packages (0.19.4)\n",
       "</pre>\n"
      ],
      "text/plain": [
       "Requirement already satisfied: huggingface-hub in /opt/conda/envs/llm_data/lib/python3.9/site-packages (0.19.4)\n"
      ]
     },
     "metadata": {},
     "output_type": "display_data"
    },
    {
     "data": {
      "text/html": [
       "<pre style=\"white-space:pre;overflow-x:auto;line-height:normal;font-family:Menlo,'DejaVu Sans Mono',consolas,'Courier New',monospace\">Requirement already satisfied: filelock in /opt/conda/envs/llm_data/lib/python3.9/site-packages (from huggingface-hub) (3.13.1)\n",
       "</pre>\n"
      ],
      "text/plain": [
       "Requirement already satisfied: filelock in /opt/conda/envs/llm_data/lib/python3.9/site-packages (from huggingface-hub) (3.13.1)\n"
      ]
     },
     "metadata": {},
     "output_type": "display_data"
    },
    {
     "data": {
      "text/html": [
       "<pre style=\"white-space:pre;overflow-x:auto;line-height:normal;font-family:Menlo,'DejaVu Sans Mono',consolas,'Courier New',monospace\">Requirement already satisfied: fsspec&gt;=2023.5.0 in /opt/conda/envs/llm_data/lib/python3.9/site-packages (from huggingface-hub) (2023.10.0)\n",
       "</pre>\n"
      ],
      "text/plain": [
       "Requirement already satisfied: fsspec>=2023.5.0 in /opt/conda/envs/llm_data/lib/python3.9/site-packages (from huggingface-hub) (2023.10.0)\n"
      ]
     },
     "metadata": {},
     "output_type": "display_data"
    },
    {
     "data": {
      "text/html": [
       "<pre style=\"white-space:pre;overflow-x:auto;line-height:normal;font-family:Menlo,'DejaVu Sans Mono',consolas,'Courier New',monospace\">Requirement already satisfied: requests in /opt/conda/envs/llm_data/lib/python3.9/site-packages (from huggingface-hub) (2.31.0)\n",
       "</pre>\n"
      ],
      "text/plain": [
       "Requirement already satisfied: requests in /opt/conda/envs/llm_data/lib/python3.9/site-packages (from huggingface-hub) (2.31.0)\n"
      ]
     },
     "metadata": {},
     "output_type": "display_data"
    },
    {
     "data": {
      "text/html": [
       "<pre style=\"white-space:pre;overflow-x:auto;line-height:normal;font-family:Menlo,'DejaVu Sans Mono',consolas,'Courier New',monospace\">Requirement already satisfied: tqdm&gt;=4.42.1 in /opt/conda/envs/llm_data/lib/python3.9/site-packages (from huggingface-hub) (4.66.1)\n",
       "</pre>\n"
      ],
      "text/plain": [
       "Requirement already satisfied: tqdm>=4.42.1 in /opt/conda/envs/llm_data/lib/python3.9/site-packages (from huggingface-hub) (4.66.1)\n"
      ]
     },
     "metadata": {},
     "output_type": "display_data"
    },
    {
     "data": {
      "text/html": [
       "<pre style=\"white-space:pre;overflow-x:auto;line-height:normal;font-family:Menlo,'DejaVu Sans Mono',consolas,'Courier New',monospace\">Requirement already satisfied: pyyaml&gt;=5.1 in /opt/conda/envs/llm_data/lib/python3.9/site-packages (from huggingface-hub) (6.0.1)\n",
       "</pre>\n"
      ],
      "text/plain": [
       "Requirement already satisfied: pyyaml>=5.1 in /opt/conda/envs/llm_data/lib/python3.9/site-packages (from huggingface-hub) (6.0.1)\n"
      ]
     },
     "metadata": {},
     "output_type": "display_data"
    },
    {
     "data": {
      "text/html": [
       "<pre style=\"white-space:pre;overflow-x:auto;line-height:normal;font-family:Menlo,'DejaVu Sans Mono',consolas,'Courier New',monospace\">Requirement already satisfied: typing-extensions&gt;=3.7.4.3 in /opt/conda/envs/llm_data/lib/python3.9/site-packages (from huggingface-hub) (4.8.0)\n",
       "</pre>\n"
      ],
      "text/plain": [
       "Requirement already satisfied: typing-extensions>=3.7.4.3 in /opt/conda/envs/llm_data/lib/python3.9/site-packages (from huggingface-hub) (4.8.0)\n"
      ]
     },
     "metadata": {},
     "output_type": "display_data"
    },
    {
     "data": {
      "text/html": [
       "<pre style=\"white-space:pre;overflow-x:auto;line-height:normal;font-family:Menlo,'DejaVu Sans Mono',consolas,'Courier New',monospace\">Requirement already satisfied: packaging&gt;=20.9 in /opt/conda/envs/llm_data/lib/python3.9/site-packages (from huggingface-hub) (23.2)\n",
       "</pre>\n"
      ],
      "text/plain": [
       "Requirement already satisfied: packaging>=20.9 in /opt/conda/envs/llm_data/lib/python3.9/site-packages (from huggingface-hub) (23.2)\n"
      ]
     },
     "metadata": {},
     "output_type": "display_data"
    },
    {
     "data": {
      "text/html": [
       "<pre style=\"white-space:pre;overflow-x:auto;line-height:normal;font-family:Menlo,'DejaVu Sans Mono',consolas,'Courier New',monospace\">Requirement already satisfied: charset-normalizer&lt;4,&gt;=2 in /opt/conda/envs/llm_data/lib/python3.9/site-packages (from requests-&gt;huggingface-hub) (3.3.2)\n",
       "</pre>\n"
      ],
      "text/plain": [
       "Requirement already satisfied: charset-normalizer<4,>=2 in /opt/conda/envs/llm_data/lib/python3.9/site-packages (from requests->huggingface-hub) (3.3.2)\n"
      ]
     },
     "metadata": {},
     "output_type": "display_data"
    },
    {
     "data": {
      "text/html": [
       "<pre style=\"white-space:pre;overflow-x:auto;line-height:normal;font-family:Menlo,'DejaVu Sans Mono',consolas,'Courier New',monospace\">Requirement already satisfied: idna&lt;4,&gt;=2.5 in /opt/conda/envs/llm_data/lib/python3.9/site-packages (from requests-&gt;huggingface-hub) (3.4)\n",
       "</pre>\n"
      ],
      "text/plain": [
       "Requirement already satisfied: idna<4,>=2.5 in /opt/conda/envs/llm_data/lib/python3.9/site-packages (from requests->huggingface-hub) (3.4)\n"
      ]
     },
     "metadata": {},
     "output_type": "display_data"
    },
    {
     "data": {
      "text/html": [
       "<pre style=\"white-space:pre;overflow-x:auto;line-height:normal;font-family:Menlo,'DejaVu Sans Mono',consolas,'Courier New',monospace\">Requirement already satisfied: urllib3&lt;3,&gt;=1.21.1 in /opt/conda/envs/llm_data/lib/python3.9/site-packages (from requests-&gt;huggingface-hub) (2.0.7)\n",
       "</pre>\n"
      ],
      "text/plain": [
       "Requirement already satisfied: urllib3<3,>=1.21.1 in /opt/conda/envs/llm_data/lib/python3.9/site-packages (from requests->huggingface-hub) (2.0.7)\n"
      ]
     },
     "metadata": {},
     "output_type": "display_data"
    },
    {
     "data": {
      "text/html": [
       "<pre style=\"white-space:pre;overflow-x:auto;line-height:normal;font-family:Menlo,'DejaVu Sans Mono',consolas,'Courier New',monospace\">Requirement already satisfied: certifi&gt;=2017.4.17 in /opt/conda/envs/llm_data/lib/python3.9/site-packages (from requests-&gt;huggingface-hub) (2023.11.17)\n",
       "</pre>\n"
      ],
      "text/plain": [
       "Requirement already satisfied: certifi>=2017.4.17 in /opt/conda/envs/llm_data/lib/python3.9/site-packages (from requests->huggingface-hub) (2023.11.17)\n"
      ]
     },
     "metadata": {},
     "output_type": "display_data"
    },
    {
     "data": {
      "text/html": [
       "<pre style=\"white-space:pre;overflow-x:auto;line-height:normal;font-family:Menlo,'DejaVu Sans Mono',consolas,'Courier New',monospace\"><span style=\"color: #808000; text-decoration-color: #808000\">WARNING: Running pip as the 'root' user can result in broken permissions and conflicting behaviour with the system package manager. It is recommended to use a virtual environment instead: https://pip.pypa.io/warnings/venv\n",
       "</span></pre>\n"
      ],
      "text/plain": [
       "\u001b[33mWARNING: Running pip as the 'root' user can result in broken permissions and conflicting behaviour with the system package manager. It is recommended to use a virtual environment instead: https://pip.pypa.io/warnings/venv\u001b[0m\u001b[33m\n",
       "\u001b[0m"
      ]
     },
     "metadata": {},
     "output_type": "display_data"
    },
    {
     "name": "stderr",
     "output_type": "stream",
     "text": [
      "WARNING: pip is being invoked by an old script wrapper. This will fail in a future version of pip.\n",
      "Please see https://github.com/pypa/pip/issues/5599 for advice on fixing the underlying issue.\n",
      "To avoid this problem you can invoke Python with '-m pip' instead of running pip directly.\n"
     ]
    },
    {
     "data": {
      "text/html": [
       "<pre style=\"white-space:pre;overflow-x:auto;line-height:normal;font-family:Menlo,'DejaVu Sans Mono',consolas,'Courier New',monospace\">Requirement already satisfied: Faker in /opt/conda/envs/llm_data/lib/python3.9/site-packages (20.0.3)\n",
       "</pre>\n"
      ],
      "text/plain": [
       "Requirement already satisfied: Faker in /opt/conda/envs/llm_data/lib/python3.9/site-packages (20.0.3)\n"
      ]
     },
     "metadata": {},
     "output_type": "display_data"
    },
    {
     "data": {
      "text/html": [
       "<pre style=\"white-space:pre;overflow-x:auto;line-height:normal;font-family:Menlo,'DejaVu Sans Mono',consolas,'Courier New',monospace\">Requirement already satisfied: python-dateutil&gt;=2.4 in /opt/conda/envs/llm_data/lib/python3.9/site-packages (from Faker) (2.8.2)\n",
       "</pre>\n"
      ],
      "text/plain": [
       "Requirement already satisfied: python-dateutil>=2.4 in /opt/conda/envs/llm_data/lib/python3.9/site-packages (from Faker) (2.8.2)\n"
      ]
     },
     "metadata": {},
     "output_type": "display_data"
    },
    {
     "data": {
      "text/html": [
       "<pre style=\"white-space:pre;overflow-x:auto;line-height:normal;font-family:Menlo,'DejaVu Sans Mono',consolas,'Courier New',monospace\">Requirement already satisfied: six&gt;=1.5 in /opt/conda/envs/llm_data/lib/python3.9/site-packages (from python-dateutil&gt;=2.4-&gt;Faker) (1.16.0)\n",
       "</pre>\n"
      ],
      "text/plain": [
       "Requirement already satisfied: six>=1.5 in /opt/conda/envs/llm_data/lib/python3.9/site-packages (from python-dateutil>=2.4->Faker) (1.16.0)\n"
      ]
     },
     "metadata": {},
     "output_type": "display_data"
    },
    {
     "data": {
      "text/html": [
       "<pre style=\"white-space:pre;overflow-x:auto;line-height:normal;font-family:Menlo,'DejaVu Sans Mono',consolas,'Courier New',monospace\"><span style=\"color: #808000; text-decoration-color: #808000\">WARNING: Running pip as the 'root' user can result in broken permissions and conflicting behaviour with the system package manager. It is recommended to use a virtual environment instead: https://pip.pypa.io/warnings/venv\n",
       "</span></pre>\n"
      ],
      "text/plain": [
       "\u001b[33mWARNING: Running pip as the 'root' user can result in broken permissions and conflicting behaviour with the system package manager. It is recommended to use a virtual environment instead: https://pip.pypa.io/warnings/venv\u001b[0m\u001b[33m\n",
       "\u001b[0m"
      ]
     },
     "metadata": {},
     "output_type": "display_data"
    },
    {
     "name": "stderr",
     "output_type": "stream",
     "text": [
      "WARNING: pip is being invoked by an old script wrapper. This will fail in a future version of pip.\n",
      "Please see https://github.com/pypa/pip/issues/5599 for advice on fixing the underlying issue.\n",
      "To avoid this problem you can invoke Python with '-m pip' instead of running pip directly.\n"
     ]
    },
    {
     "data": {
      "text/html": [
       "<pre style=\"white-space:pre;overflow-x:auto;line-height:normal;font-family:Menlo,'DejaVu Sans Mono',consolas,'Courier New',monospace\">Requirement already satisfied: rouge-score in /opt/conda/envs/llm_data/lib/python3.9/site-packages (0.1.2)\n",
       "</pre>\n"
      ],
      "text/plain": [
       "Requirement already satisfied: rouge-score in /opt/conda/envs/llm_data/lib/python3.9/site-packages (0.1.2)\n"
      ]
     },
     "metadata": {},
     "output_type": "display_data"
    },
    {
     "data": {
      "text/html": [
       "<pre style=\"white-space:pre;overflow-x:auto;line-height:normal;font-family:Menlo,'DejaVu Sans Mono',consolas,'Courier New',monospace\">Requirement already satisfied: absl-py in /opt/conda/envs/llm_data/lib/python3.9/site-packages (from rouge-score) (2.0.0)\n",
       "</pre>\n"
      ],
      "text/plain": [
       "Requirement already satisfied: absl-py in /opt/conda/envs/llm_data/lib/python3.9/site-packages (from rouge-score) (2.0.0)\n"
      ]
     },
     "metadata": {},
     "output_type": "display_data"
    },
    {
     "data": {
      "text/html": [
       "<pre style=\"white-space:pre;overflow-x:auto;line-height:normal;font-family:Menlo,'DejaVu Sans Mono',consolas,'Courier New',monospace\">Requirement already satisfied: nltk in /opt/conda/envs/llm_data/lib/python3.9/site-packages (from rouge-score) (3.8.1)\n",
       "</pre>\n"
      ],
      "text/plain": [
       "Requirement already satisfied: nltk in /opt/conda/envs/llm_data/lib/python3.9/site-packages (from rouge-score) (3.8.1)\n"
      ]
     },
     "metadata": {},
     "output_type": "display_data"
    },
    {
     "data": {
      "text/html": [
       "<pre style=\"white-space:pre;overflow-x:auto;line-height:normal;font-family:Menlo,'DejaVu Sans Mono',consolas,'Courier New',monospace\">Requirement already satisfied: numpy in /opt/conda/envs/llm_data/lib/python3.9/site-packages (from rouge-score) (1.24.4)\n",
       "</pre>\n"
      ],
      "text/plain": [
       "Requirement already satisfied: numpy in /opt/conda/envs/llm_data/lib/python3.9/site-packages (from rouge-score) (1.24.4)\n"
      ]
     },
     "metadata": {},
     "output_type": "display_data"
    },
    {
     "data": {
      "text/html": [
       "<pre style=\"white-space:pre;overflow-x:auto;line-height:normal;font-family:Menlo,'DejaVu Sans Mono',consolas,'Courier New',monospace\">Requirement already satisfied: six&gt;=1.14.0 in /opt/conda/envs/llm_data/lib/python3.9/site-packages (from rouge-score) (1.16.0)\n",
       "</pre>\n"
      ],
      "text/plain": [
       "Requirement already satisfied: six>=1.14.0 in /opt/conda/envs/llm_data/lib/python3.9/site-packages (from rouge-score) (1.16.0)\n"
      ]
     },
     "metadata": {},
     "output_type": "display_data"
    },
    {
     "data": {
      "text/html": [
       "<pre style=\"white-space:pre;overflow-x:auto;line-height:normal;font-family:Menlo,'DejaVu Sans Mono',consolas,'Courier New',monospace\">Requirement already satisfied: click in /opt/conda/envs/llm_data/lib/python3.9/site-packages (from nltk-&gt;rouge-score) (7.1.2)\n",
       "</pre>\n"
      ],
      "text/plain": [
       "Requirement already satisfied: click in /opt/conda/envs/llm_data/lib/python3.9/site-packages (from nltk->rouge-score) (7.1.2)\n"
      ]
     },
     "metadata": {},
     "output_type": "display_data"
    },
    {
     "data": {
      "text/html": [
       "<pre style=\"white-space:pre;overflow-x:auto;line-height:normal;font-family:Menlo,'DejaVu Sans Mono',consolas,'Courier New',monospace\">Requirement already satisfied: joblib in /opt/conda/envs/llm_data/lib/python3.9/site-packages (from nltk-&gt;rouge-score) (1.3.2)\n",
       "</pre>\n"
      ],
      "text/plain": [
       "Requirement already satisfied: joblib in /opt/conda/envs/llm_data/lib/python3.9/site-packages (from nltk->rouge-score) (1.3.2)\n"
      ]
     },
     "metadata": {},
     "output_type": "display_data"
    },
    {
     "data": {
      "text/html": [
       "<pre style=\"white-space:pre;overflow-x:auto;line-height:normal;font-family:Menlo,'DejaVu Sans Mono',consolas,'Courier New',monospace\">Requirement already satisfied: regex&gt;=2021.8.3 in /opt/conda/envs/llm_data/lib/python3.9/site-packages (from nltk-&gt;rouge-score) (2023.6.3)\n",
       "</pre>\n"
      ],
      "text/plain": [
       "Requirement already satisfied: regex>=2021.8.3 in /opt/conda/envs/llm_data/lib/python3.9/site-packages (from nltk->rouge-score) (2023.6.3)\n"
      ]
     },
     "metadata": {},
     "output_type": "display_data"
    },
    {
     "data": {
      "text/html": [
       "<pre style=\"white-space:pre;overflow-x:auto;line-height:normal;font-family:Menlo,'DejaVu Sans Mono',consolas,'Courier New',monospace\">Requirement already satisfied: tqdm in /opt/conda/envs/llm_data/lib/python3.9/site-packages (from nltk-&gt;rouge-score) (4.66.1)\n",
       "</pre>\n"
      ],
      "text/plain": [
       "Requirement already satisfied: tqdm in /opt/conda/envs/llm_data/lib/python3.9/site-packages (from nltk->rouge-score) (4.66.1)\n"
      ]
     },
     "metadata": {},
     "output_type": "display_data"
    },
    {
     "data": {
      "text/html": [
       "<pre style=\"white-space:pre;overflow-x:auto;line-height:normal;font-family:Menlo,'DejaVu Sans Mono',consolas,'Courier New',monospace\"><span style=\"color: #808000; text-decoration-color: #808000\">WARNING: Running pip as the 'root' user can result in broken permissions and conflicting behaviour with the system package manager. It is recommended to use a virtual environment instead: https://pip.pypa.io/warnings/venv\n",
       "</span></pre>\n"
      ],
      "text/plain": [
       "\u001b[33mWARNING: Running pip as the 'root' user can result in broken permissions and conflicting behaviour with the system package manager. It is recommended to use a virtual environment instead: https://pip.pypa.io/warnings/venv\u001b[0m\u001b[33m\n",
       "\u001b[0m"
      ]
     },
     "metadata": {},
     "output_type": "display_data"
    },
    {
     "name": "stderr",
     "output_type": "stream",
     "text": [
      "/opt/conda/envs/llm_data/lib/python3.9/site-packages/pyspark/pandas/__init__.py:50: UserWarning: 'PYARROW_IGNORE_TIMEZONE' environment variable was not set. It is required to set this environment variable to '1' in both driver and executor sides if you use pyarrow>=2.0.0. pandas-on-Spark will set it for you but it does not work if there is a Spark context already launched.\n",
      "  warnings.warn(\n"
     ]
    }
   ],
   "source": [
    "from pyrecdp.LLM import TextPipeline, ResumableTextPipeline\n",
    "from pyrecdp.primitives.operations import *"
   ]
  },
  {
   "cell_type": "code",
   "execution_count": 4,
   "id": "23ee3486",
   "metadata": {},
   "outputs": [
    {
     "name": "stdout",
     "output_type": "stream",
     "text": [
      "\u001b[32m2023-11-28 10:17:42.527\u001b[0m | \u001b[33m\u001b[1mWARNING \u001b[0m | \u001b[36mpyrecdp.LLM.TextPipeline\u001b[0m:\u001b[36menable_statistics\u001b[0m:\u001b[36m219\u001b[0m - \u001b[33m\u001b[1mEnabling this option will result in a decrease in execution speed\u001b[0m\n",
      "[DatasetReader, PerfileSourcedJsonlReader, TextPrompt, RandomSelect, TextToxicity, TextDiversityIndicate, TextQualityScorer, RougeScoreDedup, PerfileParquetWriter]\n",
      "Will assign 36 cores and 206263 M memory for spark\n"
     ]
    },
    {
     "name": "stderr",
     "output_type": "stream",
     "text": [
      "23/11/28 10:17:44 WARN Utils: Your hostname, sr533 resolves to a loopback address: 127.0.1.1; using 10.0.2.133 instead (on interface eno0)\n",
      "23/11/28 10:17:44 WARN Utils: Set SPARK_LOCAL_IP if you need to bind to another address\n",
      "Setting default log level to \"WARN\".\n",
      "To adjust logging level use sc.setLogLevel(newLevel). For SparkR, use setLogLevel(newLevel).\n",
      "23/11/28 10:17:45 WARN NativeCodeLoader: Unable to load native-hadoop library for your platform... using builtin-java classes where applicable\n",
      "23/11/28 10:17:46 WARN Utils: Service 'SparkUI' could not bind on port 4040. Attempting port 4041.\n"
     ]
    },
    {
     "name": "stdout",
     "output_type": "stream",
     "text": [
      "per core memory size is 5.595 GB and shuffle_disk maximum capacity is 8589934592.000 GB\n",
      "execute with spark for global tasks started ...\n",
      "DatasetReader\n",
      "\u001b[32m2023-11-28 10:17:46.910\u001b[0m | \u001b[1mINFO    \u001b[0m | \u001b[36mpyrecdp.LLM.TextPipeline\u001b[0m:\u001b[36mop_summary\u001b[0m:\u001b[36m285\u001b[0m - \u001b[1mDatasetReader: A total of 0 rows of data were processed, using 0 seconds, with 0 rows modified or removed, 0 rows of data remaining.\u001b[0m\n",
      "execute with spark for global tasks took 0.002241840586066246 sec\n",
      "PerfileSourcedJsonlReader\n"
     ]
    },
    {
     "name": "stderr",
     "output_type": "stream",
     "text": [
      "ResumableTextPipeline, current on alpaca_data_50.jsonl:   0%|          | 0/1 [00:00<?, ?it/s]"
     ]
    },
    {
     "name": "stdout",
     "output_type": "stream",
     "text": [
      "alpaca_data_50.jsonl\n",
      "TextPrompt\n"
     ]
    },
    {
     "name": "stderr",
     "output_type": "stream",
     "text": [
      "                                                                                \r"
     ]
    },
    {
     "name": "stdout",
     "output_type": "stream",
     "text": [
      "RandomSelect\n",
      "TextToxicity\n",
      "statistics_decorator spark\n"
     ]
    },
    {
     "name": "stderr",
     "output_type": "stream",
     "text": [
      "Asking to truncate to max_length but no maximum length is provided and the model has no predefined maximum length. Default to no truncation.\n",
      "Asking to truncate to max_length but no maximum length is provided and the model has no predefined maximum length. Default to no truncation.\n",
      "Asking to truncate to max_length but no maximum length is provided and the model has no predefined maximum length. Default to no truncation.\n",
      "Asking to truncate to max_length but no maximum length is provided and the model has no predefined maximum length. Default to no truncation.\n",
      "Asking to truncate to max_length but no maximum length is provided and the model has no predefined maximum length. Default to no truncation.\n",
      "Asking to truncate to max_length but no maximum length is provided and the model has no predefined maximum length. Default to no truncation.\n",
      "Asking to truncate to max_length but no maximum length is provided and the model has no predefined maximum length. Default to no truncation.\n",
      "Asking to truncate to max_length but no maximum length is provided and the model has no predefined maximum length. Default to no truncation.\n",
      "Asking to truncate to max_length but no maximum length is provided and the model has no predefined maximum length. Default to no truncation.\n",
      "Asking to truncate to max_length but no maximum length is provided and the model has no predefined maximum length. Default to no truncation.\n"
     ]
    },
    {
     "name": "stdout",
     "output_type": "stream",
     "text": [
      "TextDiversityIndicate\n",
      "statistics_decorator spark\n",
      "\u001b[32m2023-11-28 10:18:50.538\u001b[0m | \u001b[1mINFO    \u001b[0m | \u001b[36mpyrecdp.core.model_utils\u001b[0m:\u001b[36mprepare_diversity_model\u001b[0m:\u001b[36m189\u001b[0m - \u001b[1mLoading spacy model [en_core_web_md-3.5.0]...\u001b[0m\n"
     ]
    },
    {
     "name": "stderr",
     "output_type": "stream",
     "text": [
      "/opt/conda/envs/llm_data/lib/python3.9/site-packages/spacy/util.py:910: UserWarning: [W095] Model 'en_core_web_md' (3.5.0) was trained with spaCy v3.5.0 and may not be 100% compatible with the current version (3.7.2). If you see errors or degraded performance, download a newer compatible model or retrain your custom model with the current spaCy version. For more details and available updates, run: python -m spacy validate\n",
      "  warnings.warn(warn_msg)\n",
      "/opt/conda/envs/llm_data/lib/python3.9/site-packages/_distutils_hack/__init__.py:33: UserWarning: Setuptools is replacing distutils.\n",
      "  warnings.warn(\"Setuptools is replacing distutils.\")\n",
      "                                                                                \r"
     ]
    },
    {
     "name": "stdout",
     "output_type": "stream",
     "text": [
      "TextQualityScorer\n",
      "statistics_decorator spark\n",
      "model_name is gpt3\n",
      "\u001b[32m2023-11-28 10:19:04.135\u001b[0m | \u001b[1mINFO    \u001b[0m | \u001b[36mpyrecdp.primitives.operations.text_qualityscorer\u001b[0m:\u001b[36mprepare_model\u001b[0m:\u001b[36m122\u001b[0m - \u001b[1mPreparing scorer model in [/root/.cache/recdp/models/gpt3_quality_model]...\u001b[0m\n",
      "real_model_path is /root/.cache/recdp/models/gpt3_quality_model\n"
     ]
    },
    {
     "name": "stderr",
     "output_type": "stream",
     "text": [
      "\r",
      "[Stage 45:>                                                         (0 + 1) / 1]\r",
      "\r",
      "                                                                                \r"
     ]
    },
    {
     "name": "stdout",
     "output_type": "stream",
     "text": [
      "\u001b[32m2023-11-28 10:19:06.376\u001b[0m | \u001b[1mINFO    \u001b[0m | \u001b[36mpyrecdp.primitives.operations.text_qualityscorer\u001b[0m:\u001b[36mpredict\u001b[0m:\u001b[36m252\u001b[0m - \u001b[1mStart scoring dataset...\u001b[0m\n"
     ]
    },
    {
     "name": "stderr",
     "output_type": "stream",
     "text": [
      "                                                                                \r"
     ]
    },
    {
     "name": "stdout",
     "output_type": "stream",
     "text": [
      "RougeScoreDedup\n",
      "statistics_decorator spark\n"
     ]
    },
    {
     "data": {
      "text/html": [
       "<pre style=\"white-space:pre;overflow-x:auto;line-height:normal;font-family:Menlo,'DejaVu Sans Mono',consolas,'Courier New',monospace\">Using default tokenizer.\n",
       "</pre>\n"
      ],
      "text/plain": [
       "Using default tokenizer.\n"
      ]
     },
     "metadata": {},
     "output_type": "display_data"
    },
    {
     "name": "stderr",
     "output_type": "stream",
     "text": [
      "\n",
      "  0%|          | 0/2 [00:00<?, ?it/s]\u001b[A"
     ]
    },
    {
     "name": "stdout",
     "output_type": "stream",
     "text": [
      "Round 0 started ...\n"
     ]
    },
    {
     "name": "stderr",
     "output_type": "stream",
     "text": [
      "[Stage 64:================================>                    (121 + 36) / 200]\r"
     ]
    },
    {
     "name": "stdout",
     "output_type": "stream",
     "text": [
      "\u001b[32m2023-11-28 10:19:17.095\u001b[0m | \u001b[1mINFO    \u001b[0m | \u001b[36mpyrecdp.primitives.operations.text_compare_dedup\u001b[0m:\u001b[36mprocess_spark\u001b[0m:\u001b[36m105\u001b[0m - \u001b[1mRound 0: total processing num_samples is 55, detected high score num_samples is 0\u001b[0m\n"
     ]
    },
    {
     "name": "stderr",
     "output_type": "stream",
     "text": [
      "                                                                                \n",
      " 50%|█████     | 1/2 [00:09<00:09,  9.66s/it]\u001b[A"
     ]
    },
    {
     "name": "stdout",
     "output_type": "stream",
     "text": [
      "Round 0 took 9.662400176748633 sec\n",
      "Round 1 started ...\n"
     ]
    },
    {
     "name": "stderr",
     "output_type": "stream",
     "text": [
      "\r",
      "[Stage 85:======================================>              (146 + 36) / 200]\r",
      "\r",
      "[Stage 85:=====================================================>(197 + 3) / 200]\r"
     ]
    },
    {
     "name": "stdout",
     "output_type": "stream",
     "text": [
      "\u001b[32m2023-11-28 10:19:20.814\u001b[0m | \u001b[1mINFO    \u001b[0m | \u001b[36mpyrecdp.primitives.operations.text_compare_dedup\u001b[0m:\u001b[36mprocess_spark\u001b[0m:\u001b[36m105\u001b[0m - \u001b[1mRound 1: total processing num_samples is 0, detected high score num_samples is 0\u001b[0m\n"
     ]
    },
    {
     "name": "stderr",
     "output_type": "stream",
     "text": [
      "                                                                                \n",
      "100%|██████████| 2/2 [00:13<00:00,  6.53s/it]\u001b[A\n"
     ]
    },
    {
     "name": "stdout",
     "output_type": "stream",
     "text": [
      "Round 1 took 3.3938011210411787 sec\n",
      "generate_connected_components => duplicates started ...\n"
     ]
    },
    {
     "name": "stderr",
     "output_type": "stream",
     "text": [
      "\n",
      "0it [00:00, ?it/s]\u001b[A"
     ]
    },
    {
     "name": "stdout",
     "output_type": "stream",
     "text": [
      "generate_connected_components => duplicates took 0.01515495590865612 sec\n"
     ]
    },
    {
     "name": "stderr",
     "output_type": "stream",
     "text": [
      "\n"
     ]
    },
    {
     "name": "stdout",
     "output_type": "stream",
     "text": [
      "\u001b[32m2023-11-28 10:19:22.109\u001b[0m | \u001b[1mINFO    \u001b[0m | \u001b[36mpyrecdp.LLM.TextPipeline\u001b[0m:\u001b[36mop_summary\u001b[0m:\u001b[36m285\u001b[0m - \u001b[1mTextPrompt: A total of 0 rows of data were processed, using 0 seconds, with 0 rows modified or removed, 0 rows of data remaining.\u001b[0m\n",
      "\u001b[32m2023-11-28 10:19:22.111\u001b[0m | \u001b[1mINFO    \u001b[0m | \u001b[36mpyrecdp.LLM.TextPipeline\u001b[0m:\u001b[36mop_summary\u001b[0m:\u001b[36m285\u001b[0m - \u001b[1mRandomSelect: A total of 0 rows of data were processed, using 0 seconds, with 0 rows modified or removed, 0 rows of data remaining.\u001b[0m\n",
      "\u001b[32m2023-11-28 10:19:22.114\u001b[0m | \u001b[1mINFO    \u001b[0m | \u001b[36mpyrecdp.LLM.TextPipeline\u001b[0m:\u001b[36mop_summary\u001b[0m:\u001b[36m281\u001b[0m - \u001b[1mTextToxicity: A total of 11 rows of data were processed, using 54.51850247383118 seconds, Get max toxicity 0.0010136101627722383, Get min toxicity 0.0001716656406642869, Get average toxicity 0.00036636507800060576,Get the std of toxicity 0.0002271174606949808\u001b[0m\n",
      "\u001b[32m2023-11-28 10:19:22.122\u001b[0m | \u001b[1mINFO    \u001b[0m | \u001b[36mpyrecdp.LLM.TextPipeline\u001b[0m:\u001b[36mop_summary\u001b[0m:\u001b[36m281\u001b[0m - \u001b[1mTextDiversityIndicate: A total of 11 rows of data were processed, using 13.499625205993652 seconds, Get max diversity types 11, Get average diversity types 1.625,Get the std of diversity types 2.5\u001b[0m\n",
      "\u001b[32m2023-11-28 10:19:22.124\u001b[0m | \u001b[1mINFO    \u001b[0m | \u001b[36mpyrecdp.LLM.TextPipeline\u001b[0m:\u001b[36mop_summary\u001b[0m:\u001b[36m281\u001b[0m - \u001b[1mTextQualityScorer: A total of 11 rows of data were processed, using 4.295732259750366 seconds, Get average quality score 0.9509534303108631\u001b[0m\n",
      "\u001b[32m2023-11-28 10:19:22.127\u001b[0m | \u001b[1mINFO    \u001b[0m | \u001b[36mpyrecdp.LLM.TextPipeline\u001b[0m:\u001b[36mop_summary\u001b[0m:\u001b[36m281\u001b[0m - \u001b[1mRougeScoreDedup: A total of 11 rows of data were processed, using 13.384700536727905 seconds, A duplication list containing 0 found, around 0.0% of total data, Sampled, duplication preview: Empty DataFrame\n",
      "Columns: [id_1, id_2, id_pair, similarity_left, similarity_right, score]\n",
      "Index: []\u001b[0m\n",
      "\u001b[32m2023-11-28 10:19:22.129\u001b[0m | \u001b[1mINFO    \u001b[0m | \u001b[36mpyrecdp.LLM.TextPipeline\u001b[0m:\u001b[36mop_summary\u001b[0m:\u001b[36m285\u001b[0m - \u001b[1mPerfileParquetWriter: A total of 0 rows of data were processed, using 0 seconds, with 0 rows modified or removed, 0 rows of data remaining.\u001b[0m\n"
     ]
    },
    {
     "name": "stderr",
     "output_type": "stream",
     "text": [
      "ResumableTextPipeline, current on alpaca_data_50.jsonl: 100%|██████████| 1/1 [01:28<00:00, 88.99s/it]"
     ]
    },
    {
     "name": "stdout",
     "output_type": "stream",
     "text": [
      "\u001b[32m2023-11-28 10:19:22.133\u001b[0m | \u001b[1mINFO    \u001b[0m | \u001b[36mpyrecdp.LLM.TextPipeline\u001b[0m:\u001b[36mexecute\u001b[0m:\u001b[36m425\u001b[0m - \u001b[1mCompleted! ResumableTextPipeline will not return dataset, please check ResumableTextPipeline_output-spark for verification.\u001b[0m\n"
     ]
    },
    {
     "name": "stderr",
     "output_type": "stream",
     "text": [
      "\n"
     ]
    }
   ],
   "source": [
    "import os\n",
    "spark_pipeline = ResumableTextPipeline()\n",
    "spark_pipeline.enable_statistics()\n",
    "out_dir = \"ResumableTextPipeline_output-spark\"\n",
    "ops = [\n",
    "    JsonlReader(\"/content/test_data/alpaca_data_50.jsonl\"),\n",
    "    TextPrompt(dataset_name=\"alpaca\", prompt_name=\"causal_llm_1\"),\n",
    "    RandomSelect(fraction=0.3),\n",
    "    TextToxicity(huggingface_config_path=\"/root/.cache/huggingface/hub/models--xlm-roberta-base\"),\n",
    "    TextDiversityIndicate(out_dir=out_dir, language=\"en\", first_sent=False),\n",
    "    TextQualityScorer(model=\"gpt3\"),\n",
    "    RougeScoreDedup(max_ratio=0.7, batch_size=10,score_store_path=os.path.join(out_dir,'RougeScorefiltered.parquet')),\n",
    "    ParquetWriter(out_dir)\n",
    "]\n",
    "spark_pipeline.add_operations(ops)\n",
    "ret = spark_pipeline.execute()"
   ]
  },
  {
   "cell_type": "markdown",
   "id": "a7743121",
   "metadata": {},
   "source": [
    "### 3.2 Check the result and score"
   ]
  },
  {
   "cell_type": "code",
   "execution_count": 5,
   "id": "7cef66f8",
   "metadata": {},
   "outputs": [
    {
     "name": "stdout",
     "output_type": "stream",
     "text": [
      "IOStream.flush timed out\r\n",
      "IOStream.flush timed out\r\n",
      "RougeScoreDedup-statistics\t  TextToxicity-statistics  pipeline\r\n",
      "RougeScorefiltered.parquet\t  alpaca_data_50.jsonl\t   pipeline.json\r\n",
      "TextDiversityIndicate-statistics  diversity.csv\t\t   pipeline.log\r\n",
      "TextQualityScorer-statistics\t  diversity.md\t\t   status.log\r\n"
     ]
    }
   ],
   "source": [
    "!ls ResumableTextPipeline_output-spark"
   ]
  },
  {
   "cell_type": "code",
   "execution_count": 5,
   "id": "68620b9a",
   "metadata": {},
   "outputs": [
    {
     "name": "stdout",
     "output_type": "stream",
     "text": [
      "The Rouge score:  {'dup_num': 0, 'dup_ratio': 0.0}\n",
      "The toxicity:  {'min': 0.0001716656406642869, 'max': 0.0010136101627722383, 'mean': 0.00036636507800060576, 'std': 0.0002271174606949808}\n",
      "The diversity intricate:  {'max': 11, 'mean': 1.625, 'std': 2.5}\n",
      "The quality score : {'mean': 0.9509534303108631}\n",
      "The original dataset length: 50, the processed dataset length: 11\n"
     ]
    }
   ],
   "source": [
    "import json\n",
    "import pandas as pd\n",
    "\n",
    "print('The Rouge score: ', json.load(open('ResumableTextPipeline_output-spark/RougeScoreDedup-statistics', 'r')))\n",
    "print('The toxicity: ', json.load(open('ResumableTextPipeline_output-spark/TextToxicity-statistics', 'r')))\n",
    "print('The diversity intricate: ', json.load(open('ResumableTextPipeline_output-spark/TextDiversityIndicate-statistics', 'r')))\n",
    "print('The quality score :', json.load(open('ResumableTextPipeline_output-spark/TextQualityScorer-statistics', 'r')))\n",
    "\n",
    "\n",
    "origin_dataset_length = len(pd.read_json(\"/content/test_data/alpaca_data_50.jsonl\", lines=True))\n",
    "downsized_dataset_length = len(pd.read_parquet('ResumableTextPipeline_output-spark/alpaca_data_50.jsonl'))\n",
    "\n",
    "print(f'The original dataset length: {origin_dataset_length}, the processed dataset length: {downsized_dataset_length}')"
   ]
  },
  {
   "cell_type": "markdown",
   "id": "c067e7f4",
   "metadata": {},
   "source": [
    "### 3.3 Pipeline on Ray"
   ]
  },
  {
   "cell_type": "code",
   "execution_count": 8,
   "id": "ccd45046",
   "metadata": {},
   "outputs": [
    {
     "name": "stdout",
     "output_type": "stream",
     "text": [
      "\u001b[32m2023-11-28 10:23:23.009\u001b[0m | \u001b[33m\u001b[1mWARNING \u001b[0m | \u001b[36mpyrecdp.LLM.TextPipeline\u001b[0m:\u001b[36menable_statistics\u001b[0m:\u001b[36m219\u001b[0m - \u001b[33m\u001b[1mEnabling this option will result in a decrease in execution speed\u001b[0m\n",
      "\u001b[32m2023-11-28 10:23:23.012\u001b[0m | \u001b[1mINFO    \u001b[0m | \u001b[36mpyrecdp.core.model_utils\u001b[0m:\u001b[36mprepare_sentencepiece_model\u001b[0m:\u001b[36m108\u001b[0m - \u001b[1mLoading sentencepiece model...\u001b[0m\n",
      "\u001b[32m2023-11-28 10:23:23.092\u001b[0m | \u001b[1mINFO    \u001b[0m | \u001b[36mpyrecdp.core.model_utils\u001b[0m:\u001b[36mprepare_kenlm_model\u001b[0m:\u001b[36m126\u001b[0m - \u001b[1mLoading kenlm language model...\u001b[0m\n",
      "[DatasetReader, PerfileSourcedJsonlReader, TextPrompt, RandomSelect, TextPerplexityScore, PerfileParquetWriter]\n",
      "init ray with total mem of 162212234035\n"
     ]
    },
    {
     "name": "stderr",
     "output_type": "stream",
     "text": [
      "2023-11-28 10:23:27,532\tWARNING services.py:1889 -- WARNING: The object store is using /tmp instead of /dev/shm because /dev/shm has only 67100672 bytes available. This will harm performance! You may be able to free up space by deleting files in /dev/shm. If you are inside a Docker container, you can increase /dev/shm size by passing '--shm-size=10.24gb' to 'docker run' (or add it to the run_options list in a Ray cluster config). Make sure to set this to more than 30% of available RAM.\n",
      "2023-11-28 10:23:28,621\tINFO worker.py:1642 -- Started a local Ray instance.\n",
      "2023-11-28 10:23:31,164\tINFO read_api.py:406 -- To satisfy the requested parallelism of 144, each read task output is split into 144 smaller blocks.\n",
      "2023-11-28 10:23:31,209\tINFO streaming_executor.py:93 -- Executing DAG InputDataBuffer[Input] -> TaskPoolMapOperator[ReadJSON->SplitBlocks(144)] -> TaskPoolMapOperator[Map(<lambda>)->Map(<lambda>)->MapBatches(<lambda>)]\n",
      "2023-11-28 10:23:31,211\tINFO streaming_executor.py:94 -- Execution config: ExecutionOptions(resource_limits=ExecutionResources(cpu=None, gpu=None, object_store_memory=None), locality_with_output=False, preserve_order=False, actor_locality_enabled=True, verbose_progress=False)\n",
      "2023-11-28 10:23:31,212\tINFO streaming_executor.py:96 -- Tip: For detailed progress reporting, run `ray.data.DataContext.get_current().execution_options.verbose_progress = True`\n"
     ]
    },
    {
     "data": {
      "application/vnd.jupyter.widget-view+json": {
       "model_id": "",
       "version_major": 2,
       "version_minor": 0
      },
      "text/plain": [
       "Running 0:   0%|          | 0/20736 [00:00<?, ?it/s]"
      ]
     },
     "metadata": {},
     "output_type": "display_data"
    },
    {
     "name": "stderr",
     "output_type": "stream",
     "text": [
      "ResumableTextPipeline, current on alpaca_data_50.jsonl:   0%|          | 0/1 [00:00<?, ?it/s]2023-11-28 10:23:33,498\tINFO streaming_executor.py:93 -- Executing DAG InputDataBuffer[Input] -> TaskPoolMapOperator[ReadJSON->SplitBlocks(144)] -> TaskPoolMapOperator[Map(<lambda>)->Map(<lambda>)->MapBatches(<lambda>)->Map(<lambda>)->MapBatches(process_batch)]\n",
      "2023-11-28 10:23:33,499\tINFO streaming_executor.py:94 -- Execution config: ExecutionOptions(resource_limits=ExecutionResources(cpu=None, gpu=None, object_store_memory=None), locality_with_output=False, preserve_order=False, actor_locality_enabled=True, verbose_progress=False)\n",
      "2023-11-28 10:23:33,500\tINFO streaming_executor.py:96 -- Tip: For detailed progress reporting, run `ray.data.DataContext.get_current().execution_options.verbose_progress = True`\n"
     ]
    },
    {
     "data": {
      "application/vnd.jupyter.widget-view+json": {
       "model_id": "",
       "version_major": 2,
       "version_minor": 0
      },
      "text/plain": [
       "Running 0:   0%|          | 0/20736 [00:00<?, ?it/s]"
      ]
     },
     "metadata": {},
     "output_type": "display_data"
    },
    {
     "name": "stderr",
     "output_type": "stream",
     "text": [
      "\u001b[2m\u001b[36m(Map(<lambda>)->Map(<lambda>)->MapBatches(<lambda>)->Map(<lambda>)->MapBatches(process_batch) pid=175824)\u001b[0m /opt/conda/envs/llm_data/lib/python3.9/site-packages/_distutils_hack/__init__.py:33: UserWarning: Setuptools is replacing distutils.\n",
      "\u001b[2m\u001b[36m(Map(<lambda>)->Map(<lambda>)->MapBatches(<lambda>)->Map(<lambda>)->MapBatches(process_batch) pid=175824)\u001b[0m   warnings.warn(\"Setuptools is replacing distutils.\")\n",
      "2023-11-28 10:23:52,270\tINFO dataset.py:2380 -- Tip: Use `take_batch()` instead of `take() / show()` to return records in pandas or numpy batch format.\n",
      "2023-11-28 10:23:52,274\tINFO streaming_executor.py:93 -- Executing DAG InputDataBuffer[Input] -> TaskPoolMapOperator[ReadJSON->SplitBlocks(144)] -> TaskPoolMapOperator[Map(<lambda>)->Map(<lambda>)->MapBatches(<lambda>)->Map(<lambda>)->MapBatches(process_batch)->Map(<lambda>)] -> AllToAllOperator[Aggregate] -> LimitOperator[limit=1]\n",
      "2023-11-28 10:23:52,276\tINFO streaming_executor.py:94 -- Execution config: ExecutionOptions(resource_limits=ExecutionResources(cpu=None, gpu=None, object_store_memory=None), locality_with_output=False, preserve_order=False, actor_locality_enabled=True, verbose_progress=False)\n",
      "2023-11-28 10:23:52,277\tINFO streaming_executor.py:96 -- Tip: For detailed progress reporting, run `ray.data.DataContext.get_current().execution_options.verbose_progress = True`\n"
     ]
    },
    {
     "data": {
      "application/vnd.jupyter.widget-view+json": {
       "model_id": "",
       "version_major": 2,
       "version_minor": 0
      },
      "text/plain": [
       "- Aggregate 1:   0%|          | 0/20736 [00:00<?, ?it/s]"
      ]
     },
     "metadata": {},
     "output_type": "display_data"
    },
    {
     "data": {
      "application/vnd.jupyter.widget-view+json": {
       "model_id": "",
       "version_major": 2,
       "version_minor": 0
      },
      "text/plain": [
       "Shuffle Map 2:   0%|          | 0/20736 [00:00<?, ?it/s]"
      ]
     },
     "metadata": {},
     "output_type": "display_data"
    },
    {
     "data": {
      "application/vnd.jupyter.widget-view+json": {
       "model_id": "",
       "version_major": 2,
       "version_minor": 0
      },
      "text/plain": [
       "Shuffle Reduce 3:   0%|          | 0/20736 [00:00<?, ?it/s]"
      ]
     },
     "metadata": {},
     "output_type": "display_data"
    },
    {
     "data": {
      "application/vnd.jupyter.widget-view+json": {
       "model_id": "",
       "version_major": 2,
       "version_minor": 0
      },
      "text/plain": [
       "Running 0:   0%|          | 0/1 [00:00<?, ?it/s]"
      ]
     },
     "metadata": {},
     "output_type": "display_data"
    },
    {
     "name": "stderr",
     "output_type": "stream",
     "text": [
      "2023-11-28 10:23:54,608\tINFO streaming_executor.py:93 -- Executing DAG InputDataBuffer[Input] -> TaskPoolMapOperator[ReadJSON->SplitBlocks(144)] -> TaskPoolMapOperator[Map(<lambda>)->Map(<lambda>)->MapBatches(<lambda>)->Map(<lambda>)->MapBatches(process_batch)->Map(<lambda>)] -> AllToAllOperator[Aggregate] -> LimitOperator[limit=1]\n",
      "2023-11-28 10:23:54,608\tINFO streaming_executor.py:94 -- Execution config: ExecutionOptions(resource_limits=ExecutionResources(cpu=None, gpu=None, object_store_memory=None), locality_with_output=False, preserve_order=False, actor_locality_enabled=True, verbose_progress=False)\n",
      "2023-11-28 10:23:54,609\tINFO streaming_executor.py:96 -- Tip: For detailed progress reporting, run `ray.data.DataContext.get_current().execution_options.verbose_progress = True`\n"
     ]
    },
    {
     "data": {
      "application/vnd.jupyter.widget-view+json": {
       "model_id": "",
       "version_major": 2,
       "version_minor": 0
      },
      "text/plain": [
       "- Aggregate 1:   0%|          | 0/20736 [00:00<?, ?it/s]"
      ]
     },
     "metadata": {},
     "output_type": "display_data"
    },
    {
     "data": {
      "application/vnd.jupyter.widget-view+json": {
       "model_id": "",
       "version_major": 2,
       "version_minor": 0
      },
      "text/plain": [
       "Shuffle Map 2:   0%|          | 0/20736 [00:00<?, ?it/s]"
      ]
     },
     "metadata": {},
     "output_type": "display_data"
    },
    {
     "data": {
      "application/vnd.jupyter.widget-view+json": {
       "model_id": "",
       "version_major": 2,
       "version_minor": 0
      },
      "text/plain": [
       "Shuffle Reduce 3:   0%|          | 0/20736 [00:00<?, ?it/s]"
      ]
     },
     "metadata": {},
     "output_type": "display_data"
    },
    {
     "data": {
      "application/vnd.jupyter.widget-view+json": {
       "model_id": "",
       "version_major": 2,
       "version_minor": 0
      },
      "text/plain": [
       "Running 0:   0%|          | 0/1 [00:00<?, ?it/s]"
      ]
     },
     "metadata": {},
     "output_type": "display_data"
    },
    {
     "name": "stderr",
     "output_type": "stream",
     "text": [
      "2023-11-28 10:23:56,801\tINFO streaming_executor.py:93 -- Executing DAG InputDataBuffer[Input] -> TaskPoolMapOperator[ReadJSON->SplitBlocks(144)] -> TaskPoolMapOperator[Map(<lambda>)->Map(<lambda>)->MapBatches(<lambda>)->Map(<lambda>)->MapBatches(process_batch)->Map(<lambda>)] -> AllToAllOperator[Aggregate] -> LimitOperator[limit=1]\n",
      "2023-11-28 10:23:56,803\tINFO streaming_executor.py:94 -- Execution config: ExecutionOptions(resource_limits=ExecutionResources(cpu=None, gpu=None, object_store_memory=None), locality_with_output=False, preserve_order=False, actor_locality_enabled=True, verbose_progress=False)\n",
      "2023-11-28 10:23:56,807\tINFO streaming_executor.py:96 -- Tip: For detailed progress reporting, run `ray.data.DataContext.get_current().execution_options.verbose_progress = True`\n"
     ]
    },
    {
     "data": {
      "application/vnd.jupyter.widget-view+json": {
       "model_id": "",
       "version_major": 2,
       "version_minor": 0
      },
      "text/plain": [
       "- Aggregate 1:   0%|          | 0/20736 [00:00<?, ?it/s]"
      ]
     },
     "metadata": {},
     "output_type": "display_data"
    },
    {
     "data": {
      "application/vnd.jupyter.widget-view+json": {
       "model_id": "",
       "version_major": 2,
       "version_minor": 0
      },
      "text/plain": [
       "Shuffle Map 2:   0%|          | 0/20736 [00:00<?, ?it/s]"
      ]
     },
     "metadata": {},
     "output_type": "display_data"
    },
    {
     "data": {
      "application/vnd.jupyter.widget-view+json": {
       "model_id": "",
       "version_major": 2,
       "version_minor": 0
      },
      "text/plain": [
       "Shuffle Reduce 3:   0%|          | 0/20736 [00:00<?, ?it/s]"
      ]
     },
     "metadata": {},
     "output_type": "display_data"
    },
    {
     "data": {
      "application/vnd.jupyter.widget-view+json": {
       "model_id": "",
       "version_major": 2,
       "version_minor": 0
      },
      "text/plain": [
       "Running 0:   0%|          | 0/1 [00:00<?, ?it/s]"
      ]
     },
     "metadata": {},
     "output_type": "display_data"
    },
    {
     "name": "stderr",
     "output_type": "stream",
     "text": [
      "2023-11-28 10:23:58,954\tINFO streaming_executor.py:93 -- Executing DAG InputDataBuffer[Input] -> TaskPoolMapOperator[ReadJSON->SplitBlocks(144)] -> TaskPoolMapOperator[Map(<lambda>)->Map(<lambda>)->MapBatches(<lambda>)->Map(<lambda>)->MapBatches(process_batch)->Map(<lambda>)] -> AllToAllOperator[Aggregate] -> LimitOperator[limit=1]\n",
      "2023-11-28 10:23:58,957\tINFO streaming_executor.py:94 -- Execution config: ExecutionOptions(resource_limits=ExecutionResources(cpu=None, gpu=None, object_store_memory=None), locality_with_output=False, preserve_order=False, actor_locality_enabled=True, verbose_progress=False)\n",
      "2023-11-28 10:23:58,958\tINFO streaming_executor.py:96 -- Tip: For detailed progress reporting, run `ray.data.DataContext.get_current().execution_options.verbose_progress = True`\n"
     ]
    },
    {
     "data": {
      "application/vnd.jupyter.widget-view+json": {
       "model_id": "",
       "version_major": 2,
       "version_minor": 0
      },
      "text/plain": [
       "- Aggregate 1:   0%|          | 0/20736 [00:00<?, ?it/s]"
      ]
     },
     "metadata": {},
     "output_type": "display_data"
    },
    {
     "data": {
      "application/vnd.jupyter.widget-view+json": {
       "model_id": "",
       "version_major": 2,
       "version_minor": 0
      },
      "text/plain": [
       "Shuffle Map 2:   0%|          | 0/20736 [00:00<?, ?it/s]"
      ]
     },
     "metadata": {},
     "output_type": "display_data"
    },
    {
     "data": {
      "application/vnd.jupyter.widget-view+json": {
       "model_id": "",
       "version_major": 2,
       "version_minor": 0
      },
      "text/plain": [
       "Shuffle Reduce 3:   0%|          | 0/20736 [00:00<?, ?it/s]"
      ]
     },
     "metadata": {},
     "output_type": "display_data"
    },
    {
     "data": {
      "application/vnd.jupyter.widget-view+json": {
       "model_id": "",
       "version_major": 2,
       "version_minor": 0
      },
      "text/plain": [
       "Running 0:   0%|          | 0/1 [00:00<?, ?it/s]"
      ]
     },
     "metadata": {},
     "output_type": "display_data"
    },
    {
     "name": "stderr",
     "output_type": "stream",
     "text": [
      "2023-11-28 10:24:01,242\tINFO streaming_executor.py:93 -- Executing DAG InputDataBuffer[Input] -> TaskPoolMapOperator[ReadJSON->SplitBlocks(144)] -> TaskPoolMapOperator[Map(<lambda>)->Map(<lambda>)->MapBatches(<lambda>)->Map(<lambda>)->MapBatches(process_batch)->Map(<lambda>)]\n",
      "2023-11-28 10:24:01,243\tINFO streaming_executor.py:94 -- Execution config: ExecutionOptions(resource_limits=ExecutionResources(cpu=None, gpu=None, object_store_memory=None), locality_with_output=False, preserve_order=False, actor_locality_enabled=True, verbose_progress=False)\n",
      "2023-11-28 10:24:01,244\tINFO streaming_executor.py:96 -- Tip: For detailed progress reporting, run `ray.data.DataContext.get_current().execution_options.verbose_progress = True`\n"
     ]
    },
    {
     "data": {
      "application/vnd.jupyter.widget-view+json": {
       "model_id": "",
       "version_major": 2,
       "version_minor": 0
      },
      "text/plain": [
       "Running 0:   0%|          | 0/20736 [00:00<?, ?it/s]"
      ]
     },
     "metadata": {},
     "output_type": "display_data"
    },
    {
     "name": "stderr",
     "output_type": "stream",
     "text": [
      "2023-11-28 10:24:03,472\tINFO streaming_executor.py:93 -- Executing DAG InputDataBuffer[Input] -> TaskPoolMapOperator[ReadJSON->SplitBlocks(144)] -> TaskPoolMapOperator[Map(<lambda>)->Map(<lambda>)->MapBatches(<lambda>)->Map(<lambda>)->MapBatches(process_batch)->Map(<lambda>)->Write]\n",
      "2023-11-28 10:24:03,473\tINFO streaming_executor.py:94 -- Execution config: ExecutionOptions(resource_limits=ExecutionResources(cpu=None, gpu=None, object_store_memory=None), locality_with_output=False, preserve_order=False, actor_locality_enabled=True, verbose_progress=False)\n",
      "2023-11-28 10:24:03,474\tINFO streaming_executor.py:96 -- Tip: For detailed progress reporting, run `ray.data.DataContext.get_current().execution_options.verbose_progress = True`\n"
     ]
    },
    {
     "data": {
      "application/vnd.jupyter.widget-view+json": {
       "model_id": "",
       "version_major": 2,
       "version_minor": 0
      },
      "text/plain": [
       "Running 0:   0%|          | 0/20736 [00:00<?, ?it/s]"
      ]
     },
     "metadata": {},
     "output_type": "display_data"
    },
    {
     "name": "stderr",
     "output_type": "stream",
     "text": [
      "\u001b[2m\u001b[36m(Map(<lambda>)->Map(<lambda>)->MapBatches(<lambda>)->Map(<lambda>)->MapBatches(process_batch)->Map(<lambda>)->Write pid=175868)\u001b[0m Skipping writing empty dataset with UUID dc0b447b9d4a4287bc9cb17c6b4959b9 at ResumableTextPipeline_output-ray/alpaca_data_50.jsonl\n",
      "\u001b[2m\u001b[36m(Map(<lambda>)->Map(<lambda>)->MapBatches(<lambda>)->Map(<lambda>)->MapBatches(process_batch) pid=175828)\u001b[0m /opt/conda/envs/llm_data/lib/python3.9/site-packages/_distutils_hack/__init__.py:33: UserWarning: Setuptools is replacing distutils.\u001b[32m [repeated 71x across cluster] (Ray deduplicates logs by default. Set RAY_DEDUP_LOGS=0 to disable log deduplication, or see https://docs.ray.io/en/master/ray-observability/ray-logging.html#log-deduplication for more options.)\u001b[0m\n",
      "\u001b[2m\u001b[36m(Map(<lambda>)->Map(<lambda>)->MapBatches(<lambda>)->Map(<lambda>)->MapBatches(process_batch) pid=175828)\u001b[0m   warnings.warn(\"Setuptools is replacing distutils.\")\u001b[32m [repeated 71x across cluster]\u001b[0m\n"
     ]
    },
    {
     "name": "stdout",
     "output_type": "stream",
     "text": [
      "\u001b[32m2023-11-28 10:24:06.379\u001b[0m | \u001b[1mINFO    \u001b[0m | \u001b[36mpyrecdp.LLM.TextPipeline\u001b[0m:\u001b[36mop_summary\u001b[0m:\u001b[36m285\u001b[0m - \u001b[1mTextPrompt: A total of 0 rows of data were processed, using 0 seconds, with 0 rows modified or removed, 0 rows of data remaining.\u001b[0m\n",
      "\u001b[32m2023-11-28 10:24:06.381\u001b[0m | \u001b[1mINFO    \u001b[0m | \u001b[36mpyrecdp.LLM.TextPipeline\u001b[0m:\u001b[36mop_summary\u001b[0m:\u001b[36m285\u001b[0m - \u001b[1mRandomSelect: A total of 0 rows of data were processed, using 0 seconds, with 0 rows modified or removed, 0 rows of data remaining.\u001b[0m\n",
      "\u001b[32m2023-11-28 10:24:06.382\u001b[0m | \u001b[1mINFO    \u001b[0m | \u001b[36mpyrecdp.LLM.TextPipeline\u001b[0m:\u001b[36mop_summary\u001b[0m:\u001b[36m281\u001b[0m - \u001b[1mTextPerplexityScore: A total of 12 rows of data were processed, using 11.1940016746521 seconds, Get max perplexity 1284.5, Get min perplexity 158.0, Get average perplexity 444.9384615384616,Get the std of perplexity 236.0717117838882\u001b[0m\n",
      "\u001b[32m2023-11-28 10:24:06.385\u001b[0m | \u001b[1mINFO    \u001b[0m | \u001b[36mpyrecdp.LLM.TextPipeline\u001b[0m:\u001b[36mop_summary\u001b[0m:\u001b[36m285\u001b[0m - \u001b[1mPerfileParquetWriter: A total of 0 rows of data were processed, using 0 seconds, with 0 rows modified or removed, 0 rows of data remaining.\u001b[0m\n"
     ]
    },
    {
     "name": "stderr",
     "output_type": "stream",
     "text": [
      "ResumableTextPipeline, current on alpaca_data_50.jsonl: 100%|██████████| 1/1 [00:32<00:00, 32.91s/it]"
     ]
    },
    {
     "name": "stdout",
     "output_type": "stream",
     "text": [
      "\u001b[32m2023-11-28 10:24:06.389\u001b[0m | \u001b[1mINFO    \u001b[0m | \u001b[36mpyrecdp.LLM.TextPipeline\u001b[0m:\u001b[36mexecute\u001b[0m:\u001b[36m425\u001b[0m - \u001b[1mCompleted! ResumableTextPipeline will not return dataset, please check ResumableTextPipeline_output-ray for verification.\u001b[0m\n"
     ]
    },
    {
     "name": "stderr",
     "output_type": "stream",
     "text": [
      "\n"
     ]
    }
   ],
   "source": [
    "ray_pipeline = ResumableTextPipeline()\n",
    "ray_pipeline.enable_statistics()\n",
    "out_dir = \"ResumableTextPipeline_output-ray\"\n",
    "ops = [\n",
    "    JsonlReader(\"/content/test_data/alpaca_data_50.jsonl\"),\n",
    "    TextPrompt(dataset_name=\"alpaca\", prompt_name=\"causal_llm_1\"),\n",
    "    RandomSelect(fraction=0.3),\n",
    "    TextPerplexityScore(),\n",
    "    ParquetWriter(out_dir)\n",
    "]\n",
    "ray_pipeline.add_operations(ops)\n",
    "ret = ray_pipeline.execute()"
   ]
  },
  {
   "cell_type": "markdown",
   "id": "c6a89558",
   "metadata": {},
   "source": [
    "### 3.4 Check the result and score"
   ]
  },
  {
   "cell_type": "code",
   "execution_count": 9,
   "id": "bddbcdf0",
   "metadata": {},
   "outputs": [
    {
     "name": "stdout",
     "output_type": "stream",
     "text": [
      "TextPerplexityScore-statistics\tpipeline       pipeline.log\r\n",
      "alpaca_data_50.jsonl\t\tpipeline.json  status.log\r\n"
     ]
    }
   ],
   "source": [
    "!ls ResumableTextPipeline_output-ray"
   ]
  },
  {
   "cell_type": "code",
   "execution_count": 11,
   "id": "c4a79eb1",
   "metadata": {},
   "outputs": [
    {
     "name": "stdout",
     "output_type": "stream",
     "text": [
      "The Rouge score:  {'min': 158.0, 'max': 1284.5, 'mean': 444.9384615384616, 'std': 236.0717117838882}\n",
      "The original dataset length: 50, the processed dataset length: 19\n"
     ]
    }
   ],
   "source": [
    "import json\n",
    "import pandas as pd\n",
    "\n",
    "print('The Rouge score: ', json.load(open('ResumableTextPipeline_output-ray/TextPerplexityScore-statistics', 'r')))\n",
    "\n",
    "origin_dataset_length = len(pd.read_json(\"/content/test_data/alpaca_data_50.jsonl\", lines=True))\n",
    "downsized_dataset_length = len(pd.read_parquet('ResumableTextPipeline_output-ray/alpaca_data_50.jsonl'))\n",
    "\n",
    "print(f'The original dataset length: {origin_dataset_length}, the processed dataset length: {downsized_dataset_length}')"
   ]
  }
 ],
 "metadata": {
  "kernelspec": {
   "display_name": "Python 3 (ipykernel)",
   "language": "python",
   "name": "python3"
  },
  "language_info": {
   "codemirror_mode": {
    "name": "ipython",
    "version": 3
   },
   "file_extension": ".py",
   "mimetype": "text/x-python",
   "name": "python",
   "nbconvert_exporter": "python",
   "pygments_lexer": "ipython3",
   "version": "3.9.18"
  }
 },
 "nbformat": 4,
 "nbformat_minor": 5
}
