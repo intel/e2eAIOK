{
 "cells": [
  {
   "cell_type": "markdown",
   "id": "26958d4b",
   "metadata": {},
   "source": [
    "# DENAS for Compute Vision \n"
   ]
  },
  {
   "cell_type": "markdown",
   "id": "74749c5a",
   "metadata": {},
   "source": [
    "## Step1: Env setup\n"
   ]
  },
  {
   "cell_type": "markdown",
   "id": "0bd59146",
   "metadata": {},
   "source": [
    "conda activate pytorch_1.10"
   ]
  },
  {
   "cell_type": "markdown",
   "id": "d17aaa8e",
   "metadata": {},
   "source": [
    "## Step2: Configuration setup for DENAS\n"
   ]
  },
  {
   "cell_type": "code",
   "execution_count": 1,
   "id": "a96f5183",
   "metadata": {
    "deletable": false,
    "editable": false,
    "run_control": {
     "frozen": true
    }
   },
   "outputs": [],
   "source": [
    "aidk_denas_conf = {\"zero_shot_score\": \"De_score2\",\n",
    "\"search_space\": \"SearchSpace/search_space_XXBL.py\",\n",
    "\"budget_model_size\": \"1000000\",\n",
    "\"budget_flops\": \"10000000\",\n",
    "\"max_layers\": \"18\",\n",
    "\"batch_size\": \"64\",\n",
    "\"input_image_size\": \"32\",\n",
    "\"plainnet_struct_txt\": \"SuperConvK3BNRELU(3,8,1,1)SuperResK3K3(8,16,1,8,1)SuperResK3K3(16,32,2,16,1)SuperResK3K3(32,64,2,32,1)SuperResK3K3(64,64,2,32,1)SuperConvK1BNRELU(64,128,1,1)\",\n",
    "\"num_classes\": \"100\", \n",
    "\"evolution_max_iter\": \"1004\",\n",
    "\"population_size\": \"10\",\n",
    "\"save_dir\": \"./DENAS_log\",\n",
    "\"no_reslink\": \"False\",\n",
    "\"no_BN\": \"False\",\n",
    "\"use_se\": \"False\",\n",
    "\"budget_latency\": \"1\"}"
   ]
  },
  {
   "cell_type": "code",
   "execution_count": 2,
   "id": "08fa0ffe",
   "metadata": {
    "deletable": false,
    "editable": false,
    "run_control": {
     "frozen": true
    }
   },
   "outputs": [
    {
     "name": "stdout",
     "output_type": "stream",
     "text": [
      "/home/vmagent/app/hydro.ai/demo/..\n",
      "/home/vmagent/app/hydro.ai/demo/../DeNas\n",
      "fail to import hvd.\n",
      "{'domain': 'cv', 'max_search_iter': 104, 'budget_model_size': 1000000, 'budget_flops': 10000000, 'budget_latency': 1, 'batch_size': 64, 'save_dir': './DENAS_log', 'conf': '../conf/aidk_denas_cv.conf', 'log': 'INFO', 'zero_shot_score': 'De_score2', 'search_space': 'SearchSpace/search_space_XXBL.py', 'max_layers': 18, 'input_image_size': 32, 'plainnet_struct_txt': 'SuperConvK3BNRELU(3,8,1,1)SuperResK3K3(8,16,1,8,1)SuperResK3K3(16,32,2,16,1)SuperResK3K3(32,64,2,32,1)SuperResK3K3(64,64,2,32,1)SuperConvK1BNRELU(64,128,1,1)', 'num_classes': 100, 'evolution_max_iter': 2004, 'population_size': 10, 'no_reslink': False, 'no_BN': False, 'use_se': False}\n"
     ]
    }
   ],
   "source": [
    "import sys\n",
    "sys.path.append(\"..\") \n",
    "from DeNas.denas import configure, parse_args\n",
    "sys.argv = [\"--max_search_iter\", \"104\", \"--conf\",\"../conf/aidk_denas_cv.conf\"]\n",
    "input_args, unknown_args = parse_args(sys.argv[0:])\n",
    "settings = configure(input_args, unknown_args)"
   ]
  },
  {
   "cell_type": "code",
   "execution_count": 3,
   "id": "b8ac9c5b",
   "metadata": {
    "deletable": false,
    "editable": false,
    "run_control": {
     "frozen": true
    }
   },
   "outputs": [],
   "source": [
    "# compute network zero-shot proxy score\n",
    "def _compute_nas_score(self, random_structure_str):\n",
    "    the_model = self.main_net(num_classes=self.num_classes, plainnet_struct=random_structure_str, no_create=False, no_reslink=True)\n",
    "\n",
    "    if self.zero_shot_score == \"De_score_base\":\n",
    "        nas_core = compute_de_score.do_compute_nas_score(model=the_model, gpu=None,\n",
    "                                                                   resolution=self.input_image_size,\n",
    "                                                                   batch_size=self.batch_size,\n",
    "                                                                   mixup_gamma=1e-2)\n",
    "    elif self.zero_shot_score == \"De_score_transformer\":\n",
    "        nas_core = compute_de_score_plus.do_compute_nas_score(model=the_model, gpu=None,\n",
    "                                                                   resolution=self.input_image_size,\n",
    "                                                                   batch_size=self.batch_size,\n",
    "                                                                   mixup_gamma=1e-2)\n",
    "    return nas_core"
   ]
  },
  {
   "cell_type": "markdown",
   "id": "61a07fee",
   "metadata": {},
   "source": [
    "## Step3: Launch Search on AIDK DENAS framework  "
   ]
  },
  {
   "cell_type": "code",
   "execution_count": 4,
   "id": "788219a6",
   "metadata": {
    "deletable": false,
    "editable": false,
    "run_control": {
     "frozen": true
    }
   },
   "outputs": [
    {
     "name": "stdout",
     "output_type": "stream",
     "text": [
      "loop_count=10/104, max_score=0.0326998, min_score=0.000153411, time=0.000331521h\n",
      "loop_count=20/104, max_score=0.0455763, min_score=0.000197802, time=0.000670239h\n",
      "loop_count=30/104, max_score=0.0455763, min_score=0.000197802, time=0.00109327h\n",
      "loop_count=40/104, max_score=0.0552625, min_score=0.0001252, time=0.00155366h\n",
      "loop_count=50/104, max_score=0.0552625, min_score=0.0001252, time=0.00208839h\n",
      "loop_count=60/104, max_score=0.0552625, min_score=0.0001252, time=0.00229916h\n",
      "loop_count=70/104, max_score=0.0552625, min_score=0.0001252, time=0.00262857h\n",
      "loop_count=80/104, max_score=0.0552625, min_score=0.0001252, time=0.00295829h\n",
      "loop_count=90/104, max_score=0.0552625, min_score=0.0001252, time=0.00339657h\n",
      "loop_count=100/104, max_score=0.0552625, min_score=0.0001252, time=0.00365788h\n",
      "DeNas search completed, best structure is [(tensor(0.0553), 0.000125199556350708, 'SuperConvK3BNRELU(3,8,1,1)SuperResK3K3(8,16,1,8,1)SuperResK3K3(16,32,2,16,1)SuperResK3K3(32,64,2,32,1)SuperResK3K3(64,64,2,32,1)SuperConvK1BNRELU(64,48,1,1)')]\n"
     ]
    }
   ],
   "source": [
    "from DeNas.cv.third_party.ZenNet import DeSearchSpaceXXBL as DeSearchSpace\n",
    "from DeNas.cv.third_party.ZenNet import DeMainNet as DeMainNet\n",
    "from DeNas.denas import DeNasEASearchEngine\n",
    "\n",
    "searcher = DeNasEASearchEngine(main_net = DeMainNet, search_space = DeSearchSpace, settings = settings)\n",
    "searcher.launch()\n",
    "best_structure = searcher.get_best_structures()\n",
    "\n",
    "print(f\"DeNas search completed, best structure is {best_structure}\")\n"
   ]
  },
  {
   "cell_type": "markdown",
   "id": "f28c1e8f",
   "metadata": {},
   "source": [
    "## Step4: Save the best network architecture"
   ]
  },
  {
   "cell_type": "code",
   "execution_count": 5,
   "id": "013acb76",
   "metadata": {
    "deletable": false,
    "editable": false,
    "run_control": {
     "frozen": true
    }
   },
   "outputs": [
    {
     "name": "stdout",
     "output_type": "stream",
     "text": [
      "Best structure saved on the path:./DENAS_log/best_structure.txt\n"
     ]
    }
   ],
   "source": [
    "#save the best model structure\n",
    "from DeNas.utils import global_utils\n",
    "import os\n",
    "best_structure_txt = os.path.join(settings[\"save_dir\"], 'best_structure.txt')\n",
    "global_utils.mkfilepath(best_structure_txt)\n",
    "with open(best_structure_txt, 'w') as fid:\n",
    "        fid.write(best_structure[0][2])\n",
    "print(f\"Best structure saved on the path:{best_structure_txt}\")"
   ]
  },
  {
   "cell_type": "markdown",
   "id": "12bb37d3",
   "metadata": {},
   "source": [
    "## Step5:  Load, build and Training with DE-NET\n"
   ]
  },
  {
   "cell_type": "code",
   "execution_count": 6,
   "id": "e49b2bde",
   "metadata": {
    "deletable": false,
    "editable": false,
    "run_control": {
     "frozen": true
    }
   },
   "outputs": [
    {
     "name": "stdout",
     "output_type": "stream",
     "text": [
      "fail to import hvd.\n",
      "loaded model, training start\n"
     ]
    }
   ],
   "source": [
    "# Train on CIFAR10 dataset with 100 iterations\n",
    "from DeNas.cv.train_image_classification import train\n",
    "train()\n"
   ]
  },
  {
   "cell_type": "markdown",
   "id": "21fc9643",
   "metadata": {},
   "source": [
    "````diff\n",
    "Files already downloaded and verified\n",
    "Files already downloaded and verified\n",
    "loading model:\n",
    "optimizer is :\n",
    "SGD (\n",
    "Parameter Group 0\n",
    "    dampening: 0\n",
    "    lr: 0.025\n",
    "    momentum: 0.9\n",
    "    nesterov: True\n",
    "    weight_decay: 0.0005\n",
    "\n",
    "Parameter Group 1\n",
    "    dampening: 0\n",
    "    lr: 0.025\n",
    "    momentum: 0.9\n",
    "    nesterov: True\n",
    "    weight_decay: 0\n",
    ")\n",
    "--- Start training epoch 0\n",
    "Create model: Masternet.py:MasterNet\n",
    "/home/xianyang/tmp/DENAS/frameworks.bigdata.bluewhale/DeNas/cv/train_image_classification.py:232: UserWarning: This overload of add_ is deprecated:\n",
    "\tadd_(Number alpha, Tensor other)\n",
    "Consider using one of the following signatures instead:\n",
    "\tadd_(Tensor other, *, Number alpha) (Triggered internally at  /pytorch/torch/csrc/utils/python_arg_parser.cpp:766.)\n",
    "  return input.mul_(gamma).add_(1 - gamma, perm_input), target.mul_(gamma).add_(1 - gamma, perm_target)\n",
    "Train epoch=0, i=0, loss=3.2746, acc1=12.5%, acc5=51.5625%, lr=3.25e-05\n",
    "Eval epoch=0, i=0, loss=157.172, acc1=3.125%, acc5=42.1875%\n",
    "Eval epoch=0, i=100, loss=134.759, acc1=12.5%, acc5=57.8125%\n",
    " * Validate Acc@1 9.880 Acc@5 51.540, n_val=10000\n",
    "\n",
    "Train time:5.59848403930664\n",
    "````"
   ]
  },
  {
   "cell_type": "code",
   "execution_count": 7,
   "id": "7ee05008",
   "metadata": {},
   "outputs": [],
   "source": [
    "# system configuration\n",
    "# CPU: Intel(R) Xeon(R) Platinum 6240 CPU @ 2.60GHz\n",
    "# NIC: Mellanox ConnectX-4\n",
    "# Storage - boot: 1x INTEL SSDSCKKB24 OS Drive\n",
    "# Storage - application drives: INTEL SSDPE2KX010T8 for data storage\n",
    "# OS: CentOS Linux 7 (Core)\n",
    "# Kernel: 3.10.0-1160.49.1.el7.x86_64"
   ]
  },
  {
   "cell_type": "markdown",
   "id": "300af2ca",
   "metadata": {},
   "source": [
    "## Performance comparsion\n",
    "\n",
    "<font size=3>\n",
    "    \n",
    "- 8.3x speedup over resnet101 with 70x parameter reduction,1.1x accuracy improvement \n",
    "Better than SOTA work including Zen-Net & Synflow \n",
    "- Top-1 accuracy: 0.96 vs. 0.95 vs. 0.95\n",
    "    \n",
    "- NAS search time: 9h vs. 21h vs. 13h\n",
    "</font>\n",
    "\n",
    "<img src=\"./img/result2.png\" width=\"50%\">\n",
    "<center>DE_Net vs SOTA methods</center>\n",
    "\n",
    "<font size=3>\n",
    "    \n",
    "DE_Net VS ResNet50\n",
    "\n",
    "- 4.23x training speedup with 1.001x better accuracy \n",
    "- 3.9x less FLOPS, 39x less parameters \n",
    "\n",
    "</font>\n",
    "\n",
    "<img src=\"./img/result_cnn.PNG\" width=\"50%\">\n",
    "<center>DE_Net vs ResNet50</center>\n",
    "\n",
    "<font size=3>\n",
    "    \n",
    "DE_Net VS Autoformer\n",
    "\n",
    "- 38.36x speedup for searching time\n",
    "- 1.62x training speedup, 1.79x speedup for test  \n",
    "- 3.86x less parameters size\n",
    "\n",
    "\n",
    "</font>\n",
    "\n",
    "<img src=\"./img/transformer1.png\" width=\"50%\">\n",
    "<center>DE_Net vs Autoformer search</center>\n",
    "\n",
    "\n",
    "<img src=\"./img/transformer2.png\" width=\"50%\">\n",
    "<center>DE_Net vs Autoformer train</center>\n",
    "\n",
    "\n",
    "## NAS-Bench -201 Performance results\n",
    "\n",
    "Usage Case\n",
    "\n",
    "* Task: Image Classification\n",
    "* Dataset:CIFAR10 & CIFAR100\n",
    "* Metric: Spearman\n",
    "\n",
    "NAS–bench-201\n",
    "* Generate cdd architecture – 5^6\n",
    "* A table with pre-calculated train, test and validate accuracy \n",
    "* Then NAS-bench compare spearman correlations with SOTA zero-cost, including synflow, jacbi_cov, zen_score, grad_now Spearman’s rank correlation coefficient between final validation accuracy and zero-cost proxy \n",
    "\n",
    "DE-NAS\n",
    "* Adding DE_Score into SOTA as comparison, our train free DE-Score show better result than SOTA NAS\n",
    "\n",
    "<img src=\"./img/nas_bench_result.png\" width=\"50%\">\n",
    "<center>NAS-Bench-201 Spearman results</center>\n"
   ]
  },
  {
   "cell_type": "markdown",
   "id": "4abafa9e",
   "metadata": {},
   "source": [
    "# Next Step work \n",
    "<font size=4>\n",
    "    \n",
    "- Integrated DE-NAS with HuggingFace\n",
    "- Continue optimize ViT trainer\n",
    "\n",
    "\n",
    "\n",
    "</font>"
   ]
  },
  {
   "cell_type": "markdown",
   "id": "3fb18427",
   "metadata": {},
   "source": [
    "## Reference "
   ]
  },
  {
   "cell_type": "markdown",
   "id": "fcbaa1a4",
   "metadata": {},
   "source": [
    "1. NAS-Bench-201: https://arxiv.org/abs/2001.00326\n",
    "2. AutoFormer: Searching Transformers for Visual Recognition: https://arxiv.org/abs/2107.00651\n",
    "3. Training-free Transformer Architecture Search: https://arxiv.org/pdf/2203.12217.pdf\n",
    "4. LiteTransformerSearch: Training-free On-device Search for Efficient Autoregressive Language Models: https://arxiv.org/pdf/2203.02094.pdf "
   ]
  },
  {
   "cell_type": "code",
   "execution_count": null,
   "id": "16f67306",
   "metadata": {},
   "outputs": [],
   "source": []
  }
 ],
 "metadata": {
  "kernelspec": {
   "display_name": "Python 3 (ipykernel)",
   "language": "python",
   "name": "python3"
  },
  "language_info": {
   "codemirror_mode": {
    "name": "ipython",
    "version": 3
   },
   "file_extension": ".py",
   "mimetype": "text/x-python",
   "name": "python",
   "nbconvert_exporter": "python",
   "pygments_lexer": "ipython3",
   "version": "3.9.12"
  },
  "toc": {
   "base_numbering": 1,
   "nav_menu": {},
   "number_sections": false,
   "sideBar": true,
   "skip_h1_title": false,
   "title_cell": "Table of Contents",
   "title_sidebar": "Contents",
   "toc_cell": false,
   "toc_position": {},
   "toc_section_display": true,
   "toc_window_display": true
  }
 },
 "nbformat": 4,
 "nbformat_minor": 5
}
