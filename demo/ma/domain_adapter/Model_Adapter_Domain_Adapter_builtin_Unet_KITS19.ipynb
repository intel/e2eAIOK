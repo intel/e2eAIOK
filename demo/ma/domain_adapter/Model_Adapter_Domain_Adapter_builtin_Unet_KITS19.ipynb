{
  "cells": [
    {
      "attachments": {},
      "cell_type": "markdown",
      "id": "a1612294",
      "metadata": {},
      "source": [
        "[![Open in Colab](https://colab.research.google.com/assets/colab-badge.svg)](https://colab.research.google.com/github/intel/e2eAIOK/blob/main/demo/ma/domain_adapter/Model_Adapter_Domain_Adapter_builtin_Unet_KITS19.ipynb)"
      ]
    },
    {
      "attachments": {},
      "cell_type": "markdown",
      "id": "c10acc3e",
      "metadata": {},
      "source": [
        "# Model Adapter Domain Adapter builtin Unet KITS19"
      ]
    },
    {
      "attachments": {},
      "cell_type": "markdown",
      "id": "c1760cc9",
      "metadata": {},
      "source": [
        "In this demo, we will introduce how to use Domain Adapter to transfer knowledge in medical image semantic segmentation."
      ]
    },
    {
      "attachments": {},
      "cell_type": "markdown",
      "id": "80e2b34f",
      "metadata": {},
      "source": [
        "# Content\n",
        "\n",
        "* [Overview](#overview)\n",
        "    * [Model Adapter Domain Adapter Overview](#Model-Adapter-Domain-Adapter-Overview)\n",
        "* [Getting Started](#Getting-Started)\n",
        "    * [1. Environment Setup](#1.-Environment-Setup)\n",
        "    * [2. Data Prepare](#2-data-prepare)\n",
        "    * [3. Model Prepare](#3-model-prepare)\n",
        "    * [4. Train](#4-train)\n",
        "    * [5. Inference](#5-inference)"
      ]
    },
    {
      "cell_type": "markdown",
      "id": "ee3fef8f",
      "metadata": {},
      "source": [
        "# Overview"
      ]
    },
    {
      "cell_type": "markdown",
      "metadata": {},
      "source": [
        "## Model Adapter Domain Adapter Overview"
      ]
    },
    {
      "attachments": {},
      "cell_type": "markdown",
      "id": "c3d2aa63",
      "metadata": {},
      "source": [
        "Model Adapter is a convenient framework can be used to reduce training and inference time, or data labeling cost by efficiently utilizing public advanced models and those datasets from many domains. It mainly contains three components served for different cases: Finetuner, Distiller, and Domain Adapter. \n",
        "\n",
        "Directly applying pre-trained model into target domain cannot always work due to covariate shift and label shift, while fine-tuning is also not working due to the expensive labeling in some domains. Even if users invest resource in labeling, it will be time-consuming and delays the model deployment.\n",
        "\n",
        "Domain Adapter aims at reusing the transferable knowledge with the help of another labeled dataset with same learning task. That is, achieving better generalization with little labeled target dataset or achieving a competitive performance in label-free target dataset.\n",
        "\n",
        "The following picture show the network strcture of domain adaption, which add a discriminator to users' base network, and try to differentiate the souce domain data and target domain data, hence, it can force the feature extractor to learn a generalized feature representation among domains.\n",
        "\n",
        "<p align=\"center\">\n",
        "  <img src='../imgs/adapter.png' width='80%' height='80%' title='Adapter Architecture'>\n",
        "</p>\n"
      ]
    },
    {
      "cell_type": "markdown",
      "id": "d2984325",
      "metadata": {},
      "source": [
        "# Getting Started"
      ]
    },
    {
      "attachments": {},
      "cell_type": "markdown",
      "id": "0f8aa439",
      "metadata": {},
      "source": [
        "- **Note1: this demo cannot run directly on colab, since it require you to download dataset manually, and store all files according to the specified directory hierarchy. Please refer to [2. Data Prepare](#2-data-prepare) for more details.**\n",
        "- **Note2: The performance data from this demo is just based on a sampled dataset for better demonstration, any performance data in the below cell does not stand for the actual performance of this toolkit.**"
      ]
    },
    {
      "attachments": {},
      "cell_type": "markdown",
      "id": "90a8fbfc",
      "metadata": {},
      "source": [
        "## 1. Environment Setup"
      ]
    },
    {
      "attachments": {},
      "cell_type": "markdown",
      "metadata": {},
      "source": [
        "### (Option 1) Use Pip install"
      ]
    },
    {
      "cell_type": "code",
      "execution_count": null,
      "id": "5815da9e",
      "metadata": {},
      "outputs": [],
      "source": [
        "!pip install e2eAIOK-ModelAdapter --pre"
      ]
    },
    {
      "cell_type": "markdown",
      "id": "5270dfc8",
      "metadata": {},
      "source": [
        "### (Option 2) Use Docker\n",
        "\n",
        "Step1. prepare code\n",
        "   ``` bash\n",
        "   git clone https://github.com/intel/e2eAIOK.git\n",
        "   cd e2eAIOK\n",
        "   git submodule update --init –recursive\n",
        "   ```\n",
        "    \n",
        "Step2. build docker image\n",
        "   ``` bash\n",
        "   python3 scripts/start_e2eaiok_docker.py -b pytorch112 --dataset_path ${dataset_path} -w ${host0} ${host1} ${host2} ${host3} --proxy  \"http://addr:ip\"\n",
        "   ```\n",
        "   \n",
        "Step3. run docker and start conda env\n",
        "   ``` bash\n",
        "   sshpass -p docker ssh ${host0} -p 12347\n",
        "   conda activate pytorch-1.12.0\n",
        "   ```\n",
        "  \n",
        "Step4. Start the jupyter notebook and tensorboard service\n",
        "   ``` bash\n",
        "   nohup jupyter notebook --notebook-dir=/home/vmagent/app/e2eaiok --ip=${hostname} --port=8899 --allow-root &\n",
        "   nohup tensorboard --logdir /home/vmagent/app/data/tensorboard --host=${hostname} --port=6006 & \n",
        "   ```\n",
        "   Now you can visit demso in `http://${hostname}:8899/`, and see tensorboad log in ` http://${hostname}:6006`."
      ]
    },
    {
      "attachments": {},
      "cell_type": "markdown",
      "metadata": {},
      "source": [
        "## 2. Data Prepare"
      ]
    },
    {
      "attachments": {},
      "cell_type": "markdown",
      "id": "cde648dd",
      "metadata": {},
      "source": [
        "* Our source domain is AMOS dataset(Download AMOS data from [here](https://amos22.grand-challenge.org/Dataset/)), which provides 500 CT and 100 MRI scans with voxel-level annotations of 15 abdominal organs, including the spleen, right kidney, left kidney, gallbladder, esophagus, liver, stomach, aorta, inferior vena cava, pancreas, right adrenal gland, left adrenal gland, duodenum, bladder, prostate/uterus.\n",
        "* Our target domain is KiTS dataset(Download KiTS data from [here](https://github.com/neheller/kits19)), which provides 300 CT scans with voxel-level annotations of kidney organs and kidney tumor.\n",
        "* After downloading the code, remember to put all your data in right places, now your files should be located at:\n",
        "   - Images at: ```${nnUNet_raw_data_base}/nnUNet_raw_data/Task507_KiTS_kidney/imagesTr/```\n",
        "   - Labels/Segmentations at: ```${nnUNet_raw_data_base}/nnUNet_raw_data/Task507_KiTS_kidney/labelsTr/```\n",
        "   - Please refer to [here](https://github.com/MIC-DKFZ/nnUNet) to know how to put all your data in your `${dataset_path}` in right format.\n",
        "* Our task is to explore reliable kidney semantic segmentation methodologies with the help of labeled AMOS dataset and unlabeled KiTS dataset, evalutaion metric is kidney dice score in target domain."
      ]
    },
    {
      "attachments": {},
      "cell_type": "markdown",
      "id": "d87c305b",
      "metadata": {},
      "source": [
        "## 3. Model Prepare"
      ]
    },
    {
      "attachments": {},
      "cell_type": "markdown",
      "id": "d8c4ecac",
      "metadata": {},
      "source": [
        "- First download the workflow preparation script\n",
        "    ``` bash\n",
        "    wget https://raw.githubusercontent.com/intel/e2eAIOK/main/demo/ma/domain_adapter/workflow_prepare_ma_da.sh\n",
        "    ```\n",
        "- Then run this script to prepare the workflow\n",
        "    ```bash\n",
        "    sh workflow_prepare_ma_da.sh\n",
        "    ```"
      ]
    },
    {
      "attachments": {},
      "cell_type": "markdown",
      "metadata": {},
      "source": [
        "## 4. Train"
      ]
    },
    {
      "attachments": {},
      "cell_type": "markdown",
      "id": "f090023e",
      "metadata": {},
      "source": [
        "- We take [3D-UNet](https://arxiv.org/abs/1606.06650) as users' base model\n",
        "- We will first pre-train model in AMOS dataset, and use this pre-trained model later for prameter initialization for domain adaptation\n",
        "- Then we apply domain adaptation algorithm to transfer knowledge from AMOS dataset to KiTS dataset\n",
        "    - We use a DANN-like model architecture, the DANN algorithm is illustrated as follows:\n",
        "    <p align=\"center\">\n",
        "        <img src='../imgs/dann.png' width='80%' height='80%' title='DANN Architecture'>\n",
        "    </p>\n",
        "- Notice: \n",
        "    - we donot use **any label** from target domain KiTS, we only use label from source domain AMOS for training\n",
        "    - *For demostration, we only train 1 epochs:*"
      ]
    },
    {
      "cell_type": "code",
      "execution_count": null,
      "id": "4bf147bc",
      "metadata": {},
      "outputs": [],
      "source": [
        "! cd modelzoo/unet && sh scripts/run_single_opt.sh 1"
      ]
    },
    {
      "attachments": {},
      "cell_type": "markdown",
      "metadata": {},
      "source": [
        "## 5. Inference"
      ]
    },
    {
      "cell_type": "markdown",
      "id": "917b8e83",
      "metadata": {},
      "source": [
        "* We use following command for perform inference and evaluation, you can find your predictions in `${nnUNet_raw_data_base}/nnUNet_raw_data/Task507_KiTS_kidney/predict/`"
      ]
    },
    {
      "cell_type": "code",
      "execution_count": null,
      "id": "3388a927",
      "metadata": {},
      "outputs": [],
      "source": [
        "! cd modelzoo/unet && sh scripts/run_predict.sh"
      ]
    },
    {
      "attachments": {},
      "cell_type": "markdown",
      "metadata": {},
      "source": [
        "### Visualization of Data and Segmentations"
      ]
    },
    {
      "attachments": {},
      "cell_type": "markdown",
      "id": "06c0e5cb",
      "metadata": {},
      "source": [
        "- For this we would advise to use [MITK](https://www.mitk.org/wiki/The_Medical_Imaging_Interaction_Toolkit_(MITK)) which already has some great [tutorials](https://www.mitk.org/wiki/Tutorials). \n",
        "    - If you have not already downloaded it, here is the [MITK Download Link](https://www.mitk.org/wiki/Downloads)\n",
        "- Here is a demostration of visualization result from MITK on KiTS dataset\n",
        "\n",
        "<p align=\"center\">\n",
        "  <img src='../imgs/KiTS_visualization.png' width='80%' height='80%' title='KiTS_visualization'>\n",
        "</p>"
      ]
    },
    {
      "cell_type": "code",
      "execution_count": null,
      "id": "8e903885",
      "metadata": {
        "id": "8e903885"
      },
      "outputs": [],
      "source": []
    }
  ],
  "metadata": {
    "colab": {
      "include_colab_link": true,
      "provenance": []
    },
    "kernelspec": {
      "display_name": "Python 3 (ipykernel)",
      "language": "python",
      "name": "python3"
    },
    "language_info": {
      "codemirror_mode": {
        "name": "ipython",
        "version": 3
      },
      "file_extension": ".py",
      "mimetype": "text/x-python",
      "name": "python",
      "nbconvert_exporter": "python",
      "pygments_lexer": "ipython3",
      "version": "3.7.0"
    },
    "vscode": {
      "interpreter": {
        "hash": "916dbcbb3f70747c44a77c7bcd40155683ae19c65e1c03b4aa3499c5328201f1"
      }
    }
  },
  "nbformat": 4,
  "nbformat_minor": 5
}
