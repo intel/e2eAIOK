{
 "cells": [
  {
   "cell_type": "code",
   "execution_count": 4,
   "id": "633b3ece",
   "metadata": {},
   "outputs": [
    {
     "name": "stdout",
     "output_type": "stream",
     "text": [
      "# conda environments:\r\n",
      "#\r\n",
      "base                     /opt/intel/oneapi/intelpython/latest\r\n",
      "2022.2.0                 /opt/intel/oneapi/intelpython/latest/envs/2022.2.0\r\n",
      "pytorch                  /opt/intel/oneapi/intelpython/latest/envs/pytorch\r\n",
      "pytorch-1.12.0        *  /opt/intel/oneapi/intelpython/latest/envs/pytorch-1.12.0\r\n",
      "tensorflow               /opt/intel/oneapi/intelpython/latest/envs/tensorflow\r\n",
      "                         /opt/intel/oneapi/pytorch/latest\r\n",
      "                         /opt/intel/oneapi/tensorflow/latest\r\n",
      "\r\n"
     ]
    }
   ],
   "source": [
    "!conda env list"
   ]
  }
 ],
 "metadata": {
  "kernelspec": {
   "display_name": "Python [conda env:pytorch-1.12.0]",
   "language": "python",
   "name": "conda-env-pytorch-1.12.0-py"
  },
  "language_info": {
   "codemirror_mode": {
    "name": "ipython",
    "version": 3
   },
   "file_extension": ".py",
   "mimetype": "text/x-python",
   "name": "python",
   "nbconvert_exporter": "python",
   "pygments_lexer": "ipython3",
   "version": "3.9.12"
  }
 },
 "nbformat": 4,
 "nbformat_minor": 5
}
